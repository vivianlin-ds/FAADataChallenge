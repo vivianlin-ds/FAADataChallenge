{
 "cells": [
  {
   "cell_type": "code",
   "execution_count": 19,
   "metadata": {},
   "outputs": [],
   "source": [
    "import pandas as pd\n",
    "import numpy as np\n",
    "import string\n",
    "import nltk\n",
    "from nltk.tokenize import word_tokenize\n",
    "from nltk.corpus import stopwords\n",
    "from nltk.util import ngrams\n",
    "from sklearn.feature_extraction.text import CountVectorizer\n",
    "from sklearn.decomposition import LatentDirichletAllocation as LDA\n",
    "from sklearn.model_selection import GridSearchCV"
   ]
  },
  {
   "attachments": {},
   "cell_type": "markdown",
   "metadata": {},
   "source": [
    "## Read in Data"
   ]
  },
  {
   "cell_type": "code",
   "execution_count": 20,
   "metadata": {},
   "outputs": [
    {
     "name": "stdout",
     "output_type": "stream",
     "text": [
      "(4735, 126) (4586, 131)\n"
     ]
    },
    {
     "name": "stderr",
     "output_type": "stream",
     "text": [
      "/var/folders/62/f84_mp192073x9pd72l46fth0000gn/T/ipykernel_16711/1075047426.py:4: DtypeWarning: Columns (15,19,32,52,107,123,126,128,130) have mixed types. Specify dtype option on import or set low_memory=False.\n",
      "  df_2 = pd.read_csv('ASRS_Jan2006_Dec2019.csv', skiprows=[0,2])\n"
     ]
    }
   ],
   "source": [
    "# Data is downloaded as xls and we had to manually save the files as csv files as there were BOF errors while trying to read in with read_excel()\n",
    "# Skip the first (column name category) and third row (blank line)\n",
    "df_1 = pd.read_csv('ASRS_Jan2000_Jan2006.csv', skiprows=[0,2])\n",
    "df_2 = pd.read_csv('ASRS_Jan2006_Dec2019.csv', skiprows=[0,2])\n",
    "\n",
    "# Confirm successful data reading\n",
    "print(df_1.shape, df_2.shape)"
   ]
  },
  {
   "attachments": {},
   "cell_type": "markdown",
   "metadata": {},
   "source": [
    "## Data Cleaning"
   ]
  },
  {
   "cell_type": "code",
   "execution_count": 21,
   "metadata": {},
   "outputs": [
    {
     "data": {
      "text/plain": [
       "Unnamed: 128    4585\n",
       "Unnamed: 127    4586\n",
       "Unnamed: 130    4585\n",
       "Unnamed: 129    4586\n",
       "Unnamed: 126    4584\n",
       "dtype: int64"
      ]
     },
     "execution_count": 21,
     "metadata": {},
     "output_type": "execute_result"
    }
   ],
   "source": [
    "# There are more columns in one dataset than the other, find additional columns\n",
    "more_cols_1 = list(set(df_2.columns) - set(df_1.columns))\n",
    "\n",
    "# Check whether these columns can be dropped\n",
    "df_2[more_cols_1].isnull().sum()"
   ]
  },
  {
   "cell_type": "code",
   "execution_count": 22,
   "metadata": {},
   "outputs": [
    {
     "name": "stdout",
     "output_type": "stream",
     "text": [
      "(4735, 126) (4586, 126)\n"
     ]
    }
   ],
   "source": [
    "# Found that additional columns are unnamed and mostly NULL, decide to drop them\n",
    "df_2.drop(more_cols_1, axis=1, inplace=True)\n",
    "\n",
    "print(df_1.shape, df_2.shape)"
   ]
  },
  {
   "cell_type": "code",
   "execution_count": 23,
   "metadata": {},
   "outputs": [
    {
     "name": "stdout",
     "output_type": "stream",
     "text": [
      "(4735, 76) (4586, 84)\n",
      "Index(['ACN', 'Date', 'Local Time Of Day', 'Locale Reference',\n",
      "       'State Reference', 'Relative Position.Angle.Radial',\n",
      "       'Relative Position.Distance.Nautical Miles',\n",
      "       'Altitude.AGL.Single Value', 'Altitude.MSL.Single Value',\n",
      "       'Flight Conditions', 'Weather Elements / Visibility', 'Light',\n",
      "       'Ceiling', 'RVR.Single Value', 'ATC / Advisory', 'Aircraft Operator',\n",
      "       'Make Model Name', 'Crew Size', 'Operating Under FAR Part',\n",
      "       'Flight Plan', 'Mission', 'Nav In Use', 'Flight Phase', 'Route In Use',\n",
      "       'Airspace', 'Maintenance Status.Maintenance Deferred',\n",
      "       'Maintenance Status.Released For Service',\n",
      "       'Maintenance Status.Required / Correct Doc On Board',\n",
      "       'Maintenance Status.Maintenance Type',\n",
      "       'Maintenance Status.Maintenance Items Involved', 'Cabin Lighting',\n",
      "       'Number Of Seats.Number', 'Passengers On Board.Number',\n",
      "       'Aircraft Component', 'Manufacturer', 'Aircraft Reference', 'Problem',\n",
      "       'ATC / Advisory.1', 'Aircraft Operator.1', 'Make Model Name.1',\n",
      "       'Crew Size.1', 'Operating Under FAR Part.1', 'Flight Plan.1',\n",
      "       'Mission.1', 'Nav In Use.1', 'Flight Phase.1', 'Route In Use.1',\n",
      "       'Airspace.1', 'Maintenance Status.Released For Service.1',\n",
      "       'Maintenance Status.Required / Correct Doc On Board.1',\n",
      "       'Number Of Seats.Number.1', 'Passengers On Board.Number.1',\n",
      "       'Location Of Person', 'Reporter Organization', 'Function',\n",
      "       'Qualification', 'Experience', 'Cabin Activity', 'Human Factors',\n",
      "       'ASRS Report Number.Accession Number', 'Location Of Person.1',\n",
      "       'Reporter Organization.1', 'Function.1', 'Qualification.1',\n",
      "       'Experience.1', 'ASRS Report Number.Accession Number.1', 'Anomaly',\n",
      "       'Miss Distance', 'Detector', 'Result',\n",
      "       'Contributing Factors / Situations', 'Primary Problem', 'Narrative',\n",
      "       'Callback', 'Synopsis', 'Unnamed: 125'],\n",
      "      dtype='object') Index(['ACN', 'Date', 'Local Time Of Day', 'Locale Reference',\n",
      "       'State Reference', 'Relative Position.Angle.Radial',\n",
      "       'Relative Position.Distance.Nautical Miles',\n",
      "       'Altitude.AGL.Single Value', 'Altitude.MSL.Single Value',\n",
      "       'Flight Conditions', 'Weather Elements / Visibility',\n",
      "       'Work Environment Factor', 'Light', 'Ceiling', 'RVR.Single Value',\n",
      "       'ATC / Advisory', 'Aircraft Operator', 'Make Model Name',\n",
      "       'Aircraft Zone', 'Crew Size', 'Operating Under FAR Part', 'Flight Plan',\n",
      "       'Mission', 'Nav In Use', 'Flight Phase', 'Route In Use', 'Airspace',\n",
      "       'Maintenance Status.Maintenance Deferred',\n",
      "       'Maintenance Status.Records Complete',\n",
      "       'Maintenance Status.Released For Service',\n",
      "       'Maintenance Status.Required / Correct Doc On Board',\n",
      "       'Maintenance Status.Maintenance Type',\n",
      "       'Maintenance Status.Maintenance Items Involved',\n",
      "       'Number Of Seats.Number', 'Passengers On Board.Number',\n",
      "       'Crew Size Flight Attendant.Number Of Crew', 'Aircraft Component',\n",
      "       'Manufacturer', 'Aircraft Reference', 'Problem', 'ATC / Advisory.1',\n",
      "       'Aircraft Operator.1', 'Make Model Name.1', 'Crew Size.1',\n",
      "       'Operating Under FAR Part.1', 'Flight Plan.1', 'Mission.1',\n",
      "       'Nav In Use.1', 'Flight Phase.1', 'Route In Use.1', 'Airspace.1',\n",
      "       'Location Of Person', 'Location In Aircraft', 'Reporter Organization',\n",
      "       'Function', 'Qualification', 'Experience', 'Human Factors',\n",
      "       'Communication Breakdown', 'ASRS Report Number.Accession Number',\n",
      "       'Location Of Person.1', 'Location In Aircraft.1',\n",
      "       'Reporter Organization.1', 'Function.1', 'Qualification.1',\n",
      "       'Experience.1', 'Cabin Activity.1', 'Human Factors.1',\n",
      "       'Communication Breakdown.1', 'ASRS Report Number.Accession Number.1',\n",
      "       'Anomaly', 'Miss Distance', 'Were Passengers Involved In Event',\n",
      "       'Detector', 'When Detected', 'Result',\n",
      "       'Contributing Factors / Situations', 'Primary Problem', 'Narrative',\n",
      "       'Callback', 'Narrative.1', 'Callback.1', 'Synopsis', 'Unnamed: 125'],\n",
      "      dtype='object')\n"
     ]
    }
   ],
   "source": [
    "# Drop any other columns that have completely NULL values as they would not be useful\n",
    "df_1.dropna(axis=1, how='all', inplace=True)\n",
    "df_2.dropna(axis=1, how='all', inplace=True)\n",
    "\n",
    "print(df_1.shape, df_2.shape)\n",
    "print(df_1.columns, df_2.columns)"
   ]
  },
  {
   "cell_type": "code",
   "execution_count": 24,
   "metadata": {},
   "outputs": [
    {
     "name": "stdout",
     "output_type": "stream",
     "text": [
      "4735 \tNulls: 4733\n",
      "4586 \tNulls: 4583\n"
     ]
    }
   ],
   "source": [
    "# Found another unnamed column in the dataset, check if null\n",
    "print(df_1.shape[0], '\\tNulls:', df_1['Unnamed: 125'].isnull().sum())\n",
    "print(df_2.shape[0], '\\tNulls:', df_2['Unnamed: 125'].isnull().sum())"
   ]
  },
  {
   "cell_type": "code",
   "execution_count": 25,
   "metadata": {},
   "outputs": [
    {
     "name": "stdout",
     "output_type": "stream",
     "text": [
      "(4735, 75) (4586, 83)\n"
     ]
    }
   ],
   "source": [
    "# Since Unnamed column was mostly NULL, decide to drop columns\n",
    "df_1.drop('Unnamed: 125', axis=1, inplace=True)\n",
    "df_2.drop('Unnamed: 125', axis=1, inplace=True)\n",
    "\n",
    "print(df_1.shape, df_2.shape)"
   ]
  },
  {
   "cell_type": "code",
   "execution_count": 26,
   "metadata": {},
   "outputs": [
    {
     "data": {
      "text/plain": [
       "Location In Aircraft.1                       3828\n",
       "Crew Size Flight Attendant.Number Of Crew    4584\n",
       "Communication Breakdown.1                    4285\n",
       "Were Passengers Involved In Event            4185\n",
       "Human Factors.1                              3921\n",
       "Aircraft Zone                                4584\n",
       "Callback.1                                   4579\n",
       "When Detected                                1312\n",
       "Work Environment Factor                      4552\n",
       "Maintenance Status.Records Complete          4584\n",
       "Narrative.1                                  3731\n",
       "Cabin Activity.1                             4585\n",
       "Communication Breakdown                      3325\n",
       "Location In Aircraft                         1708\n",
       "dtype: int64"
      ]
     },
     "execution_count": 26,
     "metadata": {},
     "output_type": "execute_result"
    }
   ],
   "source": [
    "# Two datasets have different number of columns, check if they can be dropped\n",
    "more_cols_2 = list(set(df_2.columns) - set(df_1.columns))\n",
    "df_2[more_cols_2].isnull().sum()"
   ]
  },
  {
   "attachments": {},
   "cell_type": "markdown",
   "metadata": {},
   "source": [
    "Since some of these columns seem important by column names, decided to keep in the dataset. Found that there is an additional column named 'Narrative.1' in df_2."
   ]
  },
  {
   "cell_type": "code",
   "execution_count": 27,
   "metadata": {},
   "outputs": [
    {
     "name": "stdout",
     "output_type": "stream",
     "text": [
      "Narrative\n",
      "Narrative\n",
      "Narrative.1\n"
     ]
    }
   ],
   "source": [
    "# df_1 has one Narrative column while df_2 has two columns\n",
    "for cols in df_1.columns:\n",
    "    if 'Narrative' in cols:\n",
    "        print(cols)\n",
    "for cols in df_2.columns:\n",
    "    if 'Narrative' in cols:\n",
    "        print(cols)"
   ]
  },
  {
   "attachments": {},
   "cell_type": "markdown",
   "metadata": {},
   "source": [
    "Found that there are instances when event is incursion, excursion, or both."
   ]
  },
  {
   "cell_type": "code",
   "execution_count": 28,
   "metadata": {},
   "outputs": [
    {
     "name": "stdout",
     "output_type": "stream",
     "text": [
      "Number of incursion events: 3988\n",
      "Number of excursion events: 781\n",
      "Number of events where it is both incursion and excursion: 34\n",
      "Total indices counted: 4735, Rows in df_1: 4735\n"
     ]
    }
   ],
   "source": [
    "# Display the number of records belonging to each anomaly type, found that there are instances where event is classified as both incursion and excusion\n",
    "incur_idx = []\n",
    "excur_idx = []\n",
    "both_idx = []\n",
    "for index, row in df_1.iterrows():\n",
    "    # Event was classified as both incursion and excursion\n",
    "    if 'Incursion' in row['Anomaly'] and 'Excursion' in row['Anomaly']:\n",
    "        both_idx.append(index)\n",
    "    # Event was classified as incursion only\n",
    "    elif 'Incursion' in row['Anomaly']:\n",
    "        incur_idx.append(index)\n",
    "    # Event was classified as excursion only\n",
    "    elif 'Excursion' in row['Anomaly']:\n",
    "        excur_idx.append(index)\n",
    "    \n",
    "print(f'Number of incursion events: {len(incur_idx) + len(both_idx)}')\n",
    "print(f'Number of excursion events: {len(excur_idx) + len(both_idx)}')\n",
    "print(f'Number of events where it is both incursion and excursion: {len(both_idx)}')\n",
    "\n",
    "# Confirm results add up to number of rows and all events fall into these three categories\n",
    "print(f'Total indices counted: {len(incur_idx)+ len(excur_idx) + len(both_idx)}, Rows in df_1: {df_1.shape[0]}')"
   ]
  },
  {
   "attachments": {},
   "cell_type": "markdown",
   "metadata": {},
   "source": [
    "Extract important columns and combine the two Narrative columns from df_2."
   ]
  },
  {
   "cell_type": "code",
   "execution_count": 29,
   "metadata": {},
   "outputs": [
    {
     "name": "stdout",
     "output_type": "stream",
     "text": [
      "(4735, 8) 4735 (4586, 8) 4586\n"
     ]
    },
    {
     "name": "stderr",
     "output_type": "stream",
     "text": [
      "/var/folders/62/f84_mp192073x9pd72l46fth0000gn/T/ipykernel_16711/3586537735.py:6: SettingWithCopyWarning: \n",
      "A value is trying to be set on a copy of a slice from a DataFrame\n",
      "\n",
      "See the caveats in the documentation: https://pandas.pydata.org/pandas-docs/stable/user_guide/indexing.html#returning-a-view-versus-a-copy\n",
      "  df_2_tmp['Narrative.1'].fillna('', inplace=True)\n",
      "/var/folders/62/f84_mp192073x9pd72l46fth0000gn/T/ipykernel_16711/3586537735.py:8: SettingWithCopyWarning: \n",
      "A value is trying to be set on a copy of a slice from a DataFrame.\n",
      "Try using .loc[row_indexer,col_indexer] = value instead\n",
      "\n",
      "See the caveats in the documentation: https://pandas.pydata.org/pandas-docs/stable/user_guide/indexing.html#returning-a-view-versus-a-copy\n",
      "  df_2_tmp['Narrative_comb'] = df_2_tmp['Narrative'] + ' ' + df_2_tmp['Narrative.1']\n",
      "/var/folders/62/f84_mp192073x9pd72l46fth0000gn/T/ipykernel_16711/3586537735.py:11: SettingWithCopyWarning: \n",
      "A value is trying to be set on a copy of a slice from a DataFrame\n",
      "\n",
      "See the caveats in the documentation: https://pandas.pydata.org/pandas-docs/stable/user_guide/indexing.html#returning-a-view-versus-a-copy\n",
      "  df_2_trim.rename(columns={'Narrative_comb': 'Narrative'}, inplace=True)\n"
     ]
    }
   ],
   "source": [
    "# Extract important columns from df_1\n",
    "df_1_trim = df_1[['ACN', 'Date', 'Local Time Of Day', 'Locale Reference', 'State Reference', 'Anomaly', 'Narrative', 'Synopsis']]\n",
    "\n",
    "# Combine the two Narrative columns in df_2\n",
    "df_2_tmp = df_2[['ACN', 'Date', 'Local Time Of Day', 'Locale Reference', 'State Reference', 'Anomaly', 'Narrative', 'Narrative.1', 'Synopsis']]\n",
    "df_2_tmp['Narrative.1'].fillna('', inplace=True)\n",
    "# Add in an extra space between Narrative and Narrative.1 when it gets combined\n",
    "df_2_tmp['Narrative_comb'] = df_2_tmp['Narrative'] + ' ' + df_2_tmp['Narrative.1']\n",
    "# Extract important columns from df_2_tmp\n",
    "df_2_trim = df_2_tmp[['ACN', 'Date', 'Local Time Of Day', 'Locale Reference', 'State Reference', 'Anomaly', 'Narrative_comb', 'Synopsis']]\n",
    "df_2_trim.rename(columns={'Narrative_comb': 'Narrative'}, inplace=True)\n",
    "\n",
    "# Check data has been correctly extracted\n",
    "print(df_1_trim.shape, df_1.shape[0], df_2_trim.shape, df_2.shape[0])"
   ]
  },
  {
   "cell_type": "code",
   "execution_count": 30,
   "metadata": {},
   "outputs": [
    {
     "name": "stdout",
     "output_type": "stream",
     "text": [
      "(9303, 8) 9321\n"
     ]
    }
   ],
   "source": [
    "# Noticed that there are duplicates in the data, so drop duplicates when concatenating the two trimmed dfs such that data from 2000-2005 is combined with data from 2006-2019\n",
    "df_master = pd.concat([df_1_trim, df_2_trim]).drop_duplicates(subset=['ACN'])\n",
    "\n",
    "print(df_master.shape, df_1_trim.shape[0]+df_2_trim.shape[0])"
   ]
  },
  {
   "cell_type": "code",
   "execution_count": 31,
   "metadata": {},
   "outputs": [
    {
     "data": {
      "text/html": [
       "<div>\n",
       "<style scoped>\n",
       "    .dataframe tbody tr th:only-of-type {\n",
       "        vertical-align: middle;\n",
       "    }\n",
       "\n",
       "    .dataframe tbody tr th {\n",
       "        vertical-align: top;\n",
       "    }\n",
       "\n",
       "    .dataframe thead th {\n",
       "        text-align: right;\n",
       "    }\n",
       "</style>\n",
       "<table border=\"1\" class=\"dataframe\">\n",
       "  <thead>\n",
       "    <tr style=\"text-align: right;\">\n",
       "      <th></th>\n",
       "      <th>ACN</th>\n",
       "      <th>Date</th>\n",
       "      <th>Local Time Of Day</th>\n",
       "      <th>Locale Reference</th>\n",
       "      <th>State Reference</th>\n",
       "      <th>Anomaly</th>\n",
       "      <th>Narrative</th>\n",
       "      <th>Synopsis</th>\n",
       "      <th>Incursion</th>\n",
       "      <th>Excursion</th>\n",
       "    </tr>\n",
       "  </thead>\n",
       "  <tbody>\n",
       "    <tr>\n",
       "      <th>0</th>\n",
       "      <td>459107</td>\n",
       "      <td>200001</td>\n",
       "      <td>0601-1200</td>\n",
       "      <td>DTW.Airport</td>\n",
       "      <td>MI</td>\n",
       "      <td>Conflict Ground Conflict, Critical; Deviation ...</td>\n",
       "      <td>ON TAXI OUT TO DTW RWY 3L, MISSED TURN ONTO TX...</td>\n",
       "      <td>AN A320 OVERSHOOTS THE TXWY FOR RWY 3L (TXWY M...</td>\n",
       "      <td>1</td>\n",
       "      <td>0</td>\n",
       "    </tr>\n",
       "    <tr>\n",
       "      <th>1</th>\n",
       "      <td>459230</td>\n",
       "      <td>200001</td>\n",
       "      <td>0601-1200</td>\n",
       "      <td>MCO.Airport</td>\n",
       "      <td>FL</td>\n",
       "      <td>Deviation / Discrepancy - Procedural FAR; Grou...</td>\n",
       "      <td>TAXIED OUT OF RAMP AREA BEFORE TALKING TO GND....</td>\n",
       "      <td>FLC OF A B737 TAXIED WITHOUT CLRNC DUE TO FOLL...</td>\n",
       "      <td>1</td>\n",
       "      <td>0</td>\n",
       "    </tr>\n",
       "    <tr>\n",
       "      <th>2</th>\n",
       "      <td>459389</td>\n",
       "      <td>200001</td>\n",
       "      <td>0601-1200</td>\n",
       "      <td>LFPG.Airport</td>\n",
       "      <td>FO</td>\n",
       "      <td>Ground Excursion Taxiway</td>\n",
       "      <td>CAPT WAS FLYING, I WAS IN THE R SEAT. AFTER LN...</td>\n",
       "      <td>CAPT OF AN MD11 RAN OFF TXWY DURING TAXI IN RE...</td>\n",
       "      <td>0</td>\n",
       "      <td>1</td>\n",
       "    </tr>\n",
       "    <tr>\n",
       "      <th>3</th>\n",
       "      <td>459407</td>\n",
       "      <td>200001</td>\n",
       "      <td>0001-0600</td>\n",
       "      <td>SRB.Airport</td>\n",
       "      <td>TN</td>\n",
       "      <td>Aircraft Equipment Problem Critical; Deviation...</td>\n",
       "      <td>ILS RWY 4 (SRB), CAPT FLYING. WX: 900 FT BROKE...</td>\n",
       "      <td>FA20 ENCOUNTERS SLICK RWY AT SRB RESULTING IN ...</td>\n",
       "      <td>0</td>\n",
       "      <td>1</td>\n",
       "    </tr>\n",
       "    <tr>\n",
       "      <th>4</th>\n",
       "      <td>459425</td>\n",
       "      <td>200001</td>\n",
       "      <td>1201-1800</td>\n",
       "      <td>ABE.Airport</td>\n",
       "      <td>PA</td>\n",
       "      <td>Conflict Ground Conflict, Critical; Deviation ...</td>\n",
       "      <td>WE WERE CLRED FOR THE VISUAL APCH RWY 31 ABOUT...</td>\n",
       "      <td>A JS31 CREW LNDG ON RWY 31 AT ABE ARE INSTRUCT...</td>\n",
       "      <td>1</td>\n",
       "      <td>0</td>\n",
       "    </tr>\n",
       "  </tbody>\n",
       "</table>\n",
       "</div>"
      ],
      "text/plain": [
       "      ACN    Date Local Time Of Day Locale Reference State Reference  \\\n",
       "0  459107  200001         0601-1200      DTW.Airport              MI   \n",
       "1  459230  200001         0601-1200      MCO.Airport              FL   \n",
       "2  459389  200001         0601-1200     LFPG.Airport              FO   \n",
       "3  459407  200001         0001-0600      SRB.Airport              TN   \n",
       "4  459425  200001         1201-1800      ABE.Airport              PA   \n",
       "\n",
       "                                             Anomaly  \\\n",
       "0  Conflict Ground Conflict, Critical; Deviation ...   \n",
       "1  Deviation / Discrepancy - Procedural FAR; Grou...   \n",
       "2                           Ground Excursion Taxiway   \n",
       "3  Aircraft Equipment Problem Critical; Deviation...   \n",
       "4  Conflict Ground Conflict, Critical; Deviation ...   \n",
       "\n",
       "                                           Narrative  \\\n",
       "0  ON TAXI OUT TO DTW RWY 3L, MISSED TURN ONTO TX...   \n",
       "1  TAXIED OUT OF RAMP AREA BEFORE TALKING TO GND....   \n",
       "2  CAPT WAS FLYING, I WAS IN THE R SEAT. AFTER LN...   \n",
       "3  ILS RWY 4 (SRB), CAPT FLYING. WX: 900 FT BROKE...   \n",
       "4  WE WERE CLRED FOR THE VISUAL APCH RWY 31 ABOUT...   \n",
       "\n",
       "                                            Synopsis  Incursion  Excursion  \n",
       "0  AN A320 OVERSHOOTS THE TXWY FOR RWY 3L (TXWY M...          1          0  \n",
       "1  FLC OF A B737 TAXIED WITHOUT CLRNC DUE TO FOLL...          1          0  \n",
       "2  CAPT OF AN MD11 RAN OFF TXWY DURING TAXI IN RE...          0          1  \n",
       "3  FA20 ENCOUNTERS SLICK RWY AT SRB RESULTING IN ...          0          1  \n",
       "4  A JS31 CREW LNDG ON RWY 31 AT ABE ARE INSTRUCT...          1          0  "
      ]
     },
     "execution_count": 31,
     "metadata": {},
     "output_type": "execute_result"
    }
   ],
   "source": [
    "# Label the rows based on the anomaly type by adding two additional columns into the dataframe\n",
    "def incursion_check(text):\n",
    "    \"\"\"\n",
    "    Check if event is incursion\n",
    "    \"\"\"\n",
    "    if 'incursion' in text.lower():\n",
    "        return 1\n",
    "    else:\n",
    "        return 0\n",
    "\n",
    "def excursion_check(text):\n",
    "    \"\"\"\n",
    "    Check if event is excursion\n",
    "    \"\"\"\n",
    "    if 'excursion' in text.lower():\n",
    "        return 1\n",
    "    else:\n",
    "        return 0\n",
    "    \n",
    "df_master['Incursion'] = df_master['Anomaly'].apply(incursion_check)\n",
    "df_master['Excursion'] = df_master['Anomaly'].apply(excursion_check)\n",
    "df_master.head(5)"
   ]
  },
  {
   "cell_type": "code",
   "execution_count": 32,
   "metadata": {},
   "outputs": [
    {
     "name": "stdout",
     "output_type": "stream",
     "text": [
      "(6915, 2) (2466, 2) (78, 2)\n"
     ]
    }
   ],
   "source": [
    "# Extract incursions\n",
    "df_incur = df_master[['ACN', 'Narrative']].loc[df_master['Incursion'] == 1]\n",
    "# Extract excursions\n",
    "df_excur = df_master[['ACN', 'Narrative']].loc[df_master['Excursion'] == 1]\n",
    "# Extract both\n",
    "df_both = pd.merge(df_incur, df_excur, how='inner')\n",
    "\n",
    "print(df_incur.shape, df_excur.shape, df_both.shape)"
   ]
  },
  {
   "attachments": {},
   "cell_type": "markdown",
   "metadata": {},
   "source": [
    "## Data Preprocessing with ngrams and Topic Modeling with LDA"
   ]
  },
  {
   "cell_type": "code",
   "execution_count": 33,
   "metadata": {},
   "outputs": [
    {
     "name": "stderr",
     "output_type": "stream",
     "text": [
      "[nltk_data] Downloading package punkt to /Users/vivianlin/nltk_data...\n",
      "[nltk_data]   Package punkt is already up-to-date!\n",
      "[nltk_data] Downloading package stopwords to\n",
      "[nltk_data]     /Users/vivianlin/nltk_data...\n",
      "[nltk_data]   Package stopwords is already up-to-date!\n",
      "[nltk_data] Downloading package omw-1.4 to\n",
      "[nltk_data]     /Users/vivianlin/nltk_data...\n",
      "[nltk_data]   Package omw-1.4 is already up-to-date!\n"
     ]
    },
    {
     "data": {
      "text/plain": [
       "True"
      ]
     },
     "execution_count": 33,
     "metadata": {},
     "output_type": "execute_result"
    }
   ],
   "source": [
    "nltk.download('punkt')\n",
    "nltk.download('stopwords')\n",
    "nltk.download('omw-1.4')"
   ]
  },
  {
   "cell_type": "code",
   "execution_count": 34,
   "metadata": {},
   "outputs": [],
   "source": [
    "# Data preprocessing functions\n",
    "def lowercase(text):\n",
    "    \"\"\"\n",
    "    Returns lowercase text\n",
    "    \"\"\"\n",
    "    return text.lower()\n",
    "\n",
    "def rm_punctuation(text):\n",
    "    \"\"\"\n",
    "    Returns text with punctuations removed\n",
    "    \"\"\"\n",
    "    for punctuation in string.punctuation:\n",
    "        text = text.replace(punctuation, '')\n",
    "    return text\n",
    "\n",
    "def rm_stopwords(text):\n",
    "    \"\"\"\n",
    "    Returns text without stopwords after tokenizing text\n",
    "    \"\"\"\n",
    "    input = word_tokenize(text)\n",
    "    return [word for word in input if word not in stopwords.words('english')]\n",
    "\n",
    "def extract_ngrams(text, num):\n",
    "    \"\"\"\n",
    "    Returns ngrams joined by underscore after tokenizing text\n",
    "    \"\"\"\n",
    "    n_grams = ngrams(word_tokenize(text), num)\n",
    "    res = []\n",
    "    for grams in n_grams:\n",
    "        res.append('_'.join(grams))\n",
    "    return ' '.join(res)\n",
    "\n",
    "def preprocess_2gram(text):\n",
    "    \"\"\"\n",
    "    Data preprocessing with bigram\n",
    "    \"\"\"\n",
    "    return extract_ngrams(' '.join(rm_stopwords(rm_punctuation(lowercase(text)))), 2)\n",
    "\n",
    "def preproc_wstp_2gram(text):\n",
    "    \"\"\"\n",
    "    Data preprocessing with bigram without stopword removal\n",
    "    \"\"\"\n",
    "    return extract_ngrams(' '.join(word_tokenize(rm_punctuation(lowercase(text)))), 2)\n",
    "\n",
    "def preprocess_3gram(text):\n",
    "    \"\"\"\n",
    "    Data preprocessing with trigram\n",
    "    \"\"\"\n",
    "    return extract_ngrams(' '.join(rm_stopwords(rm_punctuation(lowercase(text)))), 3)\n",
    "\n",
    "def preprocess_4gram(text):\n",
    "    \"\"\"\n",
    "    Data preprocessing with 4-gram\n",
    "    \"\"\"\n",
    "    return extract_ngrams(' '.join(rm_stopwords(rm_punctuation(lowercase(text)))), 4)\n",
    "\n",
    "def preprocess_5gram(text):\n",
    "    \"\"\"\n",
    "    Data preprocessing with 5-gram\n",
    "    \"\"\"\n",
    "    return extract_ngrams(' '.join(rm_stopwords(rm_punctuation(lowercase(text)))), 5)"
   ]
  },
  {
   "cell_type": "code",
   "execution_count": 35,
   "metadata": {},
   "outputs": [],
   "source": [
    "# Running LDA model\n",
    "def optimize_lda(dataset, col_name):\n",
    "    \"\"\"\n",
    "    Vectorize and run LDA with GridSearch to find optimal number of topics\n",
    "    \"\"\"\n",
    "    # Vectorize\n",
    "    count_vect = CountVectorizer(max_df = 0.8, min_df = 2, stop_words = 'english')\n",
    "    doc_term_matrix = count_vect.fit_transform(dataset[col_name].values.astype('U'))\n",
    "\n",
    "    # Initize model\n",
    "    lda = LDA(random_state = 0)\n",
    "\n",
    "    # Using GridSearch to optimize LDA\n",
    "    num_topics = {'n_components': [x for x in range(2, 11)]}\n",
    "    model = GridSearchCV(lda, param_grid = num_topics)\n",
    "\n",
    "    # Do the Grid Search\n",
    "    model.fit(doc_term_matrix)\n",
    "\n",
    "    # Best Model\n",
    "    best_lda_model = model.best_estimator_\n",
    "\n",
    "    # Model Parameters\n",
    "    print(\"Best Model's Params: \", model.best_params_)\n",
    "\n",
    "    # Log Likelihood Score\n",
    "    print(\"Best Log Likelihood Score: \", model.best_score_)\n",
    "\n",
    "    # Perplexity\n",
    "    print(\"Model Perplexity: \", best_lda_model.perplexity(doc_term_matrix))\n",
    "    \n",
    "    return count_vect, doc_term_matrix, best_lda_model\n",
    "\n",
    "def label_dom_topics(dataset, model, matrix, gram_name):\n",
    "    \"\"\"\n",
    "    Label each record in the dataset based on topic it is most closely associated with\n",
    "    \"\"\"\n",
    "    topics = model.transform(matrix)\n",
    "    # Adding topic tags to our dataframe\n",
    "    labels = []\n",
    "    for score in topics:\n",
    "        labels.append(np.where(score == max(score))[0][0])\n",
    "    dataset[f'Topic_{gram_name}'] = labels\n",
    "    return dataset\n",
    "\n",
    "def top_keywords(vector, model, n):\n",
    "    \"\"\"\n",
    "    Extract the top n keywords (ngrams) from each topic\n",
    "    \"\"\"\n",
    "    res = {}\n",
    "    for i,topic in enumerate(model.components_):\n",
    "        res[i] = [vector.get_feature_names_out()[i] for i in topic.argsort()[-n:]]\n",
    "    return res"
   ]
  },
  {
   "attachments": {},
   "cell_type": "markdown",
   "metadata": {},
   "source": [
    "### Topic Modeling for Incursion"
   ]
  },
  {
   "attachments": {},
   "cell_type": "markdown",
   "metadata": {},
   "source": [
    "#### 1a. Running bigram with LDA"
   ]
  },
  {
   "cell_type": "code",
   "execution_count": 36,
   "metadata": {},
   "outputs": [
    {
     "data": {
      "text/html": [
       "<div>\n",
       "<style scoped>\n",
       "    .dataframe tbody tr th:only-of-type {\n",
       "        vertical-align: middle;\n",
       "    }\n",
       "\n",
       "    .dataframe tbody tr th {\n",
       "        vertical-align: top;\n",
       "    }\n",
       "\n",
       "    .dataframe thead th {\n",
       "        text-align: right;\n",
       "    }\n",
       "</style>\n",
       "<table border=\"1\" class=\"dataframe\">\n",
       "  <thead>\n",
       "    <tr style=\"text-align: right;\">\n",
       "      <th></th>\n",
       "      <th>ACN</th>\n",
       "      <th>Narrative</th>\n",
       "      <th>Narrative_bigram</th>\n",
       "    </tr>\n",
       "  </thead>\n",
       "  <tbody>\n",
       "    <tr>\n",
       "      <th>0</th>\n",
       "      <td>459107</td>\n",
       "      <td>ON TAXI OUT TO DTW RWY 3L, MISSED TURN ONTO TX...</td>\n",
       "      <td>taxi_dtw dtw_rwy rwy_3l 3l_missed missed_turn ...</td>\n",
       "    </tr>\n",
       "    <tr>\n",
       "      <th>1</th>\n",
       "      <td>459230</td>\n",
       "      <td>TAXIED OUT OF RAMP AREA BEFORE TALKING TO GND....</td>\n",
       "      <td>taxied_ramp ramp_area area_talking talking_gnd...</td>\n",
       "    </tr>\n",
       "    <tr>\n",
       "      <th>4</th>\n",
       "      <td>459425</td>\n",
       "      <td>WE WERE CLRED FOR THE VISUAL APCH RWY 31 ABOUT...</td>\n",
       "      <td>clred_visual visual_apch apch_rwy rwy_31 31_7 ...</td>\n",
       "    </tr>\n",
       "    <tr>\n",
       "      <th>6</th>\n",
       "      <td>459561</td>\n",
       "      <td>PUSHBACK INTO UNKNOWN MOVEMENT AREA AT RSW. CO...</td>\n",
       "      <td>pushback_unknown unknown_movement movement_are...</td>\n",
       "    </tr>\n",
       "    <tr>\n",
       "      <th>7</th>\n",
       "      <td>459588</td>\n",
       "      <td>ON JAN/XA/00 AT SAN MARCOS, TX, I WAS ENGAGED ...</td>\n",
       "      <td>janxa00_san san_marcos marcos_tx tx_engaged en...</td>\n",
       "    </tr>\n",
       "  </tbody>\n",
       "</table>\n",
       "</div>"
      ],
      "text/plain": [
       "      ACN                                          Narrative  \\\n",
       "0  459107  ON TAXI OUT TO DTW RWY 3L, MISSED TURN ONTO TX...   \n",
       "1  459230  TAXIED OUT OF RAMP AREA BEFORE TALKING TO GND....   \n",
       "4  459425  WE WERE CLRED FOR THE VISUAL APCH RWY 31 ABOUT...   \n",
       "6  459561  PUSHBACK INTO UNKNOWN MOVEMENT AREA AT RSW. CO...   \n",
       "7  459588  ON JAN/XA/00 AT SAN MARCOS, TX, I WAS ENGAGED ...   \n",
       "\n",
       "                                    Narrative_bigram  \n",
       "0  taxi_dtw dtw_rwy rwy_3l 3l_missed missed_turn ...  \n",
       "1  taxied_ramp ramp_area area_talking talking_gnd...  \n",
       "4  clred_visual visual_apch apch_rwy rwy_31 31_7 ...  \n",
       "6  pushback_unknown unknown_movement movement_are...  \n",
       "7  janxa00_san san_marcos marcos_tx tx_engaged en...  "
      ]
     },
     "execution_count": 36,
     "metadata": {},
     "output_type": "execute_result"
    }
   ],
   "source": [
    "# Run preprocess on incursion\n",
    "df_incur['Narrative_bigram'] = df_incur['Narrative'].apply(preprocess_2gram)\n",
    "df_incur.head(5)"
   ]
  },
  {
   "cell_type": "code",
   "execution_count": 37,
   "metadata": {},
   "outputs": [
    {
     "name": "stdout",
     "output_type": "stream",
     "text": [
      "Best Model's Params:  {'n_components': 2}\n",
      "Best Log Likelihood Score:  -1566737.9589938603\n",
      "Model Perplexity:  31608.925532990164\n",
      "(6915, 4) Index(['ACN', 'Narrative', 'Narrative_bigram', 'Topic_bigram'], dtype='object')\n"
     ]
    }
   ],
   "source": [
    "# Incursion\n",
    "count_vec, incur_vec, incur_model = optimize_lda(df_incur, 'Narrative_bigram')\n",
    "\n",
    "# Label based on topics\n",
    "df_incur = label_dom_topics(df_incur, incur_model, incur_vec, 'bigram')\n",
    "print(df_incur.shape, df_incur.columns)"
   ]
  },
  {
   "cell_type": "code",
   "execution_count": 40,
   "metadata": {},
   "outputs": [
    {
     "data": {
      "text/plain": [
       "0    4528\n",
       "1    2387\n",
       "Name: Topic_bigram, dtype: int64"
      ]
     },
     "execution_count": 40,
     "metadata": {},
     "output_type": "execute_result"
    }
   ],
   "source": [
    "# Number of records in each topic\n",
    "df_incur['Topic_bigram'].value_counts()"
   ]
  },
  {
   "cell_type": "code",
   "execution_count": null,
   "metadata": {},
   "outputs": [],
   "source": [
    "# Get top 10 keywords from each topic\n",
    "incur_top10_2g = top_keywords(count_vec, incur_model, 10)\n",
    "# Get top 20 keywords from each topic\n",
    "incur_top20_2g = top_keywords(count_vec, incur_model, 20)"
   ]
  },
  {
   "cell_type": "code",
   "execution_count": null,
   "metadata": {},
   "outputs": [
    {
     "name": "stdout",
     "output_type": "stream",
     "text": [
      "Top 10 keywords for Topic #0: ['pos_hold', 'gnd_ctlr', 'end_rwy', 'onto_rwy', 'cross_rwy', 'taxi_rwy', 'gnd_ctl', 'short_line', 'short_rwy', 'hold_short']\n",
      "Next 10 keywords for Topic #0: ['active_rwy', 'clred_us', 'hold_line', 'onto_txwy', 'read_back', 'told_us', 'clred_tkof', 'txwy_b', 'txwy_c', 'taxi_instructions']\n",
      "Top 10 keywords for Topic #1: ['end_runway', 'taxi_instructions', 'read_back', 'cross_runway', 'first_officer', 'short_runway', 'short_line', 'ground_control', 'aircraft_x', 'hold_short']\n",
      "Next 10 keywords for Topic #1: ['cleared_takeoff', 'takeoff_clearance', 'local_control', 'taxi_runway', 'holding_short', 'told_us', 'onto_runway', 'ground_controller', 'go_around', 'clear_runway']\n"
     ]
    }
   ],
   "source": [
    "print(f\"Top 10 keywords for Topic #0: {incur_top10_2g[0]}\")\n",
    "print(f\"Next 10 keywords for Topic #0: {list(set(incur_top20_2g[0]) - set(incur_top10_2g[0]))}\")\n",
    "print(f\"Top 10 keywords for Topic #1: {incur_top10_2g[1]}\")\n",
    "print(f\"Next 10 keywords for Topic #1: {list(set(incur_top20_2g[1]) - set(incur_top10_2g[1]))}\")"
   ]
  },
  {
   "attachments": {},
   "cell_type": "markdown",
   "metadata": {},
   "source": [
    "#### 1b. Running bigram without stopword removal with LDA"
   ]
  },
  {
   "cell_type": "code",
   "execution_count": null,
   "metadata": {},
   "outputs": [
    {
     "data": {
      "text/html": [
       "<div>\n",
       "<style scoped>\n",
       "    .dataframe tbody tr th:only-of-type {\n",
       "        vertical-align: middle;\n",
       "    }\n",
       "\n",
       "    .dataframe tbody tr th {\n",
       "        vertical-align: top;\n",
       "    }\n",
       "\n",
       "    .dataframe thead th {\n",
       "        text-align: right;\n",
       "    }\n",
       "</style>\n",
       "<table border=\"1\" class=\"dataframe\">\n",
       "  <thead>\n",
       "    <tr style=\"text-align: right;\">\n",
       "      <th></th>\n",
       "      <th>ACN</th>\n",
       "      <th>Narrative</th>\n",
       "      <th>Narrative_bigram</th>\n",
       "      <th>Topic_bigram</th>\n",
       "      <th>Narrative_bigram_wstp</th>\n",
       "    </tr>\n",
       "  </thead>\n",
       "  <tbody>\n",
       "    <tr>\n",
       "      <th>0</th>\n",
       "      <td>459107</td>\n",
       "      <td>ON TAXI OUT TO DTW RWY 3L, MISSED TURN ONTO TX...</td>\n",
       "      <td>taxi_dtw dtw_rwy rwy_3l 3l_missed missed_turn ...</td>\n",
       "      <td>0</td>\n",
       "      <td>on_taxi taxi_out out_to to_dtw dtw_rwy rwy_3l ...</td>\n",
       "    </tr>\n",
       "    <tr>\n",
       "      <th>1</th>\n",
       "      <td>459230</td>\n",
       "      <td>TAXIED OUT OF RAMP AREA BEFORE TALKING TO GND....</td>\n",
       "      <td>taxied_ramp ramp_area area_talking talking_gnd...</td>\n",
       "      <td>0</td>\n",
       "      <td>taxied_out out_of of_ramp ramp_area area_befor...</td>\n",
       "    </tr>\n",
       "    <tr>\n",
       "      <th>4</th>\n",
       "      <td>459425</td>\n",
       "      <td>WE WERE CLRED FOR THE VISUAL APCH RWY 31 ABOUT...</td>\n",
       "      <td>clred_visual visual_apch apch_rwy rwy_31 31_7 ...</td>\n",
       "      <td>0</td>\n",
       "      <td>we_were were_clred clred_for for_the the_visua...</td>\n",
       "    </tr>\n",
       "    <tr>\n",
       "      <th>6</th>\n",
       "      <td>459561</td>\n",
       "      <td>PUSHBACK INTO UNKNOWN MOVEMENT AREA AT RSW. CO...</td>\n",
       "      <td>pushback_unknown unknown_movement movement_are...</td>\n",
       "      <td>0</td>\n",
       "      <td>pushback_into into_unknown unknown_movement mo...</td>\n",
       "    </tr>\n",
       "    <tr>\n",
       "      <th>7</th>\n",
       "      <td>459588</td>\n",
       "      <td>ON JAN/XA/00 AT SAN MARCOS, TX, I WAS ENGAGED ...</td>\n",
       "      <td>janxa00_san san_marcos marcos_tx tx_engaged en...</td>\n",
       "      <td>0</td>\n",
       "      <td>on_janxa00 janxa00_at at_san san_marcos marcos...</td>\n",
       "    </tr>\n",
       "  </tbody>\n",
       "</table>\n",
       "</div>"
      ],
      "text/plain": [
       "      ACN                                          Narrative  \\\n",
       "0  459107  ON TAXI OUT TO DTW RWY 3L, MISSED TURN ONTO TX...   \n",
       "1  459230  TAXIED OUT OF RAMP AREA BEFORE TALKING TO GND....   \n",
       "4  459425  WE WERE CLRED FOR THE VISUAL APCH RWY 31 ABOUT...   \n",
       "6  459561  PUSHBACK INTO UNKNOWN MOVEMENT AREA AT RSW. CO...   \n",
       "7  459588  ON JAN/XA/00 AT SAN MARCOS, TX, I WAS ENGAGED ...   \n",
       "\n",
       "                                    Narrative_bigram  Topic_bigram  \\\n",
       "0  taxi_dtw dtw_rwy rwy_3l 3l_missed missed_turn ...             0   \n",
       "1  taxied_ramp ramp_area area_talking talking_gnd...             0   \n",
       "4  clred_visual visual_apch apch_rwy rwy_31 31_7 ...             0   \n",
       "6  pushback_unknown unknown_movement movement_are...             0   \n",
       "7  janxa00_san san_marcos marcos_tx tx_engaged en...             0   \n",
       "\n",
       "                               Narrative_bigram_wstp  \n",
       "0  on_taxi taxi_out out_to to_dtw dtw_rwy rwy_3l ...  \n",
       "1  taxied_out out_of of_ramp ramp_area area_befor...  \n",
       "4  we_were were_clred clred_for for_the the_visua...  \n",
       "6  pushback_into into_unknown unknown_movement mo...  \n",
       "7  on_janxa00 janxa00_at at_san san_marcos marcos...  "
      ]
     },
     "execution_count": 54,
     "metadata": {},
     "output_type": "execute_result"
    }
   ],
   "source": [
    "# Run preprocess on incursion\n",
    "df_incur['Narrative_bigram_wstp'] = df_incur['Narrative'].apply(preproc_wstp_2gram)\n",
    "df_incur.head(5)"
   ]
  },
  {
   "cell_type": "code",
   "execution_count": null,
   "metadata": {},
   "outputs": [
    {
     "name": "stdout",
     "output_type": "stream",
     "text": [
      "Best Model's Params:  {'n_components': 2}\n",
      "Best Log Likelihood Score:  -3608736.6425678497\n",
      "Model Perplexity:  18628.51908834689\n",
      "(6915, 6) Index(['ACN', 'Narrative', 'Narrative_bigram', 'Topic_bigram',\n",
      "       'Narrative_bigram_wstp', 'Topic_bigram_wstp'],\n",
      "      dtype='object')\n"
     ]
    }
   ],
   "source": [
    "# Incursion\n",
    "count_vec, incur_vec, incur_model = optimize_lda(df_incur, 'Narrative_bigram_wstp')\n",
    "\n",
    "# Label based on topics\n",
    "df_incur = label_dom_topics(df_incur, incur_model, incur_vec, 'bigram_wstp')\n",
    "print(df_incur.shape, df_incur.columns)"
   ]
  },
  {
   "cell_type": "code",
   "execution_count": null,
   "metadata": {},
   "outputs": [],
   "source": [
    "# Get top 10 keywords from each topic\n",
    "incur_top10_2g_wstp = top_keywords(count_vec, incur_model, 10)\n",
    "# Get top 20 keywords from each topic\n",
    "incur_top20_2g_wstp = top_keywords(count_vec, incur_model, 20)"
   ]
  },
  {
   "cell_type": "code",
   "execution_count": null,
   "metadata": {},
   "outputs": [
    {
     "name": "stdout",
     "output_type": "stream",
     "text": [
      "Top 10 keywords for Topic #0: ['the_twr', 'of_rwy', 'to_rwy', 'on_the', 'to_the', 'of_the', 'i_was', 'we_were', 'hold_short', 'the_rwy']\n",
      "Next 10 keywords for Topic #0: ['the_acft', 'on_txwy', 'the_hold', 'on_rwy', 'in_the', 'at_the', 'did_not', 'to_taxi', 'short_of', 'i_had']\n",
      "Top 10 keywords for Topic #1: ['aircraft_x', 'in_the', 'the_aircraft', 'hold_short', 'i_was', 'we_were', 'to_the', 'on_the', 'of_the', 'the_runway']\n",
      "Next 10 keywords for Topic #1: ['the_hold', 'at_the', 'did_not', 'to_taxi', 'short_of', 'it_was', 'and_i', 'i_had', 'the_tower', 'and_the']\n"
     ]
    }
   ],
   "source": [
    "print(f\"Top 10 keywords for Topic #0: {incur_top10_2g_wstp[0]}\")\n",
    "print(f\"Next 10 keywords for Topic #0: {list(set(incur_top20_2g_wstp[0]) - set(incur_top10_2g_wstp[0]))}\")\n",
    "print(f\"Top 10 keywords for Topic #1: {incur_top10_2g_wstp[1]}\")\n",
    "print(f\"Next 10 keywords for Topic #1: {list(set(incur_top20_2g_wstp[1]) - set(incur_top10_2g_wstp[1]))}\")"
   ]
  },
  {
   "attachments": {},
   "cell_type": "markdown",
   "metadata": {},
   "source": [
    "#### 2. Running trigram with LDA"
   ]
  },
  {
   "cell_type": "code",
   "execution_count": 41,
   "metadata": {},
   "outputs": [
    {
     "data": {
      "text/html": [
       "<div>\n",
       "<style scoped>\n",
       "    .dataframe tbody tr th:only-of-type {\n",
       "        vertical-align: middle;\n",
       "    }\n",
       "\n",
       "    .dataframe tbody tr th {\n",
       "        vertical-align: top;\n",
       "    }\n",
       "\n",
       "    .dataframe thead th {\n",
       "        text-align: right;\n",
       "    }\n",
       "</style>\n",
       "<table border=\"1\" class=\"dataframe\">\n",
       "  <thead>\n",
       "    <tr style=\"text-align: right;\">\n",
       "      <th></th>\n",
       "      <th>ACN</th>\n",
       "      <th>Narrative</th>\n",
       "      <th>Narrative_bigram</th>\n",
       "      <th>Topic_bigram</th>\n",
       "      <th>Narrative_trigram</th>\n",
       "    </tr>\n",
       "  </thead>\n",
       "  <tbody>\n",
       "    <tr>\n",
       "      <th>0</th>\n",
       "      <td>459107</td>\n",
       "      <td>ON TAXI OUT TO DTW RWY 3L, MISSED TURN ONTO TX...</td>\n",
       "      <td>taxi_dtw dtw_rwy rwy_3l 3l_missed missed_turn ...</td>\n",
       "      <td>0</td>\n",
       "      <td>taxi_dtw_rwy dtw_rwy_3l rwy_3l_missed 3l_misse...</td>\n",
       "    </tr>\n",
       "    <tr>\n",
       "      <th>1</th>\n",
       "      <td>459230</td>\n",
       "      <td>TAXIED OUT OF RAMP AREA BEFORE TALKING TO GND....</td>\n",
       "      <td>taxied_ramp ramp_area area_talking talking_gnd...</td>\n",
       "      <td>0</td>\n",
       "      <td>taxied_ramp_area ramp_area_talking area_talkin...</td>\n",
       "    </tr>\n",
       "    <tr>\n",
       "      <th>4</th>\n",
       "      <td>459425</td>\n",
       "      <td>WE WERE CLRED FOR THE VISUAL APCH RWY 31 ABOUT...</td>\n",
       "      <td>clred_visual visual_apch apch_rwy rwy_31 31_7 ...</td>\n",
       "      <td>0</td>\n",
       "      <td>clred_visual_apch visual_apch_rwy apch_rwy_31 ...</td>\n",
       "    </tr>\n",
       "    <tr>\n",
       "      <th>6</th>\n",
       "      <td>459561</td>\n",
       "      <td>PUSHBACK INTO UNKNOWN MOVEMENT AREA AT RSW. CO...</td>\n",
       "      <td>pushback_unknown unknown_movement movement_are...</td>\n",
       "      <td>0</td>\n",
       "      <td>pushback_unknown_movement unknown_movement_are...</td>\n",
       "    </tr>\n",
       "    <tr>\n",
       "      <th>7</th>\n",
       "      <td>459588</td>\n",
       "      <td>ON JAN/XA/00 AT SAN MARCOS, TX, I WAS ENGAGED ...</td>\n",
       "      <td>janxa00_san san_marcos marcos_tx tx_engaged en...</td>\n",
       "      <td>0</td>\n",
       "      <td>janxa00_san_marcos san_marcos_tx marcos_tx_eng...</td>\n",
       "    </tr>\n",
       "  </tbody>\n",
       "</table>\n",
       "</div>"
      ],
      "text/plain": [
       "      ACN                                          Narrative  \\\n",
       "0  459107  ON TAXI OUT TO DTW RWY 3L, MISSED TURN ONTO TX...   \n",
       "1  459230  TAXIED OUT OF RAMP AREA BEFORE TALKING TO GND....   \n",
       "4  459425  WE WERE CLRED FOR THE VISUAL APCH RWY 31 ABOUT...   \n",
       "6  459561  PUSHBACK INTO UNKNOWN MOVEMENT AREA AT RSW. CO...   \n",
       "7  459588  ON JAN/XA/00 AT SAN MARCOS, TX, I WAS ENGAGED ...   \n",
       "\n",
       "                                    Narrative_bigram  Topic_bigram  \\\n",
       "0  taxi_dtw dtw_rwy rwy_3l 3l_missed missed_turn ...             0   \n",
       "1  taxied_ramp ramp_area area_talking talking_gnd...             0   \n",
       "4  clred_visual visual_apch apch_rwy rwy_31 31_7 ...             0   \n",
       "6  pushback_unknown unknown_movement movement_are...             0   \n",
       "7  janxa00_san san_marcos marcos_tx tx_engaged en...             0   \n",
       "\n",
       "                                   Narrative_trigram  \n",
       "0  taxi_dtw_rwy dtw_rwy_3l rwy_3l_missed 3l_misse...  \n",
       "1  taxied_ramp_area ramp_area_talking area_talkin...  \n",
       "4  clred_visual_apch visual_apch_rwy apch_rwy_31 ...  \n",
       "6  pushback_unknown_movement unknown_movement_are...  \n",
       "7  janxa00_san_marcos san_marcos_tx marcos_tx_eng...  "
      ]
     },
     "execution_count": 41,
     "metadata": {},
     "output_type": "execute_result"
    }
   ],
   "source": [
    "# Run preprocess on incursion\n",
    "df_incur['Narrative_trigram'] = df_incur['Narrative'].apply(preprocess_3gram)\n",
    "df_incur.head(5)"
   ]
  },
  {
   "cell_type": "code",
   "execution_count": 42,
   "metadata": {},
   "outputs": [
    {
     "name": "stdout",
     "output_type": "stream",
     "text": [
      "Best Model's Params:  {'n_components': 2}\n",
      "Best Log Likelihood Score:  -549787.5652144667\n",
      "Model Perplexity:  37707.13980892424\n",
      "(6915, 6) Index(['ACN', 'Narrative', 'Narrative_bigram', 'Topic_bigram',\n",
      "       'Narrative_trigram', 'Topic_trigram'],\n",
      "      dtype='object')\n"
     ]
    }
   ],
   "source": [
    "# Incursion\n",
    "count_vec, incur_vec, incur_model = optimize_lda(df_incur, 'Narrative_trigram')\n",
    "df_incur = label_dom_topics(df_incur, incur_model, incur_vec, 'trigram')\n",
    "print(df_incur.shape, df_incur.columns)"
   ]
  },
  {
   "cell_type": "code",
   "execution_count": 43,
   "metadata": {},
   "outputs": [
    {
     "data": {
      "text/plain": [
       "0    3486\n",
       "1    3429\n",
       "Name: Topic_trigram, dtype: int64"
      ]
     },
     "execution_count": 43,
     "metadata": {},
     "output_type": "execute_result"
    }
   ],
   "source": [
    "# Number of records in each topic\n",
    "df_incur['Topic_trigram'].value_counts()"
   ]
  },
  {
   "cell_type": "code",
   "execution_count": null,
   "metadata": {},
   "outputs": [],
   "source": [
    "# Get top 10 keywords from each topic\n",
    "incur_top10_3g = top_keywords(count_vec, incur_model, 10)\n",
    "# Get top 20 keywords from each topic\n",
    "incur_top20_3g = top_keywords(count_vec, incur_model, 20)"
   ]
  },
  {
   "cell_type": "code",
   "execution_count": null,
   "metadata": {},
   "outputs": [
    {
     "name": "stdout",
     "output_type": "stream",
     "text": [
      "Top 10 keywords for Topic #0: ['past_hold_short', 'short_line_rwy', 'rptr_revealed_following', 'conversation_rptr_revealed', 'revealed_following_info', 'crossed_hold_short', 'hold_short_lines', 'hold_short_runway', 'hold_short_rwy', 'hold_short_line']\n",
      "Next 10 keywords for Topic #0: ['instructed_hold_short', 'callback_conversation_rptr', 'short_line_runway', 'supplemental_info_acn', 'hold_short_instructions', 'told_hold_short', 'contained_additional_information', 'holding_short_runway', 'us_hold_short', 'following_info_rptr']\n",
      "Top 10 keywords for Topic #1: ['turn_onto_txwy', 'clred_land_rwy', 'hold_short_txwy', 'apch_end_rwy', 'holding_short_rwy', 'pos_hold_rwy', 'clred_cross_rwy', 'hold_short_line', 'supplemental_info_acn', 'hold_short_rwy']\n",
      "Next 10 keywords for Topic #1: ['callback_conversation_rptr', 'revealed_following_info', 'conversation_rptr_revealed', 'told_hold_short', 'twr_told_us', 'rptr_revealed_following', 'twr_clred_us', 'us_hold_short', '180_deg_turn', 'clred_taxi_rwy']\n"
     ]
    }
   ],
   "source": [
    "print(f\"Top 10 keywords for Topic #0: {incur_top10_3g[0]}\")\n",
    "print(f\"Next 10 keywords for Topic #0: {list(set(incur_top20_3g[0]) - set(incur_top10_3g[0]))}\")\n",
    "print(f\"Top 10 keywords for Topic #1: {incur_top10_3g[1]}\")\n",
    "print(f\"Next 10 keywords for Topic #1: {list(set(incur_top20_3g[1]) - set(incur_top10_3g[1]))}\")"
   ]
  },
  {
   "attachments": {},
   "cell_type": "markdown",
   "metadata": {},
   "source": [
    "#### 3. Running 4gram with LDA"
   ]
  },
  {
   "cell_type": "code",
   "execution_count": 44,
   "metadata": {},
   "outputs": [
    {
     "data": {
      "text/html": [
       "<div>\n",
       "<style scoped>\n",
       "    .dataframe tbody tr th:only-of-type {\n",
       "        vertical-align: middle;\n",
       "    }\n",
       "\n",
       "    .dataframe tbody tr th {\n",
       "        vertical-align: top;\n",
       "    }\n",
       "\n",
       "    .dataframe thead th {\n",
       "        text-align: right;\n",
       "    }\n",
       "</style>\n",
       "<table border=\"1\" class=\"dataframe\">\n",
       "  <thead>\n",
       "    <tr style=\"text-align: right;\">\n",
       "      <th></th>\n",
       "      <th>ACN</th>\n",
       "      <th>Narrative</th>\n",
       "      <th>Narrative_bigram</th>\n",
       "      <th>Topic_bigram</th>\n",
       "      <th>Narrative_trigram</th>\n",
       "      <th>Topic_trigram</th>\n",
       "      <th>Narrative_4gram</th>\n",
       "    </tr>\n",
       "  </thead>\n",
       "  <tbody>\n",
       "    <tr>\n",
       "      <th>0</th>\n",
       "      <td>459107</td>\n",
       "      <td>ON TAXI OUT TO DTW RWY 3L, MISSED TURN ONTO TX...</td>\n",
       "      <td>taxi_dtw dtw_rwy rwy_3l 3l_missed missed_turn ...</td>\n",
       "      <td>0</td>\n",
       "      <td>taxi_dtw_rwy dtw_rwy_3l rwy_3l_missed 3l_misse...</td>\n",
       "      <td>1</td>\n",
       "      <td>taxi_dtw_rwy_3l dtw_rwy_3l_missed rwy_3l_misse...</td>\n",
       "    </tr>\n",
       "    <tr>\n",
       "      <th>1</th>\n",
       "      <td>459230</td>\n",
       "      <td>TAXIED OUT OF RAMP AREA BEFORE TALKING TO GND....</td>\n",
       "      <td>taxied_ramp ramp_area area_talking talking_gnd...</td>\n",
       "      <td>0</td>\n",
       "      <td>taxied_ramp_area ramp_area_talking area_talkin...</td>\n",
       "      <td>1</td>\n",
       "      <td>taxied_ramp_area_talking ramp_area_talking_gnd...</td>\n",
       "    </tr>\n",
       "    <tr>\n",
       "      <th>4</th>\n",
       "      <td>459425</td>\n",
       "      <td>WE WERE CLRED FOR THE VISUAL APCH RWY 31 ABOUT...</td>\n",
       "      <td>clred_visual visual_apch apch_rwy rwy_31 31_7 ...</td>\n",
       "      <td>0</td>\n",
       "      <td>clred_visual_apch visual_apch_rwy apch_rwy_31 ...</td>\n",
       "      <td>1</td>\n",
       "      <td>clred_visual_apch_rwy visual_apch_rwy_31 apch_...</td>\n",
       "    </tr>\n",
       "    <tr>\n",
       "      <th>6</th>\n",
       "      <td>459561</td>\n",
       "      <td>PUSHBACK INTO UNKNOWN MOVEMENT AREA AT RSW. CO...</td>\n",
       "      <td>pushback_unknown unknown_movement movement_are...</td>\n",
       "      <td>0</td>\n",
       "      <td>pushback_unknown_movement unknown_movement_are...</td>\n",
       "      <td>0</td>\n",
       "      <td>pushback_unknown_movement_area unknown_movemen...</td>\n",
       "    </tr>\n",
       "    <tr>\n",
       "      <th>7</th>\n",
       "      <td>459588</td>\n",
       "      <td>ON JAN/XA/00 AT SAN MARCOS, TX, I WAS ENGAGED ...</td>\n",
       "      <td>janxa00_san san_marcos marcos_tx tx_engaged en...</td>\n",
       "      <td>0</td>\n",
       "      <td>janxa00_san_marcos san_marcos_tx marcos_tx_eng...</td>\n",
       "      <td>1</td>\n",
       "      <td>janxa00_san_marcos_tx san_marcos_tx_engaged ma...</td>\n",
       "    </tr>\n",
       "  </tbody>\n",
       "</table>\n",
       "</div>"
      ],
      "text/plain": [
       "      ACN                                          Narrative  \\\n",
       "0  459107  ON TAXI OUT TO DTW RWY 3L, MISSED TURN ONTO TX...   \n",
       "1  459230  TAXIED OUT OF RAMP AREA BEFORE TALKING TO GND....   \n",
       "4  459425  WE WERE CLRED FOR THE VISUAL APCH RWY 31 ABOUT...   \n",
       "6  459561  PUSHBACK INTO UNKNOWN MOVEMENT AREA AT RSW. CO...   \n",
       "7  459588  ON JAN/XA/00 AT SAN MARCOS, TX, I WAS ENGAGED ...   \n",
       "\n",
       "                                    Narrative_bigram  Topic_bigram  \\\n",
       "0  taxi_dtw dtw_rwy rwy_3l 3l_missed missed_turn ...             0   \n",
       "1  taxied_ramp ramp_area area_talking talking_gnd...             0   \n",
       "4  clred_visual visual_apch apch_rwy rwy_31 31_7 ...             0   \n",
       "6  pushback_unknown unknown_movement movement_are...             0   \n",
       "7  janxa00_san san_marcos marcos_tx tx_engaged en...             0   \n",
       "\n",
       "                                   Narrative_trigram  Topic_trigram  \\\n",
       "0  taxi_dtw_rwy dtw_rwy_3l rwy_3l_missed 3l_misse...              1   \n",
       "1  taxied_ramp_area ramp_area_talking area_talkin...              1   \n",
       "4  clred_visual_apch visual_apch_rwy apch_rwy_31 ...              1   \n",
       "6  pushback_unknown_movement unknown_movement_are...              0   \n",
       "7  janxa00_san_marcos san_marcos_tx marcos_tx_eng...              1   \n",
       "\n",
       "                                     Narrative_4gram  \n",
       "0  taxi_dtw_rwy_3l dtw_rwy_3l_missed rwy_3l_misse...  \n",
       "1  taxied_ramp_area_talking ramp_area_talking_gnd...  \n",
       "4  clred_visual_apch_rwy visual_apch_rwy_31 apch_...  \n",
       "6  pushback_unknown_movement_area unknown_movemen...  \n",
       "7  janxa00_san_marcos_tx san_marcos_tx_engaged ma...  "
      ]
     },
     "execution_count": 44,
     "metadata": {},
     "output_type": "execute_result"
    }
   ],
   "source": [
    "# Run preprocess on incursion\n",
    "df_incur['Narrative_4gram'] = df_incur['Narrative'].apply(preprocess_4gram)\n",
    "df_incur.head(5)"
   ]
  },
  {
   "cell_type": "code",
   "execution_count": 45,
   "metadata": {},
   "outputs": [
    {
     "name": "stdout",
     "output_type": "stream",
     "text": [
      "Best Model's Params:  {'n_components': 2}\n",
      "Best Log Likelihood Score:  -143733.08466663957\n",
      "Model Perplexity:  16475.939353242462\n",
      "(6915, 8) Index(['ACN', 'Narrative', 'Narrative_bigram', 'Topic_bigram',\n",
      "       'Narrative_trigram', 'Topic_trigram', 'Narrative_4gram', 'Topic_4gram'],\n",
      "      dtype='object')\n"
     ]
    }
   ],
   "source": [
    "# Incursion\n",
    "count_vec, incur_vec, incur_model = optimize_lda(df_incur, 'Narrative_4gram')\n",
    "df_incur = label_dom_topics(df_incur, incur_model, incur_vec, '4gram')\n",
    "print(df_incur.shape, df_incur.columns)"
   ]
  },
  {
   "cell_type": "code",
   "execution_count": 46,
   "metadata": {},
   "outputs": [
    {
     "data": {
      "text/plain": [
       "0    3605\n",
       "1    3310\n",
       "Name: Topic_4gram, dtype: int64"
      ]
     },
     "execution_count": 46,
     "metadata": {},
     "output_type": "execute_result"
    }
   ],
   "source": [
    "df_incur['Topic_4gram'].value_counts()"
   ]
  },
  {
   "cell_type": "code",
   "execution_count": null,
   "metadata": {},
   "outputs": [],
   "source": [
    "# Get top 10 keywords from each topic\n",
    "incur_top10_4g = top_keywords(count_vec, incur_model, 10)\n",
    "# Get top 20 keywords from each topic\n",
    "incur_top20_4g = top_keywords(count_vec, incur_model, 20)"
   ]
  },
  {
   "cell_type": "code",
   "execution_count": null,
   "metadata": {},
   "outputs": [
    {
     "name": "stdout",
     "output_type": "stream",
     "text": [
      "Top 10 keywords for Topic #0: ['see_hold_short_line', 'across_hold_short_line', 'taxi_hold_short_rwy', 'hold_short_rwy_25r', 'hold_short_line_runway', 'report_narrative_contained_additional', 'hold_short_line_rwy', 'narrative_contained_additional_information', 'past_hold_short_line', 'crossed_hold_short_line']\n",
      "Next 10 keywords for Topic #0: ['passed_hold_short_line', 'txwy_hold_short_rwy', 'make_180_deg_turn', 'rwy_hold_short_line', 'xing_hold_short_line', 'cleared_aircraft_x_takeoff', 'gnd_ctl_clred_us', 'clred_us_taxi_rwy', 'taxi_pos_hold_rwy', 'read_back_hold_short']\n",
      "Top 10 keywords for Topic #1: ['us_hold_short_rwy', 'told_hold_short_rwy', 'following_info_rptr_stated', 'told_us_hold_short', 'crossed_hold_short_line', 'hold_short_line_rwy', 'revealed_following_info_rptr', 'callback_conversation_rptr_revealed', 'conversation_rptr_revealed_following', 'rptr_revealed_following_info']\n",
      "Next 10 keywords for Topic #1: ['past_hold_short_line', 'hold_short_rwy_4l', 'twr_clred_us_tkof', 'txwy_hold_short_rwy', 'read_back_hold_short', 'hold_short_lines_rwy', 'rwy_hold_short_line', 'instructed_hold_short_rwy', 'beyond_hold_short_line', 'across_hold_short_line']\n"
     ]
    }
   ],
   "source": [
    "print(f\"Top 10 keywords for Topic #0: {incur_top10_4g[0]}\")\n",
    "print(f\"Next 10 keywords for Topic #0: {list(set(incur_top20_4g[0]) - set(incur_top10_4g[0]))}\")\n",
    "print(f\"Top 10 keywords for Topic #1: {incur_top10_4g[1]}\")\n",
    "print(f\"Next 10 keywords for Topic #1: {list(set(incur_top20_4g[1]) - set(incur_top10_4g[1]))}\")"
   ]
  },
  {
   "attachments": {},
   "cell_type": "markdown",
   "metadata": {},
   "source": [
    "#### 4. Run 5gram with LDA"
   ]
  },
  {
   "cell_type": "code",
   "execution_count": 47,
   "metadata": {},
   "outputs": [
    {
     "data": {
      "text/html": [
       "<div>\n",
       "<style scoped>\n",
       "    .dataframe tbody tr th:only-of-type {\n",
       "        vertical-align: middle;\n",
       "    }\n",
       "\n",
       "    .dataframe tbody tr th {\n",
       "        vertical-align: top;\n",
       "    }\n",
       "\n",
       "    .dataframe thead th {\n",
       "        text-align: right;\n",
       "    }\n",
       "</style>\n",
       "<table border=\"1\" class=\"dataframe\">\n",
       "  <thead>\n",
       "    <tr style=\"text-align: right;\">\n",
       "      <th></th>\n",
       "      <th>ACN</th>\n",
       "      <th>Narrative</th>\n",
       "      <th>Narrative_bigram</th>\n",
       "      <th>Topic_bigram</th>\n",
       "      <th>Narrative_trigram</th>\n",
       "      <th>Topic_trigram</th>\n",
       "      <th>Narrative_4gram</th>\n",
       "      <th>Topic_4gram</th>\n",
       "      <th>Narrative_5gram</th>\n",
       "    </tr>\n",
       "  </thead>\n",
       "  <tbody>\n",
       "    <tr>\n",
       "      <th>0</th>\n",
       "      <td>459107</td>\n",
       "      <td>ON TAXI OUT TO DTW RWY 3L, MISSED TURN ONTO TX...</td>\n",
       "      <td>taxi_dtw dtw_rwy rwy_3l 3l_missed missed_turn ...</td>\n",
       "      <td>0</td>\n",
       "      <td>taxi_dtw_rwy dtw_rwy_3l rwy_3l_missed 3l_misse...</td>\n",
       "      <td>1</td>\n",
       "      <td>taxi_dtw_rwy_3l dtw_rwy_3l_missed rwy_3l_misse...</td>\n",
       "      <td>0</td>\n",
       "      <td>taxi_dtw_rwy_3l_missed dtw_rwy_3l_missed_turn ...</td>\n",
       "    </tr>\n",
       "    <tr>\n",
       "      <th>1</th>\n",
       "      <td>459230</td>\n",
       "      <td>TAXIED OUT OF RAMP AREA BEFORE TALKING TO GND....</td>\n",
       "      <td>taxied_ramp ramp_area area_talking talking_gnd...</td>\n",
       "      <td>0</td>\n",
       "      <td>taxied_ramp_area ramp_area_talking area_talkin...</td>\n",
       "      <td>1</td>\n",
       "      <td>taxied_ramp_area_talking ramp_area_talking_gnd...</td>\n",
       "      <td>0</td>\n",
       "      <td>taxied_ramp_area_talking_gnd ramp_area_talking...</td>\n",
       "    </tr>\n",
       "    <tr>\n",
       "      <th>4</th>\n",
       "      <td>459425</td>\n",
       "      <td>WE WERE CLRED FOR THE VISUAL APCH RWY 31 ABOUT...</td>\n",
       "      <td>clred_visual visual_apch apch_rwy rwy_31 31_7 ...</td>\n",
       "      <td>0</td>\n",
       "      <td>clred_visual_apch visual_apch_rwy apch_rwy_31 ...</td>\n",
       "      <td>1</td>\n",
       "      <td>clred_visual_apch_rwy visual_apch_rwy_31 apch_...</td>\n",
       "      <td>1</td>\n",
       "      <td>clred_visual_apch_rwy_31 visual_apch_rwy_31_7 ...</td>\n",
       "    </tr>\n",
       "    <tr>\n",
       "      <th>6</th>\n",
       "      <td>459561</td>\n",
       "      <td>PUSHBACK INTO UNKNOWN MOVEMENT AREA AT RSW. CO...</td>\n",
       "      <td>pushback_unknown unknown_movement movement_are...</td>\n",
       "      <td>0</td>\n",
       "      <td>pushback_unknown_movement unknown_movement_are...</td>\n",
       "      <td>0</td>\n",
       "      <td>pushback_unknown_movement_area unknown_movemen...</td>\n",
       "      <td>0</td>\n",
       "      <td>pushback_unknown_movement_area_rsw unknown_mov...</td>\n",
       "    </tr>\n",
       "    <tr>\n",
       "      <th>7</th>\n",
       "      <td>459588</td>\n",
       "      <td>ON JAN/XA/00 AT SAN MARCOS, TX, I WAS ENGAGED ...</td>\n",
       "      <td>janxa00_san san_marcos marcos_tx tx_engaged en...</td>\n",
       "      <td>0</td>\n",
       "      <td>janxa00_san_marcos san_marcos_tx marcos_tx_eng...</td>\n",
       "      <td>1</td>\n",
       "      <td>janxa00_san_marcos_tx san_marcos_tx_engaged ma...</td>\n",
       "      <td>1</td>\n",
       "      <td>janxa00_san_marcos_tx_engaged san_marcos_tx_en...</td>\n",
       "    </tr>\n",
       "  </tbody>\n",
       "</table>\n",
       "</div>"
      ],
      "text/plain": [
       "      ACN                                          Narrative  \\\n",
       "0  459107  ON TAXI OUT TO DTW RWY 3L, MISSED TURN ONTO TX...   \n",
       "1  459230  TAXIED OUT OF RAMP AREA BEFORE TALKING TO GND....   \n",
       "4  459425  WE WERE CLRED FOR THE VISUAL APCH RWY 31 ABOUT...   \n",
       "6  459561  PUSHBACK INTO UNKNOWN MOVEMENT AREA AT RSW. CO...   \n",
       "7  459588  ON JAN/XA/00 AT SAN MARCOS, TX, I WAS ENGAGED ...   \n",
       "\n",
       "                                    Narrative_bigram  Topic_bigram  \\\n",
       "0  taxi_dtw dtw_rwy rwy_3l 3l_missed missed_turn ...             0   \n",
       "1  taxied_ramp ramp_area area_talking talking_gnd...             0   \n",
       "4  clred_visual visual_apch apch_rwy rwy_31 31_7 ...             0   \n",
       "6  pushback_unknown unknown_movement movement_are...             0   \n",
       "7  janxa00_san san_marcos marcos_tx tx_engaged en...             0   \n",
       "\n",
       "                                   Narrative_trigram  Topic_trigram  \\\n",
       "0  taxi_dtw_rwy dtw_rwy_3l rwy_3l_missed 3l_misse...              1   \n",
       "1  taxied_ramp_area ramp_area_talking area_talkin...              1   \n",
       "4  clred_visual_apch visual_apch_rwy apch_rwy_31 ...              1   \n",
       "6  pushback_unknown_movement unknown_movement_are...              0   \n",
       "7  janxa00_san_marcos san_marcos_tx marcos_tx_eng...              1   \n",
       "\n",
       "                                     Narrative_4gram  Topic_4gram  \\\n",
       "0  taxi_dtw_rwy_3l dtw_rwy_3l_missed rwy_3l_misse...            0   \n",
       "1  taxied_ramp_area_talking ramp_area_talking_gnd...            0   \n",
       "4  clred_visual_apch_rwy visual_apch_rwy_31 apch_...            1   \n",
       "6  pushback_unknown_movement_area unknown_movemen...            0   \n",
       "7  janxa00_san_marcos_tx san_marcos_tx_engaged ma...            1   \n",
       "\n",
       "                                     Narrative_5gram  \n",
       "0  taxi_dtw_rwy_3l_missed dtw_rwy_3l_missed_turn ...  \n",
       "1  taxied_ramp_area_talking_gnd ramp_area_talking...  \n",
       "4  clred_visual_apch_rwy_31 visual_apch_rwy_31_7 ...  \n",
       "6  pushback_unknown_movement_area_rsw unknown_mov...  \n",
       "7  janxa00_san_marcos_tx_engaged san_marcos_tx_en...  "
      ]
     },
     "execution_count": 47,
     "metadata": {},
     "output_type": "execute_result"
    }
   ],
   "source": [
    "# Run preprocess on incursion\n",
    "df_incur['Narrative_5gram'] = df_incur['Narrative'].apply(preprocess_5gram)\n",
    "df_incur.head(5)"
   ]
  },
  {
   "cell_type": "code",
   "execution_count": 48,
   "metadata": {},
   "outputs": [
    {
     "name": "stdout",
     "output_type": "stream",
     "text": [
      "Best Model's Params:  {'n_components': 2}\n",
      "Best Log Likelihood Score:  -37510.28752852576\n",
      "Model Perplexity:  5716.401285670505\n",
      "(6915, 10) Index(['ACN', 'Narrative', 'Narrative_bigram', 'Topic_bigram',\n",
      "       'Narrative_trigram', 'Topic_trigram', 'Narrative_4gram', 'Topic_4gram',\n",
      "       'Narrative_5gram', 'Topic_5gram'],\n",
      "      dtype='object')\n"
     ]
    }
   ],
   "source": [
    "# Incursion\n",
    "count_vec, incur_vec, incur_model = optimize_lda(df_incur, 'Narrative_5gram')\n",
    "df_incur = label_dom_topics(df_incur, incur_model, incur_vec, '5gram')\n",
    "print(df_incur.shape, df_incur.columns)"
   ]
  },
  {
   "cell_type": "code",
   "execution_count": 49,
   "metadata": {},
   "outputs": [
    {
     "data": {
      "text/plain": [
       "0    4801\n",
       "1    2114\n",
       "Name: Topic_5gram, dtype: int64"
      ]
     },
     "execution_count": 49,
     "metadata": {},
     "output_type": "execute_result"
    }
   ],
   "source": [
    "df_incur['Topic_5gram'].value_counts()"
   ]
  },
  {
   "cell_type": "code",
   "execution_count": null,
   "metadata": {},
   "outputs": [],
   "source": [
    "# Get top 10 keywords from each topic\n",
    "incur_top10_5g = top_keywords(count_vec, incur_model, 10)\n",
    "# Get top 20 keywords from each topic\n",
    "incur_top20_5g = top_keywords(count_vec, incur_model, 20)"
   ]
  },
  {
   "cell_type": "code",
   "execution_count": null,
   "metadata": {},
   "outputs": [
    {
     "name": "stdout",
     "output_type": "stream",
     "text": [
      "Top 10 keywords for Topic #0: ['txwy_b_hold_short_rwy', 'crossed_hold_short_line_rwy', 'txwy_c_hold_short_rwy', 'past_hold_short_line_rwy', 'txwy_k_hold_short_rwy', 'read_back_hold_short_instructions', 'txwy_f_hold_short_rwy', 'gnd_ctl_clred_us_taxi', 'taxied_past_hold_short_line', 'twr_clred_us_cross_rwy']\n",
      "Next 10 keywords for Topic #0: ['rwy_12l_hold_short_rwy', 'cross_rwy_19l_hold_short', '180_deg_turn_hold_short', 'gave_us_phone_number_call', 'rwy_19l_hold_short_rwy', 'txwy_p_hold_short_rwy', 'rwy_24_hold_short_rwy', 'crossed_hold_short_line_runway', '19l_hold_short_rwy_19r', 'txwy_b_hold_short_txwy']\n",
      "Top 10 keywords for Topic #1: ['us_hold_short_rwy', 'told_hold_short_rwy', 'following_info_rptr_stated', 'told_us_hold_short', 'crossed_hold_short_line', 'hold_short_line_rwy', 'revealed_following_info_rptr', 'callback_conversation_rptr_revealed', 'conversation_rptr_revealed_following', 'rptr_revealed_following_info']\n",
      "Next 10 keywords for Topic #1: ['clred_us_pos_hold_rwy', 'twr_told_us_hold_short', 'rptr_revealed_following_info_callback', 'read_back_hold_short_instructions', 'revealed_following_info_rptr_advised', 'ft_past_hold_short_line', 'twr_clred_us_pos_hold', 'revealed_following_info_rptr_indicated', 'acft_crossed_hold_short_line', 'revealed_following_info_reporter_stated']\n"
     ]
    }
   ],
   "source": [
    "print(f\"Top 10 keywords for Topic #0: {incur_top10_5g[0]}\")\n",
    "print(f\"Next 10 keywords for Topic #0: {list(set(incur_top20_5g[0]) - set(incur_top10_5g[0]))}\")\n",
    "print(f\"Top 10 keywords for Topic #1: {incur_top10_4g[1]}\")\n",
    "print(f\"Next 10 keywords for Topic #1: {list(set(incur_top20_5g[1]) - set(incur_top10_5g[1]))}\")"
   ]
  },
  {
   "attachments": {},
   "cell_type": "markdown",
   "metadata": {},
   "source": [
    "### Topic Modeling for Excursion\n",
    "Repeat all steps in incursion for excursion"
   ]
  },
  {
   "attachments": {},
   "cell_type": "markdown",
   "metadata": {},
   "source": [
    "#### 1. Running bigram with LDA"
   ]
  },
  {
   "cell_type": "code",
   "execution_count": 50,
   "metadata": {},
   "outputs": [
    {
     "data": {
      "text/html": [
       "<div>\n",
       "<style scoped>\n",
       "    .dataframe tbody tr th:only-of-type {\n",
       "        vertical-align: middle;\n",
       "    }\n",
       "\n",
       "    .dataframe tbody tr th {\n",
       "        vertical-align: top;\n",
       "    }\n",
       "\n",
       "    .dataframe thead th {\n",
       "        text-align: right;\n",
       "    }\n",
       "</style>\n",
       "<table border=\"1\" class=\"dataframe\">\n",
       "  <thead>\n",
       "    <tr style=\"text-align: right;\">\n",
       "      <th></th>\n",
       "      <th>ACN</th>\n",
       "      <th>Narrative</th>\n",
       "      <th>Narrative_bigram</th>\n",
       "    </tr>\n",
       "  </thead>\n",
       "  <tbody>\n",
       "    <tr>\n",
       "      <th>2</th>\n",
       "      <td>459389</td>\n",
       "      <td>CAPT WAS FLYING, I WAS IN THE R SEAT. AFTER LN...</td>\n",
       "      <td>capt_flying flying_r r_seat seat_lndg lndg_cdg...</td>\n",
       "    </tr>\n",
       "    <tr>\n",
       "      <th>3</th>\n",
       "      <td>459407</td>\n",
       "      <td>ILS RWY 4 (SRB), CAPT FLYING. WX: 900 FT BROKE...</td>\n",
       "      <td>ils_rwy rwy_4 4_srb srb_capt capt_flying flyin...</td>\n",
       "    </tr>\n",
       "    <tr>\n",
       "      <th>5</th>\n",
       "      <td>459476</td>\n",
       "      <td>WE HAD JUST LANDED AND CLRED RWY 12R AT MSP. I...</td>\n",
       "      <td>landed_clred clred_rwy rwy_12r 12r_msp msp_con...</td>\n",
       "    </tr>\n",
       "    <tr>\n",
       "      <th>8</th>\n",
       "      <td>459603</td>\n",
       "      <td>LNDG INCIDENT IN TAILDRAGGER TYPE ACFT (1966 C...</td>\n",
       "      <td>lndg_incident incident_taildragger taildragger...</td>\n",
       "    </tr>\n",
       "    <tr>\n",
       "      <th>10</th>\n",
       "      <td>459623</td>\n",
       "      <td>AFTER DARK ON JAN/XA/00, WE TAXIED OUR LEAR 31...</td>\n",
       "      <td>dark_janxa00 janxa00_taxied taxied_lear lear_3...</td>\n",
       "    </tr>\n",
       "  </tbody>\n",
       "</table>\n",
       "</div>"
      ],
      "text/plain": [
       "       ACN                                          Narrative  \\\n",
       "2   459389  CAPT WAS FLYING, I WAS IN THE R SEAT. AFTER LN...   \n",
       "3   459407  ILS RWY 4 (SRB), CAPT FLYING. WX: 900 FT BROKE...   \n",
       "5   459476  WE HAD JUST LANDED AND CLRED RWY 12R AT MSP. I...   \n",
       "8   459603  LNDG INCIDENT IN TAILDRAGGER TYPE ACFT (1966 C...   \n",
       "10  459623  AFTER DARK ON JAN/XA/00, WE TAXIED OUR LEAR 31...   \n",
       "\n",
       "                                     Narrative_bigram  \n",
       "2   capt_flying flying_r r_seat seat_lndg lndg_cdg...  \n",
       "3   ils_rwy rwy_4 4_srb srb_capt capt_flying flyin...  \n",
       "5   landed_clred clred_rwy rwy_12r 12r_msp msp_con...  \n",
       "8   lndg_incident incident_taildragger taildragger...  \n",
       "10  dark_janxa00 janxa00_taxied taxied_lear lear_3...  "
      ]
     },
     "execution_count": 50,
     "metadata": {},
     "output_type": "execute_result"
    }
   ],
   "source": [
    "# Run preprocess on excursion\n",
    "df_excur['Narrative_bigram'] = df_excur['Narrative'].apply(preprocess_2gram)\n",
    "df_excur.head(5)"
   ]
  },
  {
   "cell_type": "code",
   "execution_count": 51,
   "metadata": {},
   "outputs": [
    {
     "name": "stdout",
     "output_type": "stream",
     "text": [
      "Best Model's Params:  {'n_components': 2}\n",
      "Best Log Likelihood Score:  -442539.87978962547\n",
      "Model Perplexity:  22831.71658704897\n",
      "(2466, 4) Index(['ACN', 'Narrative', 'Narrative_bigram', 'Topic_bigram'], dtype='object')\n"
     ]
    }
   ],
   "source": [
    "# Excursion\n",
    "count_vec, excur_vec, excur_model = optimize_lda(df_excur, 'Narrative_bigram')\n",
    "\n",
    "# Label based on topics\n",
    "df_excur = label_dom_topics(df_excur, excur_model, excur_vec, 'bigram')\n",
    "print(df_excur.shape, df_excur.columns)"
   ]
  },
  {
   "cell_type": "code",
   "execution_count": 52,
   "metadata": {},
   "outputs": [
    {
     "data": {
      "text/plain": [
       "0    1342\n",
       "1    1124\n",
       "Name: Topic_bigram, dtype: int64"
      ]
     },
     "execution_count": 52,
     "metadata": {},
     "output_type": "execute_result"
    }
   ],
   "source": [
    "df_excur['Topic_bigram'].value_counts()"
   ]
  },
  {
   "cell_type": "code",
   "execution_count": null,
   "metadata": {},
   "outputs": [],
   "source": [
    "# Get top 10 keywords from each topic\n",
    "excur_top10_2g = top_keywords(count_vec, excur_model, 10)\n",
    "# Get top 20 keywords from each topic\n",
    "excur_top20_2g = top_keywords(count_vec, excur_model, 20)"
   ]
  },
  {
   "cell_type": "code",
   "execution_count": null,
   "metadata": {},
   "outputs": [
    {
     "name": "stdout",
     "output_type": "stream",
     "text": [
      "Top 10 keywords for Topic #0: ['directional_control', 'first_officer', 'left_side', 'right_main', 'main_gear', 'braking_action', 'right_rudder', 'nose_wheel', 'side_runway', 'end_runway']\n",
      "Next 10 keywords for Topic #0: ['control_aircraft', 'nose_gear', 'right_side', 'left_rudder', 'back_onto', 'landing_gear', 'left_main', 'came_stop', 'damage_aircraft', 'go_around']\n",
      "Top 10 keywords for Topic #1: ['l_main', 'lndg_rwy', 'nose_gear', 'damage_acft', 'r_main', 'braking_action', 'main_gear', 'lndg_gear', 'side_rwy', 'end_rwy']\n",
      "Next 10 keywords for Topic #1: ['conversation_rptr', 'ft_rwy', 'revealed_following', 'supplemental_info', 'r_rudder', 'info_acn', 'l_side', 'r_side', 'rptr_revealed', 'following_info']\n"
     ]
    }
   ],
   "source": [
    "print(f\"Top 10 keywords for Topic #0: {excur_top10_2g[0]}\")\n",
    "print(f\"Next 10 keywords for Topic #0: {list(set(excur_top20_2g[0]) - set(excur_top10_2g[0]))}\")\n",
    "print(f\"Top 10 keywords for Topic #1: {excur_top10_2g[1]}\")\n",
    "print(f\"Next 10 keywords for Topic #1: {list(set(excur_top20_2g[1]) - set(excur_top10_2g[1]))}\")"
   ]
  },
  {
   "attachments": {},
   "cell_type": "markdown",
   "metadata": {},
   "source": [
    "#### 2. Running trigram with LDA"
   ]
  },
  {
   "cell_type": "code",
   "execution_count": 53,
   "metadata": {},
   "outputs": [
    {
     "data": {
      "text/html": [
       "<div>\n",
       "<style scoped>\n",
       "    .dataframe tbody tr th:only-of-type {\n",
       "        vertical-align: middle;\n",
       "    }\n",
       "\n",
       "    .dataframe tbody tr th {\n",
       "        vertical-align: top;\n",
       "    }\n",
       "\n",
       "    .dataframe thead th {\n",
       "        text-align: right;\n",
       "    }\n",
       "</style>\n",
       "<table border=\"1\" class=\"dataframe\">\n",
       "  <thead>\n",
       "    <tr style=\"text-align: right;\">\n",
       "      <th></th>\n",
       "      <th>ACN</th>\n",
       "      <th>Narrative</th>\n",
       "      <th>Narrative_bigram</th>\n",
       "      <th>Topic_bigram</th>\n",
       "      <th>Narrative_trigram</th>\n",
       "    </tr>\n",
       "  </thead>\n",
       "  <tbody>\n",
       "    <tr>\n",
       "      <th>2</th>\n",
       "      <td>459389</td>\n",
       "      <td>CAPT WAS FLYING, I WAS IN THE R SEAT. AFTER LN...</td>\n",
       "      <td>capt_flying flying_r r_seat seat_lndg lndg_cdg...</td>\n",
       "      <td>1</td>\n",
       "      <td>capt_flying_r flying_r_seat r_seat_lndg seat_l...</td>\n",
       "    </tr>\n",
       "    <tr>\n",
       "      <th>3</th>\n",
       "      <td>459407</td>\n",
       "      <td>ILS RWY 4 (SRB), CAPT FLYING. WX: 900 FT BROKE...</td>\n",
       "      <td>ils_rwy rwy_4 4_srb srb_capt capt_flying flyin...</td>\n",
       "      <td>1</td>\n",
       "      <td>ils_rwy_4 rwy_4_srb 4_srb_capt srb_capt_flying...</td>\n",
       "    </tr>\n",
       "    <tr>\n",
       "      <th>5</th>\n",
       "      <td>459476</td>\n",
       "      <td>WE HAD JUST LANDED AND CLRED RWY 12R AT MSP. I...</td>\n",
       "      <td>landed_clred clred_rwy rwy_12r 12r_msp msp_con...</td>\n",
       "      <td>1</td>\n",
       "      <td>landed_clred_rwy clred_rwy_12r rwy_12r_msp 12r...</td>\n",
       "    </tr>\n",
       "    <tr>\n",
       "      <th>8</th>\n",
       "      <td>459603</td>\n",
       "      <td>LNDG INCIDENT IN TAILDRAGGER TYPE ACFT (1966 C...</td>\n",
       "      <td>lndg_incident incident_taildragger taildragger...</td>\n",
       "      <td>1</td>\n",
       "      <td>lndg_incident_taildragger incident_taildragger...</td>\n",
       "    </tr>\n",
       "    <tr>\n",
       "      <th>10</th>\n",
       "      <td>459623</td>\n",
       "      <td>AFTER DARK ON JAN/XA/00, WE TAXIED OUR LEAR 31...</td>\n",
       "      <td>dark_janxa00 janxa00_taxied taxied_lear lear_3...</td>\n",
       "      <td>1</td>\n",
       "      <td>dark_janxa00_taxied janxa00_taxied_lear taxied...</td>\n",
       "    </tr>\n",
       "  </tbody>\n",
       "</table>\n",
       "</div>"
      ],
      "text/plain": [
       "       ACN                                          Narrative  \\\n",
       "2   459389  CAPT WAS FLYING, I WAS IN THE R SEAT. AFTER LN...   \n",
       "3   459407  ILS RWY 4 (SRB), CAPT FLYING. WX: 900 FT BROKE...   \n",
       "5   459476  WE HAD JUST LANDED AND CLRED RWY 12R AT MSP. I...   \n",
       "8   459603  LNDG INCIDENT IN TAILDRAGGER TYPE ACFT (1966 C...   \n",
       "10  459623  AFTER DARK ON JAN/XA/00, WE TAXIED OUR LEAR 31...   \n",
       "\n",
       "                                     Narrative_bigram  Topic_bigram  \\\n",
       "2   capt_flying flying_r r_seat seat_lndg lndg_cdg...             1   \n",
       "3   ils_rwy rwy_4 4_srb srb_capt capt_flying flyin...             1   \n",
       "5   landed_clred clred_rwy rwy_12r 12r_msp msp_con...             1   \n",
       "8   lndg_incident incident_taildragger taildragger...             1   \n",
       "10  dark_janxa00 janxa00_taxied taxied_lear lear_3...             1   \n",
       "\n",
       "                                    Narrative_trigram  \n",
       "2   capt_flying_r flying_r_seat r_seat_lndg seat_l...  \n",
       "3   ils_rwy_4 rwy_4_srb 4_srb_capt srb_capt_flying...  \n",
       "5   landed_clred_rwy clred_rwy_12r rwy_12r_msp 12r...  \n",
       "8   lndg_incident_taildragger incident_taildragger...  \n",
       "10  dark_janxa00_taxied janxa00_taxied_lear taxied...  "
      ]
     },
     "execution_count": 53,
     "metadata": {},
     "output_type": "execute_result"
    }
   ],
   "source": [
    "# Run preprocess on excursion\n",
    "df_excur['Narrative_trigram'] = df_excur['Narrative'].apply(preprocess_3gram)\n",
    "df_excur.head(5)"
   ]
  },
  {
   "cell_type": "code",
   "execution_count": 54,
   "metadata": {},
   "outputs": [
    {
     "name": "stdout",
     "output_type": "stream",
     "text": [
      "Best Model's Params:  {'n_components': 2}\n",
      "Best Log Likelihood Score:  -98178.96360423027\n",
      "Model Perplexity:  15081.755529159636\n",
      "(2466, 6) Index(['ACN', 'Narrative', 'Narrative_bigram', 'Topic_bigram',\n",
      "       'Narrative_trigram', 'Topic_trigram'],\n",
      "      dtype='object')\n"
     ]
    }
   ],
   "source": [
    "# Excursion\n",
    "count_vec, excur_vec, excur_model = optimize_lda(df_excur, 'Narrative_trigram')\n",
    "\n",
    "# Label based on topics\n",
    "df_excur = label_dom_topics(df_excur, excur_model, excur_vec, 'trigram')\n",
    "print(df_excur.shape, df_excur.columns)"
   ]
  },
  {
   "cell_type": "code",
   "execution_count": 55,
   "metadata": {},
   "outputs": [
    {
     "data": {
      "text/plain": [
       "0    1250\n",
       "1    1216\n",
       "Name: Topic_trigram, dtype: int64"
      ]
     },
     "execution_count": 55,
     "metadata": {},
     "output_type": "execute_result"
    }
   ],
   "source": [
    "df_excur['Topic_trigram'].value_counts()"
   ]
  },
  {
   "cell_type": "code",
   "execution_count": null,
   "metadata": {},
   "outputs": [],
   "source": [
    "# Get top 10 keywords from each topic\n",
    "excur_top10_3g = top_keywords(count_vec, excur_model, 10)\n",
    "# Get top 20 keywords from each topic\n",
    "excur_top20_3g = top_keywords(count_vec, excur_model, 20)"
   ]
  },
  {
   "cell_type": "code",
   "execution_count": null,
   "metadata": {},
   "outputs": [
    {
     "name": "stdout",
     "output_type": "stream",
     "text": [
      "Top 10 keywords for Topic #0: ['main_lndg_gear', 'nose_wheel_steering', 'main_landing_gear', 'braking_action_good', '180_deg_turn', 'supplemental_info_acn', 'right_side_runway', 'left_main_gear', 'back_onto_runway', 'left_side_runway']\n",
      "Next 10 keywords for Topic #0: ['narrative_contained_additional', 'right_main_gear', 'approach_end_runway', 'report_narrative_contained', 'aircraft_came_rest', 'full_right_rudder', 'came_complete_stop', 'r_side_rwy', 'contained_additional_information', 'hold_short_line']\n",
      "Top 10 keywords for Topic #1: ['left_side_runway', 'info_rptr_stated', 'right_main_gear', 'supplemental_info_acn', 'l_side_rwy', 'following_info_rptr', 'callback_conversation_rptr', 'conversation_rptr_revealed', 'rptr_revealed_following', 'revealed_following_info']\n",
      "Next 10 keywords for Topic #1: ['main_lndg_gear', 'acft_came_stop', 'right_side_runway', 'l_main_gear', 'hold_short_line', 'r_side_rwy', 'r_main_gear', 'full_r_rudder', 'aircraft_came_stop', 'rwy_edge_light']\n"
     ]
    }
   ],
   "source": [
    "print(f\"Top 10 keywords for Topic #0: {excur_top10_3g[0]}\")\n",
    "print(f\"Next 10 keywords for Topic #0: {list(set(excur_top20_3g[0]) - set(excur_top10_3g[0]))}\")\n",
    "print(f\"Top 10 keywords for Topic #1: {excur_top10_3g[1]}\")\n",
    "print(f\"Next 10 keywords for Topic #1: {list(set(excur_top20_3g[1]) - set(excur_top10_3g[1]))}\")"
   ]
  },
  {
   "attachments": {},
   "cell_type": "markdown",
   "metadata": {},
   "source": [
    "#### 3. Running 4gram with LDA"
   ]
  },
  {
   "cell_type": "code",
   "execution_count": 56,
   "metadata": {},
   "outputs": [
    {
     "data": {
      "text/html": [
       "<div>\n",
       "<style scoped>\n",
       "    .dataframe tbody tr th:only-of-type {\n",
       "        vertical-align: middle;\n",
       "    }\n",
       "\n",
       "    .dataframe tbody tr th {\n",
       "        vertical-align: top;\n",
       "    }\n",
       "\n",
       "    .dataframe thead th {\n",
       "        text-align: right;\n",
       "    }\n",
       "</style>\n",
       "<table border=\"1\" class=\"dataframe\">\n",
       "  <thead>\n",
       "    <tr style=\"text-align: right;\">\n",
       "      <th></th>\n",
       "      <th>ACN</th>\n",
       "      <th>Narrative</th>\n",
       "      <th>Narrative_bigram</th>\n",
       "      <th>Topic_bigram</th>\n",
       "      <th>Narrative_trigram</th>\n",
       "      <th>Topic_trigram</th>\n",
       "      <th>Narrative_4gram</th>\n",
       "    </tr>\n",
       "  </thead>\n",
       "  <tbody>\n",
       "    <tr>\n",
       "      <th>2</th>\n",
       "      <td>459389</td>\n",
       "      <td>CAPT WAS FLYING, I WAS IN THE R SEAT. AFTER LN...</td>\n",
       "      <td>capt_flying flying_r r_seat seat_lndg lndg_cdg...</td>\n",
       "      <td>1</td>\n",
       "      <td>capt_flying_r flying_r_seat r_seat_lndg seat_l...</td>\n",
       "      <td>0</td>\n",
       "      <td>capt_flying_r_seat flying_r_seat_lndg r_seat_l...</td>\n",
       "    </tr>\n",
       "    <tr>\n",
       "      <th>3</th>\n",
       "      <td>459407</td>\n",
       "      <td>ILS RWY 4 (SRB), CAPT FLYING. WX: 900 FT BROKE...</td>\n",
       "      <td>ils_rwy rwy_4 4_srb srb_capt capt_flying flyin...</td>\n",
       "      <td>1</td>\n",
       "      <td>ils_rwy_4 rwy_4_srb 4_srb_capt srb_capt_flying...</td>\n",
       "      <td>0</td>\n",
       "      <td>ils_rwy_4_srb rwy_4_srb_capt 4_srb_capt_flying...</td>\n",
       "    </tr>\n",
       "    <tr>\n",
       "      <th>5</th>\n",
       "      <td>459476</td>\n",
       "      <td>WE HAD JUST LANDED AND CLRED RWY 12R AT MSP. I...</td>\n",
       "      <td>landed_clred clred_rwy rwy_12r 12r_msp msp_con...</td>\n",
       "      <td>1</td>\n",
       "      <td>landed_clred_rwy clred_rwy_12r rwy_12r_msp 12r...</td>\n",
       "      <td>1</td>\n",
       "      <td>landed_clred_rwy_12r clred_rwy_12r_msp rwy_12r...</td>\n",
       "    </tr>\n",
       "    <tr>\n",
       "      <th>8</th>\n",
       "      <td>459603</td>\n",
       "      <td>LNDG INCIDENT IN TAILDRAGGER TYPE ACFT (1966 C...</td>\n",
       "      <td>lndg_incident incident_taildragger taildragger...</td>\n",
       "      <td>1</td>\n",
       "      <td>lndg_incident_taildragger incident_taildragger...</td>\n",
       "      <td>0</td>\n",
       "      <td>lndg_incident_taildragger_type incident_taildr...</td>\n",
       "    </tr>\n",
       "    <tr>\n",
       "      <th>10</th>\n",
       "      <td>459623</td>\n",
       "      <td>AFTER DARK ON JAN/XA/00, WE TAXIED OUR LEAR 31...</td>\n",
       "      <td>dark_janxa00 janxa00_taxied taxied_lear lear_3...</td>\n",
       "      <td>1</td>\n",
       "      <td>dark_janxa00_taxied janxa00_taxied_lear taxied...</td>\n",
       "      <td>0</td>\n",
       "      <td>dark_janxa00_taxied_lear janxa00_taxied_lear_3...</td>\n",
       "    </tr>\n",
       "  </tbody>\n",
       "</table>\n",
       "</div>"
      ],
      "text/plain": [
       "       ACN                                          Narrative  \\\n",
       "2   459389  CAPT WAS FLYING, I WAS IN THE R SEAT. AFTER LN...   \n",
       "3   459407  ILS RWY 4 (SRB), CAPT FLYING. WX: 900 FT BROKE...   \n",
       "5   459476  WE HAD JUST LANDED AND CLRED RWY 12R AT MSP. I...   \n",
       "8   459603  LNDG INCIDENT IN TAILDRAGGER TYPE ACFT (1966 C...   \n",
       "10  459623  AFTER DARK ON JAN/XA/00, WE TAXIED OUR LEAR 31...   \n",
       "\n",
       "                                     Narrative_bigram  Topic_bigram  \\\n",
       "2   capt_flying flying_r r_seat seat_lndg lndg_cdg...             1   \n",
       "3   ils_rwy rwy_4 4_srb srb_capt capt_flying flyin...             1   \n",
       "5   landed_clred clred_rwy rwy_12r 12r_msp msp_con...             1   \n",
       "8   lndg_incident incident_taildragger taildragger...             1   \n",
       "10  dark_janxa00 janxa00_taxied taxied_lear lear_3...             1   \n",
       "\n",
       "                                    Narrative_trigram  Topic_trigram  \\\n",
       "2   capt_flying_r flying_r_seat r_seat_lndg seat_l...              0   \n",
       "3   ils_rwy_4 rwy_4_srb 4_srb_capt srb_capt_flying...              0   \n",
       "5   landed_clred_rwy clred_rwy_12r rwy_12r_msp 12r...              1   \n",
       "8   lndg_incident_taildragger incident_taildragger...              0   \n",
       "10  dark_janxa00_taxied janxa00_taxied_lear taxied...              0   \n",
       "\n",
       "                                      Narrative_4gram  \n",
       "2   capt_flying_r_seat flying_r_seat_lndg r_seat_l...  \n",
       "3   ils_rwy_4_srb rwy_4_srb_capt 4_srb_capt_flying...  \n",
       "5   landed_clred_rwy_12r clred_rwy_12r_msp rwy_12r...  \n",
       "8   lndg_incident_taildragger_type incident_taildr...  \n",
       "10  dark_janxa00_taxied_lear janxa00_taxied_lear_3...  "
      ]
     },
     "execution_count": 56,
     "metadata": {},
     "output_type": "execute_result"
    }
   ],
   "source": [
    "# Run preprocess on excursion\n",
    "df_excur['Narrative_4gram'] = df_excur['Narrative'].apply(preprocess_4gram)\n",
    "df_excur.head(5)"
   ]
  },
  {
   "cell_type": "code",
   "execution_count": 57,
   "metadata": {},
   "outputs": [
    {
     "name": "stdout",
     "output_type": "stream",
     "text": [
      "Best Model's Params:  {'n_components': 2}\n",
      "Best Log Likelihood Score:  -15900.766770105587\n",
      "Model Perplexity:  3383.0160690311027\n",
      "(2466, 8) Index(['ACN', 'Narrative', 'Narrative_bigram', 'Topic_bigram',\n",
      "       'Narrative_trigram', 'Topic_trigram', 'Narrative_4gram', 'Topic_4gram'],\n",
      "      dtype='object')\n"
     ]
    }
   ],
   "source": [
    "# Excursion\n",
    "count_vec, excur_vec, excur_model = optimize_lda(df_excur, 'Narrative_4gram')\n",
    "\n",
    "# Label based on topics\n",
    "df_excur = label_dom_topics(df_excur, excur_model, excur_vec, '4gram')\n",
    "print(df_excur.shape, df_excur.columns)"
   ]
  },
  {
   "cell_type": "code",
   "execution_count": 58,
   "metadata": {},
   "outputs": [
    {
     "data": {
      "text/plain": [
       "0    1491\n",
       "1     975\n",
       "Name: Topic_4gram, dtype: int64"
      ]
     },
     "execution_count": 58,
     "metadata": {},
     "output_type": "execute_result"
    }
   ],
   "source": [
    "df_excur['Topic_4gram'].value_counts()"
   ]
  },
  {
   "cell_type": "code",
   "execution_count": null,
   "metadata": {},
   "outputs": [],
   "source": [
    "# Get top 10 keywords from each topic\n",
    "excur_top10_4g = top_keywords(count_vec, excur_model, 10)\n",
    "# Get top 20 keywords from each topic\n",
    "excur_top20_4g = top_keywords(count_vec, excur_model, 20)"
   ]
  },
  {
   "cell_type": "code",
   "execution_count": null,
   "metadata": {},
   "outputs": [
    {
     "name": "stdout",
     "output_type": "stream",
     "text": [
      "Top 10 keywords for Topic #0: ['full_power_go_around', 'bring_aircraft_complete_stop', 'departed_r_side_rwy', 'exited_right_side_runway', 'applied_full_left_rudder', 'kts_gusting_20_kts', 'left_main_landing_gear', 'aircraft_back_onto_runway', 'full_stop_taxi_back', 'right_main_landing_gear']\n",
      "Next 10 keywords for Topic #0: ['acft_departed_r_side', 'degs_20_kts_gusting', 'aircraft_departed_runway_left', 'maintain_directional_control_aircraft', 'taxi_back_onto_runway', 'aircraft_exited_right_side', 'applied_full_l_rudder', 'twr_clred_us_tkof', 'left_full_right_rudder', 'right_rudder_right_brake']\n",
      "Top 10 keywords for Topic #1: ['l_main_lndg_gear', 'r_main_lndg_gear', 'revealed_following_info_reporter', 'report_narrative_contained_additional', 'narrative_contained_additional_information', 'following_info_rptr_stated', 'revealed_following_info_rptr', 'callback_conversation_rptr_revealed', 'rptr_revealed_following_info', 'conversation_rptr_revealed_following']\n",
      "Next 10 keywords for Topic #1: ['following_info_reporter_stated', 'taxied_back_onto_runway', 'applied_full_r_rudder', 'make_180_deg_turn', 'r_turn_onto_txwy', 'damage_aircraft_airport_property', 'veered_left_side_runway', 'applied_full_right_rudder', 'tower_asked_needed_assistance', 'entered_left_downwind_runway']\n"
     ]
    }
   ],
   "source": [
    "print(f\"Top 10 keywords for Topic #0: {excur_top10_4g[0]}\")\n",
    "print(f\"Next 10 keywords for Topic #0: {list(set(excur_top20_4g[0]) - set(excur_top10_4g[0]))}\")\n",
    "print(f\"Top 10 keywords for Topic #1: {excur_top10_4g[1]}\")\n",
    "print(f\"Next 10 keywords for Topic #1: {list(set(excur_top20_4g[1]) - set(excur_top10_4g[1]))}\")"
   ]
  },
  {
   "attachments": {},
   "cell_type": "markdown",
   "metadata": {},
   "source": [
    "#### Run 5gram with LDA"
   ]
  },
  {
   "cell_type": "code",
   "execution_count": 59,
   "metadata": {},
   "outputs": [
    {
     "data": {
      "text/html": [
       "<div>\n",
       "<style scoped>\n",
       "    .dataframe tbody tr th:only-of-type {\n",
       "        vertical-align: middle;\n",
       "    }\n",
       "\n",
       "    .dataframe tbody tr th {\n",
       "        vertical-align: top;\n",
       "    }\n",
       "\n",
       "    .dataframe thead th {\n",
       "        text-align: right;\n",
       "    }\n",
       "</style>\n",
       "<table border=\"1\" class=\"dataframe\">\n",
       "  <thead>\n",
       "    <tr style=\"text-align: right;\">\n",
       "      <th></th>\n",
       "      <th>ACN</th>\n",
       "      <th>Narrative</th>\n",
       "      <th>Narrative_bigram</th>\n",
       "      <th>Topic_bigram</th>\n",
       "      <th>Narrative_trigram</th>\n",
       "      <th>Topic_trigram</th>\n",
       "      <th>Narrative_4gram</th>\n",
       "      <th>Topic_4gram</th>\n",
       "      <th>Narrative_5gram</th>\n",
       "    </tr>\n",
       "  </thead>\n",
       "  <tbody>\n",
       "    <tr>\n",
       "      <th>2</th>\n",
       "      <td>459389</td>\n",
       "      <td>CAPT WAS FLYING, I WAS IN THE R SEAT. AFTER LN...</td>\n",
       "      <td>capt_flying flying_r r_seat seat_lndg lndg_cdg...</td>\n",
       "      <td>1</td>\n",
       "      <td>capt_flying_r flying_r_seat r_seat_lndg seat_l...</td>\n",
       "      <td>0</td>\n",
       "      <td>capt_flying_r_seat flying_r_seat_lndg r_seat_l...</td>\n",
       "      <td>0</td>\n",
       "      <td>capt_flying_r_seat_lndg flying_r_seat_lndg_cdg...</td>\n",
       "    </tr>\n",
       "    <tr>\n",
       "      <th>3</th>\n",
       "      <td>459407</td>\n",
       "      <td>ILS RWY 4 (SRB), CAPT FLYING. WX: 900 FT BROKE...</td>\n",
       "      <td>ils_rwy rwy_4 4_srb srb_capt capt_flying flyin...</td>\n",
       "      <td>1</td>\n",
       "      <td>ils_rwy_4 rwy_4_srb 4_srb_capt srb_capt_flying...</td>\n",
       "      <td>0</td>\n",
       "      <td>ils_rwy_4_srb rwy_4_srb_capt 4_srb_capt_flying...</td>\n",
       "      <td>0</td>\n",
       "      <td>ils_rwy_4_srb_capt rwy_4_srb_capt_flying 4_srb...</td>\n",
       "    </tr>\n",
       "    <tr>\n",
       "      <th>5</th>\n",
       "      <td>459476</td>\n",
       "      <td>WE HAD JUST LANDED AND CLRED RWY 12R AT MSP. I...</td>\n",
       "      <td>landed_clred clred_rwy rwy_12r 12r_msp msp_con...</td>\n",
       "      <td>1</td>\n",
       "      <td>landed_clred_rwy clred_rwy_12r rwy_12r_msp 12r...</td>\n",
       "      <td>1</td>\n",
       "      <td>landed_clred_rwy_12r clred_rwy_12r_msp rwy_12r...</td>\n",
       "      <td>1</td>\n",
       "      <td>landed_clred_rwy_12r_msp clred_rwy_12r_msp_con...</td>\n",
       "    </tr>\n",
       "    <tr>\n",
       "      <th>8</th>\n",
       "      <td>459603</td>\n",
       "      <td>LNDG INCIDENT IN TAILDRAGGER TYPE ACFT (1966 C...</td>\n",
       "      <td>lndg_incident incident_taildragger taildragger...</td>\n",
       "      <td>1</td>\n",
       "      <td>lndg_incident_taildragger incident_taildragger...</td>\n",
       "      <td>0</td>\n",
       "      <td>lndg_incident_taildragger_type incident_taildr...</td>\n",
       "      <td>1</td>\n",
       "      <td>lndg_incident_taildragger_type_acft incident_t...</td>\n",
       "    </tr>\n",
       "    <tr>\n",
       "      <th>10</th>\n",
       "      <td>459623</td>\n",
       "      <td>AFTER DARK ON JAN/XA/00, WE TAXIED OUR LEAR 31...</td>\n",
       "      <td>dark_janxa00 janxa00_taxied taxied_lear lear_3...</td>\n",
       "      <td>1</td>\n",
       "      <td>dark_janxa00_taxied janxa00_taxied_lear taxied...</td>\n",
       "      <td>0</td>\n",
       "      <td>dark_janxa00_taxied_lear janxa00_taxied_lear_3...</td>\n",
       "      <td>0</td>\n",
       "      <td>dark_janxa00_taxied_lear_31 janxa00_taxied_lea...</td>\n",
       "    </tr>\n",
       "  </tbody>\n",
       "</table>\n",
       "</div>"
      ],
      "text/plain": [
       "       ACN                                          Narrative  \\\n",
       "2   459389  CAPT WAS FLYING, I WAS IN THE R SEAT. AFTER LN...   \n",
       "3   459407  ILS RWY 4 (SRB), CAPT FLYING. WX: 900 FT BROKE...   \n",
       "5   459476  WE HAD JUST LANDED AND CLRED RWY 12R AT MSP. I...   \n",
       "8   459603  LNDG INCIDENT IN TAILDRAGGER TYPE ACFT (1966 C...   \n",
       "10  459623  AFTER DARK ON JAN/XA/00, WE TAXIED OUR LEAR 31...   \n",
       "\n",
       "                                     Narrative_bigram  Topic_bigram  \\\n",
       "2   capt_flying flying_r r_seat seat_lndg lndg_cdg...             1   \n",
       "3   ils_rwy rwy_4 4_srb srb_capt capt_flying flyin...             1   \n",
       "5   landed_clred clred_rwy rwy_12r 12r_msp msp_con...             1   \n",
       "8   lndg_incident incident_taildragger taildragger...             1   \n",
       "10  dark_janxa00 janxa00_taxied taxied_lear lear_3...             1   \n",
       "\n",
       "                                    Narrative_trigram  Topic_trigram  \\\n",
       "2   capt_flying_r flying_r_seat r_seat_lndg seat_l...              0   \n",
       "3   ils_rwy_4 rwy_4_srb 4_srb_capt srb_capt_flying...              0   \n",
       "5   landed_clred_rwy clred_rwy_12r rwy_12r_msp 12r...              1   \n",
       "8   lndg_incident_taildragger incident_taildragger...              0   \n",
       "10  dark_janxa00_taxied janxa00_taxied_lear taxied...              0   \n",
       "\n",
       "                                      Narrative_4gram  Topic_4gram  \\\n",
       "2   capt_flying_r_seat flying_r_seat_lndg r_seat_l...            0   \n",
       "3   ils_rwy_4_srb rwy_4_srb_capt 4_srb_capt_flying...            0   \n",
       "5   landed_clred_rwy_12r clred_rwy_12r_msp rwy_12r...            1   \n",
       "8   lndg_incident_taildragger_type incident_taildr...            1   \n",
       "10  dark_janxa00_taxied_lear janxa00_taxied_lear_3...            0   \n",
       "\n",
       "                                      Narrative_5gram  \n",
       "2   capt_flying_r_seat_lndg flying_r_seat_lndg_cdg...  \n",
       "3   ils_rwy_4_srb_capt rwy_4_srb_capt_flying 4_srb...  \n",
       "5   landed_clred_rwy_12r_msp clred_rwy_12r_msp_con...  \n",
       "8   lndg_incident_taildragger_type_acft incident_t...  \n",
       "10  dark_janxa00_taxied_lear_31 janxa00_taxied_lea...  "
      ]
     },
     "execution_count": 59,
     "metadata": {},
     "output_type": "execute_result"
    }
   ],
   "source": [
    "# Run preprocess on excursion\n",
    "df_excur['Narrative_5gram'] = df_excur['Narrative'].apply(preprocess_5gram)\n",
    "df_excur.head(5)"
   ]
  },
  {
   "cell_type": "code",
   "execution_count": 60,
   "metadata": {},
   "outputs": [
    {
     "name": "stdout",
     "output_type": "stream",
     "text": [
      "Best Model's Params:  {'n_components': 2}\n",
      "Best Log Likelihood Score:  -3359.4695406483706\n",
      "Model Perplexity:  554.2617198158927\n",
      "(2466, 10) Index(['ACN', 'Narrative', 'Narrative_bigram', 'Topic_bigram',\n",
      "       'Narrative_trigram', 'Topic_trigram', 'Narrative_4gram', 'Topic_4gram',\n",
      "       'Narrative_5gram', 'Topic_5gram'],\n",
      "      dtype='object')\n"
     ]
    }
   ],
   "source": [
    "# Excursion\n",
    "count_vec, excur_vec, excur_model = optimize_lda(df_excur, 'Narrative_5gram')\n",
    "\n",
    "# Label based on topics\n",
    "df_excur = label_dom_topics(df_excur, excur_model, excur_vec, '5gram')\n",
    "print(df_excur.shape, df_excur.columns)"
   ]
  },
  {
   "cell_type": "code",
   "execution_count": 61,
   "metadata": {},
   "outputs": [
    {
     "data": {
      "text/plain": [
       "0    2248\n",
       "1     218\n",
       "Name: Topic_5gram, dtype: int64"
      ]
     },
     "execution_count": 61,
     "metadata": {},
     "output_type": "execute_result"
    }
   ],
   "source": [
    "df_excur['Topic_5gram'].value_counts()"
   ]
  },
  {
   "cell_type": "code",
   "execution_count": null,
   "metadata": {},
   "outputs": [],
   "source": [
    "# Get top 10 keywords from each topic\n",
    "excur_top10_5g = top_keywords(count_vec, excur_model, 10)\n",
    "# Get top 20 keywords from each topic\n",
    "excur_top20_5g = top_keywords(count_vec, excur_model, 20)"
   ]
  },
  {
   "cell_type": "code",
   "execution_count": null,
   "metadata": {},
   "outputs": [
    {
     "name": "stdout",
     "output_type": "stream",
     "text": [
      "Top 10 keywords for Topic #0: ['following_info_rptr_stated_acft', 'revealed_following_info_rptr_said', 'aircraft_exited_right_side_runway', 'following_info_rptr_stated_airplane', 'acft_departed_r_side_rwy', 'report_narrative_contained_additional_information', 'revealed_following_info_rptr_stated', 'rptr_revealed_following_info_rptr', 'callback_conversation_rptr_revealed_following', 'conversation_rptr_revealed_following_info']\n",
      "Next 10 keywords for Topic #0: ['following_info_rptr_stated_nose', 'aircraft_departed_left_side_runway', 'started_veer_left_applied_right', 'left_departed_left_side_runway', 'revealed_following_info_rptr_indicated', '10_kts_gusting_20_kts', 'applying_full_power_aircraft_started', 'twr_clred_us_tkof_rwy', 'veer_left_applied_right_rudder', 'rwy_callback_conversation_rptr_revealed']\n",
      "Top 10 keywords for Topic #1: ['20_kts_gusting_30_kts', '20_kts_gusting_25_kts', 'degs_20_kts_gusting_25', 'acft_departed_l_side_rwy', 'l_applied_full_r_rudder', 'left_main_gear_collapsed_aircraft', 'rptr_revealed_following_info_plt', 'full_r_rudder_full_r', 'revealed_following_info_reporter_stated', 'rptr_revealed_following_info_reporter']\n",
      "Next 10 keywords for Topic #1: ['immediately_applied_full_r_rudder', 'applied_full_r_rudder_full', 'able_taxi_back_onto_runway', 'r_rudder_full_r_brake', 'departed_runway_came_rest_grass', 'gust_wind_lifted_right_wing', 'tower_asked_needed_assistance_replied', 'full_left_rudder_left_brake', 'runway_tower_asked_needed_assistance', 'able_bring_aircraft_complete_stop']\n"
     ]
    }
   ],
   "source": [
    "print(f\"Top 10 keywords for Topic #0: {excur_top10_5g[0]}\")\n",
    "print(f\"Next 10 keywords for Topic #0: {list(set(excur_top20_5g[0]) - set(excur_top10_5g[0]))}\")\n",
    "print(f\"Top 10 keywords for Topic #1: {excur_top10_5g[1]}\")\n",
    "print(f\"Next 10 keywords for Topic #1: {list(set(excur_top20_5g[1]) - set(excur_top10_5g[1]))}\")"
   ]
  },
  {
   "attachments": {},
   "cell_type": "markdown",
   "metadata": {},
   "source": [
    "### Topic Model for instances where both incursion and excursion occurred\n",
    "Repeat all steps again"
   ]
  },
  {
   "attachments": {},
   "cell_type": "markdown",
   "metadata": {},
   "source": [
    "#### 1. Run bigram with LDA"
   ]
  },
  {
   "cell_type": "code",
   "execution_count": 62,
   "metadata": {},
   "outputs": [
    {
     "data": {
      "text/html": [
       "<div>\n",
       "<style scoped>\n",
       "    .dataframe tbody tr th:only-of-type {\n",
       "        vertical-align: middle;\n",
       "    }\n",
       "\n",
       "    .dataframe tbody tr th {\n",
       "        vertical-align: top;\n",
       "    }\n",
       "\n",
       "    .dataframe thead th {\n",
       "        text-align: right;\n",
       "    }\n",
       "</style>\n",
       "<table border=\"1\" class=\"dataframe\">\n",
       "  <thead>\n",
       "    <tr style=\"text-align: right;\">\n",
       "      <th></th>\n",
       "      <th>ACN</th>\n",
       "      <th>Narrative</th>\n",
       "      <th>Narrative_bigram</th>\n",
       "    </tr>\n",
       "  </thead>\n",
       "  <tbody>\n",
       "    <tr>\n",
       "      <th>0</th>\n",
       "      <td>473633</td>\n",
       "      <td>LNDG ON RWY 20 RIC, WINDS LIGHT AND DOWN THE R...</td>\n",
       "      <td>lndg_rwy rwy_20 20_ric ric_winds winds_light l...</td>\n",
       "    </tr>\n",
       "    <tr>\n",
       "      <th>1</th>\n",
       "      <td>481176</td>\n",
       "      <td>ACFT Z, AN A320, HAD JUST EXITED RWY 23 AT TXW...</td>\n",
       "      <td>acft_z z_a320 a320_exited exited_rwy rwy_23 23...</td>\n",
       "    </tr>\n",
       "    <tr>\n",
       "      <th>2</th>\n",
       "      <td>483919</td>\n",
       "      <td>CAMPAIGN STOP AT ERI. B727 PARKED ON GA RAMP. ...</td>\n",
       "      <td>campaign_stop stop_eri eri_b727 b727_parked pa...</td>\n",
       "    </tr>\n",
       "    <tr>\n",
       "      <th>3</th>\n",
       "      <td>492690</td>\n",
       "      <td>AFTER NORMAL LNDG ON RWY 31 AT BFI, CAPT BEGAN...</td>\n",
       "      <td>normal_lndg lndg_rwy rwy_31 31_bfi bfi_capt ca...</td>\n",
       "    </tr>\n",
       "    <tr>\n",
       "      <th>4</th>\n",
       "      <td>495620</td>\n",
       "      <td>AFTER LNDG ON RWY 33 IN BUR, WE WERE CLRED TO ...</td>\n",
       "      <td>lndg_rwy rwy_33 33_bur bur_clred clred_cross c...</td>\n",
       "    </tr>\n",
       "  </tbody>\n",
       "</table>\n",
       "</div>"
      ],
      "text/plain": [
       "      ACN                                          Narrative  \\\n",
       "0  473633  LNDG ON RWY 20 RIC, WINDS LIGHT AND DOWN THE R...   \n",
       "1  481176  ACFT Z, AN A320, HAD JUST EXITED RWY 23 AT TXW...   \n",
       "2  483919  CAMPAIGN STOP AT ERI. B727 PARKED ON GA RAMP. ...   \n",
       "3  492690  AFTER NORMAL LNDG ON RWY 31 AT BFI, CAPT BEGAN...   \n",
       "4  495620  AFTER LNDG ON RWY 33 IN BUR, WE WERE CLRED TO ...   \n",
       "\n",
       "                                    Narrative_bigram  \n",
       "0  lndg_rwy rwy_20 20_ric ric_winds winds_light l...  \n",
       "1  acft_z z_a320 a320_exited exited_rwy rwy_23 23...  \n",
       "2  campaign_stop stop_eri eri_b727 b727_parked pa...  \n",
       "3  normal_lndg lndg_rwy rwy_31 31_bfi bfi_capt ca...  \n",
       "4  lndg_rwy rwy_33 33_bur bur_clred clred_cross c...  "
      ]
     },
     "execution_count": 62,
     "metadata": {},
     "output_type": "execute_result"
    }
   ],
   "source": [
    "# Run preprocess on excursion\n",
    "df_both['Narrative_bigram'] = df_both['Narrative'].apply(preprocess_2gram)\n",
    "df_both.head(5)"
   ]
  },
  {
   "cell_type": "code",
   "execution_count": 63,
   "metadata": {},
   "outputs": [
    {
     "name": "stdout",
     "output_type": "stream",
     "text": [
      "Best Model's Params:  {'n_components': 2}\n",
      "Best Log Likelihood Score:  -3565.412521998158\n",
      "Model Perplexity:  770.652971452012\n",
      "(78, 4) Index(['ACN', 'Narrative', 'Narrative_bigram', 'Topic_bigram'], dtype='object')\n"
     ]
    }
   ],
   "source": [
    "# Both\n",
    "count_vec, both_vec, both_model = optimize_lda(df_both, 'Narrative_bigram')\n",
    "\n",
    "# Label based on topics\n",
    "df_both = label_dom_topics(df_both, both_model, both_vec, 'bigram')\n",
    "print(df_both.shape, df_both.columns)"
   ]
  },
  {
   "cell_type": "code",
   "execution_count": 64,
   "metadata": {},
   "outputs": [
    {
     "data": {
      "text/plain": [
       "1    47\n",
       "0    31\n",
       "Name: Topic_bigram, dtype: int64"
      ]
     },
     "execution_count": 64,
     "metadata": {},
     "output_type": "execute_result"
    }
   ],
   "source": [
    "df_both['Topic_bigram'].value_counts()"
   ]
  },
  {
   "cell_type": "code",
   "execution_count": null,
   "metadata": {},
   "outputs": [],
   "source": [
    "# Get top 10 keywords from each topic\n",
    "both_top10_2g = top_keywords(count_vec, both_model, 10)\n",
    "# Get top 20 keywords from each topic\n",
    "both_top20_2g = top_keywords(count_vec, both_model, 20)"
   ]
  },
  {
   "cell_type": "code",
   "execution_count": null,
   "metadata": {},
   "outputs": [
    {
     "name": "stdout",
     "output_type": "stream",
     "text": [
      "Top 10 keywords for Topic #0: ['taxiway_c', 'left_rudder', 'thrust_reversers', 'ramp_control', 'directional_control', 'nose_wheel', 'ground_control', 'runway_28r', 'aircraft_x', 'first_officer']\n",
      "Next 10 keywords for Topic #0: ['side_runway', 'onto_taxiway', 'landing_runway', 'taxi_light', 'airport_operations', 'active_runway', 'main_gear', 'aircraft_began', 'damage_aircraft', 'go_around']\n",
      "Top 10 keywords for Topic #1: ['left_brake', 'txwy_c', 'onto_txwy', 'taxi_back', 'twr_ctlr', 'runway_xx', 'lndg_rwy', 'acft_x', 'short_line', 'hold_short']\n",
      "Next 10 keywords for Topic #1: ['runway_xxl', 'base_rwy', 'taxied_back', 'onto_rwy', 'rwy_21', 'rwy_17', 'short_final', 'taxi_rwy', 'called_back', 'taxi_instructions']\n"
     ]
    }
   ],
   "source": [
    "print(f\"Top 10 keywords for Topic #0: {both_top10_2g[0]}\")\n",
    "print(f\"Next 10 keywords for Topic #0: {list(set(both_top20_2g[0]) - set(both_top10_2g[0]))}\")\n",
    "print(f\"Top 10 keywords for Topic #1: {both_top10_2g[1]}\")\n",
    "print(f\"Next 10 keywords for Topic #1: {list(set(both_top20_2g[1]) - set(both_top10_2g[1]))}\")"
   ]
  },
  {
   "attachments": {},
   "cell_type": "markdown",
   "metadata": {},
   "source": [
    "#### 2. Run trigram with LDA"
   ]
  },
  {
   "cell_type": "code",
   "execution_count": 65,
   "metadata": {},
   "outputs": [
    {
     "data": {
      "text/html": [
       "<div>\n",
       "<style scoped>\n",
       "    .dataframe tbody tr th:only-of-type {\n",
       "        vertical-align: middle;\n",
       "    }\n",
       "\n",
       "    .dataframe tbody tr th {\n",
       "        vertical-align: top;\n",
       "    }\n",
       "\n",
       "    .dataframe thead th {\n",
       "        text-align: right;\n",
       "    }\n",
       "</style>\n",
       "<table border=\"1\" class=\"dataframe\">\n",
       "  <thead>\n",
       "    <tr style=\"text-align: right;\">\n",
       "      <th></th>\n",
       "      <th>ACN</th>\n",
       "      <th>Narrative</th>\n",
       "      <th>Narrative_bigram</th>\n",
       "      <th>Topic_bigram</th>\n",
       "      <th>Narrative_trigram</th>\n",
       "    </tr>\n",
       "  </thead>\n",
       "  <tbody>\n",
       "    <tr>\n",
       "      <th>0</th>\n",
       "      <td>473633</td>\n",
       "      <td>LNDG ON RWY 20 RIC, WINDS LIGHT AND DOWN THE R...</td>\n",
       "      <td>lndg_rwy rwy_20 20_ric ric_winds winds_light l...</td>\n",
       "      <td>1</td>\n",
       "      <td>lndg_rwy_20 rwy_20_ric 20_ric_winds ric_winds_...</td>\n",
       "    </tr>\n",
       "    <tr>\n",
       "      <th>1</th>\n",
       "      <td>481176</td>\n",
       "      <td>ACFT Z, AN A320, HAD JUST EXITED RWY 23 AT TXW...</td>\n",
       "      <td>acft_z z_a320 a320_exited exited_rwy rwy_23 23...</td>\n",
       "      <td>1</td>\n",
       "      <td>acft_z_a320 z_a320_exited a320_exited_rwy exit...</td>\n",
       "    </tr>\n",
       "    <tr>\n",
       "      <th>2</th>\n",
       "      <td>483919</td>\n",
       "      <td>CAMPAIGN STOP AT ERI. B727 PARKED ON GA RAMP. ...</td>\n",
       "      <td>campaign_stop stop_eri eri_b727 b727_parked pa...</td>\n",
       "      <td>1</td>\n",
       "      <td>campaign_stop_eri stop_eri_b727 eri_b727_parke...</td>\n",
       "    </tr>\n",
       "    <tr>\n",
       "      <th>3</th>\n",
       "      <td>492690</td>\n",
       "      <td>AFTER NORMAL LNDG ON RWY 31 AT BFI, CAPT BEGAN...</td>\n",
       "      <td>normal_lndg lndg_rwy rwy_31 31_bfi bfi_capt ca...</td>\n",
       "      <td>1</td>\n",
       "      <td>normal_lndg_rwy lndg_rwy_31 rwy_31_bfi 31_bfi_...</td>\n",
       "    </tr>\n",
       "    <tr>\n",
       "      <th>4</th>\n",
       "      <td>495620</td>\n",
       "      <td>AFTER LNDG ON RWY 33 IN BUR, WE WERE CLRED TO ...</td>\n",
       "      <td>lndg_rwy rwy_33 33_bur bur_clred clred_cross c...</td>\n",
       "      <td>1</td>\n",
       "      <td>lndg_rwy_33 rwy_33_bur 33_bur_clred bur_clred_...</td>\n",
       "    </tr>\n",
       "  </tbody>\n",
       "</table>\n",
       "</div>"
      ],
      "text/plain": [
       "      ACN                                          Narrative  \\\n",
       "0  473633  LNDG ON RWY 20 RIC, WINDS LIGHT AND DOWN THE R...   \n",
       "1  481176  ACFT Z, AN A320, HAD JUST EXITED RWY 23 AT TXW...   \n",
       "2  483919  CAMPAIGN STOP AT ERI. B727 PARKED ON GA RAMP. ...   \n",
       "3  492690  AFTER NORMAL LNDG ON RWY 31 AT BFI, CAPT BEGAN...   \n",
       "4  495620  AFTER LNDG ON RWY 33 IN BUR, WE WERE CLRED TO ...   \n",
       "\n",
       "                                    Narrative_bigram  Topic_bigram  \\\n",
       "0  lndg_rwy rwy_20 20_ric ric_winds winds_light l...             1   \n",
       "1  acft_z z_a320 a320_exited exited_rwy rwy_23 23...             1   \n",
       "2  campaign_stop stop_eri eri_b727 b727_parked pa...             1   \n",
       "3  normal_lndg lndg_rwy rwy_31 31_bfi bfi_capt ca...             1   \n",
       "4  lndg_rwy rwy_33 33_bur bur_clred clred_cross c...             1   \n",
       "\n",
       "                                   Narrative_trigram  \n",
       "0  lndg_rwy_20 rwy_20_ric 20_ric_winds ric_winds_...  \n",
       "1  acft_z_a320 z_a320_exited a320_exited_rwy exit...  \n",
       "2  campaign_stop_eri stop_eri_b727 eri_b727_parke...  \n",
       "3  normal_lndg_rwy lndg_rwy_31 rwy_31_bfi 31_bfi_...  \n",
       "4  lndg_rwy_33 rwy_33_bur 33_bur_clred bur_clred_...  "
      ]
     },
     "execution_count": 65,
     "metadata": {},
     "output_type": "execute_result"
    }
   ],
   "source": [
    "# Run preprocess on excursion\n",
    "df_both['Narrative_trigram'] = df_both['Narrative'].apply(preprocess_3gram)\n",
    "df_both.head(5)"
   ]
  },
  {
   "cell_type": "code",
   "execution_count": 66,
   "metadata": {},
   "outputs": [
    {
     "name": "stdout",
     "output_type": "stream",
     "text": [
      "Best Model's Params:  {'n_components': 2}\n",
      "Best Log Likelihood Score:  -236.73343939780074\n",
      "Model Perplexity:  92.99212630553704\n",
      "(78, 6) Index(['ACN', 'Narrative', 'Narrative_bigram', 'Topic_bigram',\n",
      "       'Narrative_trigram', 'Topic_trigram'],\n",
      "      dtype='object')\n"
     ]
    }
   ],
   "source": [
    "# Both\n",
    "count_vec, both_vec, both_model = optimize_lda(df_both, 'Narrative_trigram')\n",
    "\n",
    "# Label based on topics\n",
    "df_both = label_dom_topics(df_both, both_model, both_vec, 'trigram')\n",
    "print(df_both.shape, df_both.columns)"
   ]
  },
  {
   "cell_type": "code",
   "execution_count": 67,
   "metadata": {},
   "outputs": [
    {
     "data": {
      "text/plain": [
       "0    51\n",
       "1    27\n",
       "Name: Topic_trigram, dtype: int64"
      ]
     },
     "execution_count": 67,
     "metadata": {},
     "output_type": "execute_result"
    }
   ],
   "source": [
    "df_both['Topic_trigram'].value_counts()"
   ]
  },
  {
   "cell_type": "code",
   "execution_count": null,
   "metadata": {},
   "outputs": [],
   "source": [
    "# Get top 10 keywords from each topic\n",
    "both_top10_3g = top_keywords(count_vec, both_model, 10)\n",
    "# Get top 20 keywords from each topic\n",
    "both_top20_3g = top_keywords(count_vec, both_model, 20)"
   ]
  },
  {
   "cell_type": "code",
   "execution_count": null,
   "metadata": {},
   "outputs": [
    {
     "name": "stdout",
     "output_type": "stream",
     "text": [
      "Top 10 keywords for Topic #0: ['crossed_hold_short', 'short_line_applied', 'applied_brakes_stop', 'brakes_stop_plane', 'supplemental_info_acn', 'came_full_stop', 'taxi_back_ramp', 'runway_hold_short', 'hold_short_runway', 'hold_short_line']\n",
      "Next 10 keywords for Topic #0: ['right_main_gear', 'short_line_runway', 'first_officer_made', 'best_course_action', 'airplane_complete_stop', 'brought_airplane_complete', 'stop_hold_short', 'applied_full_left', 'pulled_hold_short', 'left_main_gear']\n",
      "Top 10 keywords for Topic #1: ['r_base_rwy', 'upon_exiting_rwy', 'revealed_following_info', 'rptr_revealed_following', 'conversation_rptr_revealed', 'callback_conversation_rptr', 'onto_txwy_c', 'turned_onto_txwy', 'hold_short_rwy', 'ifr_flt_plan']\n",
      "Next 10 keywords for Topic #1: ['gnd_ctl_told', 'filed_ifr_flt', 'edge_paved_runway', 'turning_base_final', 'turn_onto_txwy', 'commercial_chart_pages', 'approx_200_ft', 'applied_full_brakes', 'holding_short_rwy', 'taxi_lights_damage']\n"
     ]
    }
   ],
   "source": [
    "print(f\"Top 10 keywords for Topic #0: {both_top10_3g[0]}\")\n",
    "print(f\"Next 10 keywords for Topic #0: {list(set(both_top20_3g[0]) - set(both_top10_3g[0]))}\")\n",
    "print(f\"Top 10 keywords for Topic #1: {both_top10_3g[1]}\")\n",
    "print(f\"Next 10 keywords for Topic #1: {list(set(both_top20_3g[1]) - set(both_top10_3g[1]))}\")"
   ]
  },
  {
   "attachments": {},
   "cell_type": "markdown",
   "metadata": {},
   "source": [
    "#### 3. Run 4gram with LDA"
   ]
  },
  {
   "cell_type": "code",
   "execution_count": 68,
   "metadata": {},
   "outputs": [
    {
     "data": {
      "text/html": [
       "<div>\n",
       "<style scoped>\n",
       "    .dataframe tbody tr th:only-of-type {\n",
       "        vertical-align: middle;\n",
       "    }\n",
       "\n",
       "    .dataframe tbody tr th {\n",
       "        vertical-align: top;\n",
       "    }\n",
       "\n",
       "    .dataframe thead th {\n",
       "        text-align: right;\n",
       "    }\n",
       "</style>\n",
       "<table border=\"1\" class=\"dataframe\">\n",
       "  <thead>\n",
       "    <tr style=\"text-align: right;\">\n",
       "      <th></th>\n",
       "      <th>ACN</th>\n",
       "      <th>Narrative</th>\n",
       "      <th>Narrative_bigram</th>\n",
       "      <th>Topic_bigram</th>\n",
       "      <th>Narrative_trigram</th>\n",
       "      <th>Topic_trigram</th>\n",
       "      <th>Narrative_4gram</th>\n",
       "    </tr>\n",
       "  </thead>\n",
       "  <tbody>\n",
       "    <tr>\n",
       "      <th>0</th>\n",
       "      <td>473633</td>\n",
       "      <td>LNDG ON RWY 20 RIC, WINDS LIGHT AND DOWN THE R...</td>\n",
       "      <td>lndg_rwy rwy_20 20_ric ric_winds winds_light l...</td>\n",
       "      <td>1</td>\n",
       "      <td>lndg_rwy_20 rwy_20_ric 20_ric_winds ric_winds_...</td>\n",
       "      <td>1</td>\n",
       "      <td>lndg_rwy_20_ric rwy_20_ric_winds 20_ric_winds_...</td>\n",
       "    </tr>\n",
       "    <tr>\n",
       "      <th>1</th>\n",
       "      <td>481176</td>\n",
       "      <td>ACFT Z, AN A320, HAD JUST EXITED RWY 23 AT TXW...</td>\n",
       "      <td>acft_z z_a320 a320_exited exited_rwy rwy_23 23...</td>\n",
       "      <td>1</td>\n",
       "      <td>acft_z_a320 z_a320_exited a320_exited_rwy exit...</td>\n",
       "      <td>0</td>\n",
       "      <td>acft_z_a320_exited z_a320_exited_rwy a320_exit...</td>\n",
       "    </tr>\n",
       "    <tr>\n",
       "      <th>2</th>\n",
       "      <td>483919</td>\n",
       "      <td>CAMPAIGN STOP AT ERI. B727 PARKED ON GA RAMP. ...</td>\n",
       "      <td>campaign_stop stop_eri eri_b727 b727_parked pa...</td>\n",
       "      <td>1</td>\n",
       "      <td>campaign_stop_eri stop_eri_b727 eri_b727_parke...</td>\n",
       "      <td>0</td>\n",
       "      <td>campaign_stop_eri_b727 stop_eri_b727_parked er...</td>\n",
       "    </tr>\n",
       "    <tr>\n",
       "      <th>3</th>\n",
       "      <td>492690</td>\n",
       "      <td>AFTER NORMAL LNDG ON RWY 31 AT BFI, CAPT BEGAN...</td>\n",
       "      <td>normal_lndg lndg_rwy rwy_31 31_bfi bfi_capt ca...</td>\n",
       "      <td>1</td>\n",
       "      <td>normal_lndg_rwy lndg_rwy_31 rwy_31_bfi 31_bfi_...</td>\n",
       "      <td>0</td>\n",
       "      <td>normal_lndg_rwy_31 lndg_rwy_31_bfi rwy_31_bfi_...</td>\n",
       "    </tr>\n",
       "    <tr>\n",
       "      <th>4</th>\n",
       "      <td>495620</td>\n",
       "      <td>AFTER LNDG ON RWY 33 IN BUR, WE WERE CLRED TO ...</td>\n",
       "      <td>lndg_rwy rwy_33 33_bur bur_clred clred_cross c...</td>\n",
       "      <td>1</td>\n",
       "      <td>lndg_rwy_33 rwy_33_bur 33_bur_clred bur_clred_...</td>\n",
       "      <td>1</td>\n",
       "      <td>lndg_rwy_33_bur rwy_33_bur_clred 33_bur_clred_...</td>\n",
       "    </tr>\n",
       "  </tbody>\n",
       "</table>\n",
       "</div>"
      ],
      "text/plain": [
       "      ACN                                          Narrative  \\\n",
       "0  473633  LNDG ON RWY 20 RIC, WINDS LIGHT AND DOWN THE R...   \n",
       "1  481176  ACFT Z, AN A320, HAD JUST EXITED RWY 23 AT TXW...   \n",
       "2  483919  CAMPAIGN STOP AT ERI. B727 PARKED ON GA RAMP. ...   \n",
       "3  492690  AFTER NORMAL LNDG ON RWY 31 AT BFI, CAPT BEGAN...   \n",
       "4  495620  AFTER LNDG ON RWY 33 IN BUR, WE WERE CLRED TO ...   \n",
       "\n",
       "                                    Narrative_bigram  Topic_bigram  \\\n",
       "0  lndg_rwy rwy_20 20_ric ric_winds winds_light l...             1   \n",
       "1  acft_z z_a320 a320_exited exited_rwy rwy_23 23...             1   \n",
       "2  campaign_stop stop_eri eri_b727 b727_parked pa...             1   \n",
       "3  normal_lndg lndg_rwy rwy_31 31_bfi bfi_capt ca...             1   \n",
       "4  lndg_rwy rwy_33 33_bur bur_clred clred_cross c...             1   \n",
       "\n",
       "                                   Narrative_trigram  Topic_trigram  \\\n",
       "0  lndg_rwy_20 rwy_20_ric 20_ric_winds ric_winds_...              1   \n",
       "1  acft_z_a320 z_a320_exited a320_exited_rwy exit...              0   \n",
       "2  campaign_stop_eri stop_eri_b727 eri_b727_parke...              0   \n",
       "3  normal_lndg_rwy lndg_rwy_31 rwy_31_bfi 31_bfi_...              0   \n",
       "4  lndg_rwy_33 rwy_33_bur 33_bur_clred bur_clred_...              1   \n",
       "\n",
       "                                     Narrative_4gram  \n",
       "0  lndg_rwy_20_ric rwy_20_ric_winds 20_ric_winds_...  \n",
       "1  acft_z_a320_exited z_a320_exited_rwy a320_exit...  \n",
       "2  campaign_stop_eri_b727 stop_eri_b727_parked er...  \n",
       "3  normal_lndg_rwy_31 lndg_rwy_31_bfi rwy_31_bfi_...  \n",
       "4  lndg_rwy_33_bur rwy_33_bur_clred 33_bur_clred_...  "
      ]
     },
     "execution_count": 68,
     "metadata": {},
     "output_type": "execute_result"
    }
   ],
   "source": [
    "# Run preprocess on excursion\n",
    "df_both['Narrative_4gram'] = df_both['Narrative'].apply(preprocess_4gram)\n",
    "df_both.head(5)"
   ]
  },
  {
   "cell_type": "code",
   "execution_count": 69,
   "metadata": {},
   "outputs": [
    {
     "name": "stdout",
     "output_type": "stream",
     "text": [
      "Best Model's Params:  {'n_components': 2}\n",
      "Best Log Likelihood Score:  -25.5282500858868\n",
      "Model Perplexity:  18.123104365466453\n",
      "(78, 8) Index(['ACN', 'Narrative', 'Narrative_bigram', 'Topic_bigram',\n",
      "       'Narrative_trigram', 'Topic_trigram', 'Narrative_4gram', 'Topic_4gram'],\n",
      "      dtype='object')\n"
     ]
    }
   ],
   "source": [
    "# Both\n",
    "count_vec, both_vec, both_model = optimize_lda(df_both, 'Narrative_4gram')\n",
    "\n",
    "# Label based on topics\n",
    "df_both = label_dom_topics(df_both, both_model, both_vec, '4gram')\n",
    "print(df_both.shape, df_both.columns)"
   ]
  },
  {
   "cell_type": "code",
   "execution_count": 70,
   "metadata": {},
   "outputs": [
    {
     "data": {
      "text/plain": [
       "0    71\n",
       "1     7\n",
       "Name: Topic_4gram, dtype: int64"
      ]
     },
     "execution_count": 70,
     "metadata": {},
     "output_type": "execute_result"
    }
   ],
   "source": [
    "df_both['Topic_4gram'].value_counts()"
   ]
  },
  {
   "cell_type": "code",
   "execution_count": null,
   "metadata": {},
   "outputs": [],
   "source": [
    "# Get top 10 keywords from each topic\n",
    "both_top10_4g = top_keywords(count_vec, both_model, 10)\n",
    "# Get top 20 keywords from each topic\n",
    "both_top20_4g = top_keywords(count_vec, both_model, 20)"
   ]
  },
  {
   "cell_type": "code",
   "execution_count": null,
   "metadata": {},
   "outputs": [
    {
     "name": "stdout",
     "output_type": "stream",
     "text": [
      "Top 10 keywords for Topic #0: ['conversation_rptr_revealed_following', 'brought_airplane_complete_stop', 'filed_ifr_flt_plan', 'pulled_hold_short_line', 'hold_short_line_runway', 'crossed_hold_short_line', 'stop_hold_short_line', 'hold_short_line_applied', 'applied_brakes_stop_plane', 'runway_hold_short_line']\n",
      "Next 10 keywords for Topic #0: ['rptr_revealed_following_info', 'callback_conversation_rptr_revealed']\n",
      "Top 10 keywords for Topic #1: ['runway_hold_short_line', 'stop_hold_short_line', 'crossed_hold_short_line', 'hold_short_line_runway', 'pulled_hold_short_line', 'filed_ifr_flt_plan', 'brought_airplane_complete_stop', 'conversation_rptr_revealed_following', 'callback_conversation_rptr_revealed', 'rptr_revealed_following_info']\n",
      "Next 10 keywords for Topic #1: ['applied_brakes_stop_plane', 'hold_short_line_applied']\n"
     ]
    }
   ],
   "source": [
    "print(f\"Top 10 keywords for Topic #0: {both_top10_4g[0]}\")\n",
    "print(f\"Next 10 keywords for Topic #0: {list(set(both_top20_4g[0]) - set(both_top10_4g[0]))}\")\n",
    "print(f\"Top 10 keywords for Topic #1: {both_top10_4g[1]}\")\n",
    "print(f\"Next 10 keywords for Topic #1: {list(set(both_top20_4g[1]) - set(both_top10_4g[1]))}\")"
   ]
  },
  {
   "attachments": {},
   "cell_type": "markdown",
   "metadata": {},
   "source": [
    "#### 4. Run 5gram with LDA"
   ]
  },
  {
   "cell_type": "code",
   "execution_count": 71,
   "metadata": {},
   "outputs": [
    {
     "data": {
      "text/html": [
       "<div>\n",
       "<style scoped>\n",
       "    .dataframe tbody tr th:only-of-type {\n",
       "        vertical-align: middle;\n",
       "    }\n",
       "\n",
       "    .dataframe tbody tr th {\n",
       "        vertical-align: top;\n",
       "    }\n",
       "\n",
       "    .dataframe thead th {\n",
       "        text-align: right;\n",
       "    }\n",
       "</style>\n",
       "<table border=\"1\" class=\"dataframe\">\n",
       "  <thead>\n",
       "    <tr style=\"text-align: right;\">\n",
       "      <th></th>\n",
       "      <th>ACN</th>\n",
       "      <th>Narrative</th>\n",
       "      <th>Narrative_bigram</th>\n",
       "      <th>Topic_bigram</th>\n",
       "      <th>Narrative_trigram</th>\n",
       "      <th>Topic_trigram</th>\n",
       "      <th>Narrative_4gram</th>\n",
       "      <th>Topic_4gram</th>\n",
       "      <th>Narrative_5gram</th>\n",
       "    </tr>\n",
       "  </thead>\n",
       "  <tbody>\n",
       "    <tr>\n",
       "      <th>0</th>\n",
       "      <td>473633</td>\n",
       "      <td>LNDG ON RWY 20 RIC, WINDS LIGHT AND DOWN THE R...</td>\n",
       "      <td>lndg_rwy rwy_20 20_ric ric_winds winds_light l...</td>\n",
       "      <td>1</td>\n",
       "      <td>lndg_rwy_20 rwy_20_ric 20_ric_winds ric_winds_...</td>\n",
       "      <td>1</td>\n",
       "      <td>lndg_rwy_20_ric rwy_20_ric_winds 20_ric_winds_...</td>\n",
       "      <td>1</td>\n",
       "      <td>lndg_rwy_20_ric_winds rwy_20_ric_winds_light 2...</td>\n",
       "    </tr>\n",
       "    <tr>\n",
       "      <th>1</th>\n",
       "      <td>481176</td>\n",
       "      <td>ACFT Z, AN A320, HAD JUST EXITED RWY 23 AT TXW...</td>\n",
       "      <td>acft_z z_a320 a320_exited exited_rwy rwy_23 23...</td>\n",
       "      <td>1</td>\n",
       "      <td>acft_z_a320 z_a320_exited a320_exited_rwy exit...</td>\n",
       "      <td>0</td>\n",
       "      <td>acft_z_a320_exited z_a320_exited_rwy a320_exit...</td>\n",
       "      <td>0</td>\n",
       "      <td>acft_z_a320_exited_rwy z_a320_exited_rwy_23 a3...</td>\n",
       "    </tr>\n",
       "    <tr>\n",
       "      <th>2</th>\n",
       "      <td>483919</td>\n",
       "      <td>CAMPAIGN STOP AT ERI. B727 PARKED ON GA RAMP. ...</td>\n",
       "      <td>campaign_stop stop_eri eri_b727 b727_parked pa...</td>\n",
       "      <td>1</td>\n",
       "      <td>campaign_stop_eri stop_eri_b727 eri_b727_parke...</td>\n",
       "      <td>0</td>\n",
       "      <td>campaign_stop_eri_b727 stop_eri_b727_parked er...</td>\n",
       "      <td>0</td>\n",
       "      <td>campaign_stop_eri_b727_parked stop_eri_b727_pa...</td>\n",
       "    </tr>\n",
       "    <tr>\n",
       "      <th>3</th>\n",
       "      <td>492690</td>\n",
       "      <td>AFTER NORMAL LNDG ON RWY 31 AT BFI, CAPT BEGAN...</td>\n",
       "      <td>normal_lndg lndg_rwy rwy_31 31_bfi bfi_capt ca...</td>\n",
       "      <td>1</td>\n",
       "      <td>normal_lndg_rwy lndg_rwy_31 rwy_31_bfi 31_bfi_...</td>\n",
       "      <td>0</td>\n",
       "      <td>normal_lndg_rwy_31 lndg_rwy_31_bfi rwy_31_bfi_...</td>\n",
       "      <td>0</td>\n",
       "      <td>normal_lndg_rwy_31_bfi lndg_rwy_31_bfi_capt rw...</td>\n",
       "    </tr>\n",
       "    <tr>\n",
       "      <th>4</th>\n",
       "      <td>495620</td>\n",
       "      <td>AFTER LNDG ON RWY 33 IN BUR, WE WERE CLRED TO ...</td>\n",
       "      <td>lndg_rwy rwy_33 33_bur bur_clred clred_cross c...</td>\n",
       "      <td>1</td>\n",
       "      <td>lndg_rwy_33 rwy_33_bur 33_bur_clred bur_clred_...</td>\n",
       "      <td>1</td>\n",
       "      <td>lndg_rwy_33_bur rwy_33_bur_clred 33_bur_clred_...</td>\n",
       "      <td>0</td>\n",
       "      <td>lndg_rwy_33_bur_clred rwy_33_bur_clred_cross 3...</td>\n",
       "    </tr>\n",
       "  </tbody>\n",
       "</table>\n",
       "</div>"
      ],
      "text/plain": [
       "      ACN                                          Narrative  \\\n",
       "0  473633  LNDG ON RWY 20 RIC, WINDS LIGHT AND DOWN THE R...   \n",
       "1  481176  ACFT Z, AN A320, HAD JUST EXITED RWY 23 AT TXW...   \n",
       "2  483919  CAMPAIGN STOP AT ERI. B727 PARKED ON GA RAMP. ...   \n",
       "3  492690  AFTER NORMAL LNDG ON RWY 31 AT BFI, CAPT BEGAN...   \n",
       "4  495620  AFTER LNDG ON RWY 33 IN BUR, WE WERE CLRED TO ...   \n",
       "\n",
       "                                    Narrative_bigram  Topic_bigram  \\\n",
       "0  lndg_rwy rwy_20 20_ric ric_winds winds_light l...             1   \n",
       "1  acft_z z_a320 a320_exited exited_rwy rwy_23 23...             1   \n",
       "2  campaign_stop stop_eri eri_b727 b727_parked pa...             1   \n",
       "3  normal_lndg lndg_rwy rwy_31 31_bfi bfi_capt ca...             1   \n",
       "4  lndg_rwy rwy_33 33_bur bur_clred clred_cross c...             1   \n",
       "\n",
       "                                   Narrative_trigram  Topic_trigram  \\\n",
       "0  lndg_rwy_20 rwy_20_ric 20_ric_winds ric_winds_...              1   \n",
       "1  acft_z_a320 z_a320_exited a320_exited_rwy exit...              0   \n",
       "2  campaign_stop_eri stop_eri_b727 eri_b727_parke...              0   \n",
       "3  normal_lndg_rwy lndg_rwy_31 rwy_31_bfi 31_bfi_...              0   \n",
       "4  lndg_rwy_33 rwy_33_bur 33_bur_clred bur_clred_...              1   \n",
       "\n",
       "                                     Narrative_4gram  Topic_4gram  \\\n",
       "0  lndg_rwy_20_ric rwy_20_ric_winds 20_ric_winds_...            1   \n",
       "1  acft_z_a320_exited z_a320_exited_rwy a320_exit...            0   \n",
       "2  campaign_stop_eri_b727 stop_eri_b727_parked er...            0   \n",
       "3  normal_lndg_rwy_31 lndg_rwy_31_bfi rwy_31_bfi_...            0   \n",
       "4  lndg_rwy_33_bur rwy_33_bur_clred 33_bur_clred_...            0   \n",
       "\n",
       "                                     Narrative_5gram  \n",
       "0  lndg_rwy_20_ric_winds rwy_20_ric_winds_light 2...  \n",
       "1  acft_z_a320_exited_rwy z_a320_exited_rwy_23 a3...  \n",
       "2  campaign_stop_eri_b727_parked stop_eri_b727_pa...  \n",
       "3  normal_lndg_rwy_31_bfi lndg_rwy_31_bfi_capt rw...  \n",
       "4  lndg_rwy_33_bur_clred rwy_33_bur_clred_cross 3...  "
      ]
     },
     "execution_count": 71,
     "metadata": {},
     "output_type": "execute_result"
    }
   ],
   "source": [
    "# Run preprocess on excursion\n",
    "df_both['Narrative_5gram'] = df_both['Narrative'].apply(preprocess_5gram)\n",
    "df_both.head(5)"
   ]
  },
  {
   "cell_type": "code",
   "execution_count": 72,
   "metadata": {},
   "outputs": [
    {
     "name": "stdout",
     "output_type": "stream",
     "text": [
      "Best Model's Params:  {'n_components': 2}\n",
      "Best Log Likelihood Score:  -2.1749312553644735\n",
      "Model Perplexity:  3.7297393626807835\n",
      "(78, 10) Index(['ACN', 'Narrative', 'Narrative_bigram', 'Topic_bigram',\n",
      "       'Narrative_trigram', 'Topic_trigram', 'Narrative_4gram', 'Topic_4gram',\n",
      "       'Narrative_5gram', 'Topic_5gram'],\n",
      "      dtype='object')\n"
     ]
    }
   ],
   "source": [
    "# Both\n",
    "count_vec, both_vec, both_model = optimize_lda(df_both, 'Narrative_5gram')\n",
    "\n",
    "# Label based on topics\n",
    "df_both = label_dom_topics(df_both, both_model, both_vec, '5gram')\n",
    "print(df_both.shape, df_both.columns)"
   ]
  },
  {
   "cell_type": "code",
   "execution_count": 73,
   "metadata": {},
   "outputs": [
    {
     "data": {
      "text/plain": [
       "0    78\n",
       "Name: Topic_5gram, dtype: int64"
      ]
     },
     "execution_count": 73,
     "metadata": {},
     "output_type": "execute_result"
    }
   ],
   "source": [
    "df_both['Topic_5gram'].value_counts()"
   ]
  },
  {
   "cell_type": "code",
   "execution_count": null,
   "metadata": {},
   "outputs": [],
   "source": [
    "# Get top 10 keywords from each topic\n",
    "both_top10_5g = top_keywords(count_vec, both_model, 10)\n",
    "# Get top 20 keywords from each topic\n",
    "both_top20_5g = top_keywords(count_vec, both_model, 20)"
   ]
  },
  {
   "cell_type": "code",
   "execution_count": null,
   "metadata": {},
   "outputs": [
    {
     "name": "stdout",
     "output_type": "stream",
     "text": [
      "Top 10 keywords for Topic #0: ['callback_conversation_rptr_revealed_following', 'conversation_rptr_revealed_following_info']\n",
      "Next 10 keywords for Topic #0: []\n",
      "Top 10 keywords for Topic #1: ['conversation_rptr_revealed_following_info', 'callback_conversation_rptr_revealed_following']\n",
      "Next 10 keywords for Topic #1: []\n"
     ]
    }
   ],
   "source": [
    "print(f\"Top 10 keywords for Topic #0: {both_top10_5g[0]}\")\n",
    "print(f\"Next 10 keywords for Topic #0: {list(set(both_top20_5g[0]) - set(both_top10_5g[0]))}\")\n",
    "print(f\"Top 10 keywords for Topic #1: {both_top10_5g[1]}\")\n",
    "print(f\"Next 10 keywords for Topic #1: {list(set(both_top20_5g[1]) - set(both_top10_5g[1]))}\")"
   ]
  }
 ],
 "metadata": {
  "kernelspec": {
   "display_name": "base",
   "language": "python",
   "name": "python3"
  },
  "language_info": {
   "codemirror_mode": {
    "name": "ipython",
    "version": 3
   },
   "file_extension": ".py",
   "mimetype": "text/x-python",
   "name": "python",
   "nbconvert_exporter": "python",
   "pygments_lexer": "ipython3",
   "version": "3.9.15"
  },
  "orig_nbformat": 4
 },
 "nbformat": 4,
 "nbformat_minor": 2
}
