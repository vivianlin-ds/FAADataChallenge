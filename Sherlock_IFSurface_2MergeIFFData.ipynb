{
 "cells": [
  {
   "cell_type": "code",
   "execution_count": 1,
   "metadata": {},
   "outputs": [],
   "source": [
    "import pandas as pd\n",
    "import numpy as np\n",
    "import matplotlib.pyplot as plt\n",
    "import seaborn as sns"
   ]
  },
  {
   "cell_type": "code",
   "execution_count": 2,
   "metadata": {},
   "outputs": [],
   "source": [
    "def sameval_cols(df):\n",
    "    \"\"\"\n",
    "    Display columns if all values in the column are the same\n",
    "    \"\"\"\n",
    "    nunique = df.nunique()\n",
    "    cols_to_drop = nunique[nunique == 1].index\n",
    "    print(cols_to_drop)\n",
    "    return\n",
    "\n",
    "def drop_sameval_cols(df):\n",
    "    \"\"\"\n",
    "    Remove columns if all values in the column are the same\n",
    "    \"\"\"\n",
    "    nunique = df.nunique()\n",
    "    cols_to_drop = nunique[nunique == 1].index\n",
    "    df.drop(cols_to_drop, axis=1, inplace=True)\n",
    "    return df"
   ]
  },
  {
   "cell_type": "markdown",
   "metadata": {},
   "source": [
    "# IFF Data"
   ]
  },
  {
   "cell_type": "markdown",
   "metadata": {},
   "source": [
    "## Read in data processed in Sherlock_IFSurface_DataClean.ipynb"
   ]
  },
  {
   "cell_type": "code",
   "execution_count": 3,
   "metadata": {},
   "outputs": [
    {
     "name": "stdout",
     "output_type": "stream",
     "text": [
      "(28142, 12) (10169040, 17) (188111, 12)\n"
     ]
    }
   ],
   "source": [
    "iff_head = pd.read_csv('Sherlock_data/IFF_Header.csv')\n",
    "iff_trk = pd.read_csv('Sherlock_data/IFF_TrackPt.csv')\n",
    "iff_flt = pd.read_csv('Sherlock_data/IFF_Flight.csv')\n",
    "print(iff_head.shape, iff_trk.shape, iff_flt.shape)"
   ]
  },
  {
   "cell_type": "code",
   "execution_count": 4,
   "metadata": {},
   "outputs": [
    {
     "name": "stdout",
     "output_type": "stream",
     "text": [
      "IFF_Header:  Index(['recTime', 'fltKey', 'bcnCode', 'source', 'AcId', 'acType', 'Orig',\n",
      "       'Dest', 'OpsType', 'estOrig', 'estDest', 'modeSCode'],\n",
      "      dtype='object') \n",
      "IFF_Track:  Index(['recTime', 'fltKey', 'bcnCode', 'AcId', 'coord1', 'coord2', 'alt',\n",
      "       'significance', 'coord1Accur', 'coord2Accur', 'groundSpeed', 'course',\n",
      "       'rateOfClimb', 'scratchPad', 'airportCode', 'trackNumber', 'modeSCode'],\n",
      "      dtype='object') \n",
      "IFF_Flight:  Index(['recTime', 'fltKey', 'bcnCode', 'source', 'AcId', 'acType', 'perfCat',\n",
      "       'equipList', 'scratchPad1', 'scratchPad2', 'trackNumber', 'modeSCode'],\n",
      "      dtype='object')\n"
     ]
    }
   ],
   "source": [
    "print(\"IFF_Header: \", iff_head.columns, '\\nIFF_Track: ', iff_trk.columns, '\\nIFF_Flight: ', iff_flt.columns)"
   ]
  },
  {
   "cell_type": "markdown",
   "metadata": {},
   "source": [
    "## Merge Interesting Data\n",
    "1. Filter out unnecessary data in IFF datasets (Filter out unknown ModeSCode, keep only OpsType = 'A' and keep only records with airline call sign)\n",
    "2. Append perfCat from Flight Record data to Header data\n",
    "3. Merge all IFF data based on ModeSCode, hexadecimal identification of aircrafts"
   ]
  },
  {
   "cell_type": "markdown",
   "metadata": {},
   "source": [
    "### 1. Filter out unnecessary data in IFF\n",
    "#### 1a. Discard all data that does not have a known modeSCode, hexadecimal aircraft identifier/address"
   ]
  },
  {
   "cell_type": "code",
   "execution_count": 5,
   "metadata": {},
   "outputs": [],
   "source": [
    "def rm_null_modeSCode(df):\n",
    "    \"\"\"\n",
    "    Remove NaN in modeSCode column\n",
    "    \"\"\"\n",
    "    if 'modeSCode' in df.columns and df['modeSCode'].isnull().any():\n",
    "        return df[df['modeSCode'].notna()]"
   ]
  },
  {
   "cell_type": "code",
   "execution_count": 6,
   "metadata": {},
   "outputs": [
    {
     "name": "stdout",
     "output_type": "stream",
     "text": [
      "(28142, 12) (24635, 12) (10169040, 17) (9766293, 17) (188111, 12) (175170, 12)\n"
     ]
    }
   ],
   "source": [
    "fil_iff_hd = rm_null_modeSCode(iff_head)\n",
    "fil_iff_tr = rm_null_modeSCode(iff_trk)\n",
    "fil_iff_fl = rm_null_modeSCode(iff_flt)\n",
    "print(iff_head.shape, fil_iff_hd.shape, iff_trk.shape, fil_iff_tr.shape, iff_flt.shape, fil_iff_fl.shape)"
   ]
  },
  {
   "cell_type": "markdown",
   "metadata": {},
   "source": [
    "#### 1b. Only consider Operation Type that is Arrival (A)"
   ]
  },
  {
   "cell_type": "code",
   "execution_count": 7,
   "metadata": {},
   "outputs": [
    {
     "name": "stdout",
     "output_type": "stream",
     "text": [
      "(7628, 12)\n"
     ]
    }
   ],
   "source": [
    "ops_iff_hd = fil_iff_hd.loc[iff_head['OpsType'] == 'A']\n",
    "print(ops_iff_hd.shape)"
   ]
  },
  {
   "cell_type": "markdown",
   "metadata": {},
   "source": [
    "#### 1c. Filter out acId such that only call signs with airline in front are kept"
   ]
  },
  {
   "cell_type": "code",
   "execution_count": 8,
   "metadata": {},
   "outputs": [
    {
     "data": {
      "text/plain": [
       "dtype('O')"
      ]
     },
     "execution_count": 8,
     "metadata": {},
     "output_type": "execute_result"
    }
   ],
   "source": [
    "ops_iff_hd['AcId'].dtype"
   ]
  },
  {
   "cell_type": "code",
   "execution_count": 9,
   "metadata": {},
   "outputs": [
    {
     "name": "stdout",
     "output_type": "stream",
     "text": [
      "(7624, 12)\n"
     ]
    }
   ],
   "source": [
    "fil_iff_hd = ops_iff_hd[ops_iff_hd['AcId'].str.contains('[A-Za-z]')]\n",
    "print(fil_iff_hd.shape)"
   ]
  },
  {
   "cell_type": "markdown",
   "metadata": {},
   "source": [
    "### 2. Append performance category information from flight record data to header data as it is the only interesing column from Flight Record dataset"
   ]
  },
  {
   "cell_type": "code",
   "execution_count": 10,
   "metadata": {},
   "outputs": [
    {
     "name": "stdout",
     "output_type": "stream",
     "text": [
      "{'a784d5': 'J', 'aa7e7b': 'J', 'a1a546': 'J', 'adcd6d': 'J', 'a6b1a3': 'J', 'a88d10': 'J', 'ab627c': 'J', 'a6cff8': 'J', 'a1f5ff': 'J', 'a32368': 'J', 'acce3c': 'J', 'ac07b8': 'J', 'a76f68': 'J', 'a51968': 'J', 'aa77f0': 'J', 'a7888c': 'J', 'a82a06': 'J', 'a96b14': 'J', 'ac77d0': 'J', 'acf906': 'J', 'a30f85': 'J', '847517': 'J', '8990a4': 'J', 'a6f3c0': 'J', 'a535be': 'J', 'a97282': 'J', 'a2b501': 'J', 'a70f88': 'J', 'a455ea': 'J', 'a6e12d': 'J', 'ac0bc4': 'J', 'a66cf7': 'J', 'a44916': 'J', 'a7b4f2': 'J', 'e8020f': 'J', 'a21633': 'J', 'a4dd65': 'J', 'a7a9cd': 'J', '868db5': 'J', '7c1476': 'J', 'a4e307': 'J', 'aaafd8': 'J', 'e80244': 'J', '06a12d': 'J', 'a9876e': 'U', '8990d9': 'J', 'a4f1e5': 'J', 'a869bc': 'J', 'a04f49': 'J', 'a4453e': 'J', 'ac59aa': 'J', 'ac7aa9': 'J', '0d0984': 'J', 'a94b0b': 'J', 'a66a84': 'J', '71be29': 'J', '86d5be': 'J', 'a2e235': 'J', 'aa7e7a': 'J', 'a05cc7': 'J', 'a0c20f': 'J', 'a9cca5': 'J', 'a53207': 'J', 'aceebc': 'J', 'ac0b50': 'J', 'a07311': 'J', 'a651e1': 'J', 'ab0b1f': 'J', 'a6dd89': 'J', 'a3cd6b': 'J', 'a2bb89': 'J', 'a2b6ff': 'J', 'a2fad8': 'J', 'a4c6af': 'J', 'a83ef2': 'J', 'acaa74': 'J', 'abf375': 'J', 'a1239d': 'J', 'a2644a': 'J', 'aa80eb': 'J', 'a7e18a': 'J', 'aa9d45': 'J', 'a17c65': 'J', 'abfcb6': 'J', 'a7e62d': 'J', 'a8f0bd': 'J', 'a9bf27': 'J', 'a8a785': 'J', 'a77a74': 'J', 'ab5bb1': 'J', 'adabfe': 'U', 'a94b72': 'J', 'a7e276': 'J', 'aa7bd6': 'J', 'ace60c': 'J', 'a7d43c': 'J', 'aa1be0': 'J', 'a78c43': 'J', 'a04424': 'J', 'a178ae': 'J', 'a1b1bc': 'J', 'a51d1b': 'J', 'a49570': 'T', '4d2363': 'J', 'a7fb7d': 'J', 'ad4c96': 'J', 'aac4c4': 'J', 'a540e2': 'J', 'ac18fe': 'J', 'a4421d': 'J', 'a7a1e8': 'U', 'a7fde4': 'J', 'a13c43': 'J', 'ac7e60': 'J', 'a65d06': 'J', 'aacd96': 'J', 'a013e8': 'J', 'a64e2a': 'J', 'a8758b': 'J', '86953e': 'J', 'a733e6': 'J', '8682fc': 'J', 'a31a76': 'J', 'ac1d80': 'J', 'abd932': 'J', '78062f': 'J', 'a17140': 'J', 'a8d4ad': 'J', 'a7ff0e': 'J', 'a411df': 'J', 'a67b81': 'J', 'a01c37': 'J', 'aa56b8': 'J', 'a7e2da': 'J', '7805a9': 'J', 'a91535': 'J', 'a50a88': 'J', 'ac7b87': 'J', 'a5449a': 'J', 'ac08f5': 'J', 'abbd73': 'J', 'a7f762': 'J', 'aa589c': 'J', 'a6b86e': 'J', '86e808': 'J', 'a426a5': 'J', '4242a4': 'J', 'a4a476': 'U', 'adb476': 'J', 'a4e746': 'J', 'ad50a9': 'J', 'ab00ce': 'J', 'a4491c': 'J', 'a70aa1': 'J', 'a314d9': 'J', 'a97dcb': 'J', '780b7f': 'J', 'ab38a1': 'J', 'a7a616': 'J', 'accaf4': 'J', '76cef3': 'J', 'c0219c': 'J', 'acea96': 'J', 'a76f43': 'J', 'add734': 'J', 'ac03ff': 'J', 'a9bd9a': 'J', 'a6f5b5': 'J', 'a05a01': 'J', 'a0f428': 'J', 'a6c46f': 'J', 'a5287a': 'J', 'acc76b': 'J', '485b44': 'J', 'a32e86': 'J', 'a32718': 'J', '71bc15': 'J', 'c8809d': 'U', 'a875da': 'J', 'a11e8b': 'J', 'a555c3': 'J', 'acd299': 'J', 'a03765': 'J', 'c05007': 'U', 'a77e97': 'J', 'abe3e6': 'J', 'a56dcf': 'J', '899123': 'J', '8990ec': 'J', 'adde95': 'J', 'ad61de': 'J', '4244a1': 'J', 'a0baa1': 'J', '0c20f2': 'J', 'a5d623': 'J', 'a4fbac': 'J', '780aeb': 'J', 'acee4d': 'J', 'abf3da': 'J', 'a448d1': 'J', 'a30246': 'J', 'a52fb2': 'J', 'c02fd8': 'J', 'c012bd': 'J', 'ad60b7': 'J', 'a4ca6a': 'J', 'a29e5c': 'J', 'a9b2e0': 'J', '394a14': 'J', 'a46e40': 'J', '3c4b27': 'J', 'a6d3af': 'J', 'a0f73c': 'J', '896523': 'J', 'a842e7': 'J', 'a880b0': 'J', 'a384f2': 'J', 'abe579': 'J', 'a13c73': 'J', 'a4d42d': 'J', 'ab4ae9': 'J', 'ab2ad9': 'J', 'a8a083': 'J', 'c03e07': 'J', 'acdf9a': 'J', 'a82a44': 'J', 'ab4732': 'J', 'a01880': 'J', 'abbca1': 'J', 'a540e3': 'J', '71c006': 'J', 'a03235': 'J', 'a9cecf': 'J', 'a2cb14': 'J', '0d0b3f': 'J', '4072ea': 'J', 'a677ca': 'J', 'add819': 'J', 'a0bf8c': 'J', 'a29eb6': 'J', 'aba1a0': 'J', 'a69900': 'J', 'a95c9a': 'J', 'c07eee': 'J', 'a174f7': 'J', 'a620f5': 'J', 'a35e66': 'J', 'a2c5db': 'J', 'aa5c11': 'J', '71c359': 'J', 'a3a9a2': 'J', 'aa779d': 'J', 'a7ee71': 'J', 'a7ad84': 'J', 'a11380': 'J', 'a9ff49': 'J', '3c670c': 'J', 'ab30e6': 'J', 'a8b9b3': 'J', 'a28eb7': 'J', 'a66316': 'J', 'a0428a': 'J', 'a00037': 'J', 'a98515': 'J', 'a85f29': 'J', 'a44197': 'J', '34520b': 'J', '780bf6': 'U', 'a1cb05': 'J', '06a126': 'J', 'ab6cc9': 'J', 'a410b3': 'J', 'a5012d': 'J', '8691cc': 'J', 'ab00a3': 'J', 'a7b13b': 'J', 'a7e691': 'J', 'aa02ab': 'J', 'ab9091': 'U', '506c31': 'J', 'abec6c': 'J', 'a520c9': 'J', 'a44a61': 'J', 'aa0300': 'J', 'a7f2a2': 'J', 'a36ea8': 'J', 'a3c4c8': 'J', 'a511f6': 'J', '7c8064': 'J', 'a5a683': 'U', 'a657b9': 'J', 'ab9f6d': 'J', 'aa7fa1': 'J', 'a44917': 'J', '781ac4': 'J', 'a45f59': 'U', '4d0118': 'J', 'a83f30': 'J', '4bb14b': 'J', 'ad574f': 'J', 'a4ca66': 'J', 'a0f46f': 'J', 'ac086b': 'J', '71c078': 'J', 'abbbc7': 'J', 'aa15cc': 'U', 'a7df23': 'J', 'a45072': 'U', 'abae62': 'J', 'a82dbd': 'J', 'a8bd16': 'J', '3c4589': 'J', 'a53d2c': 'J', 'a3866d': 'J', 'aa8a26': 'J', 'c0248a': 'J', '406b48': 'J', 'a8aaa5': 'J', 'aaba9a': 'J', '89901f': 'J', 'a2e045': 'J', 'ab0acb': 'J', '7808b0': 'J', 'abfcda': 'J', 'a0dab2': 'J', 'a26801': 'J', '780d8f': 'J', 'ad9811': 'J', 'ac85ce': 'J', '7808ac': 'J', 'a43815': 'J', 'a1226e': 'J', 'ab856c': 'J', 'a894f2': 'J', 'abc12a': 'J', 'aa2bc1': 'J', 'a06a5a': 'J', 'ab8031': 'U', 'ab77ee': 'J', 'a2c7ff': 'J', 'ad9bc8': 'J', 'a2de7e': 'J', 'a5aa1c': 'J', 'a400b2': 'J', 'ad0022': 'J', 'aa6ccb': 'J', 'c03068': 'J', 'aa88d2': 'U', 'a16ee0': 'J', '899018': 'J', 'c07ee8': 'J', '71be09': 'J', 'a1878a': 'J', 'abb579': 'J', 'ac0b74': 'J', 'abc478': 'J', 'a9b06f': 'J', 'a77160': 'J', 'a91536': 'J', 'abc40d': 'J', 'a4f3d9': 'J', 'a16db9': 'U', 'ab6c08': 'J', 'acb824': 'J', 'a5232b': 'J', 'a515ad': 'J', '781009': 'J', 'a0a522': 'J', 'a187ba': 'J', 'a6d3b3': 'J', 'a83569': 'J', 'a7506a': 'J', 'a4cc1c': 'U', 'a11882': 'J', 'aa3417': 'J', 'a44611': 'J', 'a86a28': 'J', 'a033ae': 'J', 'ac4317': 'J', 'ac24c5': 'J', 'a7486a': 'J', '0d0822': 'J', '8990d5': 'U', 'a09188': 'J', 'a48a8f': 'J', 'a6587b': 'J', 'ac00f6': 'J', 'aa7e79': 'J', 'a2aa92': 'J', '3949f8': 'J', 'a8fc73': 'J', 'a4ae48': 'J', 'a684b5': 'J', 'a4b5b6': 'J', 'acc317': 'J', 'ab3fc4': 'J', 'ad7bdf': 'J', 'a43ec9': 'J', 'ac9709': 'J', 'a3a084': 'J', 'a94b48': 'J', 'ad4afe': 'J', 'a448f8': 'J', 'abda0d': 'J', 'aa781f': 'U', 'a12f56': 'J', 'ab7b70': 'J', 'a78a52': 'J', 'abc07b': 'J', 'a92650': 'J', 'a65598': 'J', 'ad2fcd': 'J', 'c01e28': 'J', 'aaa86a': 'J', 'a6cc54': 'J', 'a61ce7': 'J', 'a43ee5': 'U', 'a009a4': 'J', 'a10931': 'J', 'abece7': 'J', 'a4491a': 'J', '8990a5': 'J', 'ad4eb4': 'J', 'a64e69': 'J', 'aa4e52': 'J', 'c0797b': 'J', '899134': 'J', 'a85d50': 'J', 'ab09b4': 'J', 'a17170': 'J', 'abbd2d': 'J', 'a7f096': 'J', '0c20f3': 'J', 'ab10cb': 'J', 'ac0094': 'J', 'acb953': 'J', '0d0947': 'J', 'ab5e9b': 'J', '0d0cd9': 'J', 'a69192': 'U', 'a65c95': 'J', 'aa2ca9': 'J', 'ab7ba5': 'J', 'a858f3': 'J', 'a45592': 'J', '0d09be': 'J', 'a46368': 'J', 'a5c99e': 'J', 'ad2baa': 'J', 'c05004': 'J', 'a008c5': 'J', 'a7a4e6': 'J', 'a1574e': 'J', 'a5c4e2': 'J', 'a69cb7': 'J', 'a3c8cb': 'J', 'a622bc': 'J', 'a29908': 'J', 'aba9e7': 'J', '0d0a45': 'J', 'a6bcc8': 'J', 'a83f76': 'J', 'a96b80': 'J', 'a7076c': 'J', 'a36212': 'J', 'ad6bdc': 'U', '78071c': 'J', 'a014c9': 'J', 'a2ce5c': 'J', 'a75659': 'J', 'a4c02d': 'J', 'a254d7': 'J', 'e8020d': 'J', 'a697db': 'J', 'a6657e': 'J', 'a81205': 'J', '780a6f': 'J', 'a2f721': 'J', 'a06f5a': 'J', 'a1a63d': 'J', '7c1475': 'J', 'aa8c10': 'J', 'ad7f3a': 'J', 'a09e47': 'J', 'a451db': 'J', 'a26bb8': 'J', 'a1512f': 'J', 'a29aa5': 'J', 'a57b4d': 'J', '0d0c9b': 'J', 'aa72f5': 'J', 'a34729': 'J', 'a2b081': 'J', '7c1471': 'J', 'a3e9c5': 'J', 'abfd39': 'J', 'a44262': 'J', 'a8a017': 'J', 'a67fba': 'J', 'aa6113': 'J', 'a1311e': 'J', '71bc13': 'U', 'a7d046': 'J', '71bd79': 'J', 'a0a2bd': 'J', 'a12d67': 'J', 'ab2372': 'J', 'a1c2f1': 'J', 'ac786a': 'J', 'ad5e27': 'J', 'a666cd': 'J', 'a32c1e': 'J', 'abfe12': 'J', 'aa06b7': 'J', 'a3649a': 'J', 'a7f44d': 'J', 'ac03e2': 'J', '868078': 'J', 'aaafad': 'J', 'a441fb': 'J', 'ab618b': 'J', 'a3ff75': 'J', 'a4a0d9': 'J', 'a4fc9a': 'J', 'a276dd': 'J', 'a01fee': 'J', 'ad35ed': 'T', 'a44240': 'J', 'aa797d': 'J', 'a6b911': 'J', 'a72c78': 'J', '0d085d': 'J', 'a0a30e': 'J', 'accd69': 'J', 'a6cc45': 'J', 'a23a28': 'J', 'a788fd': 'J', 'ab2c3a': 'J', 'ac583f': 'J', 'a5b3ad': 'J', '869560': 'J', 'ac733b': 'J', 'a747cb': 'U', '781a4b': 'J', '868034': 'J', '3a3280': 'J', 'aa457b': 'J', 'a2d1bc': 'J', 'ab6eb9': 'J', 'a2a3af': 'J', 'a4c0f7': 'J', 'a86925': 'J', 'a08446': 'J', 'ab628c': 'J', 'ab9bb6': 'J', 'a449af': 'J', 'a31a56': 'J', '424480': 'J', 'a336df': 'J', 'ab8c19': 'J', 'ad3d4b': 'J', '8990a0': 'J', 'add376': 'J', 'ac382e': 'J', 'a9f6c2': 'J', 'ab774b': 'J', '0d07f0': 'J', '76cee8': 'J', '86e84c': 'J', 'a4460d': 'J', 'ab4ea8': 'J', 'a84a55': 'J', 'a95c38': 'J', 'ac0027': 'J', '0d0b55': 'J', 'a2e9a3': 'J', 'a158c9': 'J', 'aa7e7d': 'J', 'aacc32': 'J', 'a5ea43': 'J', 'a3b028': 'J', 'c05bcb': 'J', 'a74c98': 'J', 'a17527': 'J', 'ab34f3': 'J', 'a9db78': 'J', 'a9614d': 'J', 'a98539': 'J', 'ac8237': 'J', 'aaa107': 'J', 'a8dab9': 'J', 'a9b62c': 'J', 'a16e7d': 'J', 'a69c7d': 'J', 'c0501e': 'J', 'a81006': 'J', 'acf204': 'J', 'a0f427': 'J', 'a0563b': 'J', 'a9586e': 'J', 'a2e5ec': 'J', 'ab62d3': 'J', 'a6f777': 'U', 'e80242': 'J', 'aca306': 'J', 'a36b15': 'P', 'a448d6': 'J', '4851b0': 'U', 'ac8d3c': 'J', 'ac838f': 'J', '0c20f4': 'J', 'a6b7ec': 'J', 'a37245': 'J', 'ab649a': 'J', 'a92bec': 'J', 'a21ed4': 'J', 'a2ed5a': 'J', 'a03cb6': 'J', 'c04c36': 'J', 'aa56b3': 'J', 'a48315': 'J', 'acd5aa': 'J', 'a6ec52': 'J', '8964b4': 'J', 'a4b7d7': 'J', 'a1bc92': 'J', 'acced9': 'J', 'a4943f': 'J', 'a7c2d8': 'J', '394a15': 'J', 'a85185': 'U', '3c4b2c': 'J', '71ba02': 'J', 'aa56b5': 'U', 'a76f6c': 'J', 'ad0074': 'J', 'a11ba0': 'J', 'a59d63': 'J', 'c8243a': 'J', 'a9d640': 'J', 'a84d62': 'J', 'ab7613': 'J', 'aa9963': 'J', 'ad9645': 'J', 'aa4c3e': 'J', '4073ce': 'J', 'a76fe9': 'J', 'a23047': 'J', '71bf71': 'J', '0d0b92': 'J', 'a2d710': 'J', 'aa1a81': 'J', 'a320f9': 'J', '3a5400': 'J', '0d07a8': 'J', 'ab5f00': 'J', '4240b6': 'U', 'acb636': 'J', 'aab99f': 'J', 'ab0d76': 'J', 'a04edb': 'J', 'a4996b': 'J', 'aa568e': 'J', 'c82439': 'J', 'ad7b17': 'J', 'aa2ba4': 'U', 'a0a8de': 'J', 'a6d9bf': 'J', 'a4aea2': 'J', '3c670a': 'J', 'ac2952': 'J', 'a3e5fa': 'J', 'a97797': 'J', 'aa1f65': 'J', '71c285': 'J', 'accb2b': 'J', 'a3b11e': 'J', 'ab7376': 'J', 'ac705b': 'J', '869582': 'J', 'ac006d': 'J', 'a5031a': 'J', '781343': 'J', 'ab5b2b': 'J', 'ac671b': 'J', '40621b': 'J', 'a0ad3e': 'J', 'c0332c': 'J', 'a28749': 'J', 'adf194': 'J', 'a94b05': 'U', '3455d5': 'J', 'a678ef': 'J', '0d0adf': 'J', '4bb144': 'J', '4b1920': 'J', 'a6cb48': 'J', '71c274': 'J', 'a262ad': 'J', '4d0112': 'J', 'a4cc5a': 'J', 'a76f66': 'U', 'ad70ba': 'J', 'a923cd': 'J', 'adca9b': 'J', 'a4f790': 'J', 'a2b060': 'J', 'a2a686': 'J', 'ac1466': 'J', 'a1804c': 'J', 'acb285': 'J', '407699': 'J', 'a59197': 'J', 'a057cc': 'J', 'a288ff': 'J', 'a5b59d': 'J', 'ac0543': 'J', 'ad0ba2': 'J', 'a9fa34': 'J', 'a32eb0': 'U', 'a05434': 'J', 'abb12d': 'J', 'ad9f7f': 'J', 'a02dda': 'J', '899133': 'J', 'a11ad4': 'U', 'aae9a3': 'J', '89901b': 'J', 'ab5d2c': 'J', '40621c': 'J', 'aa8a09': 'J', 'a71b6d': 'J', 'a448fa': 'J', 'a52e50': 'U', 'ab586f': 'J', 'aa231c': 'J', 'abd2e6': 'J', '76cd42': 'J', 'ab6afa': 'J', '7813c1': 'J', '461f53': 'J', 'aa432d': 'J', 'a9fdeb': 'J', 'a96c96': 'J', 'a83f98': 'J', 'a64ab2': 'J', 'ac81d2': 'J', '7c4921': 'J', 'acb251': 'J', 'a69974': 'J', 'ab62ad': 'J', 'a1801c': 'U', 'ac9f4f': 'J', 'ab72b3': 'U', 'acd64b': 'J', 'a471ec': 'J', 'aa3b05': 'U', 'ace5bc': 'J', '781348': 'J', 'ac7c52': 'J', 'a017c9': 'J', 'a9238a': 'J', 'abef2f': 'J', 'a6c4d3': 'U', 'a68a98': 'J', 'a67181': 'J', 'a3a086': 'J', 'a4bb8a': 'J', 'adbe91': 'U', 'ab6737': 'J', '3949e9': 'J', '0d08f4': 'J', 'a0a332': 'J', 'a8f00e': 'J', '3c458a': 'J', 'a3c3e6': 'J', '0d04ce': 'J', 'aa3ae2': 'J', 'a448f5': 'U', 'a9dce9': 'J', 'ac042a': 'J', 'a7a956': 'J', 'ab3856': 'J', 'abe7e3': 'J', 'a4b065': 'J', '0d0acd': 'J', 'ab5f1b': 'J', 'ab5bf0': 'J', 'a913bd': 'J', 'a4acae': 'J', 'ad27f3': 'J', 'aa01a2': 'U', 'c06724': 'J', 'ab5365': 'U', '0d0b58': 'J', 'a446b6': 'J', 'a1a18f': 'J', 'a91b44': 'J', 'c0307a': 'J', 'ac8009': 'J', 'acc799': 'J', 'ad61b8': 'J', 'ad35a2': 'U', 'a45bfa': 'J', 'a081ca': 'J', 'adbaca': 'J', 'acbffd': 'J', 'a448f6': 'J', '0c210e': 'J', 'a695f9': 'J', '0d0a37': 'J', 'a5a888': 'J', 'ac145b': 'J', 'a7ad0d': 'J', 'a4bc76': 'J', 'a02c40': 'J', 'ac64cf': 'J', 'a41412': 'J', 'ac04ae': 'J', 'aa6b7e': 'J', 'abd155': 'U', 'a448f2': 'J', 'a1373d': 'J', 'aa7b33': 'J', 'a954ca': 'J', 'a3999e': 'J', 'ad1927': 'J', 'ab97e6': 'J', 'abd5bb': 'J', 'c04fe4': 'J', 'a35605': 'J', 'a83787': 'J', 'a0a8da': 'J', 'a20a81': 'J', 'a30460': 'J', 'a7906b': 'J', 'ac2d09': 'J', 'aa75ef': 'J', 'a3fbfc': 'J', 'a2c86d': 'J', 'a499c3': 'U', 'a50e3f': 'J', 'aa56f7': 'J', 'a726fb': 'J', 'a6e89b': 'J', 'a254f7': 'J', 'a448d3': 'U', '4d0119': 'J', 'a779b0': 'J', 'a560f4': 'J', 'a94b4d': 'J', 'a67bd3': 'J', 'a41e29': 'J', 'a1110d': 'J', 'a280a4': 'U', '7c806b': 'U', 'acad6d': 'J', 'a58873': 'J', 'a2be6d': 'J', 'a61592': 'J', 'a33243': 'J', 'a85caa': 'J', 'a42020': 'J', 'a6670c': 'J', '0d07b3': 'U', 'a7a557': 'J', 'a4000f': 'J', 'a9085d': 'J', 'a2a213': 'J', 'ac8d5c': 'J', 'ad0497': 'J', 'a7ea86': 'J', 'a0205c': 'J', 'a4c849': 'J', '06a12c': 'U', 'e8043b': 'J', 'aaf111': 'J', 'a4c492': 'J', 'a309b4': 'J', 'a3ff61': 'J', 'a32ad5': 'J', 'ab5faa': 'U', 'abf9b1': 'J', 'a448db': 'J', 'ab43c6': 'J', 'ac97e4': 'J', 'a0cbd6': 'J', 'a2845b': 'U', 'a448fc': 'J', 'a80e4e': 'J', 'ac7e18': 'J', 'a988cc': 'U', 'a43e5e': 'J', 'a05410': 'J', 'a6f96c': 'U', 'a6594f': 'J', 'a2d573': 'J', 'a66e3b': 'J', 'a10bbc': 'J', 'abe4b9': 'J', '3a3688': 'J', 'a612a6': 'J', 'a2fe8f': 'J', 'acb10a': 'J', 'aad21c': 'J', 'abe80e': 'J', 'ab8b56': 'J', 'ac4d1a': 'J', 'a63f4e': 'J', 'a84a17': 'J', '0d0af7': 'J', 'a2cfa2': 'J', 'ad35dd': 'J', 'c05edd': 'J', 'a178de': 'J', 'a9ccb0': 'J', 'a6b100': 'J', 'a129b0': 'U', 'a8fc2e': 'J', 'a602cd': 'J', 'aaf83c': 'J', 'a4491d': 'J', 'ab77d5': 'J', '86d602': 'J', 'aa70b1': 'J', '0d0005': 'J', 'ac181d': 'J', 'a27737': 'J', 'aad012': 'J', 'a757ae': 'J', 'a3a0eb': 'J', 'a1600b': 'J', 'ac9850': 'J', 'a671f2': 'J', 'ab6b45': 'J', 'a8e6f2': 'J', 'a4f6a5': 'J', 'aaf53a': 'J', 'a49671': 'T', 'a45f94': 'J', 'a223f0': 'J', 'a34811': 'J', 'a584bc': 'J', 'aac7ab': 'J', 'aacfe9': 'J', 'a4f59c': 'J', 'abc14d': 'J', 'a01112': 'J', '71be37': 'J', '461f52': 'J', 'a26f6f': 'J', 'a66e03': 'J', '7583ec': 'J', 'acbf60': 'J', '71be25': 'J', 'a2b348': 'J', 'a129dc': 'J', 'c07973': 'J', 'a15c54': 'U', 'a95dba': 'J', 'a04dfa': 'J', 'abc3ec': 'J', 'aaa201': 'J', 'a4b420': 'J', 'a0a545': 'J', 'a7f3ab': 'J', 'a58c2e': 'J', 'a92362': 'J', '3a4dc0': 'J', 'a18b41': 'U', 'aab187': 'J', 'abe1c2': 'J', 'a466c7': 'J', 'c01cb7': 'J', 'a149c1': 'J', 'ad646e': 'J', 'a27dbc': 'J', '06a2e2': 'J', 'a657bf': 'J', 'ab148e': 'J', 'a16ff1': 'J', 'ad6ec5': 'J', 'a9e2e6': 'J', 'a6bba3': 'U', 'a448d5': 'J', 'a6c247': 'J', '8695a4': 'J', 'a7824e': 'J', 'a897f4': 'J', 'a77706': 'J', '86e3ec': 'J', 'a9d5a2': 'J', 'a16c3a': 'J', 'a04e00': 'J', '4aca62': 'J', '3949e6': 'J', 'aca99c': 'J', '781d8d': 'J', 'c06156': 'U', 'c030eb': 'J', 'a4e4a3': 'J', 'adda1e': 'J', 'ad6595': 'U', '4ba94f': 'J', 'a86107': 'U', 'ac0b7f': 'J', '484415': 'J', 'ac0bb9': 'J', 'a6b253': 'J', 'ab68dd': 'J', 'a42efc': 'U', 'a94ae5': 'J', 'ac1e2d': 'J', 'c01074': 'J', 'a44e1c': 'J', 'a2a91a': 'J', 'a0fbfa': 'J', 'a7566a': 'J', '780a1c': 'J', 'aa2ca2': 'T', 'c03bf2': 'J', 'c03064': 'J', 'a09590': 'J', 'ac643b': 'J', 'aa05f6': 'J', '3c70aa': 'J', 'a05629': 'J', '86e75e': 'J', 'a675a9': 'J', 'a85931': 'J', 'aa8499': 'J', 'a0e431': 'J', '407af5': 'U', 'a0b8fb': 'J', 'aa955c': 'J', 'a646bc': 'J', '76cef6': 'J', 'adc238': 'J', 'a855e2': 'J', 'acb599': 'J', 'ac50d1': 'U', 'a87904': 'U', 'a999d2': 'J', 'c8809c': 'J', 'a03038': 'J', 'a6ec56': 'J', 'a495bf': 'J', 'a0275c': 'J', '4cad45': 'J', 'a120f3': 'J', '3c4b21': 'J', 'ac0143': 'J', 'a6ca7f': 'J', 'a8352b': 'J', 'a2b698': 'J', 'a44a6d': 'J', 'a71295': 'J', '407371': 'J', 'abb595': 'J', '440020': 'J', 'ac212d': 'J', 'a86061': 'J', 'a923a9': 'J', 'c02fed': 'J', '394a01': 'J', 'abd1e3': 'J', 'c81e22': 'J', 'acb1e2': 'J', 'a6fb2e': 'U', 'abf6ae': 'J', 'a2ab73': 'J', 'a082ac': 'J', 'a455cd': 'J', 'a134d5': 'J', 'a9c2de': 'J', 'ac4963': 'J', 'a81773': 'J', 'a2b2e1': 'J', '8466c7': 'U', '7800eb': 'J', 'aaa02c': 'J', '8990f3': 'U', 'a77ae0': 'J', 'a30bce': 'J', 'a0f566': 'J', '48ae04': 'J', 'c05ed9': 'J', '71ba05': 'J', 'a11fc7': 'J', 'ab6800': 'U', 'aaa590': 'J', '710121': 'J', 'a30657': 'J', 'a59f15': 'J', 'a68485': 'J', 'ad0e5e': 'J', 'ad6ff2': 'J', 'a4c0db': 'J', 'a5bb1b': 'J', '34520f': 'J', 'a55d31': 'J', 'a2926e': 'J', '3c6514': 'J', '406590': 'J', 'a2aab5': 'J', 'a790b3': 'J', '896473': 'J', 'a6f009': 'J', 'c0360e': 'J', 'aa6103': 'J', '394a02': 'J', 'a8aa87': 'J', 'a48f5d': 'J', 'abf09e': 'J', '0d09ef': 'J', '4bca61': 'J', '406e0f': 'J', 'a3d039': 'J', 'aa9a7a': 'J', 'ab7080': 'U', 'acc9b2': 'J', '4d012c': 'J', 'abaa43': 'J', 'ab2c72': 'U', 'abc329': 'T', 'a2b1ab': 'J', 'a0d90c': 'J', 'aa55ee': 'U', 'a1286c': 'J', '8990e0': 'U', 'a8d206': 'J', 'a77c11': 'J', '3c64c5': 'J', 'a43eed': 'J', 'a6bfdc': 'J', 'a44cda': 'J', 'a3f500': 'J', 'acf54f': 'J', 'a44570': 'U', 'c05056': 'J', '71c217': 'J', 'a16c64': 'J', 'a2af2a': 'J', '39c498': 'J', '4bb143': 'J', 'a1e60e': 'J', 'a7d69d': 'J', 'a295c9': 'J', 'a2479f': 'J', '0d0b67': 'J', 'ab7437': 'U', 'a57d42': 'J', 'aa9451': 'J', 'a92478': 'J', 'a722b1': 'J', 'a24757': 'J', 'abb0a2': 'U', 'a8b805': 'J', 'a708b0': 'J', '34718e': 'J', 'a76028': 'J', 'a07522': 'J', 'a28904': 'J', 'ac923b': 'T', 'ab967b': 'J', 'a27380': 'J', 'ace74e': 'J', 'a28bc9': 'J', 'aabd7f': 'J', 'ab7270': 'J', 'a810af': 'J', 'acc6d1': 'J', 'a4d5c7': 'J', 'a96ecb': 'J', 'aa7a3c': 'J', 'a091fd': 'J', 'a08a1a': 'U', 'a83174': 'J', 'a845f4': 'J', 'aae958': 'J', '789243': 'J', '4caa40': 'J', 'abde0b': 'J', '71be20': 'J', 'ac7ac9': 'J', 'abd9b6': 'J', '7c8068': 'J', 'a37616': 'J', 'a2c992': 'J', 'a0dae2': 'J', 'a14c29': 'J', 'aad3c9': 'J', 'aa1368': 'J', 'a00d5b': 'J', 'a31a50': 'J', 'a9704d': 'J', 'a3725a': 'J', 'a7cb78': 'J', 'a6b08a': 'J', 'a149f1': 'J', '406947': 'J', 'a03fff': 'J', 'a54aaa': 'J', 'ace6df': 'J', 'ad7828': 'J', 'a417c9': 'J', 'a05b78': 'U', 'a7b1aa': 'J', 'adeca5': 'J', 'aa9d50': 'J', 'a9e167': 'U', 'a1bf3a': 'J', 'a46cc1': 'J', 'a885f4': 'U', 'ac046e': 'J', 'a3915a': 'J', 'a61b4e': 'U', 'a04641': 'J', 'a79768': 'U', 'abf9d5': 'J', 'ab9de9': 'J', 'a67d17': 'J', 'c030a6': 'J', 'ac0519': 'U', 'a46d4f': 'J', '7810a3': 'J', 'a41e90': 'J', 'abae8f': 'U', 'a4460e': 'J', 'a7a1a0': 'J', 'a2bba4': 'J', 'a949a4': 'U', 'aa6ade': 'J', '89901e': 'J', 'acad53': 'J', 'adbb39': 'J', 'a20471': 'J', 'a6598e': 'J', 'a4c135': 'J', 'aa06c2': 'J', 'a55b50': 'J', 'a07177': 'J', 'a32acf': 'J', 'ad2ce1': 'J', 'a83781': 'J', 'a6e8ae': 'J', 'a31a2d': 'J', '8990d3': 'J', 'ad2095': 'J', 'ac08b1': 'J', 'a58103': 'J', 'a63f8d': 'J', 'a5e433': 'J', 'aab169': 'U', 'a05ddc': 'J', '0d07f6': 'J', 'a1ecd6': 'J', 'a1775f': 'J', 'c05eac': 'J', '76cd41': 'J', 'acf5bb': 'J', 'ab503a': 'J', '3c4585': 'U', 'aa2ba1': 'U', 'a62455': 'J', 'a4f5a7': 'J', 'acca85': 'J', 'a1314e': 'J', 'ab35cb': 'J', 'a6209e': 'J', 'a74f33': 'J', 'ac0c8b': 'J', 'ab4b34': 'J', 'c04fdd': 'J', 'acc3bd': 'J', 'a62863': 'J', 'abc7a3': 'J', 'a46ad6': 'J', '781940': 'J', 'a0a7a0': 'J', 'c04fff': 'J', 'ad2c16': 'U', '0c2160': 'J', 'ace063': 'J', 'a43ee8': 'U', 'a7398e': 'J', 'c0584f': 'J', 'a4a4e8': 'J', 'a059e3': 'J', '7bc007': 'J', 'aafca8': 'J', 'a13541': 'U', 'a4ce11': 'J', 'abbcc1': 'J', 'a6ac43': 'J', 'a89915': 'J', 'a3a8ba': 'J', 'abc49b': 'J', 'aad72c': 'J', 'adc5ff': 'J', 'a967c9': 'J', 'a213bd': 'J', 'a87c4f': 'J', 'a3cd0f': 'J', '846a5b': 'U', 'a658de': 'J', 'a6c88a': 'J', 'a95c2f': 'J', 'a47244': 'J', 'aa56da': 'J', 'a2b8db': 'J', '8990dc': 'J', 'a44588': 'U', 'a2d92a': 'J', 'a085a4': 'J', '7c4923': 'J', 'aa96be': 'J', 'a841f5': 'J', 'a027ca': 'J', '7c1473': 'J', 'a067ec': 'J', 'a27326': 'J', 'a437c0': 'J', 'a2c224': 'J', 'ad5404': 'J', 'aa7dad': 'J', 'a2bbc6': 'J', '440a76': 'J', 'a0b6ea': 'J', 'a3f04a': 'J', 'a33eb1': 'J', 'a64a73': 'J', 'a53774': 'J', 'a231a6': 'J', 'e8040b': 'J', 'a91700': 'J', 'a0c42c': 'J', 'a339b1': 'J', '86d624': 'J', 'a3b3df': 'J', 'aba7b0': 'J', 'ace13e': 'J', 'ad73a9': 'J', '06a12a': 'J', '06a30c': 'J', 'a44548': 'J', 'acdffc': 'J', 'ab7a21': 'J', '0d0c92': 'J', 'a87196': 'J', 'a29337': 'J', '0d0b44': 'J', '71c008': 'J', 'abf949': 'J', 'a24082': 'J', 'a0103b': 'J', 'ab00a9': 'T', 'a64294': 'J', 'a7b8d7': 'J', 'aa9913': 'J', 'a76f87': 'J', 'adb723': 'J', 'abba43': 'J', 'a5ee13': 'J', 'aa0701': 'J', 'a047db': 'J', 'a32367': 'J', '71c361': 'J', 'a03618': 'J', 'ad1c11': 'J', 'ac205f': 'J', 'a8feb8': 'J', 'abeb7c': 'J', 'a0d344': 'J', '780d22': 'J', 'a2f111': 'J', 'a09cad': 'J', 'a33d62': 'J', 'a968bb': 'J', 'acd120': 'J', 'a891e5': 'J', 'ad6116': 'J', 'acca19': 'J', 'a0acf8': 'J', 'a1cc1f': 'J', '71be31': 'J', '4d0128': 'J', 'a2a3d2': 'J', 'a43b91': 'J', 'a76df8': 'J', 'a2d359': 'J', '0d0abd': 'J', 'c058dd': 'J', 'a9e93b': 'J', 'ab2b23': 'J', 'a44d3f': 'J', 'a8b5b2': 'J', '8695c6': 'J', 'a5502b': 'J', 'a777bf': 'J', 'a05627': 'J', 'a1939a': 'J', 'aa2bc2': 'J', 'acb950': 'J', 'a2abda': 'J', 'acdc40': 'J', 'ab1c47': 'J', 'abe124': 'J', 'a09329': 'J', 'a3db5e': 'J', 'aaf5a9': 'J', 'a7b0c4': 'U', 'a6eb12': 'J', 'aa44cf': 'J', 'aaa5ae': 'J', 'aa7e7c': 'J', 'a5b764': 'J', 'a5ce40': 'J', 'a720eb': 'J', 'a254dd': 'J', 'a4bd24': 'J', 'a968df': 'J', 'a4e876': 'J', 'abe892': 'J', 'a988d9': 'J', '86e7a2': 'J', 'a9b275': 'J', '899160': 'J', 'a6e89f': 'J', 'aaa4b3': 'J', 'abc012': 'J', 'a4e108': 'J', 'c036b1': 'J', 'a19ecf': 'J', '0d0a08': 'J', 'aa56d8': 'J', 'a7cfe3': 'J', 'c05da4': 'J', 'aa3574': 'J', 'a611c2': 'J', 'a1c9cd': 'J', 'ab313c': 'J', '4ba955': 'J', 'a4414a': 'J', 'abbc75': 'J', 'a837a6': 'J', 'a05a03': 'J', '478854': 'J', 'a4ee2e': 'U', 'a9bee2': 'J', 'ad8769': 'J', 'a04b92': 'J', 'a2cb13': 'J', 'a47d05': 'J', 'a1b573': 'J', '3c71a1': 'J', 'a48321': 'J', '3965a3': 'J', 'a5d007': 'J', 'abef79': 'J', 'a9ea5d': 'J', 'ac672c': 'J', 'c05f09': 'J', 'a8881e': 'J', '4cac5d': 'J', '868012': 'J', 'a28928': 'J', '0c20de': 'J', 'a6189c': 'J', 'a983f3': 'J', 'a4e6cc': 'J', 'aa56b4': 'J', '71c011': 'J', 'a5fef4': 'J', 'aa11e7': 'J', 'ab38aa': 'J', 'ad68d3': 'J', 'ab1d28': 'J', '89647f': 'J', '3c4b33': 'J', 'aace5c': 'J', 'a55218': 'J', 'a6e3e6': 'J', '406e11': 'J', 'a8e8a0': 'J', 'a27920': 'J', 'a41e74': 'J', 'c05bd2': 'J', 'a46304': 'J', 'abb601': 'J', 'acd8f4': 'J', 'ab4489': 'J', 'a9aebe': 'U', '8990d7': 'J', 'a1820b': 'J', 'a8bfb6': 'J', '3c6703': 'J', 'a7912a': 'J', '407995': 'J', 'a6e131': 'J', 'abb94f': 'J', 'a88d63': 'J', '06a12f': 'J', 'a742c2': 'J', '3451cd': 'J', '780a3d': 'J', 'ab2ae0': 'J', '484370': 'J', 'a27fdb': 'J', '0d09f7': 'J', 'a1b12a': 'J', '394a0b': 'J', 'a668ee': 'J', 'a9ec06': 'J', 'abdd6d': 'J', 'a37347': 'U', 'a791c0': 'J', 'a99b5f': 'J', 'abe075': 'J', 'ada64d': 'U', 'a4ce21': 'J', '0d079f': 'J', 'a39bfa': 'J', '78161c': 'J', 'a15ee6': 'J', 'a32fd5': 'J', '781347': 'J', '71be39': 'J', '71c360': 'J', '0d0b4b': 'J', '4bb146': 'J', 'ab8923': 'U', 'a0aaa0': 'J', 'abaa0e': 'J', 'ab28d7': 'J', 'adb7ee': 'J', 'a3323d': 'J', 'a78e09': 'J', 'a05dd8': 'J', 'abb930': 'J', '3c4587': 'J', 'ad8901': 'J', '71bc36': 'J', 'a2fb32': 'U', 'ac1b8b': 'T', 'a6a300': 'J', 'a1589d': 'U', 'a7e5c1': 'J', 'aaed5a': 'J', 'ab1122': 'J', '461f56': 'J', 'a99b83': 'U', 'a2dac7': 'J', 'a0463f': 'J', 'a78557': 'J', 'a05648': 'J', 'a82286': 'J', '7583eb': 'J', 'aac33e': 'J', 'a73d45': 'J', 'a3650b': 'J', '0d074b': 'J', 'ab4fae': 'J', 'a69b92': 'U', 'abb68c': 'J', 'ab97ff': 'J', 'a3f401': 'J', '40771a': 'J', 'a239e0': 'J', 'a360e3': 'J', 'aa9b82': 'J', 'ad7701': 'J', 'a6504b': 'J', '781642': 'J', '76cd45': 'J', 'a9d286': 'J', 'a6c4d7': 'U', 'ab6b1e': 'J', 'a771af': 'J', 'aa69e0': 'J', 'a46310': 'J', 'aa931d': 'J', 'a4945f': 'J', 'adeddd': 'J', 'ac0b80': 'J', 'a6b435': 'J', '780da9': 'J', '3949ea': 'J', 'a7d2e6': 'U', '7811a4': 'J', 'a35d73': 'J', 'ac0843': 'J', 'a4b41c': 'J', '407993': 'J', 'a6ec65': 'J', 'a53f20': 'J', 'aa2e36': 'J', 'abe030': 'J', 'a2a3b5': 'J', 'a18d29': 'J', 'a94b4b': 'J', 'a837a7': 'U', 'ad6182': 'J', '7804c7': 'J', 'ac078b': 'U', 'ac7f3e': 'J', 'a74dad': 'J', 'a3c3e0': 'J', 'a98445': 'J', 'aa3ae5': 'J', 'a33325': 'J', 'c0192e': 'J', 'a53975': 'J', 'a1b422': 'J', '0d0b04': 'J', 'a2b0cd': 'J', 'aa7315': 'J', 'ac5bf6': 'J', '0d0997': 'J', 'adc8e7': 'J', 'a95fc7': 'J', '781060': 'J', 'a4347b': 'J', 'a2536f': 'J', 'abf9f8': 'J', 'c05030': 'J', 'abb6dc': 'J', 'a233ce': 'J', 'a91774': 'J', 'aa6f80': 'U', 'aa630b': 'J', 'a1d07c': 'U', 'ac4107': 'J', 'aa9830': 'J', 'ab4c83': 'J', 'ad4102': 'J', 'ab7ae4': 'U', 'a4e6c0': 'J', 'a39630': 'J', 'acf48f': 'J', 'a890c7': 'J', 'a14d78': 'U', '0d09bf': 'J', '0d0b36': 'J', 'ab5e6c': 'J', 'a50887': 'J', 'a42e13': 'J', 'a63bf4': 'J', 'a2efae': 'J', 'a71d34': 'J', 'ad20f1': 'U', 'a923cf': 'J', 'a59b5e': 'J', 'a68414': 'J', 'a52e54': 'U', 'a023a5': 'J', 'a6c436': 'J', 'a2f95c': 'J', 'a24dc1': 'J', 'a8c36d': 'J', 'ac97e1': 'J', 'a6a7dc': 'J', 'abb507': 'J', '780daa': 'J', 'a78546': 'J', '781a1f': 'J', '06a080': 'J', 'a79ea8': 'J', 'accd10': 'J', 'a368c2': 'J', 'ab6ea5': 'J', 'a355eb': 'J', 'a7cf2f': 'J', '899137': 'J', 'a290d0': 'J', 'e80200': 'J', 'e80210': 'J', '868dd7': 'J', '780a1d': 'J', 'a05910': 'J', 'a1a286': 'J', '0d0bb2': 'J', 'a27a94': 'J', 'a28f80': 'J', '7c1474': 'J', 'a247f0': 'J', 'ad1697': 'U', 'a99077': 'J', 'a4fd62': 'U', 'a0cf8d': 'J', 'a4b96d': 'U', 'a466d2': 'J', 'a08e1e': 'J', 'a6810d': 'J', 'a0f91d': 'J', 'a9eccd': 'J', 'a3c9b4': 'J', 'a44f0d': 'J', 'aa55c0': 'J', 'ab477d': 'J', 'a09533': 'J', 'a806e0': 'U', 'acb4c1': 'J', '0d0821': 'J', 'a28a2c': 'J', '71c009': 'J', '780a8a': 'J', 'a31890': 'J', 'a89451': 'J', 'a46e35': 'J', 'ab14d9': 'J', 'a9d5e5': 'J', 'a28812': 'J', 'a838e2': 'J', 'ada5f8': 'J', 'a39fb1': 'J', 'a4c2f8': 'J', 'ab839c': 'J', '0d0abf': 'J', 'adafb5': 'J', 'a5320b': 'J', 'ab6020': 'J', 'ac892e': 'J', '0d0710': 'J', 'a1463a': 'J', 'ac01d3': 'J', 'a88d89': 'J', 'a620b7': 'J', '867f8a': 'J', 'a86605': 'J', 'a4dd51': 'J', 'abe82c': 'J', 'ab1890': 'J', 'ad79eb': 'J', 'a82903': 'J', 'a0e607': 'J', 'a596b1': 'J', 'a71efa': 'J', 'ab4840': 'J', 'ab1b3e': 'J', 'a3d7a7': 'J', '899020': 'J', 'ac85ee': 'J', '0d0805': 'J', 'abec26': 'J', 'a6f9ee': 'J', '4bb18b': 'J', 'a41f37': 'J', 'adc9b6': 'J', 'acdfa3': 'J', 'a40694': 'J', 'ad1fc8': 'J', 'ac0b61': 'J', 'a163c2': 'J', 'c058c3': 'J', '76cef4': 'J', '780b34': 'J', 'a86ddf': 'J', 'abc4be': 'J', 'a37644': 'J', 'a1a9f4': 'J', 'a448d7': 'J', 'a9ddb0': 'J', 'a28de3': 'J', 'a214b3': 'J', 'ac9923': 'J', 'a125f9': 'J', 'a7d085': 'J', 'a49206': 'U', 'a6e4e4': 'U', 'a47fd9': 'J', 'aab38f': 'J', 'a11fc1': 'J', 'a51ed1': 'J', 'a688ff': 'J', 'a96171': 'J', 'a85c3e': 'J', 'c03c05': 'J', '89912e': 'J', 'ab766a': 'J', 'a3133c': 'J', 'a5c899': 'J', '485b43': 'J', 'aa6ba6': 'U', 'aa9220': 'J', 'a56866': 'J', 'a9335a': 'J', 'ac4cfc': 'J', 'a1adab': 'J', 'ab4bf7': 'U', 'ade2b8': 'J', 'ab271f': 'J', 'c05f0c': 'J', 'a67f38': 'J', 'a18cbb': 'J', '394a00': 'J', 'a7f7a0': 'J', 'aa4440': 'J', 'aa4e47': 'J', 'c8281c': 'J', '06a12e': 'J', '407131': 'J', 'ad4105': 'J', 'a154e6': 'U', 'a471e0': 'J', 'aa9300': 'J', '8964b7': 'J', 'a7ea48': 'J', 'ac0941': 'U', '71c083': 'J', 'acddbe': 'J', 'ab349f': 'J', '71c381': 'J', '3c4b29': 'J', 'a6cc41': 'U', 'a8cc46': 'J', 'a3d122': 'U', 'a81001': 'J', 'a79898': 'J', 'a4064d': 'J', 'a33a93': 'U', '4ac8a8': 'J', 'a7dbaa': 'J', 'aa998e': 'J', '78023a': 'J', 'a06a09': 'J', 'a50833': 'J', 'ab5f43': 'J', '3c6711': 'J', 'a3e558': 'T', 'a46d4e': 'J', '869232': 'J', 'a99a3d': 'J', '394a09': 'J', 'a361f3': 'J', '4b1919': 'J', 'ab4af1': 'J', 'ab6fbf': 'J', '78076c': 'J', 'a88467': 'J', 'ab6f7d': 'J', '0d09c1': 'J', '4bb147': 'J', 'a9c151': 'J', '78149d': 'J', 'a96c72': 'J', 'ac789b': 'J', 'acdbee': 'J', 'adacfd': 'J', '7c492a': 'J', '4d20d8': 'J', 'a19b72': 'J', '71c250': 'J', 'a78945': 'U', 'a6c15f': 'J', '3c4584': 'U', 'a2b5da': 'J', 'ab5ade': 'J', 'abb089': 'J', 'a4f752': 'J', 'ab5b8c': 'U', '780bb9': 'J', 'a73410': 'J', 'acd8f6': 'T', 'a01b56': 'J', 'a16ec2': 'J', '71be24': 'J', '7580d5': 'J', '89901a': 'J', 'a0ce68': 'J', 'a05559': 'J', 'a72eeb': 'J', 'a983b7': 'J', 'ace621': 'U', 'aa2a7f': 'J', 'a1099f': 'J', 'a47d11': 'J', 'ab839d': 'J', 'a33afa': 'J', 'a2ce0f': 'J', 'ac3c0e': 'J', 'a83876': 'J', 'a6e4e8': 'J', '899019': 'J', 'ab5fc9': 'J', '8990d4': 'J', 'a8ad4e': 'J', 'ac4e85': 'J', 'ac2082': 'J', 'ad6c3b': 'J', 'a83c9b': 'J', 'a2adf4': 'U', 'ab6cbd': 'T', 'a06539': 'P', 'a7811e': 'J', 'a9979f': 'J', 'a7e8bf': 'J', 'a3ef1b': 'J', 'ac90f3': 'J', 'aa7a83': 'J', 'acfd29': 'J', 'a58a29': 'J', 'acab3f': 'J', 'a49441': 'J', '3949e8': 'J', 'ac088e': 'J', 'a4943e': 'J', 'a9178d': 'J', 'a75a10': 'J', 'aaa28d': 'J', 'a6c3aa': 'J', 'a0a80e': 'J', 'a85e2b': 'J', 'c05bcf': 'J', '7809a9': 'J', 'a1ff69': 'J', 'a68981': 'J', 'a735d7': 'J', 'a526e2': 'J', 'ada5ee': 'U', 'a4ea77': 'U', 'a47d69': 'J', 'a5f5bf': 'J', 'a3612a': 'J', 'a05776': 'J', 'a0e7f4': 'J', 'a83988': 'J', '0c210d': 'J', 'a3970f': 'J', 'ab81b5': 'U', 'ab6229': 'J', 'a7debf': 'J', 'a6456d': 'J', 'ad2fd0': 'J', 'a4f5a0': 'J', 'aca760': 'U', 'a6c4e6': 'J', 'a74679': 'J', 'abcf7f': 'J', 'a1433a': 'J', 'a3e8dc': 'J', 'a2d76a': 'J', 'ac390f': 'J', 'a34aa0': 'J', 'a98c7a': 'J', 'a79de9': 'J', '847183': 'J', 'a7de0b': 'J', 'a657f4': 'J', 'a2b562': 'J', 'a05614': 'J', 'aacd50': 'J', 'aa6e81': 'J', 'a48730': 'J', 'ab2ad8': 'J', 'a5ea9a': 'J', '780a70': 'J', 'a1e14a': 'J', 'a945ed': 'U', 'a19b18': 'J', 'aabd56': 'J', 'a0c075': 'J', 'a403b3': 'J', 'abec4d': 'J', '0d0bbe': 'J', 'a69d67': 'J', 'a5c2dd': 'J', 'ac9576': 'J', 'a3271e': 'J', 'c03210': 'J', 'a2cffc': 'J', 'a4cc00': 'J', 'ab23b5': 'J', '71c388': 'J', 'abc780': 'J', 'abf396': 'J', 'a32087': 'J', 'a22642': 'J', 'ac6364': 'J', 'ac8a63': 'J', 'ac2412': 'J', 'a81163': 'J', 'a02088': 'J', 'a34c2f': 'J', '7584fa': 'J', 'a66ac3': 'J', 'a67960': 'J', 'aca22e': 'J', 'a6d9c3': 'J', 'a0f31d': 'J', 'a4794e': 'J', 'aaa4be': 'J', 'ab0361': 'J', 'a437da': 'J', 'a4493e': 'J', 'a72ca2': 'J', 'a4e0ec': 'J', 'ad6884': 'J', 'ad4c27': 'J', 'a2919a': 'J', '71c210': 'J', 'aba891': 'J', 'c080a2': 'J', 'a55f31': 'J', 'a4495b': 'J', 'a2bba8': 'J', '406cdd': 'J', '780da8': 'J', 'a58fdf': 'J', 'aa9f3f': 'U', 'aabd2b': 'J', 'aba324': 'J', 'a1bfb2': 'J', 'a5f581': 'J', '781e34': 'J', '868056': 'J', 'a72b6b': 'J', 'a3472f': 'J', 'a4bd40': 'J', 'aa7d5d': 'J', '86eaf2': 'J', 'a577d4': 'J', 'a8063e': 'J', '8694b6': 'J', 'ac9e77': 'J', 'a94bfc': 'J', 'a2bab6': 'J', 'aa558a': 'J', 'c05d9d': 'J', '06a0df': 'J', 'abd4e7': 'J', 'a5dee3': 'J', 'a8a7f1': 'J', 'aad780': 'J', 'a0af7c': 'J', 'a465df': 'J', 'a4d483': 'J', 'c04688': 'J', 'a1efe7': 'J', 'a94b51': 'J', 'ada296': 'J', '86d9fc': 'J', 'a88df0': 'J', 'ad4925': 'J', 'a887e0': 'J', 'ac7a61': 'J', 'a17ecd': 'J', 'a5d668': 'J', 'a7a89d': 'U', 'a6c393': 'J', 'aa7e36': 'J', 'a5ee51': 'J', 'a7c071': 'J', 'a16d89': 'J', 'ad504d': 'J', 'ab4e94': 'J', 'a5aa78': 'J', '4bb184': 'J', 'ad945a': 'J', 'a15b05': 'J', 'aa9800': 'J', 'c080ac': 'J', 'a34e9d': 'U', 'aa73a0': 'J', 'a91b2b': 'J', 'a600a6': 'J', 'a2e806': 'U', 'a7e9e4': 'J', 'a6a4d5': 'J', 'ac07fd': 'J', 'c81d82': 'J', 'aa64ba': 'J', 'c080d9': 'J', 'a18b71': 'J', 'a7178c': 'J', 'c03bf1': 'J', 'a254d8': 'J', 'a003f6': 'J', 'ab2b2c': 'J', '0c210c': 'J', 'a15397': 'J', 'ab3133': 'J', 'ab9413': 'U', 'a33e4a': 'U', 'a2b135': 'J', '896481': 'J', 'a599a8': 'J', 'a88072': 'J', '06a12b': 'J', 'c05044': 'J', 'a40e30': 'U', 'aaa0d1': 'J', 'a2fee9': 'J', 'ad0122': 'J', '4cad44': 'J', '86e822': 'J', 'a31a77': 'J', 'a033f9': 'J', '3c4b30': 'J', 'abec03': 'J', 'a047e3': 'J', 'a45ba2': 'U', 'a001af': 'J', 'aa7442': 'J', 'a44560': 'J', 'a58542': 'J', 'adaf12': 'J', 'a602ab': 'J', '7811a5': 'J', 'a3f4d7': 'J', 'ac7419': 'J', 'aaa9fb': 'J', 'a57997': 'J', 'a5d1b9': 'J', '71c308': 'J', 'a1388c': 'J', 'ad10ec': 'J', 'ab3c61': 'U', 'a99d89': 'J', '789230': 'J', '0d0aab': 'J', 'a3a3c4': 'J', 'a86e85': 'J', 'ac86ac': 'J', '0d025a': 'J', 'a36a13': 'J', 'a27614': 'J', 'a53db2': 'J', 'ad9edf': 'J', 'abaeb2': 'J', 'a8b8ba': 'U', 'a562e8': 'J', 'ab0e4c': 'J', '710108': 'J', 'a641bf': 'J', '4aca61': 'J', '4076e5': 'J', '485b42': 'J', '71c275': 'J', 'a4470e': 'J', 'a8a74e': 'J', 'aa3518': 'U', 'a1288b': 'J', 'aae764': 'T', 'a85999': 'U', '3c670e': 'J', 'a575e0': 'J', 'ab3c0d': 'U', '4d210b': 'J', 'a189f2': 'U', 'ada2f5': 'J', 'a33dd7': 'J', '3965a4': 'J', 'a12c18': 'J', 'c030f7': 'J', 'a968f8': 'J', 'a9942e': 'J', 'c05f0a': 'J', 'a04a4d': 'J', 'a4b151': 'U', 'aaa224': 'U', 'aaa573': 'J', '4d0115': 'J', '39c48d': 'J', '4b1918': 'J', 'a2efec': 'J', 'a1010c': 'J', 'ab6c94': 'U', 'aaa1de': 'J', '7809b9': 'J', 'a5cd20': 'J', 'abaa1a': 'J', 'a0d374': 'J', 'abb40e': 'T', 'a6f00d': 'J', '4bb14a': 'J', 'ad7e6f': 'U', 'ac4dfb': 'J', 'a81467': 'J', 'aba1c9': 'J', 'a504d0': 'J', 'c02876': 'J', 'a2f77b': 'J', 'a9a750': 'J', 'a1a2a2': 'J', 'aace63': 'J', 'a57229': 'J', 'ab819c': 'J', 'a98edc': 'U', 'a146ef': 'J', 'a324b0': 'J', 'a69c03': 'J', 'abeb57': 'J', '7812be': 'J', '78103d': 'J', 'a491fb': 'J', 'ada6ed': 'U', 'a2b3a2': 'J', 'a94b29': 'J', 'a64305': 'J', 'a524c3': 'J', 'ad084e': 'J', '7c1470': 'J', 'a0eeea': 'J', 'a506d1': 'J', 'abad94': 'J', 'a68a95': 'J', 'abf78f': 'J', 'a9f502': 'J', 'ac0fb6': 'J', 'a4795a': 'J', 'c05bd6': 'J', '3949f0': 'J', 'abdd4a': 'J', 'a08021': 'J', '899021': 'J', 'ad9e73': 'J', 'c02fd5': 'J', 'a5ca4b': 'J', 'a6c311': 'U', 'a03ce6': 'J', 'aaaa64': 'J', 'ac0ff9': 'J', 'a33d68': 'J', 'ab3282': 'J', 'aa6bc0': 'J', 'a7bf10': 'J', '89900d': 'J', 'aaa9d8': 'J', 'a56c19': 'U', '406ec9': 'J', 'a728c1': 'J', 'a15c80': 'J', 'a04695': 'J', 'a29391': 'J', 'a557c3': 'J', 'aa73b9': 'J', '76cdb9': 'J', 'a513ac': 'J', 'a1e67b': 'J', '4247e0': 'J', 'a4cf26': 'J', 'ad2c19': 'J', 'a12e80': 'J', 'ada227': 'J', 'a68e7c': 'J', 'a46d8f': 'U', 'ace19a': 'J', 'accf07': 'J', '48ae00': 'J', 'c05ee1': 'J', 'a68d27': 'U', 'abef98': 'J', 'ad99fc': 'J', 'c010f6': 'J', 'a684c4': 'U', '0d08fd': 'J', '3949f7': 'J', '0d071b': 'J', '0d0aef': 'J', 'acc5fb': 'U', 'a143c6': 'J', 'a646fb': 'J', 'a2bbcc': 'J', 'ab436f': 'J', 'a11eb7': 'J', 'ac5fad': 'J', '0d0a77': 'J', 'a1e1b1': 'J', 'c02494': 'J', '0c20dd': 'J', 'aa4cc1': 'J', 'a66355': 'J', 'a43fa0': 'J', 'acf846': 'J', 'a85f20': 'J', 'a12fcf': 'J', 'a59398': 'J', 'a3fb6f': 'J', 'ad10e9': 'J', '769101': 'J', 'a4105b': 'J', 'ad7ab8': 'J', 'ac138c': 'J', 'a8bc4f': 'J', 'a682ef': 'J', 'ab6394': 'J', 'aa4cf5': 'J', 'a821e4': 'J', 'a44357': 'J', 'ac3477': 'J', 'aa8882': 'J', 'a47fde': 'J', 'a0e5d7': 'J', 'a5d643': 'J', 'a4bf41': 'J', 'a3dc47': 'J', 'acb9bf': 'J', 'a58de0': 'J', 'a0311d': 'J', 'a305fd': 'J', '7c8066': 'J', 'a81bcc': 'J', 'ad24a8': 'J', 'a3bda6': 'J', 'e8027b': 'J', 'a02c91': 'J', 'a1a2e0': 'J', 'a44565': 'J', 'ad8c4c': 'J', '06a125': 'J', 'a0540a': 'J', 'ac21e4': 'J', 'ab8cda': 'J', '78158e': 'J', 'aa4200': 'U', 'a335fa': 'J', 'aac87b': 'J', 'a8233a': 'U', 'a9accd': 'J', 'abd971': 'J', 'a24a0a': 'J', 'abd135': 'J', '86d646': 'J', 'a017a5': 'J', 'a96412': 'J', 'a75b65': 'J', 'a70bff': 'J', 'c066f4': 'J', 'aaffed': 'J', 'ab6316': 'J', 'a4d7e0': 'J', 'a5c8bb': 'J', 'a5f1ca': 'J', 'a4cfb7': 'J', 'a8913b': 'J', 'ab678e': 'J', 'a564ab': 'J', 'aae5a9': 'J', 'aa5690': 'J', 'abf057': 'J', 'a3566a': 'U', 'a339b4': 'J', 'aaf87f': 'U', 'a6c781': 'J', 'a2355d': 'U', 'a0fea6': 'J', 'a173a8': 'J', 'aa2bc4': 'J', 'aaf289': 'T', 'a4dd35': 'J', '71be32': 'J', 'a02443': 'J', 'a448ba': 'J', 'abc7c6': 'J', 'a48307': 'J', 'aa8152': 'U', 'ac82f5': 'J', 'a27c78': 'U', 'a8d489': 'J', 'ac0ba7': 'J', 'a6432e': 'J', 'a335ad': 'J', 'a1befc': 'J', 'abaceb': 'U', 'aaf828': 'J', 'a451cf': 'J', 'acf972': 'J', '44046e': 'J', 'a9d5e4': 'J', 'a8d5a4': 'J', 'a886bf': 'J', 'a14fe0': 'J', 'c0104f': 'J', '0d0b35': 'J', 'a95d95': 'J', 'aa929c': 'J', 'a01b5c': 'J', 'a54aae': 'J', 'c0307c': 'J', '06a1ed': 'J', '4bb148': 'J', '7805dd': 'J', 'a8553c': 'J', 'ad2445': 'J', 'a183d3': 'J', 'a0ad1d': 'J', 'adac5d': 'J', 'ad21bc': 'J', 'ac259b': 'J', '4aca65': 'J', '86e4fc': 'J', 'c066f0': 'J', 'c080a6': 'J', 'a16ebc': 'J', 'a07b8f': 'J', '40779a': 'J', 'a44918': 'J', 'c820d2': 'J', '780d9f': 'J', 'a05628': 'J', '4cad47': 'J', 'a8469e': 'J', '394a0c': 'J', 'ac247a': 'J', 'a9c6e7': 'J', 'a61f05': 'J', 'aa8859': 'J', 'ad7a5c': 'J', 'a4dd2b': 'J', '0d0939': 'J', 'abd59a': 'J', 'aafc36': 'J', 'c07eef': 'J', 'ac015f': 'J', '710112': 'J', '8964b2': 'J', 'a87cbb': 'J', 'accb50': 'J', 'a6dd76': 'U', 'a9c5c5': 'J', 'a523b1': 'J', 'c82258': 'J', 'aaa616': 'J', 'a6cffc': 'J', 'a4e4bf': 'J', '06a128': 'J', 'a8bbbc': 'J', 'a6aa6e': 'U', 'ad00e0': 'J', 'aa9520': 'J', 'ad35e0': 'J', '48436c': 'J', 'aaf640': 'T', 'ad1215': 'J', 'a82527': 'U', 'abc504': 'U', 'a47a71': 'J', 'a1dcb4': 'J', 'a28392': 'J', 'a9cb18': 'J', 'a611db': 'J', 'a950b2': 'J', '71c079': 'J', 'ab77b9': 'J', '3455c1': 'J', 'a48ae7': 'J', 'a0ddfb': 'J', 'c0583a': 'J', 'a8d5a0': 'J', 'ab7394': 'J', 'a13b1e': 'J', 'a81ee1': 'J', 'adf068': 'J', 'aa9a93': 'J', '8990e2': 'J', 'a9d5e7': 'J', 'a7b832': 'U', 'a9ff1e': 'J', 'a04b24': 'J', 'c043cb': 'J', 'a84a50': 'J', 'a7cb0b': 'J', 'a2e28f': 'J', 'a1412e': 'J', 'abedc8': 'J', '3c64f4': 'J', 'a2e098': 'J', 'a11d3c': 'J', 'a06a54': 'J', '8691aa': 'J', 'ac50fa': 'J', 'a445f8': 'J', 'a82298': 'U', '4ba946': 'J', 'c07e2c': 'J', 'ab30f0': 'U', 'c0653d': 'J', 'a494eb': 'J', 'acbfcf': 'J', 'a97639': 'J', 'ad9295': 'J', '3965a0': 'J', 'a61797': 'U', 'a690de': 'J', 'a0cfbd': 'J', '4ca86e': 'J', 'a449f1': 'J', '78115f': 'J', 'ad528e': 'J', '89901d': 'J', '789216': 'J', '7c806d': 'J', 'a22d7b': 'J', 'aaf47d': 'J', 'a0541b': 'J', '3c458c': 'J', 'c05edb': 'J', 'a45f64': 'J', 'a3361e': 'J', 'a4b259': 'J', 'a56862': 'U', 'a37289': 'J', '75827c': 'J', 'ad8cec': 'J', '407994': 'J', 'a2bb10': 'J', 'ab5bd4': 'U', 'a1aa10': 'J', 'aa2ba5': 'J', '4077d3': 'J', 'a891a7': 'J', 'c03c04': 'J', 'a46d29': 'J', 'ab5eb2': 'U', 'a9a399': 'J', 'addadb': 'J', 'a0f4b5': 'J', 'ad6ec6': 'J', '8990d8': 'J', 'abd17b': 'J', 'a45586': 'J', 'a0d561': 'J', '78100a': 'J', 'abebe0': 'J', 'a9b7c4': 'J', 'a870e2': 'J', '76cdba': 'J', 'abfdaf': 'J', '0d0b0d': 'J', 'a01f0d': 'J', 'ad9ac9': 'J', '7815f9': 'J', 'a01567': 'J', 'ad1560': 'J', 'a1f595': 'J', 'a422f7': 'J', 'a31a54': 'J', 'a699b0': 'U', 'a06010': 'J', '0d0866': 'J', '0d09bd': 'J', 'a45fb1': 'J', 'abb995': 'J', 'c07fb0': 'J', 'aa8c39': 'J', 'a29748': 'J', 'a28ee7': 'J', 'ad775d': 'J', 'a57d52': 'U', 'a54c60': 'J', 'c02eca': 'J', 'a445ee': 'J', 'a809f5': 'J', 'a56c24': 'J', '0d01a0': 'J', 'a83477': 'J', 'a7617e': 'J', 'a4dca4': 'J', 'ac21af': 'J', 'a6492f': 'J', 'aa7d2b': 'J', 'a6745a': 'J', 'a7b779': 'U', '0d0b8a': 'J', 'ac1701': 'J', 'a81a76': 'J', 'abf32f': 'U', 'a23914': 'J', 'a14c53': 'J', 'e8040c': 'J', 'a1d1d0': 'U', 'a4b9c7': 'J', 'a2a38e': 'J', 'a39ac7': 'J', 'a3a5d9': 'J', 'a24ba7': 'J', 'a715c6': 'J', 'a0fcd4': 'J', 'a01180': 'J', 'a5aa3a': 'J', 'a32e8c': 'J', 'a41c69': 'J', 'abfa65': 'J', 'ac7e80': 'J', 'a4200d': 'J', 'a524c5': 'J', '71c387': 'J', 'a655d7': 'J', 'a2886c': 'J', '71be38': 'U', '7580d6': 'J', '71be40': 'J', 'a89bab': 'J', 'abc91f': 'J', 'a7d39a': 'J', 'ad8ed4': 'U', 'a1dcf2': 'J', 'a29cbf': 'J', 'a71b43': 'J', 'a3b86c': 'J', '781e8a': 'J', 'a34878': 'J', 'ac058a': 'J', 'a0d6fb': 'J', 'a44943': 'J', 'a4b7d3': 'U', 'ad4fe1': 'J', 'abb2d5': 'J', 'ad0e61': 'J', 'a1460a': 'U', 'abdc9b': 'J', 'ac45ac': 'J', 'a61949': 'J', 'a4493d': 'J', 'ace785': 'U', 'a44938': 'J', 'a3a155': 'J', 'a1427f': 'J', 'a92c9d': 'J', '869210': 'J', '86e7e6': 'J', 'a445ef': 'J', 'a8a43a': 'J', 'aaa9b6': 'U', '06a1e6': 'J', 'a3524e': 'J', 'aa4252': 'U', 'acc23f': 'U', 'acd1f3': 'J', 'a4df56': 'J', 'a11bc8': 'J', 'a5050e': 'J', 'abc8d3': 'J', 'c058c0': 'J', 'a661bf': 'J', 'a4d7e4': 'J', '71bc23': 'J', 'a4f239': 'J', 'a89ccc': 'J', '867fac': 'J', '86d9da': 'J', 'c81e05': 'J', 'a2b810': 'U', 'ac1df7': 'J', 'acc774': 'J', 'a64ab0': 'J', 'a8453e': 'U', 'c045f1': 'J', 'a6705c': 'J', 'a3eeb0': 'J', 'a37d8d': 'J', 'a54c42': 'J', 'ad072c': 'J', 'ad6113': 'J', 'a12625': 'J', 'c002e4': 'J', 'a330a0': 'J', 'aa7abe': 'J', 'a34119': 'J', 'aa84cb': 'J', 'c07fbe': 'J', '0c2166': 'J', 'abc09e': 'J', 'ab6380': 'J', 'c030bb': 'J', '0d001e': 'J', 'a3411f': 'U', 'a02643': 'J', 'c08544': 'J', 'abb222': 'J', 'a3b4b5': 'J', 'a6d8e7': 'J', 'a3897f': 'J', 'ab5ed8': 'J', 'acda02': 'J', 'a5939c': 'J', 'c07e33': 'J', '780a3b': 'J', 'a14104': 'U', 'ad5395': 'J', 'a4493a': 'J', 'a851be': 'J', 'a11f5a': 'J', 'a80287': 'U', 'a1ce16': 'J', '86eea0': 'J', 'c080ae': 'J', '0d0de3': 'J', 'a73a47': 'J', '0d0b10': 'J', 'ab329e': 'J', 'acd65f': 'J', 'c0653f': 'J', 'ade543': 'J', 'a12c23': 'U', 'a7f286': 'J', '899031': 'J', 'ad694c': 'J', 'acb2ad': 'J', 'a10d1e': 'J', 'aae5f7': 'U', 'a57dd4': 'J', 'a76f46': 'J', '710106': 'J', 'a754b5': 'J', 'ac0e65': 'J', 'ab0962': 'J', '4aca66': 'U', '486071': 'J', 'a486d8': 'J', 'a34209': 'J', 'ac82f8': 'J', '4077d4': 'J', 'a459cd': 'T', 'ad2573': 'J', 'ab772d': 'U', 'abeeea': 'J', 'a29d93': 'J', 'a1bd6a': 'J', 'aa7757': 'J', 'a63df3': 'U', '394a05': 'J', '8005ae': 'J', '4ba947': 'J', 'abb1de': 'J', 'c0208a': 'J', 'ab0158': 'J', '4d0106': 'J', 'ad83b2': 'J', 'a418e0': 'J', 'ab79de': 'J', 'acea99': 'J', 'c07ee4': 'J', 'a46d70': 'J', 'a46e81': 'J', 'a90c14': 'J', 'aced23': 'J', 'a57796': 'J', 'accee2': 'U', 'a9d9f7': 'J', 'aa9bbf': 'J', 'aca788': 'J', 'aa2e6f': 'J', '781704': 'J', 'a0f99e': 'J', 'ad64cd': 'J', 'a728a8': 'J', 'ad44b9': 'U', '800429': 'J', '3949ee': 'J', 'a3f8b8': 'J', 'a44291': 'J', 'aa0d71': 'J', 'a74ff0': 'J', 'aa72d3': 'J', 'aa305f': 'J', '7580ef': 'J', 'aad981': 'J', 'a46d95': 'J', 'c0121e': 'J', 'a53b2b': 'U', 'a2b133': 'J', 'a14380': 'J', 'a1d93b': 'J', 'acd0c3': 'J', 'a7ef40': 'J', 'a9164c': 'J', '8990dd': 'J', 'a06bd3': 'J', 'a0e0fb': 'J', 'a6ee47': 'J', 'abdd91': 'J', '406b21': 'J', 'a67805': 'J', 'a7687b': 'J', 'a16273': 'J', 'ace96c': 'J', '406ecc': 'J', 'aa7e16': 'J', 'a5e44c': 'J', 'a9acb8': 'J', 'a8b848': 'U', 'aa9d6e': 'J', 'a9a4a7': 'U', 'aa2bc5': 'J', 'a13386': 'U', '48ae07': 'J', 'addf01': 'J', 'a41e94': 'J', 'a44940': 'J', 'a1cdd8': 'J', 'aaa2d3': 'J', 'a6d00b': 'U', 'a2bbac': 'J', '781161': 'J', 'a92384': 'J', 'e8022a': 'J', 'a0b5c5': 'J', 'a143e9': 'J', 'a912de': 'J', 'a0267b': 'J', 'ac38f5': 'J', 'adab38': 'J', 'ab9b13': 'J', 'a05c59': 'J', 'ac27a6': 'J', 'a4e4fd': 'J', 'a2228b': 'J', 'c07e32': 'U', 'aaad6d': 'J', 'a85119': 'J', 'a9c52e': 'J', 'acb1e5': 'J', '0d0b3e': 'J', 'c0103e': 'J', '0d0b91': 'J', 'a1f7fb': 'J', 'a81000': 'J', 'a13af4': 'U', 'a40cfc': 'J', 'abe00f': 'J', '0d0bbb': 'J', 'ad5d5c': 'J', '89912d': 'J', 'ad3e16': 'J', '0d0867': 'J', 'a1c557': 'U', 'ab4ba6': 'U', '769102': 'J', 'c0582b': 'J', '3c70b8': 'J', 'aa35e1': 'J', 'ac2931': 'J', 'a44988': 'J', 'a66576': 'J', '846def': 'J', '780233': 'J', 'a10fe8': 'J', 'a80cf8': 'J', 'a09fc4': 'J', 'a4ad90': 'J', 'a4f022': 'J', '7c806a': 'J', 'a276d3': 'J', 'adacc9': 'J', 'a43b77': 'J', 'ada6b9': 'J', 'a7fa2d': 'J', 'abc573': 'J', 'a2a823': 'J', 'acd961': 'U', 'aab09a': 'J', 'a101c3': 'J', 'a417af': 'J', 'abb1c2': 'J', 'a65220': 'J', 'aa4ac9': 'J', 'ab8f0d': 'J', 'a5bccd': 'J', 'ab879f': 'J', 'a37e5a': 'J', 'a6bd78': 'J', 'a3b796': 'J', 'abd559': 'J', 'a5c694': 'J', 'aaaddc': 'U', 'aba8fe': 'J', 'a542d7': 'J', 'aaed17': 'J', 'a704f9': 'J', 'aa7f8d': 'J', 'a717b6': 'J', 'ab52a2': 'J', 'a76f67': 'J', 'a8955e': 'J', 'acd135': 'J', 'ad8935': 'J', 'a2bb83': 'J', 'a8712a': 'J', '71be41': 'J', 'a8b926': 'J', '06a2de': 'J', 'ac91c2': 'J', 'a90af1': 'J', 'a0c9c7': 'J', 'a7f79b': 'J', 'ab635d': 'J', 'a73f35': 'J', 'acae88': 'J', 'adda24': 'J', 'aaffa2': 'J', 'a8c796': 'J', 'ad705e': 'J', '867fce': 'J', 'a36241': 'J', 'ac08fa': 'J', 'ad6b0e': 'J', 'a031bd': 'J', 'a7615f': 'J', 'a794e1': 'J', '4ba945': 'J', 'aa3ce7': 'J', 'a51b58': 'J', '780a28': 'U', 'a96122': 'J', 'ab905c': 'J', 'aa9e28': 'J', 'a3a67e': 'J', 'a48e3a': 'J', '781e2b': 'J', 'a898a9': 'U', 'adc17b': 'J', '86e86e': 'J', 'a689b8': 'J', 'c069d8': 'J', 'a438b0': 'J', 'a9961b': 'J', 'ab356b': 'J', 'ad535a': 'U', 'a1a832': 'J', 'a88429': 'J', 'adca15': 'J', '0d0979': 'J', 'c03b15': 'J', 'a9675d': 'J', '407798': 'J', '76cef0': 'J', '4406de': 'J', '0c20dc': 'J', 'a0a91e': 'J', 'a68e4c': 'J', 'a0ae75': 'U', '4cad46': 'J', 'a146f9': 'J', 'a3c15d': 'J', 'ab8862': 'J', 'a017a8': 'J', 'a2cb32': 'J', '406c3b': 'J', 'aabff4': 'J', '780f39': 'J', 'a2e51d': 'J', 'abe475': 'J', 'a03c7e': 'J', 'ab890a': 'J', 'abaf1e': 'J', 'acd650': 'J', '71c007': 'J', 'a8a319': 'J', '3c6516': 'J', 'abe147': 'J', 'aa600a': 'J', 'abdce1': 'J', 'a3599f': 'J', 'aa7b10': 'J', 'a4eeb4': 'J', 'a0f0aa': 'J', 'a5d648': 'U', 'ac7809': 'J', 'c03bf5': 'J', 'ac8e1a': 'J', 'c05271': 'J', 'a364f4': 'J', 'c058bb': 'J', '7811a2': 'J', 'a35914': 'U', '48436e': 'J', 'a4350c': 'J', 'ad1d3a': 'J', 'a8c6e1': 'J', 'a26738': 'J', '71c382': 'J', 'a63c13': 'J', '78921a': 'J', 'a4d9d8': 'J', 'a34ae6': 'U', '4ba95a': 'J', 'a10d82': 'J', 'a9bf32': 'J', 'a46d4a': 'J', '0d08ee': 'J', '407698': 'J', '0d0b1d': 'J', '47aec6': 'J', 'abdb35': 'J', 'aac0e2': 'J', 'a3b0db': 'J', 'a3c847': 'U', 'a88ccf': 'J', 'a08e46': 'J', 'a71724': 'J', 'a133b0': 'J', '39c495': 'J', '71bd78': 'J', '4ca7d8': 'J', '34718d': 'J', 'a481d7': 'J', 'a34e97': 'J', '71c218': 'J', 'a22482': 'U', 'a561fd': 'J', 'a388a9': 'J', 'acda07': 'J', 'a46d26': 'J', 'a86d2b': 'J', 'aa909a': 'J', 'c051e2': 'J', 'ad4fde': 'J', '71bc21': 'J', 'a335f4': 'J', 'ac0818': 'J', 'acef18': 'J', 'ab1839': 'J', '7807bc': 'J', 'a48322': 'J', 'a03f1e': 'J', 'ab1d96': 'J', 'a4d97e': 'J', '0d0760': 'J', 'c03069': 'J', 'aa92f9': 'J', 'a12861': 'J', 'a475a3': 'J', 'a14452': 'J', 'a36980': 'J', 'aa73c3': 'J', 'a8259b': 'J', 'aac10d': 'J', 'ad12e0': 'U', 'a52a99': 'J', '0d0c44': 'J', 'aa733b': 'J', 'a19a21': 'J', '440cdc': 'J', 'a0817c': 'J', '0d094c': 'J', 'ad4870': 'J', '0d0c86': 'J', 'ac1698': 'J', 'c051e6': 'J', 'a02c94': 'J', 'a8690a': 'J', 'c030fd': 'J', 'c05054': 'J', 'a3a0cc': 'J', '4d0104': 'J', 'a4df52': 'J', 'a3a0cf': 'J', 'ac8577': 'J', 'a1f557': 'J', 'aca1da': 'U', 'ac8641': 'J', 'ad9642': 'J', 'c0481d': 'J', 'aae3d5': 'J', 'a58c35': 'J', 'a31a57': 'J', 'a3d767': 'J', 'a7da9c': 'J', '71bc17': 'J', 'a12c42': 'J', 'a801d3': 'J', 'a2dce1': 'J', 'a64cdb': 'J', '8990df': 'J', '7c1472': 'J', 'aa7e2e': 'J', 'a1b162': 'J', 'a43f51': 'J', '7c1479': 'J', 'ad08bd': 'J', 'a4e146': 'J', 'e80211': 'J', 'a0a457': 'J', 'a25cdc': 'J', 'a5954e': 'J', 'a3f133': 'J', 'ab44a7': 'J', 'aa9723': 'J', 'a45b96': 'J', 'e8026c': 'J', 'ab5afe': 'U', 'a80dac': 'J', '0d0804': 'J', 'ac0c24': 'J', 'a973e0': 'J', 'ad3994': 'J', 'ab83e8': 'J', 'a20433': 'J', 'a57ad0': 'J', 'ac23ef': 'J', 'a2af91': 'J', 'a3c775': 'J', 'aa6ed1': 'J', 'aa568f': 'J', 'acf486': 'J', 'a2f584': 'J', '780ada': 'U', 'ac250b': 'J', 'a81f1f': 'J', 'a842a9': 'J', 'a55b3c': 'U', 'a84a7b': 'J', '71c383': 'J', 'abd1c5': 'J', '461f57': 'J', 'abd230': 'J', 'ab34ea': 'J', 'c01c52': 'J', 'adbe40': 'J', '06a2e3': 'J', 'ac30c0': 'J', 'a7a59f': 'J', 'a379cd': 'J', 'a104c3': 'U', '78071b': 'J', 'a85ce8': 'J', 'aa7e51': 'J', '8682da': 'J', '86e430': 'J', 'ab013c': 'J', 'c0502e': 'J', 'ab1644': 'J', 'a3df1e': 'J', 'ad1983': 'J', 'a98f6a': 'J', '4ba953': 'J', 'a22bf0': 'J', 'aa56b6': 'J', '0d07f7': 'J', 'ace175': 'U', 'a8a3ce': 'J', '4843f2': 'J', '780232': 'U', 'ad4873': 'J', '76cdc3': 'J', 'c07ee0': 'J', 'aa0a43': 'J', 'aba6e6': 'J', '407799': 'J', 'a1ee27': 'J', 'aa8a07': 'J', 'a63afa': 'J', '3c4b23': 'J', 'c021f6': 'J', '899022': 'J', 'aafbf2': 'J', 'a8754d': 'U', 'aa2e2d': 'U', 'aae132': 'J', 'c8273f': 'J', '758309': 'J', '0d0ba3': 'U', 'a9249c': 'J', 'aa269d': 'J', 'a91e6e': 'J', 'a7b444': 'J', '06a0ea': 'J', 'a781a0': 'J', '48ae01': 'J', 'ad0083': 'J', 'adc313': 'J', 'a414fb': 'J', 'a445d9': 'U', 'a3a204': 'J', 'aa25a6': 'J', 'a1fcc5': 'J', 'ab80f4': 'J', 'a310bb': 'J', 'a762d3': 'J', '3c6515': 'J', 'aa6a76': 'J', 'a04bbe': 'J', 'ab975c': 'J', 'a33743': 'J', 'abd8c1': 'J', 'a403df': 'J', 'a9d626': 'J', 'a26381': 'J', 'a5ec61': 'U', '7811a3': 'J', 'c07e59': 'J', '394a06': 'J', 'a302a0': 'J', 'c029dd': 'J', 'a00e0d': 'J', 'a1500a': 'J', 'aa7426': 'J', 'aa7df3': 'J', '4ba94a': 'J', 'ab2729': 'J', 'a5e29a': 'J', '3c64ec': 'J', 'a4e788': 'J', 'abf8e0': 'J', 'a46ce1': 'J', 'a4077d': 'U', 'aa5d60': 'J', 'aaa593': 'J', '780b7e': 'J', '3c458e': 'J', 'a0a6e9': 'J', 'a60bcb': 'U', 'a88ea1': 'J', '78188a': 'J', 'acceab': 'J', 'a4b8bf': 'J', 'acf686': 'J', 'a346d8': 'J', 'a797d9': 'J', '71be23': 'J', 'ad4584': 'J', '34510a': 'J', 'a4fbf5': 'J', 'a9a901': 'J', 'add2b6': 'J', 'a163f2': 'J', 'a5ae2f': 'J', 'abf66c': 'J', 'a7869b': 'J', 'ad8b1d': 'U', 'a7bbe9': 'U', 'a95fef': 'J', 'a7197d': 'J', '4075b4': 'J', 'aa79a6': 'J', 'a39d95': 'J', 'a82540': 'J', 'ac9113': 'J', 'aab1d2': 'J', 'abe501': 'J', 'a11d47': 'J', 'c030ef': 'J', 'a1aa4e': 'J', 'a4ef58': 'J', 'a86e1d': 'J', 'a0bcb2': 'J', 'ad285f': 'J', 'c06120': 'J', 'ac0048': 'J', 'ab19fb': 'J', '76cdb7': 'J', 'ac5569': 'J', 'ac04f5': 'J', '0d081c': 'U', 'a96ba2': 'J', 'a11f9d': 'J', 'a9034c': 'J', 'c050ae': 'J', 'a4455e': 'J', 'aaea84': 'J', 'aa7e56': 'J', 'a220cb': 'J', 'abfd66': 'J', 'a5adf1': 'J', 'a55017': 'J', 'aa2abc': 'J', 'a08663': 'J', '0d0806': 'J', 'a36851': 'J', 'ab8180': 'J', 'a6280c': 'J', 'ad7f96': 'J', 'a36e61': 'J', 'ad2862': 'J', 'a3ff26': 'J', 'a8b44e': 'J', 'a1ecff': 'J', 'c050c0': 'U', 'c06081': 'U', '0c20f6': 'J', 'aca5e5': 'J', 'a94b6b': 'U', 'a1c82a': 'J', 'ad5fea': 'J', 'a0ebab': 'J', 'a3cc82': 'J', 'a1fbb2': 'J', 'a2380f': 'J', 'ac3f7d': 'J', 'a227a7': 'J', '780c5c': 'J', 'a1fb1a': 'J', 'a7b07c': 'J', '846333': 'J', 'a0cab1': 'J', 'aa0559': 'J', 'a300a9': 'J', 'a7a25f': 'J', 'a7818f': 'J', 'ac8e89': 'J', 'a7d2ae': 'J', 'a1f794': 'J', 'a200ba': 'J', 'aa56d5': 'J', 'a3338c': 'J', 'ac210e': 'J', '06a129': 'J', 'ab3c15': 'J', 'a48e46': 'J', 'a075a3': 'J', 'abfc97': 'J', '0d09a3': 'J', 'a44c70': 'J', 'a4417d': 'J', 'a506d5': 'J', 'a042d5': 'J', 'a5fcef': 'J', 'a0a8df': 'J', '71ba04': 'J', 'ad4171': 'J', 'aa3226': 'J', 'abd8a5': 'J', '06a1e9': 'J', 'a2b112': 'J', 'ab5a01': 'J', 'a30d6b': 'J', 'abc3c6': 'U', 'a31122': 'J', 'ac3beb': 'J', 'abff3c': 'J', 'a1ea5a': 'J', 'c038c8': 'J', 'a6a6b7': 'J', 'ac76f2': 'J', 'c07fb9': 'J', 'a81abe': 'J', 'a402dd': 'J', 'ab0416': 'J', 'aa0aab': 'J', 'a07dc8': 'J', 'a5829d': 'J', 'a789bc': 'J', 'aaed0d': 'J', '4243f9': 'J', 'a8ce4f': 'J', 'a0c5c6': 'J', 'aa56f8': 'J', 'c07676': 'J', 'ac6bd0': 'J', '86e780': 'J', '76cee2': 'J', 'a326d1': 'J', 'a7d32e': 'U', 'ad9b28': 'J', 'aca3d1': 'U', '780b7d': 'J', 'a6b55a': 'J', 'a517a1': 'J', 'a51358': 'J', 'a403f4': 'J', '0d0030': 'J', '7816b5': 'J', 'aa6e58': 'J', 'aa7833': 'U', 'a591d5': 'J', '0c20df': 'J', 'a0e220': 'J', 'a583f5': 'J', 'a85ff5': 'U', 'c0669e': 'J', 'a93711': 'J', 'ad0919': 'J', '89916b': 'J', '0d0b78': 'J', 'a793b1': 'J', 'aa4903': 'J', '8964e3': 'U', 'a4503d': 'U', 'c03330': 'J', '780fda': 'J', '3c582f': 'J', 'aa4c87': 'U', 'a35dfc': 'J', '484369': 'J', 'abd60b': 'J', 'a23fb9': 'J', '3450d6': 'J', 'a70c67': 'J', 'aa649c': 'J', 'aa3839': 'J', 'c07a29': 'J', '7100c8': 'J', 'a48379': 'J', 'acae2b': 'J', 'a0056a': 'J', 'a34ae0': 'J', 'aac2e2': 'J', 'aa1219': 'J', '3c6704': 'J', 'a39d4d': 'J', '71c208': 'J', 'a0d72b': 'J', '78076b': 'U', 'ab674b': 'J', '4ba94e': 'J', '406d4d': 'J', 'a6fb32': 'J', 'acdc5a': 'J', '3c64c3': 'J', 'a55b0c': 'J', 'a49d22': 'J', 'a0f4a2': 'J', 'a8d4cc': 'J', 'a05b53': 'J', 'abf3b8': 'J', 'a3a503': 'J', 'a0ae57': 'J', 'ab6efc': 'J', 'a0de99': 'J', 'a57ee6': 'J', 'aabf80': 'J', '89901c': 'J', 'abaaa8': 'J', '71bc19': 'J', 'ade66f': 'J', 'aa3908': 'J', 'a3c514': 'J', '4075b3': 'J', 'a50c7c': 'J', '75827b': 'J', 'a2bec7': 'J', 'a74a5a': 'J', 'c058d5': 'J', 'a445f2': 'U', 'a6d87f': 'J', 'a3c9c5': 'J', 'a05f59': 'J', 'aae960': 'J', 'c064d8': 'J', 'ac07dc': 'J', 'abebbe': 'J', 'a3ec93': 'J', 'a39511': 'J', 'ad734a': 'J', 'a675e8': 'J', 'a6ab27': 'J', 'a61219': 'J', 'a0a900': 'U', 'aced21': 'J', 'a4c4ae': 'J', 'ac00b1': 'J', 'a9d5df': 'J', 'a73220': 'J', '0d0932': 'J', '0d09ce': 'J', '0d0934': 'J', 'a4960c': 'U', 'a01724': 'J', 'aa7b54': 'J', 'ac0aac': 'J', 'a582bb': 'J', 'a923a7': 'J', '4d0105': 'J', 'abd994': 'J', 'a95ca4': 'J', 'a5818b': 'J', '0d0cf3': 'J', '780a3e': 'J', 'a23a03': 'J', 'a7a90e': 'J', 'ac10af': 'J', 'a0e4b2': 'J', 'a5b18a': 'J', 'a018ee': 'J', 'a02413': 'J', 'aaa0fc': 'J', 'a3b87f': 'J', 'a81815': 'J', 'a44031': 'U', 'a4e7fb': 'J', '0d0a26': 'J', 'a93e7f': 'J', 'a1b519': 'J', 'a486cc': 'J', 'a44d1c': 'J', 'abb54f': 'J', 'ac0fdc': 'J', 'a1ede9': 'J', 'abe930': 'J', 'ad1d3d': 'J', 'aaf4c8': 'J', 'abfe1c': 'J', 'a695ea': 'U', 'a5f938': 'J', 'abb5e2': 'J', 'a7706b': 'J', 'ad0f29': 'J', 'adddd5': 'J', 'a1239c': 'J', 'a99686': 'J', '71be26': 'J', '0d09d7': 'T', '06a0de': 'J', '78141e': 'J', 'c02ee9': 'J', 'a72831': 'J', 'a7456c': 'J', 'abc1bc': 'J', 'a47597': 'J', 'ac1988': 'J', 'a78605': 'J', '424637': 'U', 'c07fe9': 'J', 'abab67': 'J', 'a44591': 'J', 'ad7633': 'J', '86e4da': 'J', 'aab109': 'J', 'a12d48': 'J', 'a3a0ca': 'J', 'a582f9': 'J', 'a44939': 'J', '4851ae': 'J', 'a2c087': 'J', 'c06709': 'J', 'ace7aa': 'J', 'a7b520': 'J', 'c01c28': 'J', 'a03f24': 'J', 'a44cca': 'J', 'c07e62': 'J', '3c71a4': 'J', '76cdc2': 'J', 'a3c5fd': 'J', '3965a1': 'J', 'ad340d': 'J', '406b4a': 'J', 'abc4d8': 'J', '3c4b32': 'J', '780504': 'J', 'ace0cf': 'J', 'a981c4': 'J', 'ac048d': 'J', 'a399de': 'J', 'aa739e': 'J', '8990f4': 'J', 'a9a573': 'J', 'abe79d': 'J', 'ab1ffe': 'J', 'a78d73': 'J', '406b0a': 'J', 'a63f8b': 'J', '71c010': 'J', 'a6c3ca': 'J', 'a23200': 'J', 'a369af': 'J', 'a4493c': 'J', 'ab3da7': 'J', 'c07b0a': 'J', 'c080e0': 'J', '48436f': 'J', 'a5d570': 'J', '3c6509': 'J', '4d0131': 'J', 'a874e1': 'J', 'a000fd': 'J', 'a29625': 'J', 'a0b199': 'J', 'ad2f1a': 'J', 'abadd6': 'J', '8990e6': 'J', '5002b8': 'J', '780ab6': 'J', 'a3b4c7': 'J', 'c07b09': 'J', 'ad01ab': 'J', 'a44ddc': 'J', 'c0776b': 'J', 'a0d5d6': 'U', 'a41b89': 'J', '47b02f': 'J', 'a060ae': 'J', 'aa5bc4': 'J', 'a5f536': 'J', 'a6bfeb': 'T', 'a1c2b3': 'J', 'a0acff': 'J', 'a1211d': 'J', 'ad906f': 'J', 'a23ccb': 'J', 'a3cf4f': 'J', 'ac5920': 'J', '3c4588': 'J', 'a1e2c4': 'J', 'a77b76': 'U', 'a57b8b': 'J', 'ab805a': 'J', 'aaa32d': 'J', 'aa10ba': 'J', 'a037b9': 'J', 'acc02b': 'J', 'a51f0f': 'U', 'a96577': 'J', '7c8065': 'J', 'c0583f': 'J', 'a1f1a0': 'J', '780994': 'U', '406e10': 'J', 'ac0bde': 'J', 'a7b3c2': 'U', 'a08efd': 'J', 'ace6e2': 'J', 'abb459': 'U', 'abefba': 'J', 'a63722': 'J', 'a0acf9': 'J', 'acdd18': 'J', 'aa7e99': 'J', 'ac72e4': 'J', 'a8d4ef': 'J', 'a6246e': 'J', 'aa97d1': 'J', 'abfd23': 'J', 'ac7a52': 'J', 'c05067': 'J', 'aa7b78': 'J', 'a2ded8': 'J', 'ad1cde': 'U', 'c051e4': 'J', 'ac101f': 'U', 'a1ae05': 'J', 'a35e5b': 'U', 'a52e5b': 'J', 'abb972': 'J', 'a445f0': 'J', 'a6dd12': 'J', 'a85887': 'J', 'ac249e': 'J', 'a7cc2c': 'J', 'a95665': 'J', '4d0111': 'J', 'a678cf': 'J'}\n"
     ]
    }
   ],
   "source": [
    "perfCat = {}\n",
    "for msc in fil_iff_hd['modeSCode'].unique().tolist():\n",
    "    if msc in fil_iff_fl['modeSCode'].unique().tolist():\n",
    "        perfCat[msc] = fil_iff_fl.loc[fil_iff_fl['modeSCode'] == msc]['perfCat'].iloc[0]\n",
    "    else:\n",
    "        perfCat[msc] = np.nan\n",
    "print(perfCat)"
   ]
  },
  {
   "cell_type": "code",
   "execution_count": 11,
   "metadata": {},
   "outputs": [
    {
     "name": "stderr",
     "output_type": "stream",
     "text": [
      "/var/folders/62/f84_mp192073x9pd72l46fth0000gn/T/ipykernel_2479/2083282824.py:1: SettingWithCopyWarning: \n",
      "A value is trying to be set on a copy of a slice from a DataFrame.\n",
      "Try using .loc[row_indexer,col_indexer] = value instead\n",
      "\n",
      "See the caveats in the documentation: https://pandas.pydata.org/pandas-docs/stable/user_guide/indexing.html#returning-a-view-versus-a-copy\n",
      "  fil_iff_hd['perfCat'] = fil_iff_hd['modeSCode'].map(perfCat)\n"
     ]
    },
    {
     "data": {
      "text/html": [
       "<div>\n",
       "<style scoped>\n",
       "    .dataframe tbody tr th:only-of-type {\n",
       "        vertical-align: middle;\n",
       "    }\n",
       "\n",
       "    .dataframe tbody tr th {\n",
       "        vertical-align: top;\n",
       "    }\n",
       "\n",
       "    .dataframe thead th {\n",
       "        text-align: right;\n",
       "    }\n",
       "</style>\n",
       "<table border=\"1\" class=\"dataframe\">\n",
       "  <thead>\n",
       "    <tr style=\"text-align: right;\">\n",
       "      <th></th>\n",
       "      <th>recTime</th>\n",
       "      <th>fltKey</th>\n",
       "      <th>bcnCode</th>\n",
       "      <th>source</th>\n",
       "      <th>AcId</th>\n",
       "      <th>acType</th>\n",
       "      <th>Orig</th>\n",
       "      <th>Dest</th>\n",
       "      <th>OpsType</th>\n",
       "      <th>estOrig</th>\n",
       "      <th>estDest</th>\n",
       "      <th>modeSCode</th>\n",
       "      <th>perfCat</th>\n",
       "    </tr>\n",
       "  </thead>\n",
       "  <tbody>\n",
       "    <tr>\n",
       "      <th>2</th>\n",
       "      <td>1.641023e+09</td>\n",
       "      <td>119420</td>\n",
       "      <td>1071.0</td>\n",
       "      <td>LAX</td>\n",
       "      <td>ASA846</td>\n",
       "      <td>B738</td>\n",
       "      <td>NaN</td>\n",
       "      <td>LAX</td>\n",
       "      <td>A</td>\n",
       "      <td>NaN</td>\n",
       "      <td>LAX</td>\n",
       "      <td>a784d5</td>\n",
       "      <td>J</td>\n",
       "    </tr>\n",
       "    <tr>\n",
       "      <th>3</th>\n",
       "      <td>1.641023e+09</td>\n",
       "      <td>119421</td>\n",
       "      <td>2467.0</td>\n",
       "      <td>LAX</td>\n",
       "      <td>UAL466</td>\n",
       "      <td>B738</td>\n",
       "      <td>NaN</td>\n",
       "      <td>LAX</td>\n",
       "      <td>A</td>\n",
       "      <td>NaN</td>\n",
       "      <td>LAX</td>\n",
       "      <td>aa7e7b</td>\n",
       "      <td>J</td>\n",
       "    </tr>\n",
       "    <tr>\n",
       "      <th>5</th>\n",
       "      <td>1.641024e+09</td>\n",
       "      <td>119424</td>\n",
       "      <td>2457.0</td>\n",
       "      <td>LAX</td>\n",
       "      <td>HAL62</td>\n",
       "      <td>A21N</td>\n",
       "      <td>NaN</td>\n",
       "      <td>LAX</td>\n",
       "      <td>A</td>\n",
       "      <td>NaN</td>\n",
       "      <td>LAX</td>\n",
       "      <td>a1a546</td>\n",
       "      <td>J</td>\n",
       "    </tr>\n",
       "    <tr>\n",
       "      <th>17</th>\n",
       "      <td>1.641024e+09</td>\n",
       "      <td>119437</td>\n",
       "      <td>2125.0</td>\n",
       "      <td>LAX</td>\n",
       "      <td>JBU2886</td>\n",
       "      <td>A321</td>\n",
       "      <td>NaN</td>\n",
       "      <td>LAX</td>\n",
       "      <td>A</td>\n",
       "      <td>NaN</td>\n",
       "      <td>LAX</td>\n",
       "      <td>adcd6d</td>\n",
       "      <td>J</td>\n",
       "    </tr>\n",
       "    <tr>\n",
       "      <th>18</th>\n",
       "      <td>1.641024e+09</td>\n",
       "      <td>119438</td>\n",
       "      <td>1716.0</td>\n",
       "      <td>LAX</td>\n",
       "      <td>NKS1157</td>\n",
       "      <td>A319</td>\n",
       "      <td>NaN</td>\n",
       "      <td>LAX</td>\n",
       "      <td>A</td>\n",
       "      <td>NaN</td>\n",
       "      <td>LAX</td>\n",
       "      <td>a6b1a3</td>\n",
       "      <td>J</td>\n",
       "    </tr>\n",
       "  </tbody>\n",
       "</table>\n",
       "</div>"
      ],
      "text/plain": [
       "         recTime  fltKey  bcnCode source     AcId acType Orig Dest OpsType  \\\n",
       "2   1.641023e+09  119420   1071.0    LAX   ASA846   B738  NaN  LAX       A   \n",
       "3   1.641023e+09  119421   2467.0    LAX   UAL466   B738  NaN  LAX       A   \n",
       "5   1.641024e+09  119424   2457.0    LAX    HAL62   A21N  NaN  LAX       A   \n",
       "17  1.641024e+09  119437   2125.0    LAX  JBU2886   A321  NaN  LAX       A   \n",
       "18  1.641024e+09  119438   1716.0    LAX  NKS1157   A319  NaN  LAX       A   \n",
       "\n",
       "   estOrig estDest modeSCode perfCat  \n",
       "2      NaN     LAX    a784d5       J  \n",
       "3      NaN     LAX    aa7e7b       J  \n",
       "5      NaN     LAX    a1a546       J  \n",
       "17     NaN     LAX    adcd6d       J  \n",
       "18     NaN     LAX    a6b1a3       J  "
      ]
     },
     "execution_count": 11,
     "metadata": {},
     "output_type": "execute_result"
    }
   ],
   "source": [
    "fil_iff_hd['perfCat'] = fil_iff_hd['modeSCode'].map(perfCat)\n",
    "fil_iff_hd.head()"
   ]
  },
  {
   "cell_type": "code",
   "execution_count": 12,
   "metadata": {},
   "outputs": [
    {
     "data": {
      "text/plain": [
       "J    133921\n",
       "U     35674\n",
       "P      4160\n",
       "T      1415\n",
       "Name: perfCat, dtype: int64"
      ]
     },
     "execution_count": 12,
     "metadata": {},
     "output_type": "execute_result"
    }
   ],
   "source": [
    "fil_iff_fl['perfCat'].value_counts()"
   ]
  },
  {
   "cell_type": "code",
   "execution_count": 13,
   "metadata": {},
   "outputs": [
    {
     "data": {
      "text/plain": [
       "3023      ad2d46\n",
       "3024      ad2d46\n",
       "3025      ad2d46\n",
       "3377      a63b0b\n",
       "3378      a63b0b\n",
       "           ...  \n",
       "186765    a9b423\n",
       "187074    acd03d\n",
       "187075    acd03d\n",
       "187076    acd03d\n",
       "187077    acd03d\n",
       "Name: modeSCode, Length: 4160, dtype: object"
      ]
     },
     "execution_count": 13,
     "metadata": {},
     "output_type": "execute_result"
    }
   ],
   "source": [
    "fil_iff_fl.loc[fil_iff_fl['perfCat'] == 'P']['modeSCode']"
   ]
  },
  {
   "cell_type": "code",
   "execution_count": 14,
   "metadata": {},
   "outputs": [
    {
     "data": {
      "text/plain": [
       "J    6980\n",
       "U     602\n",
       "T      40\n",
       "P       2\n",
       "Name: perfCat, dtype: int64"
      ]
     },
     "execution_count": 14,
     "metadata": {},
     "output_type": "execute_result"
    }
   ],
   "source": [
    "fil_iff_hd['perfCat'].value_counts()"
   ]
  },
  {
   "cell_type": "code",
   "execution_count": 15,
   "metadata": {},
   "outputs": [
    {
     "data": {
      "text/html": [
       "<div>\n",
       "<style scoped>\n",
       "    .dataframe tbody tr th:only-of-type {\n",
       "        vertical-align: middle;\n",
       "    }\n",
       "\n",
       "    .dataframe tbody tr th {\n",
       "        vertical-align: top;\n",
       "    }\n",
       "\n",
       "    .dataframe thead th {\n",
       "        text-align: right;\n",
       "    }\n",
       "</style>\n",
       "<table border=\"1\" class=\"dataframe\">\n",
       "  <thead>\n",
       "    <tr style=\"text-align: right;\">\n",
       "      <th></th>\n",
       "      <th>recTime</th>\n",
       "      <th>fltKey</th>\n",
       "      <th>bcnCode</th>\n",
       "      <th>source</th>\n",
       "      <th>AcId</th>\n",
       "      <th>acType</th>\n",
       "      <th>Orig</th>\n",
       "      <th>Dest</th>\n",
       "      <th>OpsType</th>\n",
       "      <th>estOrig</th>\n",
       "      <th>estDest</th>\n",
       "      <th>modeSCode</th>\n",
       "      <th>perfCat</th>\n",
       "    </tr>\n",
       "  </thead>\n",
       "  <tbody>\n",
       "  </tbody>\n",
       "</table>\n",
       "</div>"
      ],
      "text/plain": [
       "Empty DataFrame\n",
       "Columns: [recTime, fltKey, bcnCode, source, AcId, acType, Orig, Dest, OpsType, estOrig, estDest, modeSCode, perfCat]\n",
       "Index: []"
      ]
     },
     "execution_count": 15,
     "metadata": {},
     "output_type": "execute_result"
    }
   ],
   "source": [
    "fil_iff_hd.loc[fil_iff_hd['modeSCode'] == 'a4b423']"
   ]
  },
  {
   "cell_type": "code",
   "execution_count": 16,
   "metadata": {},
   "outputs": [
    {
     "data": {
      "text/plain": [
       "(7624, 13)"
      ]
     },
     "execution_count": 16,
     "metadata": {},
     "output_type": "execute_result"
    }
   ],
   "source": [
    "fil_iff_hd.shape"
   ]
  },
  {
   "cell_type": "markdown",
   "metadata": {},
   "source": [
    "#### 3. Merge IFF dataframes into single df and output to csv"
   ]
  },
  {
   "cell_type": "code",
   "execution_count": 17,
   "metadata": {},
   "outputs": [
    {
     "name": "stdout",
     "output_type": "stream",
     "text": [
      "IFF_Header:  Index(['recTime', 'fltKey', 'bcnCode', 'source', 'AcId', 'acType', 'Orig',\n",
      "       'Dest', 'OpsType', 'estOrig', 'estDest', 'modeSCode', 'perfCat'],\n",
      "      dtype='object') \n",
      "IFF_Track:  Index(['recTime', 'fltKey', 'bcnCode', 'AcId', 'coord1', 'coord2', 'alt',\n",
      "       'significance', 'coord1Accur', 'coord2Accur', 'groundSpeed', 'course',\n",
      "       'rateOfClimb', 'scratchPad', 'airportCode', 'trackNumber', 'modeSCode'],\n",
      "      dtype='object') \n",
      "IFF_Flight:  Index(['recTime', 'fltKey', 'bcnCode', 'source', 'AcId', 'acType', 'perfCat',\n",
      "       'equipList', 'scratchPad1', 'scratchPad2', 'trackNumber', 'modeSCode'],\n",
      "      dtype='object')\n"
     ]
    }
   ],
   "source": [
    "print(\"IFF_Header: \", fil_iff_hd.columns, '\\nIFF_Track: ', fil_iff_tr.columns, '\\nIFF_Flight: ', fil_iff_fl.columns)"
   ]
  },
  {
   "cell_type": "markdown",
   "metadata": {},
   "source": [
    "# Filtering by significance"
   ]
  },
  {
   "cell_type": "code",
   "execution_count": 18,
   "metadata": {},
   "outputs": [],
   "source": [
    "significances = []\n",
    "lengths = []\n",
    "sig_dfs = []\n",
    "for i in range(1, 10):\n",
    "    significances.append(i)\n",
    "    sig_df = fil_iff_tr[fil_iff_tr['significance'] <= i]\n",
    "    lengths.append(len(sig_df))\n",
    "    sig_dfs.append(sig_df)\n",
    "    \n",
    "# Adding sig 10 to not crash notebook\n",
    "significances.append(10)\n",
    "lengths.append(len(fil_iff_tr))"
   ]
  },
  {
   "cell_type": "markdown",
   "metadata": {},
   "source": [
    "* Even removing ONLY significance 10 removes about half of all data points"
   ]
  },
  {
   "cell_type": "code",
   "execution_count": 19,
   "metadata": {},
   "outputs": [
    {
     "name": "stdout",
     "output_type": "stream",
     "text": [
      "4883146.5\n"
     ]
    }
   ],
   "source": [
    "halfway_line = .5*lengths[-1]\n",
    "print(halfway_line)"
   ]
  },
  {
   "cell_type": "code",
   "execution_count": 20,
   "metadata": {},
   "outputs": [
    {
     "data": {
      "image/png": "[encoded data removed]",
      "text/plain": [
       "<Figure size 640x480 with 1 Axes>"
      ]
     },
     "metadata": {},
     "output_type": "display_data"
    }
   ],
   "source": [
    "fig = plt.figure()\n",
    "plt.semilogy(significances, lengths)\n",
    "plt.axhline(y=halfway_line, color='r', linestyle='--', label='50% of total track points')\n",
    "plt.title('Number of Track Points at or Below Significance Threshold')\n",
    "plt.xlabel('Track Point Significance')\n",
    "plt.ylabel('Number of Track Points')\n",
    "plt.xticks(range(len(significances)+1), range(len(significances)+1))\n",
    "plt.legend()\n",
    "\n",
    "# Save the figure\n",
    "fig.savefig('Significance.png', dpi=300, bbox_inches='tight')\n",
    "\n",
    "plt.show()"
   ]
  },
  {
   "cell_type": "markdown",
   "metadata": {},
   "source": [
    "* List of number of points and the significance cut-off\n",
    "* Since we care about the flight descent, we will start with significance 5 to cut off a lot of data and hopefully still find the top of descent (TOD) event"
   ]
  },
  {
   "cell_type": "code",
   "execution_count": 21,
   "metadata": {},
   "outputs": [
    {
     "name": "stdout",
     "output_type": "stream",
     "text": [
      "2268585 1\n",
      "2941138 2\n",
      "3430268 3\n",
      "3667116 4\n",
      "3875091 5\n",
      "4076989 6\n",
      "4379065 7\n",
      "4772023 8\n",
      "5604937 9\n",
      "9766293 10\n"
     ]
    }
   ],
   "source": [
    "print('\\n'.join(f'{l} {s}' for l, s in zip(lengths, significances)))"
   ]
  },
  {
   "cell_type": "markdown",
   "metadata": {},
   "source": [
    "# EDIT THIS TO CHOOSE WHAT DF TO SAVE"
   ]
  },
  {
   "cell_type": "code",
   "execution_count": 22,
   "metadata": {},
   "outputs": [
    {
     "name": "stdout",
     "output_type": "stream",
     "text": [
      "3875091\n"
     ]
    }
   ],
   "source": [
    "fil_iff_tr = sig_dfs[4]\n",
    "print(len(fil_iff_tr))"
   ]
  },
  {
   "cell_type": "markdown",
   "metadata": {},
   "source": [
    "# Making a Primary Key"
   ]
  },
  {
   "cell_type": "code",
   "execution_count": 23,
   "metadata": {},
   "outputs": [
    {
     "data": {
      "text/html": [
       "<div>\n",
       "<style scoped>\n",
       "    .dataframe tbody tr th:only-of-type {\n",
       "        vertical-align: middle;\n",
       "    }\n",
       "\n",
       "    .dataframe tbody tr th {\n",
       "        vertical-align: top;\n",
       "    }\n",
       "\n",
       "    .dataframe thead th {\n",
       "        text-align: right;\n",
       "    }\n",
       "</style>\n",
       "<table border=\"1\" class=\"dataframe\">\n",
       "  <thead>\n",
       "    <tr style=\"text-align: right;\">\n",
       "      <th></th>\n",
       "      <th>recTime</th>\n",
       "      <th>fltKey</th>\n",
       "      <th>bcnCode</th>\n",
       "      <th>AcId</th>\n",
       "      <th>coord1</th>\n",
       "      <th>coord2</th>\n",
       "      <th>alt</th>\n",
       "      <th>significance</th>\n",
       "      <th>coord1Accur</th>\n",
       "      <th>coord2Accur</th>\n",
       "      <th>groundSpeed</th>\n",
       "      <th>course</th>\n",
       "      <th>rateOfClimb</th>\n",
       "      <th>scratchPad</th>\n",
       "      <th>airportCode</th>\n",
       "      <th>trackNumber</th>\n",
       "      <th>modeSCode</th>\n",
       "    </tr>\n",
       "  </thead>\n",
       "  <tbody>\n",
       "    <tr>\n",
       "      <th>0</th>\n",
       "      <td>1.641022e+09</td>\n",
       "      <td>119416</td>\n",
       "      <td>1027.0</td>\n",
       "      <td>SIA35</td>\n",
       "      <td>33.94005</td>\n",
       "      <td>-118.41064</td>\n",
       "      <td>1.06</td>\n",
       "      <td>1</td>\n",
       "      <td>0.1</td>\n",
       "      <td>0.1</td>\n",
       "      <td>9.0</td>\n",
       "      <td>348</td>\n",
       "      <td>0.0</td>\n",
       "      <td>unassigned</td>\n",
       "      <td>NaN</td>\n",
       "      <td>574.0</td>\n",
       "      <td>76cda2</td>\n",
       "    </tr>\n",
       "  </tbody>\n",
       "</table>\n",
       "</div>"
      ],
      "text/plain": [
       "        recTime  fltKey  bcnCode   AcId    coord1     coord2   alt  \\\n",
       "0  1.641022e+09  119416   1027.0  SIA35  33.94005 -118.41064  1.06   \n",
       "\n",
       "   significance  coord1Accur  coord2Accur  groundSpeed  course  rateOfClimb  \\\n",
       "0             1          0.1          0.1          9.0     348          0.0   \n",
       "\n",
       "   scratchPad airportCode  trackNumber modeSCode  \n",
       "0  unassigned         NaN        574.0    76cda2  "
      ]
     },
     "execution_count": 23,
     "metadata": {},
     "output_type": "execute_result"
    }
   ],
   "source": [
    "fil_iff_tr.head(1)"
   ]
  },
  {
   "cell_type": "code",
   "execution_count": 24,
   "metadata": {},
   "outputs": [
    {
     "data": {
      "text/html": [
       "<div>\n",
       "<style scoped>\n",
       "    .dataframe tbody tr th:only-of-type {\n",
       "        vertical-align: middle;\n",
       "    }\n",
       "\n",
       "    .dataframe tbody tr th {\n",
       "        vertical-align: top;\n",
       "    }\n",
       "\n",
       "    .dataframe thead th {\n",
       "        text-align: right;\n",
       "    }\n",
       "</style>\n",
       "<table border=\"1\" class=\"dataframe\">\n",
       "  <thead>\n",
       "    <tr style=\"text-align: right;\">\n",
       "      <th></th>\n",
       "      <th>recTime</th>\n",
       "      <th>fltKey</th>\n",
       "      <th>bcnCode</th>\n",
       "      <th>source</th>\n",
       "      <th>AcId</th>\n",
       "      <th>acType</th>\n",
       "      <th>Orig</th>\n",
       "      <th>Dest</th>\n",
       "      <th>OpsType</th>\n",
       "      <th>estOrig</th>\n",
       "      <th>estDest</th>\n",
       "      <th>modeSCode</th>\n",
       "      <th>perfCat</th>\n",
       "    </tr>\n",
       "  </thead>\n",
       "  <tbody>\n",
       "    <tr>\n",
       "      <th>2</th>\n",
       "      <td>1.641023e+09</td>\n",
       "      <td>119420</td>\n",
       "      <td>1071.0</td>\n",
       "      <td>LAX</td>\n",
       "      <td>ASA846</td>\n",
       "      <td>B738</td>\n",
       "      <td>NaN</td>\n",
       "      <td>LAX</td>\n",
       "      <td>A</td>\n",
       "      <td>NaN</td>\n",
       "      <td>LAX</td>\n",
       "      <td>a784d5</td>\n",
       "      <td>J</td>\n",
       "    </tr>\n",
       "  </tbody>\n",
       "</table>\n",
       "</div>"
      ],
      "text/plain": [
       "        recTime  fltKey  bcnCode source    AcId acType Orig Dest OpsType  \\\n",
       "2  1.641023e+09  119420   1071.0    LAX  ASA846   B738  NaN  LAX       A   \n",
       "\n",
       "  estOrig estDest modeSCode perfCat  \n",
       "2     NaN     LAX    a784d5       J  "
      ]
     },
     "execution_count": 24,
     "metadata": {},
     "output_type": "execute_result"
    }
   ],
   "source": [
    "fil_iff_hd.head(1)"
   ]
  },
  {
   "cell_type": "code",
   "execution_count": 25,
   "metadata": {},
   "outputs": [
    {
     "data": {
      "text/plain": [
       "38242    3\n",
       "38597    3\n",
       "37461    3\n",
       "38171    3\n",
       "37676    3\n",
       "        ..\n",
       "16197    1\n",
       "16187    1\n",
       "16186    1\n",
       "16181    1\n",
       "39922    1\n",
       "Name: fltKey, Length: 7171, dtype: int64"
      ]
     },
     "execution_count": 25,
     "metadata": {},
     "output_type": "execute_result"
    }
   ],
   "source": [
    "fil_iff_hd['fltKey'].value_counts()"
   ]
  },
  {
   "cell_type": "code",
   "execution_count": 26,
   "metadata": {},
   "outputs": [
    {
     "data": {
      "text/plain": [
       "ASA866     13\n",
       "NKS1349    12\n",
       "AAL880     12\n",
       "HAL4       12\n",
       "ANA6       12\n",
       "           ..\n",
       "SKW4711     1\n",
       "AAL2778     1\n",
       "LXJ437      1\n",
       "DAL1088     1\n",
       "TFF909      1\n",
       "Name: AcId, Length: 2503, dtype: int64"
      ]
     },
     "execution_count": 26,
     "metadata": {},
     "output_type": "execute_result"
    }
   ],
   "source": [
    "fil_iff_hd['AcId'].value_counts()"
   ]
  },
  {
   "cell_type": "code",
   "execution_count": 27,
   "metadata": {},
   "outputs": [
    {
     "data": {
      "text/plain": [
       "a651e1    24\n",
       "a64e2a    18\n",
       "a675a9    18\n",
       "a66a84    16\n",
       "a65d06    16\n",
       "          ..\n",
       "a7e8bf     1\n",
       "a9979f     1\n",
       "a7811e     1\n",
       "a06539     1\n",
       "a678cf     1\n",
       "Name: modeSCode, Length: 3634, dtype: int64"
      ]
     },
     "execution_count": 27,
     "metadata": {},
     "output_type": "execute_result"
    }
   ],
   "source": [
    "fil_iff_hd['modeSCode'].value_counts()"
   ]
  },
  {
   "cell_type": "code",
   "execution_count": 28,
   "metadata": {},
   "outputs": [
    {
     "data": {
      "text/html": [
       "<div>\n",
       "<style scoped>\n",
       "    .dataframe tbody tr th:only-of-type {\n",
       "        vertical-align: middle;\n",
       "    }\n",
       "\n",
       "    .dataframe tbody tr th {\n",
       "        vertical-align: top;\n",
       "    }\n",
       "\n",
       "    .dataframe thead th {\n",
       "        text-align: right;\n",
       "    }\n",
       "</style>\n",
       "<table border=\"1\" class=\"dataframe\">\n",
       "  <thead>\n",
       "    <tr style=\"text-align: right;\">\n",
       "      <th></th>\n",
       "      <th>recTime</th>\n",
       "      <th>fltKey</th>\n",
       "      <th>bcnCode</th>\n",
       "      <th>AcId</th>\n",
       "      <th>coord1</th>\n",
       "      <th>coord2</th>\n",
       "      <th>alt</th>\n",
       "      <th>significance</th>\n",
       "      <th>coord1Accur</th>\n",
       "      <th>coord2Accur</th>\n",
       "      <th>groundSpeed</th>\n",
       "      <th>course</th>\n",
       "      <th>rateOfClimb</th>\n",
       "      <th>scratchPad</th>\n",
       "      <th>airportCode</th>\n",
       "      <th>trackNumber</th>\n",
       "      <th>modeSCode</th>\n",
       "    </tr>\n",
       "  </thead>\n",
       "  <tbody>\n",
       "    <tr>\n",
       "      <th>0</th>\n",
       "      <td>1.641022e+09</td>\n",
       "      <td>119416</td>\n",
       "      <td>1027.0</td>\n",
       "      <td>SIA35</td>\n",
       "      <td>33.94005</td>\n",
       "      <td>-118.41064</td>\n",
       "      <td>1.06</td>\n",
       "      <td>1</td>\n",
       "      <td>0.1</td>\n",
       "      <td>0.1</td>\n",
       "      <td>9.0</td>\n",
       "      <td>348</td>\n",
       "      <td>0.0</td>\n",
       "      <td>unassigned</td>\n",
       "      <td>NaN</td>\n",
       "      <td>574.0</td>\n",
       "      <td>76cda2</td>\n",
       "    </tr>\n",
       "  </tbody>\n",
       "</table>\n",
       "</div>"
      ],
      "text/plain": [
       "        recTime  fltKey  bcnCode   AcId    coord1     coord2   alt  \\\n",
       "0  1.641022e+09  119416   1027.0  SIA35  33.94005 -118.41064  1.06   \n",
       "\n",
       "   significance  coord1Accur  coord2Accur  groundSpeed  course  rateOfClimb  \\\n",
       "0             1          0.1          0.1          9.0     348          0.0   \n",
       "\n",
       "   scratchPad airportCode  trackNumber modeSCode  \n",
       "0  unassigned         NaN        574.0    76cda2  "
      ]
     },
     "execution_count": 28,
     "metadata": {},
     "output_type": "execute_result"
    }
   ],
   "source": [
    "fil_iff_tr.head(1)"
   ]
  },
  {
   "cell_type": "code",
   "execution_count": 29,
   "metadata": {},
   "outputs": [
    {
     "data": {
      "text/html": [
       "<div>\n",
       "<style scoped>\n",
       "    .dataframe tbody tr th:only-of-type {\n",
       "        vertical-align: middle;\n",
       "    }\n",
       "\n",
       "    .dataframe tbody tr th {\n",
       "        vertical-align: top;\n",
       "    }\n",
       "\n",
       "    .dataframe thead th {\n",
       "        text-align: right;\n",
       "    }\n",
       "</style>\n",
       "<table border=\"1\" class=\"dataframe\">\n",
       "  <thead>\n",
       "    <tr style=\"text-align: right;\">\n",
       "      <th></th>\n",
       "      <th>recTime</th>\n",
       "      <th>fltKey</th>\n",
       "      <th>bcnCode</th>\n",
       "      <th>source</th>\n",
       "      <th>AcId</th>\n",
       "      <th>acType</th>\n",
       "      <th>Orig</th>\n",
       "      <th>Dest</th>\n",
       "      <th>OpsType</th>\n",
       "      <th>estOrig</th>\n",
       "      <th>estDest</th>\n",
       "      <th>modeSCode</th>\n",
       "      <th>perfCat</th>\n",
       "    </tr>\n",
       "  </thead>\n",
       "  <tbody>\n",
       "    <tr>\n",
       "      <th>2</th>\n",
       "      <td>1.641023e+09</td>\n",
       "      <td>119420</td>\n",
       "      <td>1071.0</td>\n",
       "      <td>LAX</td>\n",
       "      <td>ASA846</td>\n",
       "      <td>B738</td>\n",
       "      <td>NaN</td>\n",
       "      <td>LAX</td>\n",
       "      <td>A</td>\n",
       "      <td>NaN</td>\n",
       "      <td>LAX</td>\n",
       "      <td>a784d5</td>\n",
       "      <td>J</td>\n",
       "    </tr>\n",
       "  </tbody>\n",
       "</table>\n",
       "</div>"
      ],
      "text/plain": [
       "        recTime  fltKey  bcnCode source    AcId acType Orig Dest OpsType  \\\n",
       "2  1.641023e+09  119420   1071.0    LAX  ASA846   B738  NaN  LAX       A   \n",
       "\n",
       "  estOrig estDest modeSCode perfCat  \n",
       "2     NaN     LAX    a784d5       J  "
      ]
     },
     "execution_count": 29,
     "metadata": {},
     "output_type": "execute_result"
    }
   ],
   "source": [
    "fil_iff_hd.head(1)"
   ]
  },
  {
   "cell_type": "code",
   "execution_count": 30,
   "metadata": {},
   "outputs": [
    {
     "name": "stderr",
     "output_type": "stream",
     "text": [
      "/var/folders/62/f84_mp192073x9pd72l46fth0000gn/T/ipykernel_2479/1900738632.py:2: SettingWithCopyWarning: \n",
      "A value is trying to be set on a copy of a slice from a DataFrame.\n",
      "Try using .loc[row_indexer,col_indexer] = value instead\n",
      "\n",
      "See the caveats in the documentation: https://pandas.pydata.org/pandas-docs/stable/user_guide/indexing.html#returning-a-view-versus-a-copy\n",
      "  fil_iff_hd['valid'] = pd.to_datetime(fil_iff_hd['recTime'], unit='s').dt.strftime('%m/%d/%Y')\n"
     ]
    }
   ],
   "source": [
    "fil_iff_tr['valid'] = pd.to_datetime(fil_iff_tr['recTime'], unit='s').dt.strftime('%m/%d/%Y')\n",
    "fil_iff_hd['valid'] = pd.to_datetime(fil_iff_hd['recTime'], unit='s').dt.strftime('%m/%d/%Y')"
   ]
  },
  {
   "cell_type": "code",
   "execution_count": 31,
   "metadata": {},
   "outputs": [
    {
     "data": {
      "text/html": [
       "<div>\n",
       "<style scoped>\n",
       "    .dataframe tbody tr th:only-of-type {\n",
       "        vertical-align: middle;\n",
       "    }\n",
       "\n",
       "    .dataframe tbody tr th {\n",
       "        vertical-align: top;\n",
       "    }\n",
       "\n",
       "    .dataframe thead th {\n",
       "        text-align: right;\n",
       "    }\n",
       "</style>\n",
       "<table border=\"1\" class=\"dataframe\">\n",
       "  <thead>\n",
       "    <tr style=\"text-align: right;\">\n",
       "      <th></th>\n",
       "      <th>recTime</th>\n",
       "      <th>fltKey</th>\n",
       "      <th>bcnCode</th>\n",
       "      <th>AcId</th>\n",
       "      <th>coord1</th>\n",
       "      <th>coord2</th>\n",
       "      <th>alt</th>\n",
       "      <th>significance</th>\n",
       "      <th>coord1Accur</th>\n",
       "      <th>coord2Accur</th>\n",
       "      <th>groundSpeed</th>\n",
       "      <th>course</th>\n",
       "      <th>rateOfClimb</th>\n",
       "      <th>scratchPad</th>\n",
       "      <th>airportCode</th>\n",
       "      <th>trackNumber</th>\n",
       "      <th>modeSCode</th>\n",
       "      <th>valid</th>\n",
       "    </tr>\n",
       "  </thead>\n",
       "  <tbody>\n",
       "    <tr>\n",
       "      <th>0</th>\n",
       "      <td>1.641022e+09</td>\n",
       "      <td>119416</td>\n",
       "      <td>1027.0</td>\n",
       "      <td>SIA35</td>\n",
       "      <td>33.94005</td>\n",
       "      <td>-118.41064</td>\n",
       "      <td>1.06</td>\n",
       "      <td>1</td>\n",
       "      <td>0.1</td>\n",
       "      <td>0.1</td>\n",
       "      <td>9.0</td>\n",
       "      <td>348</td>\n",
       "      <td>0.0</td>\n",
       "      <td>unassigned</td>\n",
       "      <td>NaN</td>\n",
       "      <td>574.0</td>\n",
       "      <td>76cda2</td>\n",
       "      <td>01/01/2022</td>\n",
       "    </tr>\n",
       "  </tbody>\n",
       "</table>\n",
       "</div>"
      ],
      "text/plain": [
       "        recTime  fltKey  bcnCode   AcId    coord1     coord2   alt  \\\n",
       "0  1.641022e+09  119416   1027.0  SIA35  33.94005 -118.41064  1.06   \n",
       "\n",
       "   significance  coord1Accur  coord2Accur  groundSpeed  course  rateOfClimb  \\\n",
       "0             1          0.1          0.1          9.0     348          0.0   \n",
       "\n",
       "   scratchPad airportCode  trackNumber modeSCode       valid  \n",
       "0  unassigned         NaN        574.0    76cda2  01/01/2022  "
      ]
     },
     "execution_count": 31,
     "metadata": {},
     "output_type": "execute_result"
    }
   ],
   "source": [
    "fil_iff_tr.head(1)"
   ]
  },
  {
   "cell_type": "code",
   "execution_count": 32,
   "metadata": {},
   "outputs": [
    {
     "data": {
      "text/html": [
       "<div>\n",
       "<style scoped>\n",
       "    .dataframe tbody tr th:only-of-type {\n",
       "        vertical-align: middle;\n",
       "    }\n",
       "\n",
       "    .dataframe tbody tr th {\n",
       "        vertical-align: top;\n",
       "    }\n",
       "\n",
       "    .dataframe thead th {\n",
       "        text-align: right;\n",
       "    }\n",
       "</style>\n",
       "<table border=\"1\" class=\"dataframe\">\n",
       "  <thead>\n",
       "    <tr style=\"text-align: right;\">\n",
       "      <th></th>\n",
       "      <th>recTime</th>\n",
       "      <th>fltKey</th>\n",
       "      <th>bcnCode</th>\n",
       "      <th>source</th>\n",
       "      <th>AcId</th>\n",
       "      <th>acType</th>\n",
       "      <th>Orig</th>\n",
       "      <th>Dest</th>\n",
       "      <th>OpsType</th>\n",
       "      <th>estOrig</th>\n",
       "      <th>estDest</th>\n",
       "      <th>modeSCode</th>\n",
       "      <th>perfCat</th>\n",
       "      <th>valid</th>\n",
       "    </tr>\n",
       "  </thead>\n",
       "  <tbody>\n",
       "    <tr>\n",
       "      <th>2</th>\n",
       "      <td>1.641023e+09</td>\n",
       "      <td>119420</td>\n",
       "      <td>1071.0</td>\n",
       "      <td>LAX</td>\n",
       "      <td>ASA846</td>\n",
       "      <td>B738</td>\n",
       "      <td>NaN</td>\n",
       "      <td>LAX</td>\n",
       "      <td>A</td>\n",
       "      <td>NaN</td>\n",
       "      <td>LAX</td>\n",
       "      <td>a784d5</td>\n",
       "      <td>J</td>\n",
       "      <td>01/01/2022</td>\n",
       "    </tr>\n",
       "  </tbody>\n",
       "</table>\n",
       "</div>"
      ],
      "text/plain": [
       "        recTime  fltKey  bcnCode source    AcId acType Orig Dest OpsType  \\\n",
       "2  1.641023e+09  119420   1071.0    LAX  ASA846   B738  NaN  LAX       A   \n",
       "\n",
       "  estOrig estDest modeSCode perfCat       valid  \n",
       "2     NaN     LAX    a784d5       J  01/01/2022  "
      ]
     },
     "execution_count": 32,
     "metadata": {},
     "output_type": "execute_result"
    }
   ],
   "source": [
    "fil_iff_hd.head(1)"
   ]
  },
  {
   "cell_type": "code",
   "execution_count": 33,
   "metadata": {},
   "outputs": [
    {
     "name": "stderr",
     "output_type": "stream",
     "text": [
      "/var/folders/62/f84_mp192073x9pd72l46fth0000gn/T/ipykernel_2479/3312847396.py:5: SettingWithCopyWarning: \n",
      "A value is trying to be set on a copy of a slice from a DataFrame.\n",
      "Try using .loc[row_indexer,col_indexer] = value instead\n",
      "\n",
      "See the caveats in the documentation: https://pandas.pydata.org/pandas-docs/stable/user_guide/indexing.html#returning-a-view-versus-a-copy\n",
      "  fil_iff_hd['pKey_fltAcMode'] = (fil_iff_hd['fltKey'].astype(str) + '_' +\n"
     ]
    }
   ],
   "source": [
    "fil_iff_tr['pKey_fltAcMode'] = (fil_iff_tr['fltKey'].astype(str) + '_' + \n",
    "                                fil_iff_tr['AcId'].astype(str) + '_' + \n",
    "                                fil_iff_tr['modeSCode'].astype(str))\n",
    "\n",
    "fil_iff_hd['pKey_fltAcMode'] = (fil_iff_hd['fltKey'].astype(str) + '_' + \n",
    "                                fil_iff_hd['AcId'].astype(str) + '_' + \n",
    "                                fil_iff_hd['modeSCode'].astype(str))"
   ]
  },
  {
   "cell_type": "code",
   "execution_count": 34,
   "metadata": {},
   "outputs": [
    {
     "name": "stderr",
     "output_type": "stream",
     "text": [
      "/var/folders/62/f84_mp192073x9pd72l46fth0000gn/T/ipykernel_2479/7796608.py:2: SettingWithCopyWarning: \n",
      "A value is trying to be set on a copy of a slice from a DataFrame.\n",
      "Try using .loc[row_indexer,col_indexer] = value instead\n",
      "\n",
      "See the caveats in the documentation: https://pandas.pydata.org/pandas-docs/stable/user_guide/indexing.html#returning-a-view-versus-a-copy\n",
      "  fil_iff_hd['mergeKey'] = fil_iff_hd['fltKey'].map(str) + '_' + fil_iff_hd['valid'].map(str)\n"
     ]
    }
   ],
   "source": [
    "fil_iff_tr['mergeKey'] = fil_iff_tr['fltKey'].map(str) + '_' + fil_iff_tr['valid'].map(str)\n",
    "fil_iff_hd['mergeKey'] = fil_iff_hd['fltKey'].map(str) + '_' + fil_iff_hd['valid'].map(str)"
   ]
  },
  {
   "cell_type": "code",
   "execution_count": 35,
   "metadata": {},
   "outputs": [
    {
     "data": {
      "text/plain": [
       "False"
      ]
     },
     "execution_count": 35,
     "metadata": {},
     "output_type": "execute_result"
    }
   ],
   "source": [
    "fil_iff_tr['mergeKey'].isnull().any()"
   ]
  },
  {
   "cell_type": "code",
   "execution_count": 36,
   "metadata": {},
   "outputs": [
    {
     "data": {
      "text/plain": [
       "False"
      ]
     },
     "execution_count": 36,
     "metadata": {},
     "output_type": "execute_result"
    }
   ],
   "source": [
    "fil_iff_hd['mergeKey'].isnull().any()"
   ]
  },
  {
   "cell_type": "code",
   "execution_count": 37,
   "metadata": {},
   "outputs": [
    {
     "data": {
      "text/html": [
       "<div>\n",
       "<style scoped>\n",
       "    .dataframe tbody tr th:only-of-type {\n",
       "        vertical-align: middle;\n",
       "    }\n",
       "\n",
       "    .dataframe tbody tr th {\n",
       "        vertical-align: top;\n",
       "    }\n",
       "\n",
       "    .dataframe thead th {\n",
       "        text-align: right;\n",
       "    }\n",
       "</style>\n",
       "<table border=\"1\" class=\"dataframe\">\n",
       "  <thead>\n",
       "    <tr style=\"text-align: right;\">\n",
       "      <th></th>\n",
       "      <th>recTime</th>\n",
       "      <th>fltKey</th>\n",
       "      <th>bcnCode</th>\n",
       "      <th>AcId</th>\n",
       "      <th>coord1</th>\n",
       "      <th>coord2</th>\n",
       "      <th>alt</th>\n",
       "      <th>significance</th>\n",
       "      <th>coord1Accur</th>\n",
       "      <th>coord2Accur</th>\n",
       "      <th>groundSpeed</th>\n",
       "      <th>course</th>\n",
       "      <th>rateOfClimb</th>\n",
       "      <th>scratchPad</th>\n",
       "      <th>airportCode</th>\n",
       "      <th>trackNumber</th>\n",
       "      <th>modeSCode</th>\n",
       "      <th>valid</th>\n",
       "      <th>pKey_fltAcMode</th>\n",
       "      <th>mergeKey</th>\n",
       "    </tr>\n",
       "  </thead>\n",
       "  <tbody>\n",
       "    <tr>\n",
       "      <th>0</th>\n",
       "      <td>1.641022e+09</td>\n",
       "      <td>119416</td>\n",
       "      <td>1027.0</td>\n",
       "      <td>SIA35</td>\n",
       "      <td>33.94005</td>\n",
       "      <td>-118.41064</td>\n",
       "      <td>1.06</td>\n",
       "      <td>1</td>\n",
       "      <td>0.1</td>\n",
       "      <td>0.1</td>\n",
       "      <td>9.0</td>\n",
       "      <td>348</td>\n",
       "      <td>0.0</td>\n",
       "      <td>unassigned</td>\n",
       "      <td>NaN</td>\n",
       "      <td>574.0</td>\n",
       "      <td>76cda2</td>\n",
       "      <td>01/01/2022</td>\n",
       "      <td>119416_SIA35_76cda2</td>\n",
       "      <td>119416_01/01/2022</td>\n",
       "    </tr>\n",
       "  </tbody>\n",
       "</table>\n",
       "</div>"
      ],
      "text/plain": [
       "        recTime  fltKey  bcnCode   AcId    coord1     coord2   alt  \\\n",
       "0  1.641022e+09  119416   1027.0  SIA35  33.94005 -118.41064  1.06   \n",
       "\n",
       "   significance  coord1Accur  coord2Accur  groundSpeed  course  rateOfClimb  \\\n",
       "0             1          0.1          0.1          9.0     348          0.0   \n",
       "\n",
       "   scratchPad airportCode  trackNumber modeSCode       valid  \\\n",
       "0  unassigned         NaN        574.0    76cda2  01/01/2022   \n",
       "\n",
       "        pKey_fltAcMode           mergeKey  \n",
       "0  119416_SIA35_76cda2  119416_01/01/2022  "
      ]
     },
     "execution_count": 37,
     "metadata": {},
     "output_type": "execute_result"
    }
   ],
   "source": [
    "fil_iff_tr.head(1)"
   ]
  },
  {
   "cell_type": "code",
   "execution_count": 38,
   "metadata": {},
   "outputs": [
    {
     "data": {
      "text/html": [
       "<div>\n",
       "<style scoped>\n",
       "    .dataframe tbody tr th:only-of-type {\n",
       "        vertical-align: middle;\n",
       "    }\n",
       "\n",
       "    .dataframe tbody tr th {\n",
       "        vertical-align: top;\n",
       "    }\n",
       "\n",
       "    .dataframe thead th {\n",
       "        text-align: right;\n",
       "    }\n",
       "</style>\n",
       "<table border=\"1\" class=\"dataframe\">\n",
       "  <thead>\n",
       "    <tr style=\"text-align: right;\">\n",
       "      <th></th>\n",
       "      <th>recTime</th>\n",
       "      <th>fltKey</th>\n",
       "      <th>bcnCode</th>\n",
       "      <th>source</th>\n",
       "      <th>AcId</th>\n",
       "      <th>acType</th>\n",
       "      <th>Orig</th>\n",
       "      <th>Dest</th>\n",
       "      <th>OpsType</th>\n",
       "      <th>estOrig</th>\n",
       "      <th>estDest</th>\n",
       "      <th>modeSCode</th>\n",
       "      <th>perfCat</th>\n",
       "      <th>valid</th>\n",
       "      <th>pKey_fltAcMode</th>\n",
       "      <th>mergeKey</th>\n",
       "    </tr>\n",
       "  </thead>\n",
       "  <tbody>\n",
       "    <tr>\n",
       "      <th>2</th>\n",
       "      <td>1.641023e+09</td>\n",
       "      <td>119420</td>\n",
       "      <td>1071.0</td>\n",
       "      <td>LAX</td>\n",
       "      <td>ASA846</td>\n",
       "      <td>B738</td>\n",
       "      <td>NaN</td>\n",
       "      <td>LAX</td>\n",
       "      <td>A</td>\n",
       "      <td>NaN</td>\n",
       "      <td>LAX</td>\n",
       "      <td>a784d5</td>\n",
       "      <td>J</td>\n",
       "      <td>01/01/2022</td>\n",
       "      <td>119420_ASA846_a784d5</td>\n",
       "      <td>119420_01/01/2022</td>\n",
       "    </tr>\n",
       "  </tbody>\n",
       "</table>\n",
       "</div>"
      ],
      "text/plain": [
       "        recTime  fltKey  bcnCode source    AcId acType Orig Dest OpsType  \\\n",
       "2  1.641023e+09  119420   1071.0    LAX  ASA846   B738  NaN  LAX       A   \n",
       "\n",
       "  estOrig estDest modeSCode perfCat       valid        pKey_fltAcMode  \\\n",
       "2     NaN     LAX    a784d5       J  01/01/2022  119420_ASA846_a784d5   \n",
       "\n",
       "            mergeKey  \n",
       "2  119420_01/01/2022  "
      ]
     },
     "execution_count": 38,
     "metadata": {},
     "output_type": "execute_result"
    }
   ],
   "source": [
    "fil_iff_hd.head(1)"
   ]
  },
  {
   "cell_type": "markdown",
   "metadata": {},
   "source": [
    "# Checking value counts for our primary keys"
   ]
  },
  {
   "cell_type": "code",
   "execution_count": 39,
   "metadata": {},
   "outputs": [
    {
     "data": {
      "text/plain": [
       "85516_M54_a80360       2855\n",
       "16148_M20_a7eabd       1972\n",
       "15882_PD18_a8b939      1809\n",
       "50636_PD3_a1e5b3       1717\n",
       "60709_SH21_ad535a      1474\n",
       "                       ... \n",
       "45668_1201_a2afe1         1\n",
       "88048_VOI899_a46368       1\n",
       "37745_DAL368_aa600a       1\n",
       "37714_UNKN_a8ce8c         1\n",
       "42550_N1421G_abbcc1       1\n",
       "Name: pKey_fltAcMode, Length: 21463, dtype: int64"
      ]
     },
     "execution_count": 39,
     "metadata": {},
     "output_type": "execute_result"
    }
   ],
   "source": [
    "fil_iff_tr['pKey_fltAcMode'].value_counts()"
   ]
  },
  {
   "cell_type": "code",
   "execution_count": 40,
   "metadata": {},
   "outputs": [
    {
     "data": {
      "text/plain": [
       "119420_ASA846_a784d5    1\n",
       "36288_SKW5854_a7f096    1\n",
       "36340_SKW5835_a7dbaa    1\n",
       "36332_SWA2212_aab09a    1\n",
       "36322_DAL2362_a403b3    1\n",
       "                       ..\n",
       "16442_UAL1789_a620b7    1\n",
       "16440_SKW6240_a65d06    1\n",
       "16438_UAL1093_a3c3e0    1\n",
       "16437_AAL171_a03235     1\n",
       "39922_PAC964_aa8499     1\n",
       "Name: pKey_fltAcMode, Length: 7624, dtype: int64"
      ]
     },
     "execution_count": 40,
     "metadata": {},
     "output_type": "execute_result"
    }
   ],
   "source": [
    "fil_iff_hd['pKey_fltAcMode'].value_counts()"
   ]
  },
  {
   "cell_type": "markdown",
   "metadata": {},
   "source": [
    "# Should be okay, no header has more than one occurence"
   ]
  },
  {
   "cell_type": "code",
   "execution_count": 41,
   "metadata": {},
   "outputs": [
    {
     "name": "stdout",
     "output_type": "stream",
     "text": [
      "(1618440, 21)\n"
     ]
    }
   ],
   "source": [
    "iff_master = fil_iff_hd[['fltKey', 'AcId', 'acType', 'Orig', 'Dest', 'perfCat', \n",
    "                         'pKey_fltAcMode']].merge(fil_iff_tr[['coord1', 'coord2', 'alt',\n",
    "                            'significance', 'coord1Accur', 'coord2Accur', 'groundSpeed', 'course', \n",
    "                            'rateOfClimb', 'scratchPad', 'airportCode', 'trackNumber', 'recTime',\n",
    "                            'pKey_fltAcMode', 'mergeKey']], on='pKey_fltAcMode')\n",
    "print(iff_master.shape)"
   ]
  },
  {
   "cell_type": "code",
   "execution_count": 42,
   "metadata": {},
   "outputs": [
    {
     "data": {
      "text/html": [
       "<div>\n",
       "<style scoped>\n",
       "    .dataframe tbody tr th:only-of-type {\n",
       "        vertical-align: middle;\n",
       "    }\n",
       "\n",
       "    .dataframe tbody tr th {\n",
       "        vertical-align: top;\n",
       "    }\n",
       "\n",
       "    .dataframe thead th {\n",
       "        text-align: right;\n",
       "    }\n",
       "</style>\n",
       "<table border=\"1\" class=\"dataframe\">\n",
       "  <thead>\n",
       "    <tr style=\"text-align: right;\">\n",
       "      <th></th>\n",
       "      <th>fltKey</th>\n",
       "      <th>AcId</th>\n",
       "      <th>acType</th>\n",
       "      <th>Orig</th>\n",
       "      <th>Dest</th>\n",
       "      <th>perfCat</th>\n",
       "      <th>pKey_fltAcMode</th>\n",
       "      <th>coord1</th>\n",
       "      <th>coord2</th>\n",
       "      <th>alt</th>\n",
       "      <th>...</th>\n",
       "      <th>coord1Accur</th>\n",
       "      <th>coord2Accur</th>\n",
       "      <th>groundSpeed</th>\n",
       "      <th>course</th>\n",
       "      <th>rateOfClimb</th>\n",
       "      <th>scratchPad</th>\n",
       "      <th>airportCode</th>\n",
       "      <th>trackNumber</th>\n",
       "      <th>recTime</th>\n",
       "      <th>mergeKey</th>\n",
       "    </tr>\n",
       "  </thead>\n",
       "  <tbody>\n",
       "    <tr>\n",
       "      <th>0</th>\n",
       "      <td>119420</td>\n",
       "      <td>ASA846</td>\n",
       "      <td>B738</td>\n",
       "      <td>NaN</td>\n",
       "      <td>LAX</td>\n",
       "      <td>J</td>\n",
       "      <td>119420_ASA846_a784d5</td>\n",
       "      <td>33.93549</td>\n",
       "      <td>-118.5447</td>\n",
       "      <td>21.69</td>\n",
       "      <td>...</td>\n",
       "      <td>0.5</td>\n",
       "      <td>0.5</td>\n",
       "      <td>184.0</td>\n",
       "      <td>82</td>\n",
       "      <td>-1500.0</td>\n",
       "      <td>unassigned</td>\n",
       "      <td>LAX</td>\n",
       "      <td>4031.0</td>\n",
       "      <td>1.641023e+09</td>\n",
       "      <td>119420_01/01/2022</td>\n",
       "    </tr>\n",
       "  </tbody>\n",
       "</table>\n",
       "<p>1 rows × 21 columns</p>\n",
       "</div>"
      ],
      "text/plain": [
       "   fltKey    AcId acType Orig Dest perfCat        pKey_fltAcMode    coord1  \\\n",
       "0  119420  ASA846   B738  NaN  LAX       J  119420_ASA846_a784d5  33.93549   \n",
       "\n",
       "     coord2    alt  ...  coord1Accur  coord2Accur  groundSpeed  course  \\\n",
       "0 -118.5447  21.69  ...          0.5          0.5        184.0      82   \n",
       "\n",
       "   rateOfClimb  scratchPad airportCode trackNumber       recTime  \\\n",
       "0      -1500.0  unassigned         LAX      4031.0  1.641023e+09   \n",
       "\n",
       "            mergeKey  \n",
       "0  119420_01/01/2022  \n",
       "\n",
       "[1 rows x 21 columns]"
      ]
     },
     "execution_count": 42,
     "metadata": {},
     "output_type": "execute_result"
    }
   ],
   "source": [
    "iff_master.head(1)"
   ]
  },
  {
   "cell_type": "code",
   "execution_count": 43,
   "metadata": {},
   "outputs": [],
   "source": [
    "# print(fil_iff_hd['modeSCode'].nunique(), iff_master['modeSCode'].nunique())\n",
    "# print(list(set(fil_iff_hd['modeSCode'].unique().tolist()) - set(iff_master['modeSCode'].unique().tolist())))"
   ]
  },
  {
   "cell_type": "code",
   "execution_count": 47,
   "metadata": {},
   "outputs": [
    {
     "data": {
      "text/plain": [
       "False"
      ]
     },
     "execution_count": 47,
     "metadata": {},
     "output_type": "execute_result"
    }
   ],
   "source": [
    "iff_master['mergeKey'].isnull().any()"
   ]
  },
  {
   "cell_type": "code",
   "execution_count": 44,
   "metadata": {},
   "outputs": [
    {
     "data": {
      "text/html": [
       "<div>\n",
       "<style scoped>\n",
       "    .dataframe tbody tr th:only-of-type {\n",
       "        vertical-align: middle;\n",
       "    }\n",
       "\n",
       "    .dataframe tbody tr th {\n",
       "        vertical-align: top;\n",
       "    }\n",
       "\n",
       "    .dataframe thead th {\n",
       "        text-align: right;\n",
       "    }\n",
       "</style>\n",
       "<table border=\"1\" class=\"dataframe\">\n",
       "  <thead>\n",
       "    <tr style=\"text-align: right;\">\n",
       "      <th></th>\n",
       "      <th>fltKey</th>\n",
       "      <th>AcId</th>\n",
       "      <th>acType</th>\n",
       "      <th>Orig</th>\n",
       "      <th>Dest</th>\n",
       "      <th>perfCat</th>\n",
       "      <th>pKey_fltAcMode</th>\n",
       "      <th>coord1</th>\n",
       "      <th>coord2</th>\n",
       "      <th>alt</th>\n",
       "      <th>...</th>\n",
       "      <th>coord1Accur</th>\n",
       "      <th>coord2Accur</th>\n",
       "      <th>groundSpeed</th>\n",
       "      <th>course</th>\n",
       "      <th>rateOfClimb</th>\n",
       "      <th>scratchPad</th>\n",
       "      <th>airportCode</th>\n",
       "      <th>trackNumber</th>\n",
       "      <th>recTime</th>\n",
       "      <th>mergeKey</th>\n",
       "    </tr>\n",
       "  </thead>\n",
       "  <tbody>\n",
       "    <tr>\n",
       "      <th>0</th>\n",
       "      <td>119420</td>\n",
       "      <td>ASA846</td>\n",
       "      <td>B738</td>\n",
       "      <td>NaN</td>\n",
       "      <td>LAX</td>\n",
       "      <td>J</td>\n",
       "      <td>119420_ASA846_a784d5</td>\n",
       "      <td>33.93549</td>\n",
       "      <td>-118.54470</td>\n",
       "      <td>21.69</td>\n",
       "      <td>...</td>\n",
       "      <td>0.5</td>\n",
       "      <td>0.5</td>\n",
       "      <td>184.0</td>\n",
       "      <td>82</td>\n",
       "      <td>-1500.0</td>\n",
       "      <td>unassigned</td>\n",
       "      <td>LAX</td>\n",
       "      <td>4031.0</td>\n",
       "      <td>1.641023e+09</td>\n",
       "      <td>119420_01/01/2022</td>\n",
       "    </tr>\n",
       "    <tr>\n",
       "      <th>1</th>\n",
       "      <td>119420</td>\n",
       "      <td>ASA846</td>\n",
       "      <td>B738</td>\n",
       "      <td>NaN</td>\n",
       "      <td>LAX</td>\n",
       "      <td>J</td>\n",
       "      <td>119420_ASA846_a784d5</td>\n",
       "      <td>33.93710</td>\n",
       "      <td>-118.52927</td>\n",
       "      <td>18.81</td>\n",
       "      <td>...</td>\n",
       "      <td>0.5</td>\n",
       "      <td>0.5</td>\n",
       "      <td>175.0</td>\n",
       "      <td>83</td>\n",
       "      <td>-1500.0</td>\n",
       "      <td>unassigned</td>\n",
       "      <td>LAX</td>\n",
       "      <td>4031.0</td>\n",
       "      <td>1.641023e+09</td>\n",
       "      <td>119420_01/01/2022</td>\n",
       "    </tr>\n",
       "    <tr>\n",
       "      <th>2</th>\n",
       "      <td>119420</td>\n",
       "      <td>ASA846</td>\n",
       "      <td>B738</td>\n",
       "      <td>NaN</td>\n",
       "      <td>LAX</td>\n",
       "      <td>J</td>\n",
       "      <td>119420_ASA846_a784d5</td>\n",
       "      <td>33.93859</td>\n",
       "      <td>-118.51472</td>\n",
       "      <td>16.56</td>\n",
       "      <td>...</td>\n",
       "      <td>0.5</td>\n",
       "      <td>0.5</td>\n",
       "      <td>164.0</td>\n",
       "      <td>83</td>\n",
       "      <td>-1140.0</td>\n",
       "      <td>unassigned</td>\n",
       "      <td>LAX</td>\n",
       "      <td>4031.0</td>\n",
       "      <td>1.641023e+09</td>\n",
       "      <td>119420_01/01/2022</td>\n",
       "    </tr>\n",
       "    <tr>\n",
       "      <th>3</th>\n",
       "      <td>119420</td>\n",
       "      <td>ASA846</td>\n",
       "      <td>B738</td>\n",
       "      <td>NaN</td>\n",
       "      <td>LAX</td>\n",
       "      <td>J</td>\n",
       "      <td>119420_ASA846_a784d5</td>\n",
       "      <td>33.94002</td>\n",
       "      <td>-118.50101</td>\n",
       "      <td>14.06</td>\n",
       "      <td>...</td>\n",
       "      <td>0.5</td>\n",
       "      <td>0.5</td>\n",
       "      <td>157.0</td>\n",
       "      <td>85</td>\n",
       "      <td>-780.0</td>\n",
       "      <td>unassigned</td>\n",
       "      <td>LAX</td>\n",
       "      <td>4031.0</td>\n",
       "      <td>1.641023e+09</td>\n",
       "      <td>119420_01/01/2022</td>\n",
       "    </tr>\n",
       "    <tr>\n",
       "      <th>4</th>\n",
       "      <td>119420</td>\n",
       "      <td>ASA846</td>\n",
       "      <td>B738</td>\n",
       "      <td>NaN</td>\n",
       "      <td>LAX</td>\n",
       "      <td>J</td>\n",
       "      <td>119420_ASA846_a784d5</td>\n",
       "      <td>33.94139</td>\n",
       "      <td>-118.48753</td>\n",
       "      <td>12.13</td>\n",
       "      <td>...</td>\n",
       "      <td>0.5</td>\n",
       "      <td>0.5</td>\n",
       "      <td>155.0</td>\n",
       "      <td>83</td>\n",
       "      <td>-360.0</td>\n",
       "      <td>unassigned</td>\n",
       "      <td>LAX</td>\n",
       "      <td>4031.0</td>\n",
       "      <td>1.641023e+09</td>\n",
       "      <td>119420_01/01/2022</td>\n",
       "    </tr>\n",
       "  </tbody>\n",
       "</table>\n",
       "<p>5 rows × 21 columns</p>\n",
       "</div>"
      ],
      "text/plain": [
       "   fltKey    AcId acType Orig Dest perfCat        pKey_fltAcMode    coord1  \\\n",
       "0  119420  ASA846   B738  NaN  LAX       J  119420_ASA846_a784d5  33.93549   \n",
       "1  119420  ASA846   B738  NaN  LAX       J  119420_ASA846_a784d5  33.93710   \n",
       "2  119420  ASA846   B738  NaN  LAX       J  119420_ASA846_a784d5  33.93859   \n",
       "3  119420  ASA846   B738  NaN  LAX       J  119420_ASA846_a784d5  33.94002   \n",
       "4  119420  ASA846   B738  NaN  LAX       J  119420_ASA846_a784d5  33.94139   \n",
       "\n",
       "      coord2    alt  ...  coord1Accur  coord2Accur  groundSpeed  course  \\\n",
       "0 -118.54470  21.69  ...          0.5          0.5        184.0      82   \n",
       "1 -118.52927  18.81  ...          0.5          0.5        175.0      83   \n",
       "2 -118.51472  16.56  ...          0.5          0.5        164.0      83   \n",
       "3 -118.50101  14.06  ...          0.5          0.5        157.0      85   \n",
       "4 -118.48753  12.13  ...          0.5          0.5        155.0      83   \n",
       "\n",
       "   rateOfClimb  scratchPad airportCode trackNumber       recTime  \\\n",
       "0      -1500.0  unassigned         LAX      4031.0  1.641023e+09   \n",
       "1      -1500.0  unassigned         LAX      4031.0  1.641023e+09   \n",
       "2      -1140.0  unassigned         LAX      4031.0  1.641023e+09   \n",
       "3       -780.0  unassigned         LAX      4031.0  1.641023e+09   \n",
       "4       -360.0  unassigned         LAX      4031.0  1.641023e+09   \n",
       "\n",
       "            mergeKey  \n",
       "0  119420_01/01/2022  \n",
       "1  119420_01/01/2022  \n",
       "2  119420_01/01/2022  \n",
       "3  119420_01/01/2022  \n",
       "4  119420_01/01/2022  \n",
       "\n",
       "[5 rows x 21 columns]"
      ]
     },
     "execution_count": 44,
     "metadata": {},
     "output_type": "execute_result"
    }
   ],
   "source": [
    "iff_master.head()"
   ]
  },
  {
   "cell_type": "markdown",
   "metadata": {},
   "source": [
    "* Splitting df to equal sized chunks to then read in easier"
   ]
  },
  {
   "cell_type": "code",
   "execution_count": 48,
   "metadata": {},
   "outputs": [],
   "source": [
    "length = len(iff_master)\n",
    "chunk_size = length//10\n",
    "df_list = [iff_master[i:i+chunk_size] for i in range(0, length, chunk_size)]\n",
    "for idx, df in enumerate(df_list):\n",
    "    df.to_csv(f'Sherlock_data/chunked_IFF/IFF{idx}.csv')"
   ]
  },
  {
   "cell_type": "code",
   "execution_count": 46,
   "metadata": {},
   "outputs": [],
   "source": [
    "iff_master.to_csv('Sherlock_data/IFF.csv', index=False)"
   ]
  }
 ],
 "metadata": {
  "kernelspec": {
   "display_name": "Python 3 (ipykernel)",
   "language": "python",
   "name": "python3"
  },
  "language_info": {
   "codemirror_mode": {
    "name": "ipython",
    "version": 3
   },
   "file_extension": ".py",
   "mimetype": "text/x-python",
   "name": "python",
   "nbconvert_exporter": "python",
   "pygments_lexer": "ipython3",
   "version": "3.9.15"
  }
 },
 "nbformat": 4,
 "nbformat_minor": 2
}
