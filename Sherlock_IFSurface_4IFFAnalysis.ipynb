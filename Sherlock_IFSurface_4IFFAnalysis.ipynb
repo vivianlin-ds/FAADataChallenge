{
 "cells": [
  {
   "cell_type": "code",
   "execution_count": 9,
   "id": "73d3be1f",
   "metadata": {},
   "outputs": [],
   "source": [
    "import pandas as pd\n",
    "import numpy as np\n",
    "import os\n",
    "import datetime"
   ]
  },
  {
   "cell_type": "markdown",
   "id": "9e1393d9",
   "metadata": {},
   "source": [
    "* This dataset is already pre-processed by Iowa State University\n",
    "* Simply create path names for all METAR files and concatenate the dataframes together"
   ]
  },
  {
   "cell_type": "code",
   "execution_count": 10,
   "id": "abf18ed0",
   "metadata": {},
   "outputs": [],
   "source": [
    "metar_paths = ['METAR_Final/' + file for file in os.listdir('METAR_Final')]"
   ]
  },
  {
   "cell_type": "code",
   "execution_count": 11,
   "id": "68ad8e83",
   "metadata": {},
   "outputs": [],
   "source": [
    "metar_dfs = []\n",
    "for path in metar_paths:\n",
    "    df = pd.read_csv(path)\n",
    "    metar_dfs.append(df)"
   ]
  },
  {
   "cell_type": "code",
   "execution_count": 12,
   "id": "1a7e780d",
   "metadata": {},
   "outputs": [],
   "source": [
    "metar_df = pd.concat(metar_dfs)"
   ]
  },
  {
   "cell_type": "markdown",
   "id": "0a2badeb",
   "metadata": {},
   "source": [
    "* Converting the datetime objects and truncating minutes to have METAR conditions span hour-long period"
   ]
  },
  {
   "cell_type": "code",
   "execution_count": 13,
   "id": "89386dba",
   "metadata": {},
   "outputs": [],
   "source": [
    "metar_df['valid'] = pd.to_datetime(metar_df['valid']).dt.floor('H')\n",
    "metar_df = metar_df.drop_duplicates(subset = 'valid', keep='first').reset_index()"
   ]
  },
  {
   "cell_type": "code",
   "execution_count": 14,
   "id": "234f8ad1",
   "metadata": {},
   "outputs": [
    {
     "data": {
      "text/plain": [
       "2022-01-01 00:00:00    1\n",
       "2022-08-31 18:00:00    1\n",
       "2022-08-31 12:00:00    1\n",
       "2022-08-31 13:00:00    1\n",
       "2022-08-31 14:00:00    1\n",
       "                      ..\n",
       "2022-05-02 02:00:00    1\n",
       "2022-05-02 01:00:00    1\n",
       "2022-05-02 00:00:00    1\n",
       "2022-05-01 23:00:00    1\n",
       "2022-12-30 23:00:00    1\n",
       "Name: valid, Length: 8735, dtype: int64"
      ]
     },
     "execution_count": 14,
     "metadata": {},
     "output_type": "execute_result"
    }
   ],
   "source": [
    "metar_df['valid'].value_counts()"
   ]
  },
  {
   "cell_type": "code",
   "execution_count": 15,
   "id": "05994351",
   "metadata": {},
   "outputs": [
    {
     "data": {
      "text/html": [
       "<div>\n",
       "<style scoped>\n",
       "    .dataframe tbody tr th:only-of-type {\n",
       "        vertical-align: middle;\n",
       "    }\n",
       "\n",
       "    .dataframe tbody tr th {\n",
       "        vertical-align: top;\n",
       "    }\n",
       "\n",
       "    .dataframe thead th {\n",
       "        text-align: right;\n",
       "    }\n",
       "</style>\n",
       "<table border=\"1\" class=\"dataframe\">\n",
       "  <thead>\n",
       "    <tr style=\"text-align: right;\">\n",
       "      <th></th>\n",
       "      <th>index</th>\n",
       "      <th>station</th>\n",
       "      <th>valid</th>\n",
       "      <th>lon</th>\n",
       "      <th>lat</th>\n",
       "      <th>elevation</th>\n",
       "      <th>tmpf</th>\n",
       "      <th>dwpf</th>\n",
       "      <th>relh</th>\n",
       "      <th>drct</th>\n",
       "      <th>...</th>\n",
       "      <th>wxcodes</th>\n",
       "      <th>ice_accretion_1hr</th>\n",
       "      <th>ice_accretion_3hr</th>\n",
       "      <th>ice_accretion_6hr</th>\n",
       "      <th>peak_wind_gust</th>\n",
       "      <th>peak_wind_drct</th>\n",
       "      <th>peak_wind_time</th>\n",
       "      <th>feel</th>\n",
       "      <th>metar</th>\n",
       "      <th>snowdepth</th>\n",
       "    </tr>\n",
       "  </thead>\n",
       "  <tbody>\n",
       "    <tr>\n",
       "      <th>0</th>\n",
       "      <td>0</td>\n",
       "      <td>LAX</td>\n",
       "      <td>2022-01-01 00:00:00</td>\n",
       "      <td>-118.3865</td>\n",
       "      <td>33.9382</td>\n",
       "      <td>32.0</td>\n",
       "      <td>57.0</td>\n",
       "      <td>48.90</td>\n",
       "      <td>74.27</td>\n",
       "      <td>280.00</td>\n",
       "      <td>...</td>\n",
       "      <td>M</td>\n",
       "      <td>M</td>\n",
       "      <td>M</td>\n",
       "      <td>M</td>\n",
       "      <td>M</td>\n",
       "      <td>M</td>\n",
       "      <td>M</td>\n",
       "      <td>57.00</td>\n",
       "      <td>KLAX 010053Z 28012KT 10SM FEW015 SCT038 14/09 ...</td>\n",
       "      <td>M</td>\n",
       "    </tr>\n",
       "    <tr>\n",
       "      <th>1</th>\n",
       "      <td>1</td>\n",
       "      <td>LAX</td>\n",
       "      <td>2022-01-01 01:00:00</td>\n",
       "      <td>-118.3865</td>\n",
       "      <td>33.9382</td>\n",
       "      <td>32.0</td>\n",
       "      <td>55.9</td>\n",
       "      <td>48.90</td>\n",
       "      <td>77.28</td>\n",
       "      <td>M</td>\n",
       "      <td>...</td>\n",
       "      <td>M</td>\n",
       "      <td>M</td>\n",
       "      <td>M</td>\n",
       "      <td>M</td>\n",
       "      <td>M</td>\n",
       "      <td>M</td>\n",
       "      <td>M</td>\n",
       "      <td>55.90</td>\n",
       "      <td>KLAX 010153Z VRB04KT 10SM FEW012 SCT034 13/09 ...</td>\n",
       "      <td>M</td>\n",
       "    </tr>\n",
       "    <tr>\n",
       "      <th>2</th>\n",
       "      <td>2</td>\n",
       "      <td>LAX</td>\n",
       "      <td>2022-01-01 02:00:00</td>\n",
       "      <td>-118.3865</td>\n",
       "      <td>33.9382</td>\n",
       "      <td>32.0</td>\n",
       "      <td>55.0</td>\n",
       "      <td>48.00</td>\n",
       "      <td>77.21</td>\n",
       "      <td>350.00</td>\n",
       "      <td>...</td>\n",
       "      <td>M</td>\n",
       "      <td>M</td>\n",
       "      <td>M</td>\n",
       "      <td>M</td>\n",
       "      <td>M</td>\n",
       "      <td>M</td>\n",
       "      <td>M</td>\n",
       "      <td>55.00</td>\n",
       "      <td>KLAX 010253Z 35006KT 10SM SCT014 SCT049 13/09 ...</td>\n",
       "      <td>M</td>\n",
       "    </tr>\n",
       "    <tr>\n",
       "      <th>3</th>\n",
       "      <td>3</td>\n",
       "      <td>LAX</td>\n",
       "      <td>2022-01-01 03:00:00</td>\n",
       "      <td>-118.3865</td>\n",
       "      <td>33.9382</td>\n",
       "      <td>32.0</td>\n",
       "      <td>54.0</td>\n",
       "      <td>41.00</td>\n",
       "      <td>61.32</td>\n",
       "      <td>360.00</td>\n",
       "      <td>...</td>\n",
       "      <td>M</td>\n",
       "      <td>M</td>\n",
       "      <td>M</td>\n",
       "      <td>M</td>\n",
       "      <td>M</td>\n",
       "      <td>M</td>\n",
       "      <td>M</td>\n",
       "      <td>54.00</td>\n",
       "      <td>KLAX 010353Z 36004KT 10SM FEW013 SCT044 12/05 ...</td>\n",
       "      <td>M</td>\n",
       "    </tr>\n",
       "    <tr>\n",
       "      <th>4</th>\n",
       "      <td>4</td>\n",
       "      <td>LAX</td>\n",
       "      <td>2022-01-01 04:00:00</td>\n",
       "      <td>-118.3865</td>\n",
       "      <td>33.9382</td>\n",
       "      <td>32.0</td>\n",
       "      <td>54.0</td>\n",
       "      <td>37.00</td>\n",
       "      <td>52.45</td>\n",
       "      <td>M</td>\n",
       "      <td>...</td>\n",
       "      <td>M</td>\n",
       "      <td>M</td>\n",
       "      <td>M</td>\n",
       "      <td>M</td>\n",
       "      <td>M</td>\n",
       "      <td>M</td>\n",
       "      <td>M</td>\n",
       "      <td>54.00</td>\n",
       "      <td>KLAX 010453Z VRB05KT 10SM SCT013 BKN030 12/03 ...</td>\n",
       "      <td>M</td>\n",
       "    </tr>\n",
       "  </tbody>\n",
       "</table>\n",
       "<p>5 rows × 34 columns</p>\n",
       "</div>"
      ],
      "text/plain": [
       "   index station               valid       lon      lat  elevation  tmpf  \\\n",
       "0      0     LAX 2022-01-01 00:00:00 -118.3865  33.9382       32.0  57.0   \n",
       "1      1     LAX 2022-01-01 01:00:00 -118.3865  33.9382       32.0  55.9   \n",
       "2      2     LAX 2022-01-01 02:00:00 -118.3865  33.9382       32.0  55.0   \n",
       "3      3     LAX 2022-01-01 03:00:00 -118.3865  33.9382       32.0  54.0   \n",
       "4      4     LAX 2022-01-01 04:00:00 -118.3865  33.9382       32.0  54.0   \n",
       "\n",
       "    dwpf   relh    drct  ... wxcodes ice_accretion_1hr  ice_accretion_3hr  \\\n",
       "0  48.90  74.27  280.00  ...       M                 M                  M   \n",
       "1  48.90  77.28       M  ...       M                 M                  M   \n",
       "2  48.00  77.21  350.00  ...       M                 M                  M   \n",
       "3  41.00  61.32  360.00  ...       M                 M                  M   \n",
       "4  37.00  52.45       M  ...       M                 M                  M   \n",
       "\n",
       "  ice_accretion_6hr  peak_wind_gust peak_wind_drct peak_wind_time   feel  \\\n",
       "0                 M               M              M              M  57.00   \n",
       "1                 M               M              M              M  55.90   \n",
       "2                 M               M              M              M  55.00   \n",
       "3                 M               M              M              M  54.00   \n",
       "4                 M               M              M              M  54.00   \n",
       "\n",
       "                                               metar snowdepth  \n",
       "0  KLAX 010053Z 28012KT 10SM FEW015 SCT038 14/09 ...         M  \n",
       "1  KLAX 010153Z VRB04KT 10SM FEW012 SCT034 13/09 ...         M  \n",
       "2  KLAX 010253Z 35006KT 10SM SCT014 SCT049 13/09 ...         M  \n",
       "3  KLAX 010353Z 36004KT 10SM FEW013 SCT044 12/05 ...         M  \n",
       "4  KLAX 010453Z VRB05KT 10SM SCT013 BKN030 12/03 ...         M  \n",
       "\n",
       "[5 rows x 34 columns]"
      ]
     },
     "execution_count": 15,
     "metadata": {},
     "output_type": "execute_result"
    }
   ],
   "source": [
    "metar_df.head()"
   ]
  },
  {
   "cell_type": "markdown",
   "id": "5781a407",
   "metadata": {},
   "source": [
    "# Reading in IFF data from chunked IFF folder"
   ]
  },
  {
   "cell_type": "code",
   "execution_count": 16,
   "id": "8843b94f",
   "metadata": {},
   "outputs": [
    {
     "name": "stderr",
     "output_type": "stream",
     "text": [
      "C:\\Users\\abrun\\AppData\\Local\\Temp\\ipykernel_7792\\2032884243.py:4: DtypeWarning: Columns (4) have mixed types. Specify dtype option on import or set low_memory=False.\n",
      "  df = pd.read_csv(path)\n",
      "C:\\Users\\abrun\\AppData\\Local\\Temp\\ipykernel_7792\\2032884243.py:4: DtypeWarning: Columns (4) have mixed types. Specify dtype option on import or set low_memory=False.\n",
      "  df = pd.read_csv(path)\n",
      "C:\\Users\\abrun\\AppData\\Local\\Temp\\ipykernel_7792\\2032884243.py:4: DtypeWarning: Columns (4) have mixed types. Specify dtype option on import or set low_memory=False.\n",
      "  df = pd.read_csv(path)\n",
      "C:\\Users\\abrun\\AppData\\Local\\Temp\\ipykernel_7792\\2032884243.py:4: DtypeWarning: Columns (4) have mixed types. Specify dtype option on import or set low_memory=False.\n",
      "  df = pd.read_csv(path)\n",
      "C:\\Users\\abrun\\AppData\\Local\\Temp\\ipykernel_7792\\2032884243.py:4: DtypeWarning: Columns (4) have mixed types. Specify dtype option on import or set low_memory=False.\n",
      "  df = pd.read_csv(path)\n",
      "C:\\Users\\abrun\\AppData\\Local\\Temp\\ipykernel_7792\\2032884243.py:4: DtypeWarning: Columns (4) have mixed types. Specify dtype option on import or set low_memory=False.\n",
      "  df = pd.read_csv(path)\n",
      "C:\\Users\\abrun\\AppData\\Local\\Temp\\ipykernel_7792\\2032884243.py:4: DtypeWarning: Columns (4) have mixed types. Specify dtype option on import or set low_memory=False.\n",
      "  df = pd.read_csv(path)\n",
      "C:\\Users\\abrun\\AppData\\Local\\Temp\\ipykernel_7792\\2032884243.py:4: DtypeWarning: Columns (4) have mixed types. Specify dtype option on import or set low_memory=False.\n",
      "  df = pd.read_csv(path)\n"
     ]
    }
   ],
   "source": [
    "chunked_iff_paths = ['Sherlock_data/chunked_IFF/' + file for file in os.listdir('Sherlock_data/chunked_IFF') if file.endswith('csv')]\n",
    "chunked_iffs = []\n",
    "for path in chunked_iff_paths:\n",
    "    df = pd.read_csv(path)\n",
    "    sig_5 = df['significance']\n",
    "    chunked_iffs.append(df)"
   ]
  },
  {
   "cell_type": "code",
   "execution_count": 17,
   "id": "11d08eae",
   "metadata": {},
   "outputs": [],
   "source": [
    "iff_df = pd.concat(chunked_iffs)\n",
    "# Renaming to seconds since midnight 1/1/70\n",
    "iff_df = iff_df.drop('Unnamed: 0', axis=1)"
   ]
  },
  {
   "cell_type": "code",
   "execution_count": 18,
   "id": "28a43334",
   "metadata": {},
   "outputs": [
    {
     "data": {
      "text/plain": [
       "False"
      ]
     },
     "execution_count": 18,
     "metadata": {},
     "output_type": "execute_result"
    }
   ],
   "source": [
    "iff_df['mergeKey'].isnull().any()"
   ]
  },
  {
   "cell_type": "code",
   "execution_count": 19,
   "id": "b7285bd3",
   "metadata": {},
   "outputs": [
    {
     "data": {
      "text/html": [
       "<div>\n",
       "<style scoped>\n",
       "    .dataframe tbody tr th:only-of-type {\n",
       "        vertical-align: middle;\n",
       "    }\n",
       "\n",
       "    .dataframe tbody tr th {\n",
       "        vertical-align: top;\n",
       "    }\n",
       "\n",
       "    .dataframe thead th {\n",
       "        text-align: right;\n",
       "    }\n",
       "</style>\n",
       "<table border=\"1\" class=\"dataframe\">\n",
       "  <thead>\n",
       "    <tr style=\"text-align: right;\">\n",
       "      <th></th>\n",
       "      <th>fltKey</th>\n",
       "      <th>AcId</th>\n",
       "      <th>acType</th>\n",
       "      <th>Orig</th>\n",
       "      <th>Dest</th>\n",
       "      <th>perfCat</th>\n",
       "      <th>pKey_fltAcMode</th>\n",
       "      <th>coord1</th>\n",
       "      <th>coord2</th>\n",
       "      <th>alt</th>\n",
       "      <th>...</th>\n",
       "      <th>coord1Accur</th>\n",
       "      <th>coord2Accur</th>\n",
       "      <th>groundSpeed</th>\n",
       "      <th>course</th>\n",
       "      <th>rateOfClimb</th>\n",
       "      <th>scratchPad</th>\n",
       "      <th>airportCode</th>\n",
       "      <th>trackNumber</th>\n",
       "      <th>recTime</th>\n",
       "      <th>mergeKey</th>\n",
       "    </tr>\n",
       "  </thead>\n",
       "  <tbody>\n",
       "    <tr>\n",
       "      <th>0</th>\n",
       "      <td>119420</td>\n",
       "      <td>ASA846</td>\n",
       "      <td>B738</td>\n",
       "      <td>NaN</td>\n",
       "      <td>LAX</td>\n",
       "      <td>J</td>\n",
       "      <td>119420_ASA846_a784d5</td>\n",
       "      <td>33.93549</td>\n",
       "      <td>-118.5447</td>\n",
       "      <td>21.69</td>\n",
       "      <td>...</td>\n",
       "      <td>0.5</td>\n",
       "      <td>0.5</td>\n",
       "      <td>184.0</td>\n",
       "      <td>82</td>\n",
       "      <td>-1500.0</td>\n",
       "      <td>unassigned</td>\n",
       "      <td>LAX</td>\n",
       "      <td>4031.0</td>\n",
       "      <td>1.641023e+09</td>\n",
       "      <td>119420_01/01/2022</td>\n",
       "    </tr>\n",
       "  </tbody>\n",
       "</table>\n",
       "<p>1 rows × 21 columns</p>\n",
       "</div>"
      ],
      "text/plain": [
       "   fltKey    AcId acType Orig Dest perfCat        pKey_fltAcMode    coord1  \\\n",
       "0  119420  ASA846   B738  NaN  LAX       J  119420_ASA846_a784d5  33.93549   \n",
       "\n",
       "     coord2    alt  ...  coord1Accur  coord2Accur  groundSpeed  course  \\\n",
       "0 -118.5447  21.69  ...          0.5          0.5        184.0      82   \n",
       "\n",
       "   rateOfClimb  scratchPad airportCode trackNumber       recTime  \\\n",
       "0      -1500.0  unassigned         LAX      4031.0  1.641023e+09   \n",
       "\n",
       "            mergeKey  \n",
       "0  119420_01/01/2022  \n",
       "\n",
       "[1 rows x 21 columns]"
      ]
     },
     "execution_count": 19,
     "metadata": {},
     "output_type": "execute_result"
    }
   ],
   "source": [
    "iff_df.head(1)"
   ]
  },
  {
   "cell_type": "markdown",
   "id": "de1d6016",
   "metadata": {},
   "source": [
    "# Adding time of day column to IFF"
   ]
  },
  {
   "cell_type": "code",
   "execution_count": 20,
   "id": "827a3b47",
   "metadata": {},
   "outputs": [],
   "source": [
    "iff_df['valid'] = pd.to_datetime(iff_df['recTime'], unit='s').dt.floor('H')\n",
    "iff_df['datetime'] = pd.to_datetime(iff_df['recTime'], unit='s')"
   ]
  },
  {
   "cell_type": "code",
   "execution_count": 21,
   "id": "e25c2b78",
   "metadata": {},
   "outputs": [
    {
     "data": {
      "text/html": [
       "<div>\n",
       "<style scoped>\n",
       "    .dataframe tbody tr th:only-of-type {\n",
       "        vertical-align: middle;\n",
       "    }\n",
       "\n",
       "    .dataframe tbody tr th {\n",
       "        vertical-align: top;\n",
       "    }\n",
       "\n",
       "    .dataframe thead th {\n",
       "        text-align: right;\n",
       "    }\n",
       "</style>\n",
       "<table border=\"1\" class=\"dataframe\">\n",
       "  <thead>\n",
       "    <tr style=\"text-align: right;\">\n",
       "      <th></th>\n",
       "      <th>fltKey</th>\n",
       "      <th>AcId</th>\n",
       "      <th>acType</th>\n",
       "      <th>Orig</th>\n",
       "      <th>Dest</th>\n",
       "      <th>perfCat</th>\n",
       "      <th>pKey_fltAcMode</th>\n",
       "      <th>coord1</th>\n",
       "      <th>coord2</th>\n",
       "      <th>alt</th>\n",
       "      <th>...</th>\n",
       "      <th>groundSpeed</th>\n",
       "      <th>course</th>\n",
       "      <th>rateOfClimb</th>\n",
       "      <th>scratchPad</th>\n",
       "      <th>airportCode</th>\n",
       "      <th>trackNumber</th>\n",
       "      <th>recTime</th>\n",
       "      <th>mergeKey</th>\n",
       "      <th>valid</th>\n",
       "      <th>datetime</th>\n",
       "    </tr>\n",
       "  </thead>\n",
       "  <tbody>\n",
       "    <tr>\n",
       "      <th>0</th>\n",
       "      <td>119420</td>\n",
       "      <td>ASA846</td>\n",
       "      <td>B738</td>\n",
       "      <td>NaN</td>\n",
       "      <td>LAX</td>\n",
       "      <td>J</td>\n",
       "      <td>119420_ASA846_a784d5</td>\n",
       "      <td>33.93549</td>\n",
       "      <td>-118.5447</td>\n",
       "      <td>21.69</td>\n",
       "      <td>...</td>\n",
       "      <td>184.0</td>\n",
       "      <td>82</td>\n",
       "      <td>-1500.0</td>\n",
       "      <td>unassigned</td>\n",
       "      <td>LAX</td>\n",
       "      <td>4031.0</td>\n",
       "      <td>1.641023e+09</td>\n",
       "      <td>119420_01/01/2022</td>\n",
       "      <td>2022-01-01 07:00:00</td>\n",
       "      <td>2022-01-01 07:47:59</td>\n",
       "    </tr>\n",
       "  </tbody>\n",
       "</table>\n",
       "<p>1 rows × 23 columns</p>\n",
       "</div>"
      ],
      "text/plain": [
       "   fltKey    AcId acType Orig Dest perfCat        pKey_fltAcMode    coord1  \\\n",
       "0  119420  ASA846   B738  NaN  LAX       J  119420_ASA846_a784d5  33.93549   \n",
       "\n",
       "     coord2    alt  ...  groundSpeed  course  rateOfClimb  scratchPad  \\\n",
       "0 -118.5447  21.69  ...        184.0      82      -1500.0  unassigned   \n",
       "\n",
       "   airportCode  trackNumber       recTime           mergeKey  \\\n",
       "0          LAX       4031.0  1.641023e+09  119420_01/01/2022   \n",
       "\n",
       "                valid            datetime  \n",
       "0 2022-01-01 07:00:00 2022-01-01 07:47:59  \n",
       "\n",
       "[1 rows x 23 columns]"
      ]
     },
     "execution_count": 21,
     "metadata": {},
     "output_type": "execute_result"
    }
   ],
   "source": [
    "iff_df.sort_values('valid', ascending = True).head(1)"
   ]
  },
  {
   "cell_type": "code",
   "execution_count": 22,
   "id": "d4f62230",
   "metadata": {},
   "outputs": [
    {
     "data": {
      "text/html": [
       "<div>\n",
       "<style scoped>\n",
       "    .dataframe tbody tr th:only-of-type {\n",
       "        vertical-align: middle;\n",
       "    }\n",
       "\n",
       "    .dataframe tbody tr th {\n",
       "        vertical-align: top;\n",
       "    }\n",
       "\n",
       "    .dataframe thead th {\n",
       "        text-align: right;\n",
       "    }\n",
       "</style>\n",
       "<table border=\"1\" class=\"dataframe\">\n",
       "  <thead>\n",
       "    <tr style=\"text-align: right;\">\n",
       "      <th></th>\n",
       "      <th>index</th>\n",
       "      <th>station</th>\n",
       "      <th>valid</th>\n",
       "      <th>lon</th>\n",
       "      <th>lat</th>\n",
       "      <th>elevation</th>\n",
       "      <th>tmpf</th>\n",
       "      <th>dwpf</th>\n",
       "      <th>relh</th>\n",
       "      <th>drct</th>\n",
       "      <th>...</th>\n",
       "      <th>wxcodes</th>\n",
       "      <th>ice_accretion_1hr</th>\n",
       "      <th>ice_accretion_3hr</th>\n",
       "      <th>ice_accretion_6hr</th>\n",
       "      <th>peak_wind_gust</th>\n",
       "      <th>peak_wind_drct</th>\n",
       "      <th>peak_wind_time</th>\n",
       "      <th>feel</th>\n",
       "      <th>metar</th>\n",
       "      <th>snowdepth</th>\n",
       "    </tr>\n",
       "  </thead>\n",
       "  <tbody>\n",
       "    <tr>\n",
       "      <th>0</th>\n",
       "      <td>0</td>\n",
       "      <td>LAX</td>\n",
       "      <td>2022-01-01</td>\n",
       "      <td>-118.3865</td>\n",
       "      <td>33.9382</td>\n",
       "      <td>32.0</td>\n",
       "      <td>57.0</td>\n",
       "      <td>48.90</td>\n",
       "      <td>74.27</td>\n",
       "      <td>280.00</td>\n",
       "      <td>...</td>\n",
       "      <td>M</td>\n",
       "      <td>M</td>\n",
       "      <td>M</td>\n",
       "      <td>M</td>\n",
       "      <td>M</td>\n",
       "      <td>M</td>\n",
       "      <td>M</td>\n",
       "      <td>57.00</td>\n",
       "      <td>KLAX 010053Z 28012KT 10SM FEW015 SCT038 14/09 ...</td>\n",
       "      <td>M</td>\n",
       "    </tr>\n",
       "  </tbody>\n",
       "</table>\n",
       "<p>1 rows × 34 columns</p>\n",
       "</div>"
      ],
      "text/plain": [
       "   index station      valid       lon      lat  elevation  tmpf   dwpf   relh  \\\n",
       "0      0     LAX 2022-01-01 -118.3865  33.9382       32.0  57.0  48.90  74.27   \n",
       "\n",
       "     drct  ... wxcodes ice_accretion_1hr  ice_accretion_3hr ice_accretion_6hr  \\\n",
       "0  280.00  ...       M                 M                  M                 M   \n",
       "\n",
       "   peak_wind_gust peak_wind_drct peak_wind_time   feel  \\\n",
       "0               M              M              M  57.00   \n",
       "\n",
       "                                               metar snowdepth  \n",
       "0  KLAX 010053Z 28012KT 10SM FEW015 SCT038 14/09 ...         M  \n",
       "\n",
       "[1 rows x 34 columns]"
      ]
     },
     "execution_count": 22,
     "metadata": {},
     "output_type": "execute_result"
    }
   ],
   "source": [
    "metar_df.sort_values('valid').head(1)"
   ]
  },
  {
   "cell_type": "markdown",
   "id": "d513a217",
   "metadata": {},
   "source": [
    "# Removing null columns"
   ]
  },
  {
   "cell_type": "code",
   "execution_count": 23,
   "id": "8eb4be6b",
   "metadata": {},
   "outputs": [],
   "source": [
    "null_cols = metar_df.columns[metar_df.isnull().all()]\n",
    "metar_df = metar_df.drop(null_cols, axis=1)"
   ]
  },
  {
   "cell_type": "markdown",
   "id": "a86db79e",
   "metadata": {},
   "source": [
    "Trimming down to usable columns"
   ]
  },
  {
   "cell_type": "code",
   "execution_count": 24,
   "id": "d1c7c163",
   "metadata": {},
   "outputs": [],
   "source": [
    "metar_trimmed = metar_df[['valid', 'lon', 'lat', 'elevation', 'tmpf', 'dwpf', 'relh', 'drct',\n",
    "                         'sknt', 'alti', 'mslp', 'vsby', 'gust']]"
   ]
  },
  {
   "cell_type": "markdown",
   "id": "2009ed51",
   "metadata": {},
   "source": [
    "Removing duplicate rows"
   ]
  },
  {
   "cell_type": "code",
   "execution_count": 25,
   "id": "7956b197",
   "metadata": {},
   "outputs": [],
   "source": [
    "metar_trimmed = metar_trimmed.drop_duplicates(subset='valid', keep='last')"
   ]
  },
  {
   "cell_type": "markdown",
   "id": "8fbe5f7b",
   "metadata": {},
   "source": [
    "# Adding METAR columns to IFF"
   ]
  },
  {
   "cell_type": "code",
   "execution_count": 26,
   "id": "76f65e5d",
   "metadata": {},
   "outputs": [
    {
     "data": {
      "text/plain": [
       "((1618440, 23), (8735, 13))"
      ]
     },
     "execution_count": 26,
     "metadata": {},
     "output_type": "execute_result"
    }
   ],
   "source": [
    "iff_df.shape, metar_trimmed.shape"
   ]
  },
  {
   "cell_type": "code",
   "execution_count": 27,
   "id": "4d9121b7",
   "metadata": {},
   "outputs": [],
   "source": [
    "iff_df = pd.merge(iff_df, metar_trimmed, on='valid', how='left')"
   ]
  },
  {
   "cell_type": "code",
   "execution_count": 28,
   "id": "a7cbae61",
   "metadata": {},
   "outputs": [
    {
     "data": {
      "text/plain": [
       "(1618440, 35)"
      ]
     },
     "execution_count": 28,
     "metadata": {},
     "output_type": "execute_result"
    }
   ],
   "source": [
    "iff_df.shape"
   ]
  },
  {
   "cell_type": "code",
   "execution_count": 29,
   "id": "eeb4083b",
   "metadata": {},
   "outputs": [
    {
     "data": {
      "text/plain": [
       "0"
      ]
     },
     "execution_count": 29,
     "metadata": {},
     "output_type": "execute_result"
    }
   ],
   "source": [
    "iff_df['tmpf'].isna().sum()"
   ]
  },
  {
   "cell_type": "markdown",
   "id": "85c035bf",
   "metadata": {},
   "source": [
    "# Attempting to find 4 conditions that meet criteria for a descent"
   ]
  },
  {
   "cell_type": "markdown",
   "id": "39625d3f",
   "metadata": {},
   "source": [
    "* Condition 1: Change of MSL altitude over last 10 seconds is between -10 and -500\n",
    "* Condition 2: Fraction of Maximum MSL altitude is > than .5\n",
    "* Condition 3: Time until max deviation above 400 ft >= 0\n",
    "* Condition 4: Descent Phase exists is true?"
   ]
  },
  {
   "cell_type": "code",
   "execution_count": 30,
   "id": "4d083baf",
   "metadata": {},
   "outputs": [
    {
     "data": {
      "text/html": [
       "<div>\n",
       "<style scoped>\n",
       "    .dataframe tbody tr th:only-of-type {\n",
       "        vertical-align: middle;\n",
       "    }\n",
       "\n",
       "    .dataframe tbody tr th {\n",
       "        vertical-align: top;\n",
       "    }\n",
       "\n",
       "    .dataframe thead th {\n",
       "        text-align: right;\n",
       "    }\n",
       "</style>\n",
       "<table border=\"1\" class=\"dataframe\">\n",
       "  <thead>\n",
       "    <tr style=\"text-align: right;\">\n",
       "      <th></th>\n",
       "      <th>fltKey</th>\n",
       "      <th>AcId</th>\n",
       "      <th>acType</th>\n",
       "      <th>Orig</th>\n",
       "      <th>Dest</th>\n",
       "      <th>perfCat</th>\n",
       "      <th>pKey_fltAcMode</th>\n",
       "      <th>coord1</th>\n",
       "      <th>coord2</th>\n",
       "      <th>alt</th>\n",
       "      <th>...</th>\n",
       "      <th>elevation</th>\n",
       "      <th>tmpf</th>\n",
       "      <th>dwpf</th>\n",
       "      <th>relh</th>\n",
       "      <th>drct</th>\n",
       "      <th>sknt</th>\n",
       "      <th>alti</th>\n",
       "      <th>mslp</th>\n",
       "      <th>vsby</th>\n",
       "      <th>gust</th>\n",
       "    </tr>\n",
       "  </thead>\n",
       "  <tbody>\n",
       "    <tr>\n",
       "      <th>0</th>\n",
       "      <td>119420</td>\n",
       "      <td>ASA846</td>\n",
       "      <td>B738</td>\n",
       "      <td>NaN</td>\n",
       "      <td>LAX</td>\n",
       "      <td>J</td>\n",
       "      <td>119420_ASA846_a784d5</td>\n",
       "      <td>33.93549</td>\n",
       "      <td>-118.5447</td>\n",
       "      <td>21.69</td>\n",
       "      <td>...</td>\n",
       "      <td>32.0</td>\n",
       "      <td>54.0</td>\n",
       "      <td>33.10</td>\n",
       "      <td>44.92</td>\n",
       "      <td>20.00</td>\n",
       "      <td>6.00</td>\n",
       "      <td>29.87</td>\n",
       "      <td>1011.40</td>\n",
       "      <td>10.0</td>\n",
       "      <td>M</td>\n",
       "    </tr>\n",
       "  </tbody>\n",
       "</table>\n",
       "<p>1 rows × 35 columns</p>\n",
       "</div>"
      ],
      "text/plain": [
       "   fltKey    AcId acType Orig Dest perfCat        pKey_fltAcMode    coord1  \\\n",
       "0  119420  ASA846   B738  NaN  LAX       J  119420_ASA846_a784d5  33.93549   \n",
       "\n",
       "     coord2    alt  ...  elevation  tmpf   dwpf   relh   drct  sknt   alti  \\\n",
       "0 -118.5447  21.69  ...       32.0  54.0  33.10  44.92  20.00  6.00  29.87   \n",
       "\n",
       "      mslp  vsby  gust  \n",
       "0  1011.40  10.0     M  \n",
       "\n",
       "[1 rows x 35 columns]"
      ]
     },
     "execution_count": 30,
     "metadata": {},
     "output_type": "execute_result"
    }
   ],
   "source": [
    "iff_df.head(1)"
   ]
  },
  {
   "cell_type": "markdown",
   "id": "4ed9cbed",
   "metadata": {},
   "source": [
    "* Converting altitude from 100s of ft to ft\n",
    "* Converting rate of climb from ft/min to ft/sec"
   ]
  },
  {
   "cell_type": "markdown",
   "id": "9beec736",
   "metadata": {},
   "source": [
    "CHANGE BACK WHEN PLOTTING"
   ]
  },
  {
   "cell_type": "code",
   "execution_count": 31,
   "id": "9b6e87d3",
   "metadata": {},
   "outputs": [],
   "source": [
    "iff_df['alt'] = iff_df['alt'].apply(lambda ft: ft * 100)\n",
    "iff_df['rateOfClimb'] = iff_df['rateOfClimb'].apply(lambda time: time * 60)"
   ]
  },
  {
   "cell_type": "code",
   "execution_count": 32,
   "id": "17bcbbd3",
   "metadata": {},
   "outputs": [
    {
     "data": {
      "text/plain": [
       "count    1.618440e+06\n",
       "mean    -4.694243e+03\n",
       "std      3.519826e+04\n",
       "min     -1.800000e+06\n",
       "25%      0.000000e+00\n",
       "50%      0.000000e+00\n",
       "75%      0.000000e+00\n",
       "max      1.800000e+06\n",
       "Name: rateOfClimb, dtype: float64"
      ]
     },
     "execution_count": 32,
     "metadata": {},
     "output_type": "execute_result"
    }
   ],
   "source": [
    "iff_df['rateOfClimb'].describe()"
   ]
  },
  {
   "cell_type": "code",
   "execution_count": 33,
   "id": "a5f4f775",
   "metadata": {},
   "outputs": [
    {
     "data": {
      "text/plain": [
       "count    1.618440e+06\n",
       "mean     1.738024e+02\n",
       "std      3.227084e+02\n",
       "min      0.000000e+00\n",
       "25%      1.060000e+02\n",
       "50%      1.060000e+02\n",
       "75%      1.060000e+02\n",
       "max      1.000000e+04\n",
       "Name: alt, dtype: float64"
      ]
     },
     "execution_count": 33,
     "metadata": {},
     "output_type": "execute_result"
    }
   ],
   "source": [
    "iff_df['alt'].describe()"
   ]
  },
  {
   "cell_type": "code",
   "execution_count": 34,
   "id": "6ef7b61d",
   "metadata": {},
   "outputs": [
    {
     "data": {
      "text/html": [
       "<div>\n",
       "<style scoped>\n",
       "    .dataframe tbody tr th:only-of-type {\n",
       "        vertical-align: middle;\n",
       "    }\n",
       "\n",
       "    .dataframe tbody tr th {\n",
       "        vertical-align: top;\n",
       "    }\n",
       "\n",
       "    .dataframe thead th {\n",
       "        text-align: right;\n",
       "    }\n",
       "</style>\n",
       "<table border=\"1\" class=\"dataframe\">\n",
       "  <thead>\n",
       "    <tr style=\"text-align: right;\">\n",
       "      <th></th>\n",
       "      <th>fltKey</th>\n",
       "      <th>AcId</th>\n",
       "      <th>acType</th>\n",
       "      <th>Orig</th>\n",
       "      <th>Dest</th>\n",
       "      <th>perfCat</th>\n",
       "      <th>pKey_fltAcMode</th>\n",
       "      <th>coord1</th>\n",
       "      <th>coord2</th>\n",
       "      <th>alt</th>\n",
       "      <th>...</th>\n",
       "      <th>elevation</th>\n",
       "      <th>tmpf</th>\n",
       "      <th>dwpf</th>\n",
       "      <th>relh</th>\n",
       "      <th>drct</th>\n",
       "      <th>sknt</th>\n",
       "      <th>alti</th>\n",
       "      <th>mslp</th>\n",
       "      <th>vsby</th>\n",
       "      <th>gust</th>\n",
       "    </tr>\n",
       "  </thead>\n",
       "  <tbody>\n",
       "    <tr>\n",
       "      <th>881615</th>\n",
       "      <td>3485</td>\n",
       "      <td>FDY801</td>\n",
       "      <td>C208</td>\n",
       "      <td>NaN</td>\n",
       "      <td>LAX</td>\n",
       "      <td>T</td>\n",
       "      <td>3485_FDY801_ad35ed</td>\n",
       "      <td>33.93613</td>\n",
       "      <td>-118.39700</td>\n",
       "      <td>0.0</td>\n",
       "      <td>...</td>\n",
       "      <td>32.0</td>\n",
       "      <td>73.0</td>\n",
       "      <td>63.00</td>\n",
       "      <td>70.87</td>\n",
       "      <td>170.00</td>\n",
       "      <td>4.00</td>\n",
       "      <td>29.95</td>\n",
       "      <td>1014.00</td>\n",
       "      <td>10.0</td>\n",
       "      <td>M</td>\n",
       "    </tr>\n",
       "    <tr>\n",
       "      <th>1342931</th>\n",
       "      <td>48915</td>\n",
       "      <td>SKW3454</td>\n",
       "      <td>E75L</td>\n",
       "      <td>NaN</td>\n",
       "      <td>LAX</td>\n",
       "      <td>U</td>\n",
       "      <td>48915_SKW3454_a15c54</td>\n",
       "      <td>33.95047</td>\n",
       "      <td>-118.41742</td>\n",
       "      <td>0.0</td>\n",
       "      <td>...</td>\n",
       "      <td>32.0</td>\n",
       "      <td>66.0</td>\n",
       "      <td>41.00</td>\n",
       "      <td>39.99</td>\n",
       "      <td>250.00</td>\n",
       "      <td>7.00</td>\n",
       "      <td>30.06</td>\n",
       "      <td>1017.90</td>\n",
       "      <td>10.0</td>\n",
       "      <td>M</td>\n",
       "    </tr>\n",
       "  </tbody>\n",
       "</table>\n",
       "<p>2 rows × 35 columns</p>\n",
       "</div>"
      ],
      "text/plain": [
       "         fltKey     AcId acType Orig Dest perfCat        pKey_fltAcMode  \\\n",
       "881615     3485   FDY801   C208  NaN  LAX       T    3485_FDY801_ad35ed   \n",
       "1342931   48915  SKW3454   E75L  NaN  LAX       U  48915_SKW3454_a15c54   \n",
       "\n",
       "           coord1     coord2  alt  ...  elevation  tmpf   dwpf   relh    drct  \\\n",
       "881615   33.93613 -118.39700  0.0  ...       32.0  73.0  63.00  70.87  170.00   \n",
       "1342931  33.95047 -118.41742  0.0  ...       32.0  66.0  41.00  39.99  250.00   \n",
       "\n",
       "         sknt   alti     mslp  vsby  gust  \n",
       "881615   4.00  29.95  1014.00  10.0     M  \n",
       "1342931  7.00  30.06  1017.90  10.0     M  \n",
       "\n",
       "[2 rows x 35 columns]"
      ]
     },
     "execution_count": 34,
     "metadata": {},
     "output_type": "execute_result"
    }
   ],
   "source": [
    "iff_df[iff_df['alt'] == 0]"
   ]
  },
  {
   "cell_type": "markdown",
   "id": "043fb520",
   "metadata": {},
   "source": [
    "# Adding a key to merge by"
   ]
  },
  {
   "cell_type": "markdown",
   "id": "732fb955",
   "metadata": {},
   "source": [
    "# Merging IFF DF with EV RD DF to add landing runway"
   ]
  },
  {
   "cell_type": "code",
   "execution_count": 35,
   "id": "77192720",
   "metadata": {},
   "outputs": [
    {
     "data": {
      "text/plain": [
       "Index(['lKey', 'cKey', 'StartDate', 'StartTime', 'tMidnightSecs', 'tStartSecs',\n",
       "       'tStopSecs', 'tStart', 'tStop', 'Duration', 'Msn', 'AcId', 'AcType',\n",
       "       'tEv', 'EvType', 'ObjClass', 'OldName', 'NewName', 'Lat', 'Lon', 'aEv',\n",
       "       'cEv', 'vEv', 'rEv', 'DTD', 'FlD', 'DDT', 'FlT', 'EvNumInfo',\n",
       "       'EvCharInfo', 'pKey', 'mergeKey', 'RecordTime', 'time_Duration', 'PC',\n",
       "       'WC', 'OT', 'Airline', 'CT', 'Orig', 'EstOrig', 'TOFRwy', 'Dest',\n",
       "       'EstDest', 'LNDRwy', 'ATAThdArr', 'tON'],\n",
       "      dtype='object')"
      ]
     },
     "execution_count": 35,
     "metadata": {},
     "output_type": "execute_result"
    }
   ],
   "source": [
    "ev_rd_df = pd.read_csv('Sherlock_data/Merged_Filtered_EV_RD.csv')\n",
    "ev_rd_df = ev_rd_df.drop('Unnamed: 0', axis=1)\n",
    "ev_rd_df.columns"
   ]
  },
  {
   "cell_type": "markdown",
   "id": "45ad7118",
   "metadata": {},
   "source": [
    "# Joining the two dataframes together to get the landing runway"
   ]
  },
  {
   "cell_type": "code",
   "execution_count": 36,
   "id": "149215a9",
   "metadata": {},
   "outputs": [
    {
     "name": "stdout",
     "output_type": "stream",
     "text": [
      "(7455, 47)\n"
     ]
    }
   ],
   "source": [
    "ev_rd_df = ev_rd_df.drop_duplicates(subset=['mergeKey'], keep='first')\n",
    "print(ev_rd_df.shape)"
   ]
  },
  {
   "cell_type": "code",
   "execution_count": 37,
   "id": "f8230932",
   "metadata": {},
   "outputs": [
    {
     "data": {
      "text/plain": [
       "True"
      ]
     },
     "execution_count": 37,
     "metadata": {},
     "output_type": "execute_result"
    }
   ],
   "source": [
    "# Drop the ev_rd records where there are no LNDRwy information\n",
    "ev_rd_df['LNDRwy'].isnull().any()"
   ]
  },
  {
   "cell_type": "code",
   "execution_count": 38,
   "id": "c3a2b1a2",
   "metadata": {},
   "outputs": [
    {
     "data": {
      "text/plain": [
       "25L    3749\n",
       "24R    3119\n",
       "06R     313\n",
       "24L     142\n",
       "06L      46\n",
       "25R      44\n",
       "NaN      20\n",
       "07L      13\n",
       "07R       9\n",
       "Name: LNDRwy, dtype: int64"
      ]
     },
     "execution_count": 38,
     "metadata": {},
     "output_type": "execute_result"
    }
   ],
   "source": [
    "ev_rd_df['LNDRwy'].value_counts(dropna=False)"
   ]
  },
  {
   "cell_type": "code",
   "execution_count": 39,
   "id": "5606ca00",
   "metadata": {},
   "outputs": [
    {
     "name": "stdout",
     "output_type": "stream",
     "text": [
      "(7435, 47)\n"
     ]
    }
   ],
   "source": [
    "# Drop the ev_rd records where there are no LNDRwy information\n",
    "ev_rd_df = ev_rd_df[ev_rd_df['LNDRwy'].notna()]\n",
    "print(ev_rd_df.shape)"
   ]
  },
  {
   "cell_type": "code",
   "execution_count": 40,
   "id": "70ead9dd",
   "metadata": {},
   "outputs": [
    {
     "data": {
      "text/plain": [
       "((1618440, 35), (7435, 47))"
      ]
     },
     "execution_count": 40,
     "metadata": {},
     "output_type": "execute_result"
    }
   ],
   "source": [
    "iff_df.shape, ev_rd_df.shape"
   ]
  },
  {
   "cell_type": "code",
   "execution_count": 41,
   "id": "0b67da63",
   "metadata": {},
   "outputs": [
    {
     "data": {
      "text/plain": [
       "0        4151_08/06/2022\n",
       "3        4176_08/06/2022\n",
       "6        4177_08/06/2022\n",
       "9        4178_08/06/2022\n",
       "12       4188_08/06/2022\n",
       "              ...       \n",
       "22363    4117_08/06/2022\n",
       "22366    4118_08/06/2022\n",
       "22369    4121_08/06/2022\n",
       "22372    4147_08/06/2022\n",
       "22375    3099_08/06/2022\n",
       "Name: mergeKey, Length: 7435, dtype: object"
      ]
     },
     "execution_count": 41,
     "metadata": {},
     "output_type": "execute_result"
    }
   ],
   "source": [
    "ev_rd_df['mergeKey']"
   ]
  },
  {
   "cell_type": "code",
   "execution_count": 42,
   "id": "349d34b9",
   "metadata": {},
   "outputs": [
    {
     "data": {
      "text/plain": [
       "269"
      ]
     },
     "execution_count": 42,
     "metadata": {},
     "output_type": "execute_result"
    }
   ],
   "source": [
    "# Find the differences between mergeKey in ev_df and iff\n",
    "len(list(set(iff_df['mergeKey'].values.tolist()) - set(ev_rd_df['mergeKey'].values.tolist())))"
   ]
  },
  {
   "cell_type": "code",
   "execution_count": 43,
   "id": "d9908f7a",
   "metadata": {},
   "outputs": [],
   "source": [
    "merge_df = pd.merge(iff_df, ev_rd_df, on = 'mergeKey', how = 'left')"
   ]
  },
  {
   "cell_type": "code",
   "execution_count": 44,
   "id": "37b5c1cc",
   "metadata": {},
   "outputs": [
    {
     "data": {
      "text/html": [
       "<div>\n",
       "<style scoped>\n",
       "    .dataframe tbody tr th:only-of-type {\n",
       "        vertical-align: middle;\n",
       "    }\n",
       "\n",
       "    .dataframe tbody tr th {\n",
       "        vertical-align: top;\n",
       "    }\n",
       "\n",
       "    .dataframe thead th {\n",
       "        text-align: right;\n",
       "    }\n",
       "</style>\n",
       "<table border=\"1\" class=\"dataframe\">\n",
       "  <thead>\n",
       "    <tr style=\"text-align: right;\">\n",
       "      <th></th>\n",
       "      <th>fltKey</th>\n",
       "      <th>AcId_x</th>\n",
       "      <th>acType</th>\n",
       "      <th>Orig_x</th>\n",
       "      <th>Dest_x</th>\n",
       "      <th>perfCat</th>\n",
       "      <th>pKey_fltAcMode</th>\n",
       "      <th>coord1</th>\n",
       "      <th>coord2</th>\n",
       "      <th>alt</th>\n",
       "      <th>...</th>\n",
       "      <th>Airline</th>\n",
       "      <th>CT</th>\n",
       "      <th>Orig_y</th>\n",
       "      <th>EstOrig</th>\n",
       "      <th>TOFRwy</th>\n",
       "      <th>Dest_y</th>\n",
       "      <th>EstDest</th>\n",
       "      <th>LNDRwy</th>\n",
       "      <th>ATAThdArr</th>\n",
       "      <th>tON</th>\n",
       "    </tr>\n",
       "  </thead>\n",
       "  <tbody>\n",
       "    <tr>\n",
       "      <th>0</th>\n",
       "      <td>119420</td>\n",
       "      <td>ASA846</td>\n",
       "      <td>B738</td>\n",
       "      <td>NaN</td>\n",
       "      <td>LAX</td>\n",
       "      <td>J</td>\n",
       "      <td>119420_ASA846_a784d5</td>\n",
       "      <td>33.93549</td>\n",
       "      <td>-118.54470</td>\n",
       "      <td>2169.0</td>\n",
       "      <td>...</td>\n",
       "      <td>ASA</td>\n",
       "      <td>AC</td>\n",
       "      <td>NaN</td>\n",
       "      <td>NaN</td>\n",
       "      <td>NaN</td>\n",
       "      <td>LAX</td>\n",
       "      <td>LAX</td>\n",
       "      <td>06R</td>\n",
       "      <td>28208.0</td>\n",
       "      <td>28226.0</td>\n",
       "    </tr>\n",
       "    <tr>\n",
       "      <th>1</th>\n",
       "      <td>119420</td>\n",
       "      <td>ASA846</td>\n",
       "      <td>B738</td>\n",
       "      <td>NaN</td>\n",
       "      <td>LAX</td>\n",
       "      <td>J</td>\n",
       "      <td>119420_ASA846_a784d5</td>\n",
       "      <td>33.93710</td>\n",
       "      <td>-118.52927</td>\n",
       "      <td>1881.0</td>\n",
       "      <td>...</td>\n",
       "      <td>ASA</td>\n",
       "      <td>AC</td>\n",
       "      <td>NaN</td>\n",
       "      <td>NaN</td>\n",
       "      <td>NaN</td>\n",
       "      <td>LAX</td>\n",
       "      <td>LAX</td>\n",
       "      <td>06R</td>\n",
       "      <td>28208.0</td>\n",
       "      <td>28226.0</td>\n",
       "    </tr>\n",
       "    <tr>\n",
       "      <th>2</th>\n",
       "      <td>119420</td>\n",
       "      <td>ASA846</td>\n",
       "      <td>B738</td>\n",
       "      <td>NaN</td>\n",
       "      <td>LAX</td>\n",
       "      <td>J</td>\n",
       "      <td>119420_ASA846_a784d5</td>\n",
       "      <td>33.93859</td>\n",
       "      <td>-118.51472</td>\n",
       "      <td>1656.0</td>\n",
       "      <td>...</td>\n",
       "      <td>ASA</td>\n",
       "      <td>AC</td>\n",
       "      <td>NaN</td>\n",
       "      <td>NaN</td>\n",
       "      <td>NaN</td>\n",
       "      <td>LAX</td>\n",
       "      <td>LAX</td>\n",
       "      <td>06R</td>\n",
       "      <td>28208.0</td>\n",
       "      <td>28226.0</td>\n",
       "    </tr>\n",
       "    <tr>\n",
       "      <th>3</th>\n",
       "      <td>119420</td>\n",
       "      <td>ASA846</td>\n",
       "      <td>B738</td>\n",
       "      <td>NaN</td>\n",
       "      <td>LAX</td>\n",
       "      <td>J</td>\n",
       "      <td>119420_ASA846_a784d5</td>\n",
       "      <td>33.94002</td>\n",
       "      <td>-118.50101</td>\n",
       "      <td>1406.0</td>\n",
       "      <td>...</td>\n",
       "      <td>ASA</td>\n",
       "      <td>AC</td>\n",
       "      <td>NaN</td>\n",
       "      <td>NaN</td>\n",
       "      <td>NaN</td>\n",
       "      <td>LAX</td>\n",
       "      <td>LAX</td>\n",
       "      <td>06R</td>\n",
       "      <td>28208.0</td>\n",
       "      <td>28226.0</td>\n",
       "    </tr>\n",
       "    <tr>\n",
       "      <th>4</th>\n",
       "      <td>119420</td>\n",
       "      <td>ASA846</td>\n",
       "      <td>B738</td>\n",
       "      <td>NaN</td>\n",
       "      <td>LAX</td>\n",
       "      <td>J</td>\n",
       "      <td>119420_ASA846_a784d5</td>\n",
       "      <td>33.94139</td>\n",
       "      <td>-118.48753</td>\n",
       "      <td>1213.0</td>\n",
       "      <td>...</td>\n",
       "      <td>ASA</td>\n",
       "      <td>AC</td>\n",
       "      <td>NaN</td>\n",
       "      <td>NaN</td>\n",
       "      <td>NaN</td>\n",
       "      <td>LAX</td>\n",
       "      <td>LAX</td>\n",
       "      <td>06R</td>\n",
       "      <td>28208.0</td>\n",
       "      <td>28226.0</td>\n",
       "    </tr>\n",
       "    <tr>\n",
       "      <th>...</th>\n",
       "      <td>...</td>\n",
       "      <td>...</td>\n",
       "      <td>...</td>\n",
       "      <td>...</td>\n",
       "      <td>...</td>\n",
       "      <td>...</td>\n",
       "      <td>...</td>\n",
       "      <td>...</td>\n",
       "      <td>...</td>\n",
       "      <td>...</td>\n",
       "      <td>...</td>\n",
       "      <td>...</td>\n",
       "      <td>...</td>\n",
       "      <td>...</td>\n",
       "      <td>...</td>\n",
       "      <td>...</td>\n",
       "      <td>...</td>\n",
       "      <td>...</td>\n",
       "      <td>...</td>\n",
       "      <td>...</td>\n",
       "      <td>...</td>\n",
       "    </tr>\n",
       "    <tr>\n",
       "      <th>1618435</th>\n",
       "      <td>39730</td>\n",
       "      <td>SIA7406</td>\n",
       "      <td>B77L</td>\n",
       "      <td>NaN</td>\n",
       "      <td>LAX</td>\n",
       "      <td>J</td>\n",
       "      <td>39730_SIA7406_769102</td>\n",
       "      <td>33.93449</td>\n",
       "      <td>-118.39335</td>\n",
       "      <td>106.0</td>\n",
       "      <td>...</td>\n",
       "      <td>SIA</td>\n",
       "      <td>AC</td>\n",
       "      <td>NaN</td>\n",
       "      <td>NaN</td>\n",
       "      <td>NaN</td>\n",
       "      <td>LAX</td>\n",
       "      <td>LAX</td>\n",
       "      <td>25L</td>\n",
       "      <td>28324.0</td>\n",
       "      <td>28337.0</td>\n",
       "    </tr>\n",
       "    <tr>\n",
       "      <th>1618436</th>\n",
       "      <td>39730</td>\n",
       "      <td>SIA7406</td>\n",
       "      <td>B77L</td>\n",
       "      <td>NaN</td>\n",
       "      <td>LAX</td>\n",
       "      <td>J</td>\n",
       "      <td>39730_SIA7406_769102</td>\n",
       "      <td>33.93445</td>\n",
       "      <td>-118.39335</td>\n",
       "      <td>106.0</td>\n",
       "      <td>...</td>\n",
       "      <td>SIA</td>\n",
       "      <td>AC</td>\n",
       "      <td>NaN</td>\n",
       "      <td>NaN</td>\n",
       "      <td>NaN</td>\n",
       "      <td>LAX</td>\n",
       "      <td>LAX</td>\n",
       "      <td>25L</td>\n",
       "      <td>28324.0</td>\n",
       "      <td>28337.0</td>\n",
       "    </tr>\n",
       "    <tr>\n",
       "      <th>1618437</th>\n",
       "      <td>39730</td>\n",
       "      <td>SIA7406</td>\n",
       "      <td>B77L</td>\n",
       "      <td>NaN</td>\n",
       "      <td>LAX</td>\n",
       "      <td>J</td>\n",
       "      <td>39730_SIA7406_769102</td>\n",
       "      <td>33.93443</td>\n",
       "      <td>-118.39336</td>\n",
       "      <td>106.0</td>\n",
       "      <td>...</td>\n",
       "      <td>SIA</td>\n",
       "      <td>AC</td>\n",
       "      <td>NaN</td>\n",
       "      <td>NaN</td>\n",
       "      <td>NaN</td>\n",
       "      <td>LAX</td>\n",
       "      <td>LAX</td>\n",
       "      <td>25L</td>\n",
       "      <td>28324.0</td>\n",
       "      <td>28337.0</td>\n",
       "    </tr>\n",
       "    <tr>\n",
       "      <th>1618438</th>\n",
       "      <td>39730</td>\n",
       "      <td>SIA7406</td>\n",
       "      <td>B77L</td>\n",
       "      <td>NaN</td>\n",
       "      <td>LAX</td>\n",
       "      <td>J</td>\n",
       "      <td>39730_SIA7406_769102</td>\n",
       "      <td>33.93437</td>\n",
       "      <td>-118.39336</td>\n",
       "      <td>106.0</td>\n",
       "      <td>...</td>\n",
       "      <td>SIA</td>\n",
       "      <td>AC</td>\n",
       "      <td>NaN</td>\n",
       "      <td>NaN</td>\n",
       "      <td>NaN</td>\n",
       "      <td>LAX</td>\n",
       "      <td>LAX</td>\n",
       "      <td>25L</td>\n",
       "      <td>28324.0</td>\n",
       "      <td>28337.0</td>\n",
       "    </tr>\n",
       "    <tr>\n",
       "      <th>1618439</th>\n",
       "      <td>39730</td>\n",
       "      <td>SIA7406</td>\n",
       "      <td>B77L</td>\n",
       "      <td>NaN</td>\n",
       "      <td>LAX</td>\n",
       "      <td>J</td>\n",
       "      <td>39730_SIA7406_769102</td>\n",
       "      <td>33.93434</td>\n",
       "      <td>-118.39337</td>\n",
       "      <td>106.0</td>\n",
       "      <td>...</td>\n",
       "      <td>SIA</td>\n",
       "      <td>AC</td>\n",
       "      <td>NaN</td>\n",
       "      <td>NaN</td>\n",
       "      <td>NaN</td>\n",
       "      <td>LAX</td>\n",
       "      <td>LAX</td>\n",
       "      <td>25L</td>\n",
       "      <td>28324.0</td>\n",
       "      <td>28337.0</td>\n",
       "    </tr>\n",
       "  </tbody>\n",
       "</table>\n",
       "<p>1618440 rows × 81 columns</p>\n",
       "</div>"
      ],
      "text/plain": [
       "         fltKey   AcId_x acType Orig_x Dest_x perfCat        pKey_fltAcMode  \\\n",
       "0        119420   ASA846   B738    NaN    LAX       J  119420_ASA846_a784d5   \n",
       "1        119420   ASA846   B738    NaN    LAX       J  119420_ASA846_a784d5   \n",
       "2        119420   ASA846   B738    NaN    LAX       J  119420_ASA846_a784d5   \n",
       "3        119420   ASA846   B738    NaN    LAX       J  119420_ASA846_a784d5   \n",
       "4        119420   ASA846   B738    NaN    LAX       J  119420_ASA846_a784d5   \n",
       "...         ...      ...    ...    ...    ...     ...                   ...   \n",
       "1618435   39730  SIA7406   B77L    NaN    LAX       J  39730_SIA7406_769102   \n",
       "1618436   39730  SIA7406   B77L    NaN    LAX       J  39730_SIA7406_769102   \n",
       "1618437   39730  SIA7406   B77L    NaN    LAX       J  39730_SIA7406_769102   \n",
       "1618438   39730  SIA7406   B77L    NaN    LAX       J  39730_SIA7406_769102   \n",
       "1618439   39730  SIA7406   B77L    NaN    LAX       J  39730_SIA7406_769102   \n",
       "\n",
       "           coord1     coord2     alt  ...  Airline  CT  Orig_y  EstOrig  \\\n",
       "0        33.93549 -118.54470  2169.0  ...      ASA  AC     NaN      NaN   \n",
       "1        33.93710 -118.52927  1881.0  ...      ASA  AC     NaN      NaN   \n",
       "2        33.93859 -118.51472  1656.0  ...      ASA  AC     NaN      NaN   \n",
       "3        33.94002 -118.50101  1406.0  ...      ASA  AC     NaN      NaN   \n",
       "4        33.94139 -118.48753  1213.0  ...      ASA  AC     NaN      NaN   \n",
       "...           ...        ...     ...  ...      ...  ..     ...      ...   \n",
       "1618435  33.93449 -118.39335   106.0  ...      SIA  AC     NaN      NaN   \n",
       "1618436  33.93445 -118.39335   106.0  ...      SIA  AC     NaN      NaN   \n",
       "1618437  33.93443 -118.39336   106.0  ...      SIA  AC     NaN      NaN   \n",
       "1618438  33.93437 -118.39336   106.0  ...      SIA  AC     NaN      NaN   \n",
       "1618439  33.93434 -118.39337   106.0  ...      SIA  AC     NaN      NaN   \n",
       "\n",
       "         TOFRwy  Dest_y EstDest LNDRwy  ATAThdArr      tON  \n",
       "0           NaN     LAX     LAX    06R    28208.0  28226.0  \n",
       "1           NaN     LAX     LAX    06R    28208.0  28226.0  \n",
       "2           NaN     LAX     LAX    06R    28208.0  28226.0  \n",
       "3           NaN     LAX     LAX    06R    28208.0  28226.0  \n",
       "4           NaN     LAX     LAX    06R    28208.0  28226.0  \n",
       "...         ...     ...     ...    ...        ...      ...  \n",
       "1618435     NaN     LAX     LAX    25L    28324.0  28337.0  \n",
       "1618436     NaN     LAX     LAX    25L    28324.0  28337.0  \n",
       "1618437     NaN     LAX     LAX    25L    28324.0  28337.0  \n",
       "1618438     NaN     LAX     LAX    25L    28324.0  28337.0  \n",
       "1618439     NaN     LAX     LAX    25L    28324.0  28337.0  \n",
       "\n",
       "[1618440 rows x 81 columns]"
      ]
     },
     "execution_count": 44,
     "metadata": {},
     "output_type": "execute_result"
    }
   ],
   "source": [
    "merge_df"
   ]
  },
  {
   "cell_type": "code",
   "execution_count": 45,
   "id": "1c7e873b",
   "metadata": {},
   "outputs": [],
   "source": [
    "iff_df['LNDRwy'] = merge_df['LNDRwy']"
   ]
  },
  {
   "cell_type": "code",
   "execution_count": 46,
   "id": "e19865cb",
   "metadata": {},
   "outputs": [
    {
     "data": {
      "text/plain": [
       "1618440"
      ]
     },
     "execution_count": 46,
     "metadata": {},
     "output_type": "execute_result"
    }
   ],
   "source": [
    "len(iff_df)"
   ]
  },
  {
   "cell_type": "code",
   "execution_count": 47,
   "id": "d7d89278",
   "metadata": {},
   "outputs": [
    {
     "name": "stdout",
     "output_type": "stream",
     "text": [
      "Percentage of null LNDRwy in data: 0.029863943056276415\n"
     ]
    }
   ],
   "source": [
    "query = list(iff_df[iff_df['LNDRwy'].isna()]['mergeKey'].values)\n",
    "print(\"Percentage of null LNDRwy in data:\", len(query)/len(iff_df))"
   ]
  },
  {
   "cell_type": "code",
   "execution_count": 48,
   "id": "d53a355a",
   "metadata": {},
   "outputs": [
    {
     "name": "stdout",
     "output_type": "stream",
     "text": [
      "(1570107, 36)\n"
     ]
    }
   ],
   "source": [
    "# Drop the records without LNDRwy information because later calculations rely on LNDRwy info\n",
    "iff_df = iff_df[iff_df['LNDRwy'].notna()]\n",
    "print(iff_df.shape)"
   ]
  },
  {
   "cell_type": "code",
   "execution_count": 49,
   "id": "c68159e0",
   "metadata": {},
   "outputs": [
    {
     "data": {
      "text/html": [
       "<div>\n",
       "<style scoped>\n",
       "    .dataframe tbody tr th:only-of-type {\n",
       "        vertical-align: middle;\n",
       "    }\n",
       "\n",
       "    .dataframe tbody tr th {\n",
       "        vertical-align: top;\n",
       "    }\n",
       "\n",
       "    .dataframe thead th {\n",
       "        text-align: right;\n",
       "    }\n",
       "</style>\n",
       "<table border=\"1\" class=\"dataframe\">\n",
       "  <thead>\n",
       "    <tr style=\"text-align: right;\">\n",
       "      <th></th>\n",
       "      <th>fltKey</th>\n",
       "      <th>AcId</th>\n",
       "      <th>acType</th>\n",
       "      <th>Orig</th>\n",
       "      <th>Dest</th>\n",
       "      <th>perfCat</th>\n",
       "      <th>pKey_fltAcMode</th>\n",
       "      <th>coord1</th>\n",
       "      <th>coord2</th>\n",
       "      <th>alt</th>\n",
       "      <th>...</th>\n",
       "      <th>tmpf</th>\n",
       "      <th>dwpf</th>\n",
       "      <th>relh</th>\n",
       "      <th>drct</th>\n",
       "      <th>sknt</th>\n",
       "      <th>alti</th>\n",
       "      <th>mslp</th>\n",
       "      <th>vsby</th>\n",
       "      <th>gust</th>\n",
       "      <th>LNDRwy</th>\n",
       "    </tr>\n",
       "  </thead>\n",
       "  <tbody>\n",
       "    <tr>\n",
       "      <th>0</th>\n",
       "      <td>119420</td>\n",
       "      <td>ASA846</td>\n",
       "      <td>B738</td>\n",
       "      <td>NaN</td>\n",
       "      <td>LAX</td>\n",
       "      <td>J</td>\n",
       "      <td>119420_ASA846_a784d5</td>\n",
       "      <td>33.93549</td>\n",
       "      <td>-118.5447</td>\n",
       "      <td>2169.0</td>\n",
       "      <td>...</td>\n",
       "      <td>54.0</td>\n",
       "      <td>33.10</td>\n",
       "      <td>44.92</td>\n",
       "      <td>20.00</td>\n",
       "      <td>6.00</td>\n",
       "      <td>29.87</td>\n",
       "      <td>1011.40</td>\n",
       "      <td>10.0</td>\n",
       "      <td>M</td>\n",
       "      <td>06R</td>\n",
       "    </tr>\n",
       "  </tbody>\n",
       "</table>\n",
       "<p>1 rows × 36 columns</p>\n",
       "</div>"
      ],
      "text/plain": [
       "   fltKey    AcId acType Orig Dest perfCat        pKey_fltAcMode    coord1  \\\n",
       "0  119420  ASA846   B738  NaN  LAX       J  119420_ASA846_a784d5  33.93549   \n",
       "\n",
       "     coord2     alt  ...  tmpf   dwpf   relh   drct  sknt   alti     mslp  \\\n",
       "0 -118.5447  2169.0  ...  54.0  33.10  44.92  20.00  6.00  29.87  1011.40   \n",
       "\n",
       "   vsby  gust  LNDRwy  \n",
       "0  10.0     M     06R  \n",
       "\n",
       "[1 rows x 36 columns]"
      ]
     },
     "execution_count": 49,
     "metadata": {},
     "output_type": "execute_result"
    }
   ],
   "source": [
    "iff_df.head(1)"
   ]
  },
  {
   "cell_type": "markdown",
   "id": "8908022f",
   "metadata": {},
   "source": [
    "Function to calculate delta_MSL"
   ]
  },
  {
   "cell_type": "code",
   "execution_count": 50,
   "id": "a4dd235e",
   "metadata": {},
   "outputs": [
    {
     "name": "stdout",
     "output_type": "stream",
     "text": [
      "7435\n"
     ]
    }
   ],
   "source": [
    "flights = iff_df.groupby('mergeKey')\n",
    "print(len(flights))"
   ]
  },
  {
   "cell_type": "code",
   "execution_count": 55,
   "id": "6cff6cc3",
   "metadata": {},
   "outputs": [
    {
     "data": {
      "text/plain": [
       " 0.0        1410767\n",
       "-25200.0      27324\n",
       " 25200.0      23614\n",
       "-68400.0      18086\n",
       "-46800.0      13674\n",
       "             ...   \n",
       "-45960.0          1\n",
       "-14820.0          1\n",
       "-42180.0          1\n",
       "-35700.0          1\n",
       " 9660.0           1\n",
       "Name: rateOfClimb, Length: 794, dtype: int64"
      ]
     },
     "execution_count": 55,
     "metadata": {},
     "output_type": "execute_result"
    }
   ],
   "source": [
    "iff_df['rateOfClimb'].value_counts()"
   ]
  },
  {
   "cell_type": "code",
   "execution_count": 56,
   "id": "779c4096",
   "metadata": {},
   "outputs": [],
   "source": [
    "TODLand = []\n",
    "TOD_dt = []\n",
    "TOD_key = []\n",
    "non_lands = []\n",
    "for idx, flight in flights:\n",
    "    # Round number to choose for descent beginning\n",
    "    timeOfDescent = flight[flight['rateOfClimb'] <= -250]['datetime'].values\n",
    "    tod_pkey = flight[flight['rateOfClimb'] <= -250]['mergeKey'].values\n",
    "    # 128 is the elevation of LAX\n",
    "    landed = flight[flight['alt'] <= 128]['datetime'].values\n",
    "    landed_pkey = flight[flight['alt'] <= 128]['mergeKey'].values\n",
    "    if len(timeOfDescent) > 0 and len(landed) > 0:\n",
    "        TOD_key.append(tod_pkey[0])\n",
    "        TOD_dt.append(timeOfDescent)\n",
    "        TODLand.append((timeOfDescent[0], landed[0]))\n",
    "    else:\n",
    "        non_lands.append(tod_pkey)\n",
    "        non_lands.append(landed_pkey)\n",
    "    # ev_tod[idx] = TODs"
   ]
  },
  {
   "cell_type": "code",
   "execution_count": 57,
   "id": "73237d03",
   "metadata": {},
   "outputs": [
    {
     "data": {
      "text/plain": [
       "7401"
      ]
     },
     "execution_count": 57,
     "metadata": {},
     "output_type": "execute_result"
    }
   ],
   "source": [
    "len(TOD_key)"
   ]
  },
  {
   "cell_type": "code",
   "execution_count": 58,
   "id": "ffb5d028",
   "metadata": {},
   "outputs": [
    {
     "data": {
      "text/plain": [
       "16"
      ]
     },
     "execution_count": 58,
     "metadata": {},
     "output_type": "execute_result"
    }
   ],
   "source": [
    "len(TOD_dt[0])"
   ]
  },
  {
   "cell_type": "code",
   "execution_count": 54,
   "id": "bd23e00b",
   "metadata": {},
   "outputs": [
    {
     "ename": "KeyboardInterrupt",
     "evalue": "",
     "output_type": "error",
     "traceback": [
      "\u001b[1;31m---------------------------------------------------------------------------\u001b[0m",
      "\u001b[1;31mKeyboardInterrupt\u001b[0m                         Traceback (most recent call last)",
      "\u001b[1;32m~\\AppData\\Local\\Temp\\ipykernel_7792\\2502090756.py\u001b[0m in \u001b[0;36m<module>\u001b[1;34m\u001b[0m\n\u001b[0;32m      2\u001b[0m \u001b[0mtod_df\u001b[0m \u001b[1;33m=\u001b[0m \u001b[0mpd\u001b[0m\u001b[1;33m.\u001b[0m\u001b[0mDataFrame\u001b[0m\u001b[1;33m(\u001b[0m\u001b[1;33m)\u001b[0m\u001b[1;33m\u001b[0m\u001b[1;33m\u001b[0m\u001b[0m\n\u001b[0;32m      3\u001b[0m \u001b[1;32mfor\u001b[0m \u001b[0mx\u001b[0m \u001b[1;32min\u001b[0m \u001b[0mrange\u001b[0m\u001b[1;33m(\u001b[0m\u001b[0mlen\u001b[0m\u001b[1;33m(\u001b[0m\u001b[0mTOD_key\u001b[0m\u001b[1;33m)\u001b[0m\u001b[1;33m)\u001b[0m\u001b[1;33m:\u001b[0m\u001b[1;33m\u001b[0m\u001b[1;33m\u001b[0m\u001b[0m\n\u001b[1;32m----> 4\u001b[1;33m     \u001b[0mtod_df\u001b[0m \u001b[1;33m=\u001b[0m \u001b[0mpd\u001b[0m\u001b[1;33m.\u001b[0m\u001b[0mconcat\u001b[0m\u001b[1;33m(\u001b[0m\u001b[1;33m[\u001b[0m\u001b[0mtod_df\u001b[0m\u001b[1;33m,\u001b[0m \u001b[0miff_df\u001b[0m\u001b[1;33m.\u001b[0m\u001b[0mloc\u001b[0m\u001b[1;33m[\u001b[0m\u001b[1;33m(\u001b[0m\u001b[0miff_df\u001b[0m\u001b[1;33m[\u001b[0m\u001b[1;34m'mergeKey'\u001b[0m\u001b[1;33m]\u001b[0m \u001b[1;33m==\u001b[0m \u001b[0mTOD_key\u001b[0m\u001b[1;33m[\u001b[0m\u001b[0mx\u001b[0m\u001b[1;33m]\u001b[0m\u001b[1;33m)\u001b[0m \u001b[1;33m&\u001b[0m \u001b[1;33m(\u001b[0m\u001b[0miff_df\u001b[0m\u001b[1;33m[\u001b[0m\u001b[1;34m'datetime'\u001b[0m\u001b[1;33m]\u001b[0m\u001b[1;33m.\u001b[0m\u001b[0misin\u001b[0m\u001b[1;33m(\u001b[0m\u001b[0mTOD_dt\u001b[0m\u001b[1;33m[\u001b[0m\u001b[0mx\u001b[0m\u001b[1;33m]\u001b[0m\u001b[1;33m)\u001b[0m\u001b[1;33m)\u001b[0m\u001b[1;33m]\u001b[0m\u001b[1;33m]\u001b[0m\u001b[1;33m)\u001b[0m\u001b[1;33m\u001b[0m\u001b[1;33m\u001b[0m\u001b[0m\n\u001b[0m\u001b[0;32m      5\u001b[0m \u001b[0mprint\u001b[0m\u001b[1;33m(\u001b[0m\u001b[0mtod_df\u001b[0m\u001b[1;33m.\u001b[0m\u001b[0mshape\u001b[0m\u001b[1;33m)\u001b[0m\u001b[1;33m\u001b[0m\u001b[1;33m\u001b[0m\u001b[0m\n",
      "\u001b[1;32m~\\anaconda3\\lib\\site-packages\\pandas\\util\\_decorators.py\u001b[0m in \u001b[0;36mwrapper\u001b[1;34m(*args, **kwargs)\u001b[0m\n\u001b[0;32m    309\u001b[0m                     \u001b[0mstacklevel\u001b[0m\u001b[1;33m=\u001b[0m\u001b[0mstacklevel\u001b[0m\u001b[1;33m,\u001b[0m\u001b[1;33m\u001b[0m\u001b[1;33m\u001b[0m\u001b[0m\n\u001b[0;32m    310\u001b[0m                 )\n\u001b[1;32m--> 311\u001b[1;33m             \u001b[1;32mreturn\u001b[0m \u001b[0mfunc\u001b[0m\u001b[1;33m(\u001b[0m\u001b[1;33m*\u001b[0m\u001b[0margs\u001b[0m\u001b[1;33m,\u001b[0m \u001b[1;33m**\u001b[0m\u001b[0mkwargs\u001b[0m\u001b[1;33m)\u001b[0m\u001b[1;33m\u001b[0m\u001b[1;33m\u001b[0m\u001b[0m\n\u001b[0m\u001b[0;32m    312\u001b[0m \u001b[1;33m\u001b[0m\u001b[0m\n\u001b[0;32m    313\u001b[0m         \u001b[1;32mreturn\u001b[0m \u001b[0mwrapper\u001b[0m\u001b[1;33m\u001b[0m\u001b[1;33m\u001b[0m\u001b[0m\n",
      "\u001b[1;32m~\\anaconda3\\lib\\site-packages\\pandas\\core\\reshape\\concat.py\u001b[0m in \u001b[0;36mconcat\u001b[1;34m(objs, axis, join, ignore_index, keys, levels, names, verify_integrity, sort, copy)\u001b[0m\n\u001b[0;32m    358\u001b[0m     )\n\u001b[0;32m    359\u001b[0m \u001b[1;33m\u001b[0m\u001b[0m\n\u001b[1;32m--> 360\u001b[1;33m     \u001b[1;32mreturn\u001b[0m \u001b[0mop\u001b[0m\u001b[1;33m.\u001b[0m\u001b[0mget_result\u001b[0m\u001b[1;33m(\u001b[0m\u001b[1;33m)\u001b[0m\u001b[1;33m\u001b[0m\u001b[1;33m\u001b[0m\u001b[0m\n\u001b[0m\u001b[0;32m    361\u001b[0m \u001b[1;33m\u001b[0m\u001b[0m\n\u001b[0;32m    362\u001b[0m \u001b[1;33m\u001b[0m\u001b[0m\n",
      "\u001b[1;32m~\\anaconda3\\lib\\site-packages\\pandas\\core\\reshape\\concat.py\u001b[0m in \u001b[0;36mget_result\u001b[1;34m(self)\u001b[0m\n\u001b[0;32m    593\u001b[0m                 \u001b[0mmgrs_indexers\u001b[0m\u001b[1;33m.\u001b[0m\u001b[0mappend\u001b[0m\u001b[1;33m(\u001b[0m\u001b[1;33m(\u001b[0m\u001b[0mobj\u001b[0m\u001b[1;33m.\u001b[0m\u001b[0m_mgr\u001b[0m\u001b[1;33m,\u001b[0m \u001b[0mindexers\u001b[0m\u001b[1;33m)\u001b[0m\u001b[1;33m)\u001b[0m\u001b[1;33m\u001b[0m\u001b[1;33m\u001b[0m\u001b[0m\n\u001b[0;32m    594\u001b[0m \u001b[1;33m\u001b[0m\u001b[0m\n\u001b[1;32m--> 595\u001b[1;33m             new_data = concatenate_managers(\n\u001b[0m\u001b[0;32m    596\u001b[0m                 \u001b[0mmgrs_indexers\u001b[0m\u001b[1;33m,\u001b[0m \u001b[0mself\u001b[0m\u001b[1;33m.\u001b[0m\u001b[0mnew_axes\u001b[0m\u001b[1;33m,\u001b[0m \u001b[0mconcat_axis\u001b[0m\u001b[1;33m=\u001b[0m\u001b[0mself\u001b[0m\u001b[1;33m.\u001b[0m\u001b[0mbm_axis\u001b[0m\u001b[1;33m,\u001b[0m \u001b[0mcopy\u001b[0m\u001b[1;33m=\u001b[0m\u001b[0mself\u001b[0m\u001b[1;33m.\u001b[0m\u001b[0mcopy\u001b[0m\u001b[1;33m\u001b[0m\u001b[1;33m\u001b[0m\u001b[0m\n\u001b[0;32m    597\u001b[0m             )\n",
      "\u001b[1;32m~\\anaconda3\\lib\\site-packages\\pandas\\core\\internals\\concat.py\u001b[0m in \u001b[0;36mconcatenate_managers\u001b[1;34m(mgrs_indexers, axes, concat_axis, copy)\u001b[0m\n\u001b[0;32m    240\u001b[0m             \u001b[0mfastpath\u001b[0m \u001b[1;33m=\u001b[0m \u001b[0mblk\u001b[0m\u001b[1;33m.\u001b[0m\u001b[0mvalues\u001b[0m\u001b[1;33m.\u001b[0m\u001b[0mdtype\u001b[0m \u001b[1;33m==\u001b[0m \u001b[0mvalues\u001b[0m\u001b[1;33m.\u001b[0m\u001b[0mdtype\u001b[0m\u001b[1;33m\u001b[0m\u001b[1;33m\u001b[0m\u001b[0m\n\u001b[0;32m    241\u001b[0m         \u001b[1;32melse\u001b[0m\u001b[1;33m:\u001b[0m\u001b[1;33m\u001b[0m\u001b[1;33m\u001b[0m\u001b[0m\n\u001b[1;32m--> 242\u001b[1;33m             \u001b[0mvalues\u001b[0m \u001b[1;33m=\u001b[0m \u001b[0m_concatenate_join_units\u001b[0m\u001b[1;33m(\u001b[0m\u001b[0mjoin_units\u001b[0m\u001b[1;33m,\u001b[0m \u001b[0mconcat_axis\u001b[0m\u001b[1;33m,\u001b[0m \u001b[0mcopy\u001b[0m\u001b[1;33m=\u001b[0m\u001b[0mcopy\u001b[0m\u001b[1;33m)\u001b[0m\u001b[1;33m\u001b[0m\u001b[1;33m\u001b[0m\u001b[0m\n\u001b[0m\u001b[0;32m    243\u001b[0m             \u001b[0mfastpath\u001b[0m \u001b[1;33m=\u001b[0m \u001b[1;32mFalse\u001b[0m\u001b[1;33m\u001b[0m\u001b[1;33m\u001b[0m\u001b[0m\n\u001b[0;32m    244\u001b[0m \u001b[1;33m\u001b[0m\u001b[0m\n",
      "\u001b[1;32m~\\anaconda3\\lib\\site-packages\\pandas\\core\\internals\\concat.py\u001b[0m in \u001b[0;36m_concatenate_join_units\u001b[1;34m(join_units, concat_axis, copy)\u001b[0m\n\u001b[0;32m    581\u001b[0m \u001b[1;33m\u001b[0m\u001b[0m\n\u001b[0;32m    582\u001b[0m     \u001b[1;32melse\u001b[0m\u001b[1;33m:\u001b[0m\u001b[1;33m\u001b[0m\u001b[1;33m\u001b[0m\u001b[0m\n\u001b[1;32m--> 583\u001b[1;33m         \u001b[0mconcat_values\u001b[0m \u001b[1;33m=\u001b[0m \u001b[0mconcat_compat\u001b[0m\u001b[1;33m(\u001b[0m\u001b[0mto_concat\u001b[0m\u001b[1;33m,\u001b[0m \u001b[0maxis\u001b[0m\u001b[1;33m=\u001b[0m\u001b[0mconcat_axis\u001b[0m\u001b[1;33m)\u001b[0m\u001b[1;33m\u001b[0m\u001b[1;33m\u001b[0m\u001b[0m\n\u001b[0m\u001b[0;32m    584\u001b[0m \u001b[1;33m\u001b[0m\u001b[0m\n\u001b[0;32m    585\u001b[0m     \u001b[1;32mreturn\u001b[0m \u001b[0mconcat_values\u001b[0m\u001b[1;33m\u001b[0m\u001b[1;33m\u001b[0m\u001b[0m\n",
      "\u001b[1;32m~\\anaconda3\\lib\\site-packages\\pandas\\core\\dtypes\\concat.py\u001b[0m in \u001b[0;36mconcat_compat\u001b[1;34m(to_concat, axis, ea_compat_axis)\u001b[0m\n\u001b[0;32m    149\u001b[0m                 \u001b[0mkinds\u001b[0m \u001b[1;33m=\u001b[0m \u001b[1;33m{\u001b[0m\u001b[1;34m\"o\"\u001b[0m\u001b[1;33m}\u001b[0m\u001b[1;33m\u001b[0m\u001b[1;33m\u001b[0m\u001b[0m\n\u001b[0;32m    150\u001b[0m \u001b[1;33m\u001b[0m\u001b[0m\n\u001b[1;32m--> 151\u001b[1;33m     \u001b[0mresult\u001b[0m \u001b[1;33m=\u001b[0m \u001b[0mnp\u001b[0m\u001b[1;33m.\u001b[0m\u001b[0mconcatenate\u001b[0m\u001b[1;33m(\u001b[0m\u001b[0mto_concat\u001b[0m\u001b[1;33m,\u001b[0m \u001b[0maxis\u001b[0m\u001b[1;33m=\u001b[0m\u001b[0maxis\u001b[0m\u001b[1;33m)\u001b[0m\u001b[1;33m\u001b[0m\u001b[1;33m\u001b[0m\u001b[0m\n\u001b[0m\u001b[0;32m    152\u001b[0m     \u001b[1;32mif\u001b[0m \u001b[1;34m\"b\"\u001b[0m \u001b[1;32min\u001b[0m \u001b[0mkinds\u001b[0m \u001b[1;32mand\u001b[0m \u001b[0mresult\u001b[0m\u001b[1;33m.\u001b[0m\u001b[0mdtype\u001b[0m\u001b[1;33m.\u001b[0m\u001b[0mkind\u001b[0m \u001b[1;32min\u001b[0m \u001b[1;33m[\u001b[0m\u001b[1;34m\"i\"\u001b[0m\u001b[1;33m,\u001b[0m \u001b[1;34m\"u\"\u001b[0m\u001b[1;33m,\u001b[0m \u001b[1;34m\"f\"\u001b[0m\u001b[1;33m]\u001b[0m\u001b[1;33m:\u001b[0m\u001b[1;33m\u001b[0m\u001b[1;33m\u001b[0m\u001b[0m\n\u001b[0;32m    153\u001b[0m         \u001b[1;31m# GH#39817\u001b[0m\u001b[1;33m\u001b[0m\u001b[1;33m\u001b[0m\u001b[0m\n",
      "\u001b[1;32m<__array_function__ internals>\u001b[0m in \u001b[0;36mconcatenate\u001b[1;34m(*args, **kwargs)\u001b[0m\n",
      "\u001b[1;31mKeyboardInterrupt\u001b[0m: "
     ]
    }
   ],
   "source": [
    "# Extract the top of descent records\n",
    "tod_df = pd.DataFrame()\n",
    "for x in range(len(TOD_key)):\n",
    "    tod_df = pd.concat([tod_df, iff_df.loc[(iff_df['mergeKey'] == TOD_key[x]) & (iff_df['datetime'].isin(TOD_dt[x]))]])\n",
    "print(tod_df.shape)"
   ]
  },
  {
   "cell_type": "code",
   "execution_count": 59,
   "id": "3c14fd37",
   "metadata": {},
   "outputs": [
    {
     "data": {
      "text/plain": [
       "<bound method IndexOpsMixin.nunique of 0         119420_01/01/2022\n",
       "1         119420_01/01/2022\n",
       "2         119420_01/01/2022\n",
       "3         119420_01/01/2022\n",
       "4         119420_01/01/2022\n",
       "                ...        \n",
       "897051      3725_08/06/2022\n",
       "897052      3725_08/06/2022\n",
       "897053      3725_08/06/2022\n",
       "897054      3725_08/06/2022\n",
       "897055      3725_08/06/2022\n",
       "Name: mergeKey, Length: 342642, dtype: object>"
      ]
     },
     "execution_count": 59,
     "metadata": {},
     "output_type": "execute_result"
    }
   ],
   "source": [
    "tod_df['mergeKey'].nunique"
   ]
  },
  {
   "cell_type": "code",
   "execution_count": null,
   "id": "6d955786",
   "metadata": {},
   "outputs": [],
   "source": [
    "length = len(tod_df)\n",
    "chunk_size = length//10\n",
    "df_list = [tod_df[i:i+chunk_size] for i in range(0, length, chunk_size)]\n",
    "for idx, df in enumerate(df_list):\n",
    "    df.to_csv(f'Sherlock_data/chunked_IFF/IFF_TOD_{idx}.csv')"
   ]
  },
  {
   "cell_type": "code",
   "execution_count": null,
   "id": "0bdf820b",
   "metadata": {},
   "outputs": [],
   "source": [
    "# Explore the data not classified as a top of descent event\n",
    "pkeys = []\n",
    "for arr in non_lands:\n",
    "    if len(arr) > 0:\n",
    "        pkeys.append(set(arr))"
   ]
  },
  {
   "cell_type": "code",
   "execution_count": null,
   "id": "f9cae00e",
   "metadata": {},
   "outputs": [],
   "source": [
    "pkeys, len(pkeys)"
   ]
  },
  {
   "cell_type": "code",
   "execution_count": null,
   "id": "5a01f227",
   "metadata": {},
   "outputs": [],
   "source": [
    "for key_set in pkeys:\n",
    "    key_list = list(key_set) # convert set to list\n",
    "    key_str = key_list[0] # extract string value from list\n",
    "    print(key_str)\n",
    "    print(iff_df[iff_df['pKey_fltAcMode'] == key_str].head(1)['datetime'])"
   ]
  },
  {
   "cell_type": "code",
   "execution_count": 60,
   "id": "1409255e",
   "metadata": {},
   "outputs": [
    {
     "data": {
      "text/plain": [
       "7401"
      ]
     },
     "execution_count": 60,
     "metadata": {},
     "output_type": "execute_result"
    }
   ],
   "source": [
    "len(TODLand)"
   ]
  },
  {
   "cell_type": "code",
   "execution_count": 61,
   "id": "354a91b7",
   "metadata": {},
   "outputs": [],
   "source": [
    "deltas = []\n",
    "for desc, land in TODLand:\n",
    "    dt_ns = land - desc\n",
    "    dt_s = dt_ns/np.timedelta64(1, 's')\n",
    "    # print(dt_s)\n",
    "    deltas.append(dt_s)"
   ]
  },
  {
   "cell_type": "code",
   "execution_count": 62,
   "id": "6338a5a4",
   "metadata": {},
   "outputs": [
    {
     "data": {
      "text/plain": [
       "169.84934468315092"
      ]
     },
     "execution_count": 62,
     "metadata": {},
     "output_type": "execute_result"
    }
   ],
   "source": [
    "np.mean(deltas)"
   ]
  },
  {
   "cell_type": "code",
   "execution_count": null,
   "id": "5e0b2f5c",
   "metadata": {},
   "outputs": [],
   "source": []
  }
 ],
 "metadata": {
  "kernelspec": {
   "display_name": "Python 3 (ipykernel)",
   "language": "python",
   "name": "python3"
  },
  "language_info": {
   "codemirror_mode": {
    "name": "ipython",
    "version": 3
   },
   "file_extension": ".py",
   "mimetype": "text/x-python",
   "name": "python",
   "nbconvert_exporter": "python",
   "pygments_lexer": "ipython3",
   "version": "3.9.13"
  }
 },
 "nbformat": 4,
 "nbformat_minor": 5
}
