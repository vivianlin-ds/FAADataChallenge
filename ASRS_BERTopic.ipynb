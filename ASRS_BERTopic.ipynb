{
 "cells": [
  {
   "cell_type": "code",
   "execution_count": 2,
   "metadata": {},
   "outputs": [
    {
     "name": "stderr",
     "output_type": "stream",
     "text": [
      "2023-04-18 04:27:11.158047: I tensorflow/core/platform/cpu_feature_guard.cc:182] This TensorFlow binary is optimized to use available CPU instructions in performance-critical operations.\n",
      "To enable the following instructions: AVX2 FMA, in other operations, rebuild TensorFlow with the appropriate compiler flags.\n"
     ]
    }
   ],
   "source": [
    "import re\n",
    "import gensim\n",
    "import numpy as np\n",
    "import pandas as pd\n",
    "import matplotlib.pyplot as plt\n",
    "from umap import UMAP\n",
    "from hdbscan import HDBSCAN\n",
    "from bertopic import BERTopic\n",
    "from sentence_transformers import SentenceTransformer\n",
    "from sklearn.feature_extraction.text import CountVectorizer\n",
    "\n",
    "%matplotlib inline\n",
    "np.set_printoptions(suppress=True)"
   ]
  },
  {
   "attachments": {},
   "cell_type": "markdown",
   "metadata": {},
   "source": [
    "# Data Preprocessing"
   ]
  },
  {
   "cell_type": "code",
   "execution_count": 3,
   "metadata": {},
   "outputs": [
    {
     "name": "stdout",
     "output_type": "stream",
     "text": [
      "df1 originial shape: (4735, 126)\n",
      "df2 originial shape: (4586, 131)\n"
     ]
    },
    {
     "name": "stderr",
     "output_type": "stream",
     "text": [
      "/var/folders/mx/4mmwct0d0sj0290md6dqs_7r0000gn/T/ipykernel_19999/1934818379.py:2: DtypeWarning: Columns (15,19,32,52,107,123,126,128,130) have mixed types. Specify dtype option on import or set low_memory=False.\n",
      "  df2 = pd.read_csv('ASRS_Jan2006_Dec2019.csv', skiprows=[0,2])\n"
     ]
    }
   ],
   "source": [
    "df1 = pd.read_csv('ASRS_Jan2000_Jan2006.csv', skiprows=[0,2])\n",
    "df2 = pd.read_csv('ASRS_Jan2006_Dec2019.csv', skiprows=[0,2])\n",
    "print('df1 originial shape:', df1.shape)\n",
    "print('df2 originial shape:', df2.shape)"
   ]
  },
  {
   "cell_type": "code",
   "execution_count": 4,
   "metadata": {},
   "outputs": [
    {
     "data": {
      "text/plain": [
       "Unnamed: 126    4584\n",
       "Unnamed: 130    4585\n",
       "Unnamed: 127    4586\n",
       "Unnamed: 129    4586\n",
       "Unnamed: 128    4585\n",
       "dtype: int64"
      ]
     },
     "execution_count": 4,
     "metadata": {},
     "output_type": "execute_result"
    }
   ],
   "source": [
    "# There are more columns in one dataset than the other, find additional columns\n",
    "more_cols_1 = list(set(df2.columns) - set(df1.columns))\n",
    "\n",
    "# Check whether these columns can be dropped\n",
    "df2[more_cols_1].isnull().sum()\n",
    "\n",
    "# Found that additional columns are unnamed and mostly NULL, decide to drop them"
   ]
  },
  {
   "cell_type": "code",
   "execution_count": 5,
   "metadata": {},
   "outputs": [
    {
     "name": "stdout",
     "output_type": "stream",
     "text": [
      "4735 \tNulls: 4733\n",
      "4586 \tNulls: 4583\n"
     ]
    }
   ],
   "source": [
    "# Found another unnamed column in the dataset, check if null\n",
    "print(df1.shape[0], '\\tNulls:', df1['Unnamed: 125'].isnull().sum())\n",
    "print(df2.shape[0], '\\tNulls:', df2['Unnamed: 125'].isnull().sum())"
   ]
  },
  {
   "cell_type": "code",
   "execution_count": 6,
   "metadata": {},
   "outputs": [
    {
     "name": "stdout",
     "output_type": "stream",
     "text": [
      "df1 cleaned shape: (4735, 75)\n"
     ]
    }
   ],
   "source": [
    "df1.drop(['Unnamed: 125'], axis=1, inplace=True) # drop column named: <Unnamed: 125>\n",
    "df1.dropna(axis=1, how='all', inplace=True) # drop columns that are all NAs\n",
    "print('df1 cleaned shape:', df1.shape)"
   ]
  },
  {
   "cell_type": "code",
   "execution_count": 7,
   "metadata": {},
   "outputs": [
    {
     "name": "stdout",
     "output_type": "stream",
     "text": [
      "df2 cleaned shape: (4586, 83)\n"
     ]
    }
   ],
   "source": [
    "remove_cols = more_cols_1 + ['Unnamed: 125']\n",
    "df2.drop(remove_cols, axis=1, inplace=True) # drop 6 unnamed columns\n",
    "df2.dropna(axis=1, how='all', inplace=True) # drop columns that are all NAs\n",
    "print('df2 cleaned shape:', df2.shape)"
   ]
  },
  {
   "cell_type": "code",
   "execution_count": 8,
   "metadata": {},
   "outputs": [
    {
     "data": {
      "text/html": [
       "<div>\n",
       "<style scoped>\n",
       "    .dataframe tbody tr th:only-of-type {\n",
       "        vertical-align: middle;\n",
       "    }\n",
       "\n",
       "    .dataframe tbody tr th {\n",
       "        vertical-align: top;\n",
       "    }\n",
       "\n",
       "    .dataframe thead th {\n",
       "        text-align: right;\n",
       "    }\n",
       "</style>\n",
       "<table border=\"1\" class=\"dataframe\">\n",
       "  <thead>\n",
       "    <tr style=\"text-align: right;\">\n",
       "      <th></th>\n",
       "      <th>ACN</th>\n",
       "      <th>Date</th>\n",
       "      <th>Local Time Of Day</th>\n",
       "      <th>Locale Reference</th>\n",
       "      <th>State Reference</th>\n",
       "      <th>Relative Position.Angle.Radial</th>\n",
       "      <th>Relative Position.Distance.Nautical Miles</th>\n",
       "      <th>Altitude.AGL.Single Value</th>\n",
       "      <th>Altitude.MSL.Single Value</th>\n",
       "      <th>Flight Conditions</th>\n",
       "      <th>...</th>\n",
       "      <th>ASRS Report Number.Accession Number.1</th>\n",
       "      <th>Anomaly</th>\n",
       "      <th>Miss Distance</th>\n",
       "      <th>Detector</th>\n",
       "      <th>Result</th>\n",
       "      <th>Contributing Factors / Situations</th>\n",
       "      <th>Primary Problem</th>\n",
       "      <th>Narrative</th>\n",
       "      <th>Callback</th>\n",
       "      <th>Synopsis</th>\n",
       "    </tr>\n",
       "  </thead>\n",
       "  <tbody>\n",
       "    <tr>\n",
       "      <th>0</th>\n",
       "      <td>459107</td>\n",
       "      <td>200001</td>\n",
       "      <td>0601-1200</td>\n",
       "      <td>DTW.Airport</td>\n",
       "      <td>MI</td>\n",
       "      <td>NaN</td>\n",
       "      <td>0.0</td>\n",
       "      <td>0.0</td>\n",
       "      <td>NaN</td>\n",
       "      <td>VMC</td>\n",
       "      <td>...</td>\n",
       "      <td>NaN</td>\n",
       "      <td>Conflict Ground Conflict, Critical; Deviation ...</td>\n",
       "      <td>Horizontal 100; Vertical 0</td>\n",
       "      <td>Person Flight Crew</td>\n",
       "      <td>Flight Crew Became Reoriented; Flight Crew Rej...</td>\n",
       "      <td>Airport; Human Factors</td>\n",
       "      <td>Human Factors</td>\n",
       "      <td>ON TAXI OUT TO DTW RWY 3L, MISSED TURN ONTO TX...</td>\n",
       "      <td>NaN</td>\n",
       "      <td>AN A320 OVERSHOOTS THE TXWY FOR RWY 3L (TXWY M...</td>\n",
       "    </tr>\n",
       "    <tr>\n",
       "      <th>1</th>\n",
       "      <td>459230</td>\n",
       "      <td>200001</td>\n",
       "      <td>0601-1200</td>\n",
       "      <td>MCO.Airport</td>\n",
       "      <td>FL</td>\n",
       "      <td>NaN</td>\n",
       "      <td>0.0</td>\n",
       "      <td>0.0</td>\n",
       "      <td>NaN</td>\n",
       "      <td>VMC</td>\n",
       "      <td>...</td>\n",
       "      <td>459374.0</td>\n",
       "      <td>Deviation / Discrepancy - Procedural FAR; Grou...</td>\n",
       "      <td>NaN</td>\n",
       "      <td>Person Air Traffic Control</td>\n",
       "      <td>General None Reported / Taken</td>\n",
       "      <td>Human Factors</td>\n",
       "      <td>Human Factors</td>\n",
       "      <td>TAXIED OUT OF RAMP AREA BEFORE TALKING TO GND....</td>\n",
       "      <td>NaN</td>\n",
       "      <td>FLC OF A B737 TAXIED WITHOUT CLRNC DUE TO FOLL...</td>\n",
       "    </tr>\n",
       "    <tr>\n",
       "      <th>2</th>\n",
       "      <td>459389</td>\n",
       "      <td>200001</td>\n",
       "      <td>0601-1200</td>\n",
       "      <td>LFPG.Airport</td>\n",
       "      <td>FO</td>\n",
       "      <td>NaN</td>\n",
       "      <td>0.0</td>\n",
       "      <td>0.0</td>\n",
       "      <td>NaN</td>\n",
       "      <td>VMC</td>\n",
       "      <td>...</td>\n",
       "      <td>459260.0</td>\n",
       "      <td>Ground Excursion Taxiway</td>\n",
       "      <td>NaN</td>\n",
       "      <td>Person Flight Crew</td>\n",
       "      <td>General None Reported / Taken; General Mainten...</td>\n",
       "      <td>Human Factors</td>\n",
       "      <td>Human Factors</td>\n",
       "      <td>CAPT WAS FLYING, I WAS IN THE R SEAT. AFTER LN...</td>\n",
       "      <td>NaN</td>\n",
       "      <td>CAPT OF AN MD11 RAN OFF TXWY DURING TAXI IN RE...</td>\n",
       "    </tr>\n",
       "    <tr>\n",
       "      <th>3</th>\n",
       "      <td>459407</td>\n",
       "      <td>200001</td>\n",
       "      <td>0001-0600</td>\n",
       "      <td>SRB.Airport</td>\n",
       "      <td>TN</td>\n",
       "      <td>NaN</td>\n",
       "      <td>0.0</td>\n",
       "      <td>0.0</td>\n",
       "      <td>NaN</td>\n",
       "      <td>Marginal</td>\n",
       "      <td>...</td>\n",
       "      <td>459406.0</td>\n",
       "      <td>Aircraft Equipment Problem Critical; Deviation...</td>\n",
       "      <td>NaN</td>\n",
       "      <td>Person Flight Crew</td>\n",
       "      <td>General Maintenance Action; General None Repor...</td>\n",
       "      <td>Aircraft; Weather; Airport; Human Factors</td>\n",
       "      <td>Weather</td>\n",
       "      <td>ILS RWY 4 (SRB), CAPT FLYING. WX: 900 FT BROKE...</td>\n",
       "      <td>NaN</td>\n",
       "      <td>FA20 ENCOUNTERS SLICK RWY AT SRB RESULTING IN ...</td>\n",
       "    </tr>\n",
       "    <tr>\n",
       "      <th>4</th>\n",
       "      <td>459425</td>\n",
       "      <td>200001</td>\n",
       "      <td>1201-1800</td>\n",
       "      <td>ABE.Airport</td>\n",
       "      <td>PA</td>\n",
       "      <td>NaN</td>\n",
       "      <td>0.0</td>\n",
       "      <td>0.0</td>\n",
       "      <td>NaN</td>\n",
       "      <td>VMC</td>\n",
       "      <td>...</td>\n",
       "      <td>NaN</td>\n",
       "      <td>Conflict Ground Conflict, Critical; Deviation ...</td>\n",
       "      <td>Horizontal 1000</td>\n",
       "      <td>Person Air Traffic Control; Person Flight Crew</td>\n",
       "      <td>Air Traffic Control Issued New Clearance; Flig...</td>\n",
       "      <td>Airport; Human Factors</td>\n",
       "      <td>Human Factors</td>\n",
       "      <td>WE WERE CLRED FOR THE VISUAL APCH RWY 31 ABOUT...</td>\n",
       "      <td>NaN</td>\n",
       "      <td>A JS31 CREW LNDG ON RWY 31 AT ABE ARE INSTRUCT...</td>\n",
       "    </tr>\n",
       "  </tbody>\n",
       "</table>\n",
       "<p>5 rows × 75 columns</p>\n",
       "</div>"
      ],
      "text/plain": [
       "      ACN    Date Local Time Of Day Locale Reference State Reference  \\\n",
       "0  459107  200001         0601-1200      DTW.Airport              MI   \n",
       "1  459230  200001         0601-1200      MCO.Airport              FL   \n",
       "2  459389  200001         0601-1200     LFPG.Airport              FO   \n",
       "3  459407  200001         0001-0600      SRB.Airport              TN   \n",
       "4  459425  200001         1201-1800      ABE.Airport              PA   \n",
       "\n",
       "   Relative Position.Angle.Radial  Relative Position.Distance.Nautical Miles  \\\n",
       "0                             NaN                                        0.0   \n",
       "1                             NaN                                        0.0   \n",
       "2                             NaN                                        0.0   \n",
       "3                             NaN                                        0.0   \n",
       "4                             NaN                                        0.0   \n",
       "\n",
       "   Altitude.AGL.Single Value  Altitude.MSL.Single Value Flight Conditions  \\\n",
       "0                        0.0                        NaN               VMC   \n",
       "1                        0.0                        NaN               VMC   \n",
       "2                        0.0                        NaN               VMC   \n",
       "3                        0.0                        NaN          Marginal   \n",
       "4                        0.0                        NaN               VMC   \n",
       "\n",
       "   ... ASRS Report Number.Accession Number.1  \\\n",
       "0  ...                                   NaN   \n",
       "1  ...                              459374.0   \n",
       "2  ...                              459260.0   \n",
       "3  ...                              459406.0   \n",
       "4  ...                                   NaN   \n",
       "\n",
       "                                             Anomaly  \\\n",
       "0  Conflict Ground Conflict, Critical; Deviation ...   \n",
       "1  Deviation / Discrepancy - Procedural FAR; Grou...   \n",
       "2                           Ground Excursion Taxiway   \n",
       "3  Aircraft Equipment Problem Critical; Deviation...   \n",
       "4  Conflict Ground Conflict, Critical; Deviation ...   \n",
       "\n",
       "                Miss Distance                                        Detector  \\\n",
       "0  Horizontal 100; Vertical 0                              Person Flight Crew   \n",
       "1                         NaN                      Person Air Traffic Control   \n",
       "2                         NaN                              Person Flight Crew   \n",
       "3                         NaN                              Person Flight Crew   \n",
       "4             Horizontal 1000  Person Air Traffic Control; Person Flight Crew   \n",
       "\n",
       "                                              Result  \\\n",
       "0  Flight Crew Became Reoriented; Flight Crew Rej...   \n",
       "1                      General None Reported / Taken   \n",
       "2  General None Reported / Taken; General Mainten...   \n",
       "3  General Maintenance Action; General None Repor...   \n",
       "4  Air Traffic Control Issued New Clearance; Flig...   \n",
       "\n",
       "           Contributing Factors / Situations Primary Problem  \\\n",
       "0                     Airport; Human Factors   Human Factors   \n",
       "1                              Human Factors   Human Factors   \n",
       "2                              Human Factors   Human Factors   \n",
       "3  Aircraft; Weather; Airport; Human Factors         Weather   \n",
       "4                     Airport; Human Factors   Human Factors   \n",
       "\n",
       "                                           Narrative Callback  \\\n",
       "0  ON TAXI OUT TO DTW RWY 3L, MISSED TURN ONTO TX...      NaN   \n",
       "1  TAXIED OUT OF RAMP AREA BEFORE TALKING TO GND....      NaN   \n",
       "2  CAPT WAS FLYING, I WAS IN THE R SEAT. AFTER LN...      NaN   \n",
       "3  ILS RWY 4 (SRB), CAPT FLYING. WX: 900 FT BROKE...      NaN   \n",
       "4  WE WERE CLRED FOR THE VISUAL APCH RWY 31 ABOUT...      NaN   \n",
       "\n",
       "                                            Synopsis  \n",
       "0  AN A320 OVERSHOOTS THE TXWY FOR RWY 3L (TXWY M...  \n",
       "1  FLC OF A B737 TAXIED WITHOUT CLRNC DUE TO FOLL...  \n",
       "2  CAPT OF AN MD11 RAN OFF TXWY DURING TAXI IN RE...  \n",
       "3  FA20 ENCOUNTERS SLICK RWY AT SRB RESULTING IN ...  \n",
       "4  A JS31 CREW LNDG ON RWY 31 AT ABE ARE INSTRUCT...  \n",
       "\n",
       "[5 rows x 75 columns]"
      ]
     },
     "execution_count": 8,
     "metadata": {},
     "output_type": "execute_result"
    }
   ],
   "source": [
    "df1.head()"
   ]
  },
  {
   "cell_type": "code",
   "execution_count": 9,
   "metadata": {},
   "outputs": [
    {
     "data": {
      "text/html": [
       "<div>\n",
       "<style scoped>\n",
       "    .dataframe tbody tr th:only-of-type {\n",
       "        vertical-align: middle;\n",
       "    }\n",
       "\n",
       "    .dataframe tbody tr th {\n",
       "        vertical-align: top;\n",
       "    }\n",
       "\n",
       "    .dataframe thead th {\n",
       "        text-align: right;\n",
       "    }\n",
       "</style>\n",
       "<table border=\"1\" class=\"dataframe\">\n",
       "  <thead>\n",
       "    <tr style=\"text-align: right;\">\n",
       "      <th></th>\n",
       "      <th>ACN</th>\n",
       "      <th>Date</th>\n",
       "      <th>Local Time Of Day</th>\n",
       "      <th>Locale Reference</th>\n",
       "      <th>State Reference</th>\n",
       "      <th>Relative Position.Angle.Radial</th>\n",
       "      <th>Relative Position.Distance.Nautical Miles</th>\n",
       "      <th>Altitude.AGL.Single Value</th>\n",
       "      <th>Altitude.MSL.Single Value</th>\n",
       "      <th>Flight Conditions</th>\n",
       "      <th>...</th>\n",
       "      <th>Detector</th>\n",
       "      <th>When Detected</th>\n",
       "      <th>Result</th>\n",
       "      <th>Contributing Factors / Situations</th>\n",
       "      <th>Primary Problem</th>\n",
       "      <th>Narrative</th>\n",
       "      <th>Callback</th>\n",
       "      <th>Narrative.1</th>\n",
       "      <th>Callback.1</th>\n",
       "      <th>Synopsis</th>\n",
       "    </tr>\n",
       "  </thead>\n",
       "  <tbody>\n",
       "    <tr>\n",
       "      <th>0</th>\n",
       "      <td>683097</td>\n",
       "      <td>200601</td>\n",
       "      <td>1201-1800</td>\n",
       "      <td>FTK.Airport</td>\n",
       "      <td>KY</td>\n",
       "      <td>NaN</td>\n",
       "      <td>NaN</td>\n",
       "      <td>NaN</td>\n",
       "      <td>3000.0</td>\n",
       "      <td>VMC</td>\n",
       "      <td>...</td>\n",
       "      <td>Person Flight Crew</td>\n",
       "      <td>NaN</td>\n",
       "      <td>General None Reported / Taken</td>\n",
       "      <td>Human Factors</td>\n",
       "      <td>Human Factors</td>\n",
       "      <td>I HAD ENDORSED A PVT PLT STUDENT FOR A SOLO XC...</td>\n",
       "      <td>NaN</td>\n",
       "      <td>NaN</td>\n",
       "      <td>NaN</td>\n",
       "      <td>INSTRUCTOR PLT ENDORSES STUDENT PLT FOR XCOUNT...</td>\n",
       "    </tr>\n",
       "    <tr>\n",
       "      <th>1</th>\n",
       "      <td>683301</td>\n",
       "      <td>200601</td>\n",
       "      <td>1201-1800</td>\n",
       "      <td>BUR.Airport</td>\n",
       "      <td>CA</td>\n",
       "      <td>NaN</td>\n",
       "      <td>NaN</td>\n",
       "      <td>0.0</td>\n",
       "      <td>NaN</td>\n",
       "      <td>VMC</td>\n",
       "      <td>...</td>\n",
       "      <td>Person Air Traffic Control; Person Flight Crew</td>\n",
       "      <td>NaN</td>\n",
       "      <td>General None Reported / Taken</td>\n",
       "      <td>Human Factors; Airport</td>\n",
       "      <td>Human Factors</td>\n",
       "      <td>AFTER LNDG ON RWY 8 AT BUR, I WAS INSTRUCTED B...</td>\n",
       "      <td>NaN</td>\n",
       "      <td>NaN</td>\n",
       "      <td>NaN</td>\n",
       "      <td>LR45 FLT CREW TAXIING AT BUR HAS A RWY INCURSI...</td>\n",
       "    </tr>\n",
       "    <tr>\n",
       "      <th>2</th>\n",
       "      <td>683377</td>\n",
       "      <td>200601</td>\n",
       "      <td>1201-1800</td>\n",
       "      <td>PBI.Airport</td>\n",
       "      <td>FL</td>\n",
       "      <td>NaN</td>\n",
       "      <td>0.0</td>\n",
       "      <td>0.0</td>\n",
       "      <td>NaN</td>\n",
       "      <td>VMC</td>\n",
       "      <td>...</td>\n",
       "      <td>Person Air Traffic Control</td>\n",
       "      <td>NaN</td>\n",
       "      <td>General None Reported / Taken</td>\n",
       "      <td>Human Factors</td>\n",
       "      <td>Human Factors</td>\n",
       "      <td>I WAS WORKING THE GND CTL POS AT WEST PALM BEA...</td>\n",
       "      <td>NaN</td>\n",
       "      <td>NaN</td>\n",
       "      <td>NaN</td>\n",
       "      <td>PBI GND CTLR WITNESSED ACFT LAND ON TXWY L IN ...</td>\n",
       "    </tr>\n",
       "    <tr>\n",
       "      <th>3</th>\n",
       "      <td>683394</td>\n",
       "      <td>200601</td>\n",
       "      <td>1801-2400</td>\n",
       "      <td>ZZZZ.Airport</td>\n",
       "      <td>FO</td>\n",
       "      <td>NaN</td>\n",
       "      <td>NaN</td>\n",
       "      <td>0.0</td>\n",
       "      <td>NaN</td>\n",
       "      <td>VMC</td>\n",
       "      <td>...</td>\n",
       "      <td>Automation Aircraft Other Automation; Person F...</td>\n",
       "      <td>NaN</td>\n",
       "      <td>Aircraft Aircraft Damaged; Flight Crew Landed ...</td>\n",
       "      <td>Aircraft; Human Factors</td>\n",
       "      <td>Aircraft</td>\n",
       "      <td>ACFT DURING THE TKOF ROLL, A WT ON WHEELS ANNU...</td>\n",
       "      <td>NaN</td>\n",
       "      <td>NaN</td>\n",
       "      <td>NaN</td>\n",
       "      <td>CL65 FLT CREW CONTACTS FOD DURING TKOF. UPON L...</td>\n",
       "    </tr>\n",
       "    <tr>\n",
       "      <th>4</th>\n",
       "      <td>683395</td>\n",
       "      <td>200601</td>\n",
       "      <td>0001-0600</td>\n",
       "      <td>ZZZ.Airport</td>\n",
       "      <td>US</td>\n",
       "      <td>NaN</td>\n",
       "      <td>NaN</td>\n",
       "      <td>0.0</td>\n",
       "      <td>NaN</td>\n",
       "      <td>NaN</td>\n",
       "      <td>...</td>\n",
       "      <td>Person Flight Crew</td>\n",
       "      <td>NaN</td>\n",
       "      <td>Aircraft Aircraft Damaged; General None Report...</td>\n",
       "      <td>Environment - Non Weather Related; Aircraft; A...</td>\n",
       "      <td>Human Factors</td>\n",
       "      <td>I LANDED A KING AIR 100 AND SHORTLY AFTER LNDG...</td>\n",
       "      <td>NaN</td>\n",
       "      <td>NaN</td>\n",
       "      <td>NaN</td>\n",
       "      <td>B100 PLT LANDS ON ICY RWY AND LOSES DIRECTIONA...</td>\n",
       "    </tr>\n",
       "  </tbody>\n",
       "</table>\n",
       "<p>5 rows × 83 columns</p>\n",
       "</div>"
      ],
      "text/plain": [
       "      ACN    Date Local Time Of Day Locale Reference State Reference  \\\n",
       "0  683097  200601         1201-1800      FTK.Airport              KY   \n",
       "1  683301  200601         1201-1800      BUR.Airport              CA   \n",
       "2  683377  200601         1201-1800      PBI.Airport              FL   \n",
       "3  683394  200601         1801-2400     ZZZZ.Airport              FO   \n",
       "4  683395  200601         0001-0600      ZZZ.Airport              US   \n",
       "\n",
       "   Relative Position.Angle.Radial  Relative Position.Distance.Nautical Miles  \\\n",
       "0                             NaN                                        NaN   \n",
       "1                             NaN                                        NaN   \n",
       "2                             NaN                                        0.0   \n",
       "3                             NaN                                        NaN   \n",
       "4                             NaN                                        NaN   \n",
       "\n",
       "   Altitude.AGL.Single Value  Altitude.MSL.Single Value Flight Conditions  \\\n",
       "0                        NaN                     3000.0               VMC   \n",
       "1                        0.0                        NaN               VMC   \n",
       "2                        0.0                        NaN               VMC   \n",
       "3                        0.0                        NaN               VMC   \n",
       "4                        0.0                        NaN               NaN   \n",
       "\n",
       "   ...                                           Detector When Detected  \\\n",
       "0  ...                                 Person Flight Crew           NaN   \n",
       "1  ...     Person Air Traffic Control; Person Flight Crew           NaN   \n",
       "2  ...                         Person Air Traffic Control           NaN   \n",
       "3  ...  Automation Aircraft Other Automation; Person F...           NaN   \n",
       "4  ...                                 Person Flight Crew           NaN   \n",
       "\n",
       "                                              Result  \\\n",
       "0                      General None Reported / Taken   \n",
       "1                      General None Reported / Taken   \n",
       "2                      General None Reported / Taken   \n",
       "3  Aircraft Aircraft Damaged; Flight Crew Landed ...   \n",
       "4  Aircraft Aircraft Damaged; General None Report...   \n",
       "\n",
       "                   Contributing Factors / Situations Primary Problem  \\\n",
       "0                                      Human Factors   Human Factors   \n",
       "1                             Human Factors; Airport   Human Factors   \n",
       "2                                      Human Factors   Human Factors   \n",
       "3                            Aircraft; Human Factors        Aircraft   \n",
       "4  Environment - Non Weather Related; Aircraft; A...   Human Factors   \n",
       "\n",
       "                                           Narrative Callback Narrative.1  \\\n",
       "0  I HAD ENDORSED A PVT PLT STUDENT FOR A SOLO XC...      NaN         NaN   \n",
       "1  AFTER LNDG ON RWY 8 AT BUR, I WAS INSTRUCTED B...      NaN         NaN   \n",
       "2  I WAS WORKING THE GND CTL POS AT WEST PALM BEA...      NaN         NaN   \n",
       "3  ACFT DURING THE TKOF ROLL, A WT ON WHEELS ANNU...      NaN         NaN   \n",
       "4  I LANDED A KING AIR 100 AND SHORTLY AFTER LNDG...      NaN         NaN   \n",
       "\n",
       "  Callback.1                                           Synopsis  \n",
       "0        NaN  INSTRUCTOR PLT ENDORSES STUDENT PLT FOR XCOUNT...  \n",
       "1        NaN  LR45 FLT CREW TAXIING AT BUR HAS A RWY INCURSI...  \n",
       "2        NaN  PBI GND CTLR WITNESSED ACFT LAND ON TXWY L IN ...  \n",
       "3        NaN  CL65 FLT CREW CONTACTS FOD DURING TKOF. UPON L...  \n",
       "4        NaN  B100 PLT LANDS ON ICY RWY AND LOSES DIRECTIONA...  \n",
       "\n",
       "[5 rows x 83 columns]"
      ]
     },
     "execution_count": 9,
     "metadata": {},
     "output_type": "execute_result"
    }
   ],
   "source": [
    "df2.head()"
   ]
  },
  {
   "cell_type": "code",
   "execution_count": 10,
   "metadata": {},
   "outputs": [
    {
     "data": {
      "text/plain": [
       "(Index(['Cabin Activity', 'Cabin Lighting',\n",
       "        'Maintenance Status.Released For Service.1',\n",
       "        'Maintenance Status.Required / Correct Doc On Board.1',\n",
       "        'Number Of Seats.Number.1', 'Passengers On Board.Number.1'],\n",
       "       dtype='object'),\n",
       " Index(['Aircraft Zone', 'Cabin Activity.1', 'Callback.1',\n",
       "        'Communication Breakdown', 'Communication Breakdown.1',\n",
       "        'Crew Size Flight Attendant.Number Of Crew', 'Human Factors.1',\n",
       "        'Location In Aircraft', 'Location In Aircraft.1',\n",
       "        'Maintenance Status.Records Complete', 'Narrative.1',\n",
       "        'Were Passengers Involved In Event', 'When Detected',\n",
       "        'Work Environment Factor'],\n",
       "       dtype='object'))"
      ]
     },
     "execution_count": 10,
     "metadata": {},
     "output_type": "execute_result"
    }
   ],
   "source": [
    "# find columns difference, check they can dropped\n",
    "df1_cols = df1.columns\n",
    "df2_cols = df2.columns\n",
    "\n",
    "common_cols = df1_cols.intersection(df2_cols)\n",
    "diff_cols = df1_cols.difference(df2_cols)\n",
    "diff_cols2 = df2_cols.difference(df1_cols)\n",
    "\n",
    "diff_cols, diff_cols2"
   ]
  },
  {
   "cell_type": "code",
   "execution_count": 11,
   "metadata": {},
   "outputs": [
    {
     "data": {
      "text/plain": [
       "Cabin Activity                                          4734\n",
       "Cabin Lighting                                          4733\n",
       "Maintenance Status.Released For Service.1               4734\n",
       "Maintenance Status.Required / Correct Doc On Board.1    4734\n",
       "Number Of Seats.Number.1                                4725\n",
       "Passengers On Board.Number.1                            4733\n",
       "dtype: int64"
      ]
     },
     "execution_count": 11,
     "metadata": {},
     "output_type": "execute_result"
    }
   ],
   "source": [
    "df1[diff_cols].isnull().sum()"
   ]
  },
  {
   "cell_type": "code",
   "execution_count": 12,
   "metadata": {},
   "outputs": [
    {
     "data": {
      "text/plain": [
       "Aircraft Zone                                4584\n",
       "Cabin Activity.1                             4585\n",
       "Callback.1                                   4579\n",
       "Communication Breakdown                      3325\n",
       "Communication Breakdown.1                    4285\n",
       "Crew Size Flight Attendant.Number Of Crew    4584\n",
       "Human Factors.1                              3921\n",
       "Location In Aircraft                         1708\n",
       "Location In Aircraft.1                       3828\n",
       "Maintenance Status.Records Complete          4584\n",
       "Narrative.1                                  3731\n",
       "Were Passengers Involved In Event            4185\n",
       "When Detected                                1312\n",
       "Work Environment Factor                      4552\n",
       "dtype: int64"
      ]
     },
     "execution_count": 12,
     "metadata": {},
     "output_type": "execute_result"
    }
   ],
   "source": [
    "df2[diff_cols2].isnull().sum()"
   ]
  },
  {
   "cell_type": "code",
   "execution_count": 13,
   "metadata": {},
   "outputs": [],
   "source": [
    "# Concat Narrative and Narrative.1 column in df2\n",
    "df2['Narrative.1'] = df2['Narrative.1'].fillna('')\n",
    "df2['Narrative_comb'] = df2['Narrative'] + ' ' + df2['Narrative.1']"
   ]
  },
  {
   "cell_type": "markdown",
   "metadata": {},
   "source": [
    "Found that there are instances when event is incursion, excursion, or both."
   ]
  },
  {
   "cell_type": "code",
   "execution_count": 14,
   "metadata": {},
   "outputs": [
    {
     "name": "stdout",
     "output_type": "stream",
     "text": [
      "df3 original shape: (9321, 8)\n"
     ]
    }
   ],
   "source": [
    "df1_trim = df1[['ACN', 'Date', 'Local Time Of Day', 'Locale Reference', 'State Reference', 'Anomaly', 'Narrative', 'Synopsis']]\n",
    "df2_trim = df2[['ACN', 'Date', 'Local Time Of Day', 'Locale Reference', 'State Reference', 'Anomaly', 'Narrative_comb', 'Synopsis']]\n",
    "df2_trim.rename(columns={'Narrative_comb': 'Narrative'}, inplace=True)\n",
    "df3 = pd.concat([df1_trim, df2_trim])\n",
    "print('df3 original shape:', df3.shape)"
   ]
  },
  {
   "cell_type": "code",
   "execution_count": 15,
   "metadata": {},
   "outputs": [
    {
     "name": "stdout",
     "output_type": "stream",
     "text": [
      "numbers of duplicate rows: 9321\n",
      "df3 original shape: (9303, 8)\n"
     ]
    }
   ],
   "source": [
    "# Noticed that there are duplicates in the data, so drop duplicates when concatenating the two trimmed dfs such that data from 2000-2005 is combined with data from 2006-2019\n",
    "df3 = pd.concat([df1_trim, df2_trim]).drop_duplicates(subset=['ACN'])\n",
    "print('numbers of duplicate rows:', df1_trim.shape[0]+df2_trim.shape[0])\n",
    "print('df3 original shape:', df3.shape)"
   ]
  },
  {
   "cell_type": "code",
   "execution_count": 16,
   "metadata": {},
   "outputs": [
    {
     "data": {
      "text/plain": [
       "ACN                   int64\n",
       "Date                  int64\n",
       "Local Time Of Day    object\n",
       "Locale Reference     object\n",
       "State Reference      object\n",
       "Anomaly              object\n",
       "Narrative            object\n",
       "Synopsis             object\n",
       "dtype: object"
      ]
     },
     "execution_count": 16,
     "metadata": {},
     "output_type": "execute_result"
    }
   ],
   "source": [
    "# Make sure Narrative column has correct datatype\n",
    "df3.dtypes"
   ]
  },
  {
   "cell_type": "code",
   "execution_count": 17,
   "metadata": {},
   "outputs": [
    {
     "data": {
      "text/plain": [
       "'ON TAXI OUT TO DTW RWY 3L, MISSED TURN ONTO TXWY M FROM TXWY F, BUT STOPPED SEVERAL FT PAST TXWY M ON TXWY F WELL CLR OF RWY 3L. A B757 WAS ON TKOF ROLL. WAS NOT SURE WHAT WE WERE GOING TO DO, SO ABORTED TKOF.'"
      ]
     },
     "execution_count": 17,
     "metadata": {},
     "output_type": "execute_result"
    }
   ],
   "source": [
    "df3.Narrative.iloc[0]"
   ]
  },
  {
   "cell_type": "code",
   "execution_count": 18,
   "metadata": {},
   "outputs": [],
   "source": [
    "# replace abreviations\n",
    "abbr_dict = {\"TXWY\": \"TAXIWAY\", \n",
    "             \"RWY\": \"RUNWAY\", \n",
    "             \"TKOF\": \"TAKEOFF\", \n",
    "             \"ACFT\": \"AIRCRAFT\",\n",
    "             \"TWR\": \"TOWER\",\n",
    "             \"CAPT\": \"CAPTAIN\",\n",
    "             \"CLRED\": \"CLEARED\",\n",
    "             \"LNDG\": \"LANDING\",\n",
    "             \"VFR\": \"VISUAL FLIGHT RULE\",\n",
    "             \"IFR\": \"INSTRUMENT FLIGHT RULE\",\n",
    "             \"NOTAM\": \"NOTICE TO AIRMEN\"}\n",
    "df3['Narrative'] = df3['Narrative'].replace(abbr_dict, regex=True)"
   ]
  },
  {
   "cell_type": "code",
   "execution_count": 19,
   "metadata": {},
   "outputs": [],
   "source": [
    "# Label the rows based on anomaly column\n",
    "def incursion_check(desc):\n",
    "    if 'incursion' in desc.lower():\n",
    "        return 1\n",
    "    else:\n",
    "        return 0\n",
    "    \n",
    "def excursion_check(desc):\n",
    "    if 'excursion' in desc.lower():\n",
    "        return 1\n",
    "    else:\n",
    "        return 0\n",
    "    \n",
    "df3['incursion'] = df3['Anomaly'].apply(incursion_check)\n",
    "df3['excursion'] = df3['Anomaly'].apply(excursion_check)"
   ]
  },
  {
   "cell_type": "code",
   "execution_count": 20,
   "metadata": {},
   "outputs": [
    {
     "name": "stdout",
     "output_type": "stream",
     "text": [
      "new df3 shape: (9303, 10)\n"
     ]
    },
    {
     "data": {
      "text/html": [
       "<div>\n",
       "<style scoped>\n",
       "    .dataframe tbody tr th:only-of-type {\n",
       "        vertical-align: middle;\n",
       "    }\n",
       "\n",
       "    .dataframe tbody tr th {\n",
       "        vertical-align: top;\n",
       "    }\n",
       "\n",
       "    .dataframe thead th {\n",
       "        text-align: right;\n",
       "    }\n",
       "</style>\n",
       "<table border=\"1\" class=\"dataframe\">\n",
       "  <thead>\n",
       "    <tr style=\"text-align: right;\">\n",
       "      <th></th>\n",
       "      <th>ACN</th>\n",
       "      <th>Date</th>\n",
       "      <th>Local Time Of Day</th>\n",
       "      <th>Locale Reference</th>\n",
       "      <th>State Reference</th>\n",
       "      <th>Anomaly</th>\n",
       "      <th>Narrative</th>\n",
       "      <th>Synopsis</th>\n",
       "      <th>incursion</th>\n",
       "      <th>excursion</th>\n",
       "    </tr>\n",
       "  </thead>\n",
       "  <tbody>\n",
       "    <tr>\n",
       "      <th>0</th>\n",
       "      <td>459107</td>\n",
       "      <td>200001</td>\n",
       "      <td>0601-1200</td>\n",
       "      <td>DTW.Airport</td>\n",
       "      <td>MI</td>\n",
       "      <td>Conflict Ground Conflict, Critical; Deviation ...</td>\n",
       "      <td>ON TAXI OUT TO DTW RUNWAY 3L, MISSED TURN ONTO...</td>\n",
       "      <td>AN A320 OVERSHOOTS THE TXWY FOR RWY 3L (TXWY M...</td>\n",
       "      <td>1</td>\n",
       "      <td>0</td>\n",
       "    </tr>\n",
       "    <tr>\n",
       "      <th>1</th>\n",
       "      <td>459230</td>\n",
       "      <td>200001</td>\n",
       "      <td>0601-1200</td>\n",
       "      <td>MCO.Airport</td>\n",
       "      <td>FL</td>\n",
       "      <td>Deviation / Discrepancy - Procedural FAR; Grou...</td>\n",
       "      <td>TAXIED OUT OF RAMP AREA BEFORE TALKING TO GND....</td>\n",
       "      <td>FLC OF A B737 TAXIED WITHOUT CLRNC DUE TO FOLL...</td>\n",
       "      <td>1</td>\n",
       "      <td>0</td>\n",
       "    </tr>\n",
       "  </tbody>\n",
       "</table>\n",
       "</div>"
      ],
      "text/plain": [
       "      ACN    Date Local Time Of Day Locale Reference State Reference  \\\n",
       "0  459107  200001         0601-1200      DTW.Airport              MI   \n",
       "1  459230  200001         0601-1200      MCO.Airport              FL   \n",
       "\n",
       "                                             Anomaly  \\\n",
       "0  Conflict Ground Conflict, Critical; Deviation ...   \n",
       "1  Deviation / Discrepancy - Procedural FAR; Grou...   \n",
       "\n",
       "                                           Narrative  \\\n",
       "0  ON TAXI OUT TO DTW RUNWAY 3L, MISSED TURN ONTO...   \n",
       "1  TAXIED OUT OF RAMP AREA BEFORE TALKING TO GND....   \n",
       "\n",
       "                                            Synopsis  incursion  excursion  \n",
       "0  AN A320 OVERSHOOTS THE TXWY FOR RWY 3L (TXWY M...          1          0  \n",
       "1  FLC OF A B737 TAXIED WITHOUT CLRNC DUE TO FOLL...          1          0  "
      ]
     },
     "execution_count": 20,
     "metadata": {},
     "output_type": "execute_result"
    }
   ],
   "source": [
    "print('new df3 shape:', df3.shape)\n",
    "df3.head(2)"
   ]
  },
  {
   "cell_type": "code",
   "execution_count": 21,
   "metadata": {},
   "outputs": [
    {
     "name": "stdout",
     "output_type": "stream",
     "text": [
      "number of incursion data: 6837\n",
      "number of excursion data: 2388\n",
      "number of both data: 78\n"
     ]
    }
   ],
   "source": [
    "print('number of incursion data:', df3[(df3['incursion']==1) & (df3['excursion']==0)].shape[0])\n",
    "print('number of excursion data:', df3[(df3['incursion']==0) & (df3['excursion']==1)].shape[0])\n",
    "print('number of both data:', df3[(df3['incursion']==1) & (df3['excursion']==1)].shape[0])"
   ]
  },
  {
   "cell_type": "code",
   "execution_count": 22,
   "metadata": {},
   "outputs": [
    {
     "name": "stdout",
     "output_type": "stream",
     "text": [
      "(6915, 2) (2466, 2) (78, 2)\n"
     ]
    }
   ],
   "source": [
    "# Extract incursions\n",
    "df_incur = df3[['ACN', 'Narrative']].loc[df3['incursion'] == 1]\n",
    "# Extract excursions\n",
    "df_excur = df3[['ACN', 'Narrative']].loc[df3['excursion'] == 1]\n",
    "# Extract both\n",
    "df_both = pd.merge(df_incur, df_excur, how='inner')\n",
    "\n",
    "print(df_incur.shape, df_excur.shape, df_both.shape)"
   ]
  },
  {
   "cell_type": "code",
   "execution_count": 23,
   "metadata": {},
   "outputs": [],
   "source": [
    "incur_docs = df_incur.Narrative.tolist()\n",
    "incur_docs = [doc.lower() for doc in incur_docs]"
   ]
  },
  {
   "cell_type": "code",
   "execution_count": 24,
   "metadata": {},
   "outputs": [],
   "source": [
    "excur_docs = df_excur.Narrative.tolist()\n",
    "excur_docs = [doc.lower() for doc in excur_docs]"
   ]
  },
  {
   "cell_type": "code",
   "execution_count": 25,
   "metadata": {},
   "outputs": [],
   "source": [
    "both_docs = df_both.Narrative.tolist()\n",
    "both_docs = [doc.lower() for doc in both_docs]"
   ]
  },
  {
   "cell_type": "code",
   "execution_count": 26,
   "metadata": {},
   "outputs": [
    {
     "data": {
      "text/plain": [
       "['on taxi out to dtw runway 3l, missed turn onto taxiway m from taxiway f, but stopped several ft past taxiway m on taxiway f well clr of runway 3l. a b757 was on takeoff roll. was not sure what we were going to do, so aborted takeoff.',\n",
       " 'taxied out of ramp area before talking to gnd. we were third of 3 aircraft and we thought we were cleared to runway 17, when in fact we were not acknowledged by gnd. we cleared it up immediately after gnd asked who the third b737 was on the taxiway. no probs resulted.',\n",
       " \"we were cleared for the visual apch runway 31 about 7 sm out. we heard coms on tower freq with ga tfc on what we thought was on downwind for same runway. we were entering the tfc pattern on a l base. fo was looking for the tfc that looked very close on tcasii, but never saw it. we were cleared to land runway 31 on final. runway 31 intersects runway 6 at 3200 ft, and taxiway a at approx 3000 ft. on landing roll and about 100 ft short of taxiway a, tower instructed us to 'exit at a.' we said unable, and asked for runway 6. tower replied, 'unable, hold short of runway 6.' we already crossed the hold short line for runway 6 on runway 31 and had come to a stop on the runway intxn. as i looked to my l, i saw the piper about to touch down on runway 6 about 1200 ft from our pos. tower instructed the piper to go around, which it did, clbing above us and avoiding a possible collision on the gnd. tower never informed us directly of other tfc or informed us of dual intersecting runway ops, or instructed to hold short -- neither us nor the other aircraft. our crew was very focused on the apch because of strong gusty winds and moderate turb. we never looked at the apch area for runway 6. we also incorrectly assumed that the tfc was behind us on final for the same runway.\"]"
      ]
     },
     "execution_count": 26,
     "metadata": {},
     "output_type": "execute_result"
    }
   ],
   "source": [
    "incur_docs[0:3]"
   ]
  },
  {
   "attachments": {},
   "cell_type": "markdown",
   "metadata": {},
   "source": [
    "------"
   ]
  },
  {
   "attachments": {},
   "cell_type": "markdown",
   "metadata": {},
   "source": [
    "# Embedding, Dimension Reduction"
   ]
  },
  {
   "attachments": {},
   "cell_type": "markdown",
   "metadata": {},
   "source": [
    "Main steps: https://towardsdatascience.com/let-us-extract-some-topics-from-text-data-part-iv-bertopic-46ddf3c91622"
   ]
  },
  {
   "attachments": {},
   "cell_type": "markdown",
   "metadata": {},
   "source": [
    "types of pretrained model for embedding: https://www.sbert.net/docs/pretrained_models.html"
   ]
  },
  {
   "attachments": {},
   "cell_type": "markdown",
   "metadata": {},
   "source": [
    "## Incursion"
   ]
  },
  {
   "cell_type": "code",
   "execution_count": null,
   "metadata": {},
   "outputs": [],
   "source": [
    "# base model\n",
    "incur_umap_model1 = UMAP(n_neighbors=20, \n",
    "                         n_components=15, \n",
    "                         min_dist=0.0, \n",
    "                         metric='cosine', \n",
    "                         random_state=42)\n",
    "\n",
    "incur_cv1 = CountVectorizer(ngram_range=(1, 2), stop_words=\"english\")\n",
    "\n",
    "incur_model1 = BERTopic(language=\"english\", \n",
    "                        umap_model=incur_umap_model1, \n",
    "                        vectorizer_model=incur_cv1,\n",
    "                       )\n",
    "\n",
    "incur_topics1, incur_probs1 = incur_model1.fit_transform(incur_docs)"
   ]
  },
  {
   "cell_type": "code",
   "execution_count": null,
   "metadata": {},
   "outputs": [],
   "source": [
    "incur_model1.topic_labels_"
   ]
  },
  {
   "attachments": {},
   "cell_type": "markdown",
   "metadata": {},
   "source": [
    "RESULT: {-1: '-1_runway_aircraft_taxiway_short',\n",
    " 0: '0_runway_aircraft_taxiway_taxi',\n",
    " 1: '1_cherokee_runway_cleared_17l'}"
   ]
  },
  {
   "cell_type": "code",
   "execution_count": null,
   "metadata": {},
   "outputs": [],
   "source": [
    "incur_model1.get_topic_info()"
   ]
  },
  {
   "cell_type": "code",
   "execution_count": null,
   "metadata": {},
   "outputs": [],
   "source": [
    "# fine tuned model\n",
    "incur_umap_model2 = UMAP(n_neighbors=5, \n",
    "                         n_components=10, \n",
    "                         min_dist=0.0, \n",
    "                         metric='cosine', \n",
    "                         random_state=42)\n",
    "\n",
    "incur_cv2 = CountVectorizer(ngram_range=(1, 3), stop_words=\"english\", max_df=0.9)\n",
    "\n",
    "incur_model2 = BERTopic(language=\"english\", \n",
    "                        umap_model=incur_umap_model2, \n",
    "                        embedding_model=SentenceTransformer(\"all-mpnet-base-v2\"),\n",
    "                        vectorizer_model=incur_cv2,\n",
    "                        nr_topics=25,\n",
    "                       )\n",
    "\n",
    "incur_topics2, incur_probs2 = incur_model2.fit_transform(incur_docs)"
   ]
  },
  {
   "cell_type": "code",
   "execution_count": null,
   "metadata": {},
   "outputs": [],
   "source": [
    "incur_model2.topic_labels_"
   ]
  },
  {
   "attachments": {},
   "cell_type": "markdown",
   "metadata": {},
   "source": [
    "RESULT:\n",
    "{-1: '-1_ground_airport_clearance_control',\n",
    " 0: '0_xing_acr_gnd ctlr_cleared takeoff',\n",
    " 1: '1_ground_clearance_controller_control',\n",
    " 2: '2_hdg_spd_turn taxiway_roll',\n",
    " 3: '3_line runway_short line runway_hold short lines_short lines',\n",
    " 4: '4_notice_notice airmen_airmen_notice airmens',\n",
    " 5: '5_sight_ils_wx_visual flight rule',\n",
    " 6: '6_signage_ground_taxiway taxiway_diagram',\n",
    " 7: '7_approach_airport_pilot_traffic',\n",
    " 8: '8_rptr_arpt diagram_diagram_chart',\n",
    " 9: '9_pattern_unicom_ctaf_announced',\n",
    " 10: '10_runway incursion_22_runway 22_echo',\n",
    " 11: '11_pos hold_cleared pos_hold runway_taxi pos',\n",
    " 12: '12_snow_brake_brakes_ice',\n",
    " 13: '13_fuel_power_engine_ground',\n",
    " 14: '14_vehicle_vehicles_truck_airport',\n",
    " 15: '15_push_pushback_tug_driver',\n",
    " 16: '16_threshold_29_land runway_displaced',\n",
    " 17: '17_ils_critical_ils critical_critical area',\n",
    " 18: '18_gar_vehicle_cessna_ft agl',\n",
    " 19: '19_lighting_green_ctrline_green ctrline',\n",
    " 20: '20_apch ctl_cleared land_visual apch_landing clrnc',\n",
    " 21: '21_mil_security_arpt ops_guard',\n",
    " 22: '22_instrument flight rule_instrument flight_instrument_36',\n",
    " 23: '23_sleep_nap_fatigue_hours'}"
   ]
  },
  {
   "cell_type": "code",
   "execution_count": null,
   "metadata": {},
   "outputs": [],
   "source": [
    "incur_model2.get_topic_info()"
   ]
  },
  {
   "attachments": {},
   "cell_type": "markdown",
   "metadata": {},
   "source": [
    "## Excursion"
   ]
  },
  {
   "cell_type": "code",
   "execution_count": null,
   "metadata": {},
   "outputs": [],
   "source": [
    "# base model\n",
    "excur_umap_model1 = UMAP(n_neighbors=10, \n",
    "                         n_components=7, \n",
    "                         min_dist=0.0, \n",
    "                         metric='cosine', \n",
    "                         random_state=42)\n",
    "\n",
    "excur_cv1 = CountVectorizer(ngram_range=(1, 2), stop_words=\"english\")\n",
    "\n",
    "excur_model1 = BERTopic(language=\"english\", \n",
    "                umap_model=excur_umap_model1,\n",
    "                vectorizer_model=excur_cv1)\n",
    "\n",
    "excur_topics1, excur_probs1 = excur_model1.fit_transform(excur_docs)"
   ]
  },
  {
   "cell_type": "code",
   "execution_count": null,
   "metadata": {},
   "outputs": [],
   "source": [
    "excur_model1.topic_labels_"
   ]
  },
  {
   "attachments": {},
   "cell_type": "markdown",
   "metadata": {},
   "source": [
    "RESULT: {-1: '-1_aircraft_runway_landing_damage',\n",
    " 0: '0_runway_aircraft_taxiway_landing',\n",
    " 1: '1_threshold_displaced_runway_displaced threshold'}"
   ]
  },
  {
   "cell_type": "code",
   "execution_count": null,
   "metadata": {},
   "outputs": [],
   "source": [
    "excur_model1.get_topic_info()"
   ]
  },
  {
   "cell_type": "code",
   "execution_count": null,
   "metadata": {},
   "outputs": [],
   "source": [
    "# fine tuned model\n",
    "excur_umap_model2 = UMAP(n_neighbors=10, \n",
    "                         n_components=7, \n",
    "                         min_dist=0.0, \n",
    "                         metric='cosine', \n",
    "                         random_state=42)\n",
    "\n",
    "excur_cv2 = CountVectorizer(ngram_range=(1, 3), stop_words=\"english\", max_df=0.9)\n",
    "\n",
    "excur_model2 = BERTopic(language=\"english\", \n",
    "                    umap_model=excur_umap_model2, \n",
    "                    embedding_model=SentenceTransformer(\"all-mpnet-base-v2\"),\n",
    "                    vectorizer_model=excur_cv2)\n",
    "\n",
    "excur_topics2, excur_probs2 = excur_model2.fit_transform(excur_docs)"
   ]
  },
  {
   "cell_type": "code",
   "execution_count": null,
   "metadata": {},
   "outputs": [],
   "source": [
    "excur_model2.topic_labels_"
   ]
  },
  {
   "attachments": {},
   "cell_type": "markdown",
   "metadata": {},
   "source": [
    "RESULT: {-1: '-1_brakes_nose_flight_student',\n",
    " 0: '0_ramp_line_gnd_taxiing',\n",
    " 1: '1_brake_brakes_student_rudder',\n",
    " 2: '2_crosswind_winds_approach_gust',\n",
    " 3: '3_nose_main gear_nose gear_collapsed',\n",
    " 4: '4_apch_arpt_flight_rule',\n",
    " 5: '5_kts_degs_xwind_ctl',\n",
    " 6: '6_tailwheel_rudder_tail_brake',\n",
    " 7: '7_snow_ice_student_braking',\n",
    " 8: '8_braking_approach_end_captain',\n",
    " 9: '9_snow_ramp_braking_ice',\n",
    " 10: '10_tire_takeoff_tires_normal',\n",
    " 11: '11_plt_takeoff_pwr_eng',\n",
    " 12: '12_radio_traffic_ctaf_pattern',\n",
    " 13: '13_student_solo_instructor_flight',\n",
    " 14: '14_soft_field_turf_soft field',\n",
    " 15: '15_steering_nosewheel_nosewheel steering_ctl',\n",
    " 16: '16_apch_spd_pwr_tfc',\n",
    " 17: '17_veered_right wing tip_wing tip_rollout',\n",
    " 18: '18_threshold_displaced_displaced threshold_markings',\n",
    " 19: '19_student_control_student pilot_pilot',\n",
    " 20: '20_ground_looped_ground looped_loop',\n",
    " 21: '21_student_engine_instructor_throttles',\n",
    " 22: '22_sign_spd_degree_plt',\n",
    " 23: '23_winds_gusting_gust_162',\n",
    " 24: '24_fuel_tank_engine_tanks',\n",
    " 25: '25_thrust_braking_kts_apch',\n",
    " 26: '26_hyd_pump_qrh_accumulator',\n",
    " 27: '27_captain_braking_brakes_zone',\n",
    " 28: '28_mud_pavement_older taxiway_older'}"
   ]
  },
  {
   "cell_type": "code",
   "execution_count": null,
   "metadata": {},
   "outputs": [],
   "source": [
    "excur_model2.get_topic_info()"
   ]
  },
  {
   "attachments": {},
   "cell_type": "markdown",
   "metadata": {},
   "source": [
    "## Both"
   ]
  },
  {
   "cell_type": "code",
   "execution_count": null,
   "metadata": {},
   "outputs": [],
   "source": [
    "both_umap_model1 = UMAP(n_neighbors=5, \n",
    "                        n_components=3, \n",
    "                        min_dist=0.0, \n",
    "                        metric='cosine', \n",
    "                        random_state=42)\n",
    "\n",
    "both_cv1 = CountVectorizer(ngram_range=(1, 3), stop_words=\"english\", max_df=0.9)\n",
    "\n",
    "both_model1 = BERTopic(language=\"english\", \n",
    "                        umap_model=both_umap_model1, \n",
    "                        embedding_model=SentenceTransformer(\"all-mpnet-base-v2\"),\n",
    "                        vectorizer_model=both_cv1,\n",
    "                        nr_topics=4,\n",
    "                       )\n",
    "\n",
    "both_topics1, both_probs1 = both_model1.fit_transform(both_docs)"
   ]
  },
  {
   "cell_type": "code",
   "execution_count": null,
   "metadata": {},
   "outputs": [],
   "source": [
    "both_model1.topic_labels_"
   ]
  },
  {
   "attachments": {},
   "cell_type": "markdown",
   "metadata": {},
   "source": [
    "RESULT: {-1: '-1_crew_ctlr_taxiing_pushback',\n",
    " 0: '0_centerline_rudder_nose_conditions',\n",
    " 1: '1_radio_19_announced_rule',\n",
    " 2: '2_yellow_yellow line_past_chart'}"
   ]
  },
  {
   "cell_type": "code",
   "execution_count": null,
   "metadata": {},
   "outputs": [],
   "source": [
    "both_model1.get_topic_info()"
   ]
  },
  {
   "attachments": {},
   "cell_type": "markdown",
   "metadata": {},
   "source": [
    "# Visualization"
   ]
  },
  {
   "attachments": {},
   "cell_type": "markdown",
   "metadata": {},
   "source": [
    "## Incursion"
   ]
  },
  {
   "cell_type": "code",
   "execution_count": null,
   "metadata": {},
   "outputs": [],
   "source": [
    "incur_model1.visualize_topics()"
   ]
  },
  {
   "cell_type": "code",
   "execution_count": null,
   "metadata": {},
   "outputs": [],
   "source": [
    "incur_model1.visualize_barchart()"
   ]
  },
  {
   "cell_type": "code",
   "execution_count": null,
   "metadata": {},
   "outputs": [],
   "source": [
    "incur_model2.visualize_topics()"
   ]
  },
  {
   "cell_type": "code",
   "execution_count": null,
   "metadata": {},
   "outputs": [],
   "source": [
    "incur_model2.visualize_barchart()"
   ]
  },
  {
   "attachments": {},
   "cell_type": "markdown",
   "metadata": {},
   "source": [
    "## Excursion"
   ]
  },
  {
   "cell_type": "code",
   "execution_count": null,
   "metadata": {},
   "outputs": [],
   "source": [
    "excur_model1.visualize_topics()"
   ]
  },
  {
   "cell_type": "code",
   "execution_count": null,
   "metadata": {},
   "outputs": [],
   "source": [
    "excur_model1.visualize_barchart()"
   ]
  },
  {
   "cell_type": "code",
   "execution_count": null,
   "metadata": {},
   "outputs": [],
   "source": [
    "excur_model2.visualize_topics()"
   ]
  },
  {
   "cell_type": "code",
   "execution_count": null,
   "metadata": {},
   "outputs": [],
   "source": [
    "excur_model2.visualize_barchart()"
   ]
  },
  {
   "attachments": {},
   "cell_type": "markdown",
   "metadata": {},
   "source": [
    "## Both"
   ]
  },
  {
   "cell_type": "code",
   "execution_count": null,
   "metadata": {},
   "outputs": [],
   "source": [
    "# both_model1.visualize_topics() # no plot due to too little data"
   ]
  },
  {
   "cell_type": "code",
   "execution_count": null,
   "metadata": {},
   "outputs": [],
   "source": [
    "both_model1.visualize_barchart()"
   ]
  }
 ],
 "metadata": {
  "kernelspec": {
   "display_name": "base",
   "language": "python",
   "name": "python3"
  },
  "language_info": {
   "codemirror_mode": {
    "name": "ipython",
    "version": 3
   },
   "file_extension": ".py",
   "mimetype": "text/x-python",
   "name": "python",
   "nbconvert_exporter": "python",
   "pygments_lexer": "ipython3",
   "version": "3.9.7"
  },
  "orig_nbformat": 4,
  "vscode": {
   "interpreter": {
    "hash": "18a78fbfd322e3e8a613f806c91359860aadf18c999c3c7b7ce069c4a5a7b80a"
   }
  }
 },
 "nbformat": 4,
 "nbformat_minor": 2
}
