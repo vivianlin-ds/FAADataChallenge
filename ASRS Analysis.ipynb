{
 "cells": [
  {
   "cell_type": "code",
   "execution_count": 1,
   "id": "d6c4d33b",
   "metadata": {},
   "outputs": [],
   "source": [
    "import pandas as pd\n",
    "import numpy as np\n",
    "import matplotlib.pyplot as plt\n",
    "import regex as re\n",
    "pd.set_option('display.max_columns', None)"
   ]
  },
  {
   "cell_type": "markdown",
   "id": "5e1397bc",
   "metadata": {},
   "source": [
    "Data pre-processing:\n",
    "* Download data from FAA ASRS Database (5000 rows at a time)\n",
    "* Needed to convert xls files to csv, python can not read xls file (corrupted?)\n",
    "* Skip the first row when reading csv (useless header), and third row (blank)\n",
    "* Remove extra columns from 2006 to 2019 (called 'unnamed' before each other them --> last 5 cols)\n",
    "* A lot of columns are null with entirely NaN values --> remove them\n",
    "* 'Anomaly' labels incursion/excursion\n",
    "* Only 1 'Narrative' column in df1, 'Narrative' and 'Narrative.1' in df2\n",
    "* Only 1 ACN per Narrative\n",
    "* Combined narratives in the 2006 - 2019 dataframe, should not matter for clustering (confirm with Dr. Gil)\n",
    "* Extracted important columns to new dataframe and concatenated all data together (time, date, airport, state, narrative, synopsis, ...)\n",
    "* Created new columns to label if an incident is an incursion or excursion (or both if both are 1)\n",
    "* Jan 2006 Data is duplicated --> drop duplicate ACNs"
   ]
  },
  {
   "cell_type": "code",
   "execution_count": 47,
   "id": "49fc586e",
   "metadata": {},
   "outputs": [
    {
     "name": "stderr",
     "output_type": "stream",
     "text": [
      "/tmp/ipykernel_4665/3303209692.py:4: DtypeWarning: Columns (15,19,32,52,107,123,126,128,130) have mixed types. Specify dtype option on import or set low_memory=False.\n",
      "  df2 = pd.read_csv('data/ASRS_Jan2006_Dec2019.csv', skiprows = [0,2])\n"
     ]
    }
   ],
   "source": [
    "# Reading in data from Jan 2000 to Jan 2006\n",
    "df1 = pd.read_csv('data/ASRS_Jan2000_Jan2006.csv', skiprows = [0,2])\n",
    "# Now Jan 2006 to Dec 2019\n",
    "df2 = pd.read_csv('data/ASRS_Jan2006_Dec2019.csv', skiprows = [0,2])"
   ]
  },
  {
   "cell_type": "code",
   "execution_count": 48,
   "id": "0d28b4e6",
   "metadata": {},
   "outputs": [
    {
     "name": "stdout",
     "output_type": "stream",
     "text": [
      "(4735, 126) (4586, 131)\n"
     ]
    }
   ],
   "source": [
    "print(df1.shape, df2.shape)"
   ]
  },
  {
   "cell_type": "code",
   "execution_count": 49,
   "id": "3690116b",
   "metadata": {},
   "outputs": [
    {
     "data": {
      "text/plain": [
       "'Unnamed: 125'"
      ]
     },
     "execution_count": 49,
     "metadata": {},
     "output_type": "execute_result"
    }
   ],
   "source": [
    "df1.columns[-1]"
   ]
  },
  {
   "cell_type": "code",
   "execution_count": 50,
   "id": "944e994a",
   "metadata": {},
   "outputs": [],
   "source": [
    "# Finding unnamed columns in df2\n",
    "def find_unnamed(df):\n",
    "    unnamed_cols = []\n",
    "    for col in df.columns:\n",
    "        if 'Unnamed' in col:\n",
    "            unnamed_cols.append(col)\n",
    "    return unnamed_cols\n",
    "\n",
    "# Dropping unnamed columns\n",
    "df1 = df1.drop(columns = find_unnamed(df1), axis = 1)\n",
    "df2 = df2.drop(columns = find_unnamed(df2), axis = 1)"
   ]
  },
  {
   "cell_type": "code",
   "execution_count": 51,
   "id": "d73ebbd6",
   "metadata": {},
   "outputs": [
    {
     "name": "stdout",
     "output_type": "stream",
     "text": [
      "(4735, 125) (4586, 125)\n"
     ]
    }
   ],
   "source": [
    "print(df1.shape, df2.shape)"
   ]
  },
  {
   "cell_type": "code",
   "execution_count": 52,
   "id": "b476cfe4",
   "metadata": {},
   "outputs": [],
   "source": [
    "# Drop all columns with only null values\n",
    "df1, df2 = df1.dropna(axis = 1, how = 'all'), df2.dropna(axis = 1, how = 'all')"
   ]
  },
  {
   "cell_type": "code",
   "execution_count": 53,
   "id": "529e1ae2",
   "metadata": {},
   "outputs": [
    {
     "name": "stdout",
     "output_type": "stream",
     "text": [
      "(4735, 75) (4586, 83)\n"
     ]
    }
   ],
   "source": [
    "print(df1.shape, df2.shape)"
   ]
  },
  {
   "cell_type": "code",
   "execution_count": 54,
   "id": "ffab6839",
   "metadata": {},
   "outputs": [
    {
     "name": "stderr",
     "output_type": "stream",
     "text": [
      "/tmp/ipykernel_4665/1768879780.py:6: SettingWithCopyWarning: \n",
      "A value is trying to be set on a copy of a slice from a DataFrame.\n",
      "Try using .loc[row_indexer,col_indexer] = value instead\n",
      "\n",
      "See the caveats in the documentation: https://pandas.pydata.org/pandas-docs/stable/user_guide/indexing.html#returning-a-view-versus-a-copy\n",
      "  df2_final['Narrative.1'] = df2_final['Narrative.1'].fillna('')\n",
      "/tmp/ipykernel_4665/1768879780.py:8: SettingWithCopyWarning: \n",
      "A value is trying to be set on a copy of a slice from a DataFrame.\n",
      "Try using .loc[row_indexer,col_indexer] = value instead\n",
      "\n",
      "See the caveats in the documentation: https://pandas.pydata.org/pandas-docs/stable/user_guide/indexing.html#returning-a-view-versus-a-copy\n",
      "  df2_final['Narrative_comb'] = df2_final['Narrative'] + ' ' + df2_final['Narrative.1']\n"
     ]
    }
   ],
   "source": [
    "# Grab important columns from each dataframe\n",
    "df1_final = df1[['ACN', 'Date', 'Local Time Of Day', 'Locale Reference', 'State Reference', 'Anomaly', 'Narrative', 'Synopsis']]\n",
    "df2_final = df2[['ACN', 'Date', 'Local Time Of Day', 'Locale Reference', 'State Reference', 'Anomaly', 'Narrative', 'Narrative.1', 'Synopsis']]\n",
    "\n",
    "# Combining the Narrative columns from df2\n",
    "df2_final['Narrative.1'] = df2_final['Narrative.1'].fillna('')\n",
    "# Combining narratives together\n",
    "df2_final['Narrative_comb'] = df2_final['Narrative'] + ' ' + df2_final['Narrative.1']\n",
    "df2_final = df2_final.drop(['Narrative', 'Narrative.1'], axis = 1)\n",
    "# Renaming column to keep consistent when concatenating\n",
    "df2_final = df2_final.rename(columns = {'Narrative_comb': 'Narrative'})"
   ]
  },
  {
   "cell_type": "code",
   "execution_count": 55,
   "id": "96785fa2",
   "metadata": {},
   "outputs": [],
   "source": [
    "# Concatenating all of our data together\n",
    "asrs_df = pd.concat([df1_final, df2_final]).drop_duplicates(subset = ['ACN']).reset_index(drop = True)"
   ]
  },
  {
   "cell_type": "code",
   "execution_count": 56,
   "id": "acae6412",
   "metadata": {},
   "outputs": [],
   "source": [
    "# Check for incursion in anomaly\n",
    "def incursion_check(desc):\n",
    "    if 'incursion' in desc.lower():\n",
    "        return 1\n",
    "    else:\n",
    "        return 0\n",
    "    \n",
    "# Check for excursion    \n",
    "def excursion_check(desc):\n",
    "    if 'excursion' in desc.lower():\n",
    "        return 1\n",
    "    else:\n",
    "        return 0\n",
    "    \n",
    "asrs_df['incursion'] = asrs_df['Anomaly'].apply(incursion_check)\n",
    "asrs_df['excursion'] = asrs_df['Anomaly'].apply(excursion_check)"
   ]
  },
  {
   "cell_type": "code",
   "execution_count": 57,
   "id": "13aaa1d7",
   "metadata": {},
   "outputs": [
    {
     "name": "stdout",
     "output_type": "stream",
     "text": [
      "6915 2466\n",
      "78\n"
     ]
    }
   ],
   "source": [
    "print(len(asrs_df[asrs_df['incursion'] == 1]), len(asrs_df[asrs_df['excursion'] == 1]))\n",
    "print(len(asrs_df[(asrs_df.incursion == 1) & (asrs_df.excursion == 1)]))"
   ]
  },
  {
   "cell_type": "code",
   "execution_count": 58,
   "id": "b5e93a6f",
   "metadata": {},
   "outputs": [
    {
     "data": {
      "text/html": [
       "<div>\n",
       "<style scoped>\n",
       "    .dataframe tbody tr th:only-of-type {\n",
       "        vertical-align: middle;\n",
       "    }\n",
       "\n",
       "    .dataframe tbody tr th {\n",
       "        vertical-align: top;\n",
       "    }\n",
       "\n",
       "    .dataframe thead th {\n",
       "        text-align: right;\n",
       "    }\n",
       "</style>\n",
       "<table border=\"1\" class=\"dataframe\">\n",
       "  <thead>\n",
       "    <tr style=\"text-align: right;\">\n",
       "      <th></th>\n",
       "      <th>ACN</th>\n",
       "      <th>Date</th>\n",
       "      <th>Local Time Of Day</th>\n",
       "      <th>Locale Reference</th>\n",
       "      <th>State Reference</th>\n",
       "      <th>Anomaly</th>\n",
       "      <th>Narrative</th>\n",
       "      <th>Synopsis</th>\n",
       "      <th>incursion</th>\n",
       "      <th>excursion</th>\n",
       "    </tr>\n",
       "  </thead>\n",
       "  <tbody>\n",
       "    <tr>\n",
       "      <th>0</th>\n",
       "      <td>459107</td>\n",
       "      <td>200001</td>\n",
       "      <td>0601-1200</td>\n",
       "      <td>DTW.Airport</td>\n",
       "      <td>MI</td>\n",
       "      <td>Conflict Ground Conflict, Critical; Deviation ...</td>\n",
       "      <td>ON TAXI OUT TO DTW RWY 3L, MISSED TURN ONTO TX...</td>\n",
       "      <td>AN A320 OVERSHOOTS THE TXWY FOR RWY 3L (TXWY M...</td>\n",
       "      <td>1</td>\n",
       "      <td>0</td>\n",
       "    </tr>\n",
       "    <tr>\n",
       "      <th>1</th>\n",
       "      <td>459230</td>\n",
       "      <td>200001</td>\n",
       "      <td>0601-1200</td>\n",
       "      <td>MCO.Airport</td>\n",
       "      <td>FL</td>\n",
       "      <td>Deviation / Discrepancy - Procedural FAR; Grou...</td>\n",
       "      <td>TAXIED OUT OF RAMP AREA BEFORE TALKING TO GND....</td>\n",
       "      <td>FLC OF A B737 TAXIED WITHOUT CLRNC DUE TO FOLL...</td>\n",
       "      <td>1</td>\n",
       "      <td>0</td>\n",
       "    </tr>\n",
       "    <tr>\n",
       "      <th>2</th>\n",
       "      <td>459389</td>\n",
       "      <td>200001</td>\n",
       "      <td>0601-1200</td>\n",
       "      <td>LFPG.Airport</td>\n",
       "      <td>FO</td>\n",
       "      <td>Ground Excursion Taxiway</td>\n",
       "      <td>CAPT WAS FLYING, I WAS IN THE R SEAT. AFTER LN...</td>\n",
       "      <td>CAPT OF AN MD11 RAN OFF TXWY DURING TAXI IN RE...</td>\n",
       "      <td>0</td>\n",
       "      <td>1</td>\n",
       "    </tr>\n",
       "    <tr>\n",
       "      <th>3</th>\n",
       "      <td>459407</td>\n",
       "      <td>200001</td>\n",
       "      <td>0001-0600</td>\n",
       "      <td>SRB.Airport</td>\n",
       "      <td>TN</td>\n",
       "      <td>Aircraft Equipment Problem Critical; Deviation...</td>\n",
       "      <td>ILS RWY 4 (SRB), CAPT FLYING. WX: 900 FT BROKE...</td>\n",
       "      <td>FA20 ENCOUNTERS SLICK RWY AT SRB RESULTING IN ...</td>\n",
       "      <td>0</td>\n",
       "      <td>1</td>\n",
       "    </tr>\n",
       "    <tr>\n",
       "      <th>4</th>\n",
       "      <td>459425</td>\n",
       "      <td>200001</td>\n",
       "      <td>1201-1800</td>\n",
       "      <td>ABE.Airport</td>\n",
       "      <td>PA</td>\n",
       "      <td>Conflict Ground Conflict, Critical; Deviation ...</td>\n",
       "      <td>WE WERE CLRED FOR THE VISUAL APCH RWY 31 ABOUT...</td>\n",
       "      <td>A JS31 CREW LNDG ON RWY 31 AT ABE ARE INSTRUCT...</td>\n",
       "      <td>1</td>\n",
       "      <td>0</td>\n",
       "    </tr>\n",
       "    <tr>\n",
       "      <th>...</th>\n",
       "      <td>...</td>\n",
       "      <td>...</td>\n",
       "      <td>...</td>\n",
       "      <td>...</td>\n",
       "      <td>...</td>\n",
       "      <td>...</td>\n",
       "      <td>...</td>\n",
       "      <td>...</td>\n",
       "      <td>...</td>\n",
       "      <td>...</td>\n",
       "    </tr>\n",
       "    <tr>\n",
       "      <th>9298</th>\n",
       "      <td>1715980</td>\n",
       "      <td>201912</td>\n",
       "      <td>0001-0600</td>\n",
       "      <td>SFO.Tower</td>\n",
       "      <td>CA</td>\n",
       "      <td>Conflict Ground Conflict, Critical; Ground Inc...</td>\n",
       "      <td>I told Aircraft X to hold short of RWY 28L. Th...</td>\n",
       "      <td>SFO Tower Controller reported a runway incursi...</td>\n",
       "      <td>1</td>\n",
       "      <td>0</td>\n",
       "    </tr>\n",
       "    <tr>\n",
       "      <th>9299</th>\n",
       "      <td>1716265</td>\n",
       "      <td>201912</td>\n",
       "      <td>0601-1200</td>\n",
       "      <td>ZZZ.Airport</td>\n",
       "      <td>US</td>\n",
       "      <td>Conflict Ground Conflict, Critical; Deviation ...</td>\n",
       "      <td>Normal training environment, student [in] left...</td>\n",
       "      <td>PA44 student reported experiencing a runway ex...</td>\n",
       "      <td>0</td>\n",
       "      <td>1</td>\n",
       "    </tr>\n",
       "    <tr>\n",
       "      <th>9300</th>\n",
       "      <td>1722152</td>\n",
       "      <td>201907</td>\n",
       "      <td>NaN</td>\n",
       "      <td>NaN</td>\n",
       "      <td>NaN</td>\n",
       "      <td>Conflict Ground Conflict, Critical; Deviation ...</td>\n",
       "      <td>During final for Runway XX at ZZZ, my instruct...</td>\n",
       "      <td>Pilot reported that an aircraft not on CTAF ap...</td>\n",
       "      <td>1</td>\n",
       "      <td>0</td>\n",
       "    </tr>\n",
       "    <tr>\n",
       "      <th>9301</th>\n",
       "      <td>1724990</td>\n",
       "      <td>201912</td>\n",
       "      <td>NaN</td>\n",
       "      <td>SFO.Airport</td>\n",
       "      <td>CA</td>\n",
       "      <td>Deviation / Discrepancy - Procedural Clearance...</td>\n",
       "      <td>I was assigned to taxi Aircraft X to Gate XX. ...</td>\n",
       "      <td>Technician reported that while taxiing an airc...</td>\n",
       "      <td>1</td>\n",
       "      <td>0</td>\n",
       "    </tr>\n",
       "    <tr>\n",
       "      <th>9302</th>\n",
       "      <td>1775053</td>\n",
       "      <td>201906</td>\n",
       "      <td>0601-1200</td>\n",
       "      <td>ZZZ.Airport</td>\n",
       "      <td>US</td>\n",
       "      <td>Conflict Ground Conflict, Critical; Deviation ...</td>\n",
       "      <td>After completing all required checklist and an...</td>\n",
       "      <td>HS 125 Captain reported noticing an aircraft o...</td>\n",
       "      <td>1</td>\n",
       "      <td>0</td>\n",
       "    </tr>\n",
       "  </tbody>\n",
       "</table>\n",
       "<p>9303 rows × 10 columns</p>\n",
       "</div>"
      ],
      "text/plain": [
       "          ACN    Date Local Time Of Day Locale Reference State Reference  \\\n",
       "0      459107  200001         0601-1200      DTW.Airport              MI   \n",
       "1      459230  200001         0601-1200      MCO.Airport              FL   \n",
       "2      459389  200001         0601-1200     LFPG.Airport              FO   \n",
       "3      459407  200001         0001-0600      SRB.Airport              TN   \n",
       "4      459425  200001         1201-1800      ABE.Airport              PA   \n",
       "...       ...     ...               ...              ...             ...   \n",
       "9298  1715980  201912         0001-0600        SFO.Tower              CA   \n",
       "9299  1716265  201912         0601-1200      ZZZ.Airport              US   \n",
       "9300  1722152  201907               NaN              NaN             NaN   \n",
       "9301  1724990  201912               NaN      SFO.Airport              CA   \n",
       "9302  1775053  201906         0601-1200      ZZZ.Airport              US   \n",
       "\n",
       "                                                Anomaly  \\\n",
       "0     Conflict Ground Conflict, Critical; Deviation ...   \n",
       "1     Deviation / Discrepancy - Procedural FAR; Grou...   \n",
       "2                              Ground Excursion Taxiway   \n",
       "3     Aircraft Equipment Problem Critical; Deviation...   \n",
       "4     Conflict Ground Conflict, Critical; Deviation ...   \n",
       "...                                                 ...   \n",
       "9298  Conflict Ground Conflict, Critical; Ground Inc...   \n",
       "9299  Conflict Ground Conflict, Critical; Deviation ...   \n",
       "9300  Conflict Ground Conflict, Critical; Deviation ...   \n",
       "9301  Deviation / Discrepancy - Procedural Clearance...   \n",
       "9302  Conflict Ground Conflict, Critical; Deviation ...   \n",
       "\n",
       "                                              Narrative  \\\n",
       "0     ON TAXI OUT TO DTW RWY 3L, MISSED TURN ONTO TX...   \n",
       "1     TAXIED OUT OF RAMP AREA BEFORE TALKING TO GND....   \n",
       "2     CAPT WAS FLYING, I WAS IN THE R SEAT. AFTER LN...   \n",
       "3     ILS RWY 4 (SRB), CAPT FLYING. WX: 900 FT BROKE...   \n",
       "4     WE WERE CLRED FOR THE VISUAL APCH RWY 31 ABOUT...   \n",
       "...                                                 ...   \n",
       "9298  I told Aircraft X to hold short of RWY 28L. Th...   \n",
       "9299  Normal training environment, student [in] left...   \n",
       "9300  During final for Runway XX at ZZZ, my instruct...   \n",
       "9301  I was assigned to taxi Aircraft X to Gate XX. ...   \n",
       "9302  After completing all required checklist and an...   \n",
       "\n",
       "                                               Synopsis  incursion  excursion  \n",
       "0     AN A320 OVERSHOOTS THE TXWY FOR RWY 3L (TXWY M...          1          0  \n",
       "1     FLC OF A B737 TAXIED WITHOUT CLRNC DUE TO FOLL...          1          0  \n",
       "2     CAPT OF AN MD11 RAN OFF TXWY DURING TAXI IN RE...          0          1  \n",
       "3     FA20 ENCOUNTERS SLICK RWY AT SRB RESULTING IN ...          0          1  \n",
       "4     A JS31 CREW LNDG ON RWY 31 AT ABE ARE INSTRUCT...          1          0  \n",
       "...                                                 ...        ...        ...  \n",
       "9298  SFO Tower Controller reported a runway incursi...          1          0  \n",
       "9299  PA44 student reported experiencing a runway ex...          0          1  \n",
       "9300  Pilot reported that an aircraft not on CTAF ap...          1          0  \n",
       "9301  Technician reported that while taxiing an airc...          1          0  \n",
       "9302  HS 125 Captain reported noticing an aircraft o...          1          0  \n",
       "\n",
       "[9303 rows x 10 columns]"
      ]
     },
     "execution_count": 58,
     "metadata": {},
     "output_type": "execute_result"
    }
   ],
   "source": [
    "asrs_df"
   ]
  },
  {
   "cell_type": "code",
   "execution_count": 59,
   "id": "42e61f5b",
   "metadata": {},
   "outputs": [],
   "source": [
    "asrs_df.to_pickle('./data/trimmed_asrs.pkl')"
   ]
  },
  {
   "cell_type": "code",
   "execution_count": null,
   "id": "d1f6cd1c",
   "metadata": {},
   "outputs": [],
   "source": []
  }
 ],
 "metadata": {
  "kernelspec": {
   "display_name": "Python 3 (ipykernel)",
   "language": "python",
   "name": "python3"
  },
  "language_info": {
   "codemirror_mode": {
    "name": "ipython",
    "version": 3
   },
   "file_extension": ".py",
   "mimetype": "text/x-python",
   "name": "python",
   "nbconvert_exporter": "python",
   "pygments_lexer": "ipython3",
   "version": "3.9.13"
  }
 },
 "nbformat": 4,
 "nbformat_minor": 5
}
